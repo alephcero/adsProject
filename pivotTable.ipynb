{
 "cells": [
  {
   "cell_type": "code",
   "execution_count": 1,
   "metadata": {
    "collapsed": false
   },
   "outputs": [
    {
     "name": "stderr",
     "output_type": "stream",
     "text": [
      "/home/pipe/anaconda2/lib/python2.7/site-packages/sklearn/cross_validation.py:44: DeprecationWarning: This module was deprecated in version 0.18 in favor of the model_selection module into which all the refactored classes and functions are moved. Also note that the interface of the new CV iterators are different from that of this module. This module will be removed in 0.20.\n",
      "  \"This module will be removed in 0.20.\", DeprecationWarning)\n"
     ]
    }
   ],
   "source": [
    "from getEPH import *\n",
    "import pandas as pd\n",
    "#http://statsmodels.sourceforge.net/devel/examples/generated/example_wls.html\n",
    "import numpy as np\n",
    "from scipy import stats\n",
    "import statsmodels.api as sm\n",
    "import matplotlib.pyplot as plt\n",
    "import seaborn as sns\n",
    "from statsmodels.sandbox.regression.predstd import wls_prediction_std\n",
    "from statsmodels.iolib.table import (SimpleTable, default_txt_fmt)\n",
    "np.random.seed(1024)\n",
    "%matplotlib inline"
   ]
  },
  {
   "cell_type": "code",
   "execution_count": 2,
   "metadata": {
    "collapsed": false
   },
   "outputs": [],
   "source": [
    "data1 = pd.read_csv('data/cleanDatat310.csv')\n",
    "data2 = categorize(data1)\n",
    "data3 = schoolYears(data2)\n"
   ]
  },
  {
   "cell_type": "code",
   "execution_count": 3,
   "metadata": {
    "collapsed": false
   },
   "outputs": [
    {
     "data": {
      "text/plain": [
       "Index([u'CODUSU', u'NRO_HOGAR', u'COMPONENTE', u'AGLOMERADO', u'PONDERA',\n",
       "       u'familyRelation', u'female', u'age', u'schoolLevel', u'finishedYear',\n",
       "       u'lastYear', u'activity', u'empCond', u'unempCond', u'ITF', u'IPCF',\n",
       "       u'P47T', u'P21', u'primary', u'secondary', u'university'],\n",
       "      dtype='object')"
      ]
     },
     "execution_count": 3,
     "metadata": {},
     "output_type": "execute_result"
    }
   ],
   "source": [
    "data3.columns"
   ]
  },
  {
   "cell_type": "code",
   "execution_count": 20,
   "metadata": {
    "collapsed": false
   },
   "outputs": [],
   "source": [
    "cleanData = data3.copy()\n",
    "cleanData.drop_duplicates(inplace=True)\n",
    "cleanData['education'] = cleanData.primary + cleanData.secondary + cleanData.university\n",
    "cleanData['education2'] = cleanData['education'] ** 2\n",
    "cleanData['age2'] = cleanData['age'] ** 2\n",
    "#ME QUEDO CON LOS QUE TRABAJAN Y TIENEN INGRESOS, SOLO USAMOS ESTOS\n",
    "jobsAndIncome = (cleanData.activity == 1) & (cleanData.P21 > 0) & ((cleanData.familyRelation == 1)|(cleanData.familyRelation == 2))\n",
    "cleanData['id'] = (cleanData.CODUSU.astype(str) + cleanData.NRO_HOGAR.astype(str))\n",
    "cleanData = cleanData.copy().loc[jobsAndIncome,\n",
    "                              ['id',\n",
    "                            'familyRelation',\n",
    "                              'age',\n",
    "                              'age2',\n",
    "                              'female',\n",
    "                              'education',\n",
    "                              'education2']]\n"
   ]
  },
  {
   "cell_type": "code",
   "execution_count": 21,
   "metadata": {
    "collapsed": false
   },
   "outputs": [
    {
     "data": {
      "text/plain": [
       "21"
      ]
     },
     "execution_count": 21,
     "metadata": {},
     "output_type": "execute_result"
    }
   ],
   "source": [
    "cleanData.education.isnull().sum()"
   ]
  },
  {
   "cell_type": "code",
   "execution_count": 22,
   "metadata": {
    "collapsed": false
   },
   "outputs": [
    {
     "data": {
      "text/html": [
       "<div>\n",
       "<table border=\"1\" class=\"dataframe\">\n",
       "  <thead>\n",
       "    <tr style=\"text-align: right;\">\n",
       "      <th></th>\n",
       "      <th>id</th>\n",
       "      <th>familyRelation</th>\n",
       "      <th>age</th>\n",
       "      <th>age2</th>\n",
       "      <th>female</th>\n",
       "      <th>education</th>\n",
       "      <th>education2</th>\n",
       "    </tr>\n",
       "  </thead>\n",
       "  <tbody>\n",
       "    <tr>\n",
       "      <th>13</th>\n",
       "      <td>3113561</td>\n",
       "      <td>1</td>\n",
       "      <td>46</td>\n",
       "      <td>2116</td>\n",
       "      <td>0</td>\n",
       "      <td>12.0</td>\n",
       "      <td>144.0</td>\n",
       "    </tr>\n",
       "    <tr>\n",
       "      <th>14</th>\n",
       "      <td>3113561</td>\n",
       "      <td>2</td>\n",
       "      <td>48</td>\n",
       "      <td>2304</td>\n",
       "      <td>1</td>\n",
       "      <td>7.0</td>\n",
       "      <td>49.0</td>\n",
       "    </tr>\n",
       "    <tr>\n",
       "      <th>17</th>\n",
       "      <td>1563001</td>\n",
       "      <td>1</td>\n",
       "      <td>49</td>\n",
       "      <td>2401</td>\n",
       "      <td>0</td>\n",
       "      <td>17.0</td>\n",
       "      <td>289.0</td>\n",
       "    </tr>\n",
       "    <tr>\n",
       "      <th>22</th>\n",
       "      <td>2554811</td>\n",
       "      <td>2</td>\n",
       "      <td>65</td>\n",
       "      <td>4225</td>\n",
       "      <td>1</td>\n",
       "      <td>17.0</td>\n",
       "      <td>289.0</td>\n",
       "    </tr>\n",
       "    <tr>\n",
       "      <th>28</th>\n",
       "      <td>2858412</td>\n",
       "      <td>1</td>\n",
       "      <td>45</td>\n",
       "      <td>2025</td>\n",
       "      <td>1</td>\n",
       "      <td>7.0</td>\n",
       "      <td>49.0</td>\n",
       "    </tr>\n",
       "  </tbody>\n",
       "</table>\n",
       "</div>"
      ],
      "text/plain": [
       "         id  familyRelation  age  age2  female  education  education2\n",
       "13  3113561               1   46  2116       0       12.0       144.0\n",
       "14  3113561               2   48  2304       1        7.0        49.0\n",
       "17  1563001               1   49  2401       0       17.0       289.0\n",
       "22  2554811               2   65  4225       1       17.0       289.0\n",
       "28  2858412               1   45  2025       1        7.0        49.0"
      ]
     },
     "execution_count": 22,
     "metadata": {},
     "output_type": "execute_result"
    }
   ],
   "source": [
    "probando = cleanData.loc[13:28]\n",
    "probando"
   ]
  },
  {
   "cell_type": "code",
   "execution_count": 23,
   "metadata": {
    "collapsed": false
   },
   "outputs": [
    {
     "data": {
      "text/html": [
       "<div>\n",
       "<table border=\"1\" class=\"dataframe\">\n",
       "  <thead>\n",
       "    <tr>\n",
       "      <th></th>\n",
       "      <th colspan=\"2\" halign=\"left\">age</th>\n",
       "      <th colspan=\"2\" halign=\"left\">age2</th>\n",
       "      <th colspan=\"2\" halign=\"left\">female</th>\n",
       "      <th colspan=\"2\" halign=\"left\">education</th>\n",
       "      <th colspan=\"2\" halign=\"left\">education2</th>\n",
       "    </tr>\n",
       "    <tr>\n",
       "      <th>familyRelation</th>\n",
       "      <th>1</th>\n",
       "      <th>2</th>\n",
       "      <th>1</th>\n",
       "      <th>2</th>\n",
       "      <th>1</th>\n",
       "      <th>2</th>\n",
       "      <th>1</th>\n",
       "      <th>2</th>\n",
       "      <th>1</th>\n",
       "      <th>2</th>\n",
       "    </tr>\n",
       "    <tr>\n",
       "      <th>id</th>\n",
       "      <th></th>\n",
       "      <th></th>\n",
       "      <th></th>\n",
       "      <th></th>\n",
       "      <th></th>\n",
       "      <th></th>\n",
       "      <th></th>\n",
       "      <th></th>\n",
       "      <th></th>\n",
       "      <th></th>\n",
       "    </tr>\n",
       "  </thead>\n",
       "  <tbody>\n",
       "    <tr>\n",
       "      <th>1563001</th>\n",
       "      <td>49.0</td>\n",
       "      <td>NaN</td>\n",
       "      <td>2401.0</td>\n",
       "      <td>NaN</td>\n",
       "      <td>0.0</td>\n",
       "      <td>NaN</td>\n",
       "      <td>17.0</td>\n",
       "      <td>NaN</td>\n",
       "      <td>289.0</td>\n",
       "      <td>NaN</td>\n",
       "    </tr>\n",
       "    <tr>\n",
       "      <th>2554811</th>\n",
       "      <td>NaN</td>\n",
       "      <td>65.0</td>\n",
       "      <td>NaN</td>\n",
       "      <td>4225.0</td>\n",
       "      <td>NaN</td>\n",
       "      <td>1.0</td>\n",
       "      <td>NaN</td>\n",
       "      <td>17.0</td>\n",
       "      <td>NaN</td>\n",
       "      <td>289.0</td>\n",
       "    </tr>\n",
       "    <tr>\n",
       "      <th>2858412</th>\n",
       "      <td>45.0</td>\n",
       "      <td>NaN</td>\n",
       "      <td>2025.0</td>\n",
       "      <td>NaN</td>\n",
       "      <td>1.0</td>\n",
       "      <td>NaN</td>\n",
       "      <td>7.0</td>\n",
       "      <td>NaN</td>\n",
       "      <td>49.0</td>\n",
       "      <td>NaN</td>\n",
       "    </tr>\n",
       "    <tr>\n",
       "      <th>3113561</th>\n",
       "      <td>46.0</td>\n",
       "      <td>48.0</td>\n",
       "      <td>2116.0</td>\n",
       "      <td>2304.0</td>\n",
       "      <td>0.0</td>\n",
       "      <td>1.0</td>\n",
       "      <td>12.0</td>\n",
       "      <td>7.0</td>\n",
       "      <td>144.0</td>\n",
       "      <td>49.0</td>\n",
       "    </tr>\n",
       "  </tbody>\n",
       "</table>\n",
       "</div>"
      ],
      "text/plain": [
       "                 age          age2         female      education        \\\n",
       "familyRelation     1     2       1       2      1    2         1     2   \n",
       "id                                                                       \n",
       "1563001         49.0   NaN  2401.0     NaN    0.0  NaN      17.0   NaN   \n",
       "2554811          NaN  65.0     NaN  4225.0    NaN  1.0       NaN  17.0   \n",
       "2858412         45.0   NaN  2025.0     NaN    1.0  NaN       7.0   NaN   \n",
       "3113561         46.0  48.0  2116.0  2304.0    0.0  1.0      12.0   7.0   \n",
       "\n",
       "               education2         \n",
       "familyRelation          1      2  \n",
       "id                                \n",
       "1563001             289.0    NaN  \n",
       "2554811               NaN  289.0  \n",
       "2858412              49.0    NaN  \n",
       "3113561             144.0   49.0  "
      ]
     },
     "execution_count": 23,
     "metadata": {},
     "output_type": "execute_result"
    }
   ],
   "source": [
    "pivot = probando.pivot(index='id', columns='familyRelation')\n",
    "pivot"
   ]
  },
  {
   "cell_type": "code",
   "execution_count": 25,
   "metadata": {
    "collapsed": false
   },
   "outputs": [
    {
     "data": {
      "text/plain": [
       "array([[  4.90000000e+01,   0.00000000e+00,   2.40100000e+03,\n",
       "          0.00000000e+00,   0.00000000e+00,   0.00000000e+00,\n",
       "          1.70000000e+01,   0.00000000e+00,   2.89000000e+02,\n",
       "          0.00000000e+00],\n",
       "       [  0.00000000e+00,   6.50000000e+01,   0.00000000e+00,\n",
       "          4.22500000e+03,   0.00000000e+00,   1.00000000e+00,\n",
       "          0.00000000e+00,   1.70000000e+01,   0.00000000e+00,\n",
       "          2.89000000e+02],\n",
       "       [  4.50000000e+01,   0.00000000e+00,   2.02500000e+03,\n",
       "          0.00000000e+00,   1.00000000e+00,   0.00000000e+00,\n",
       "          7.00000000e+00,   0.00000000e+00,   4.90000000e+01,\n",
       "          0.00000000e+00],\n",
       "       [  4.60000000e+01,   4.80000000e+01,   2.11600000e+03,\n",
       "          2.30400000e+03,   0.00000000e+00,   1.00000000e+00,\n",
       "          1.20000000e+01,   7.00000000e+00,   1.44000000e+02,\n",
       "          4.90000000e+01]])"
      ]
     },
     "execution_count": 25,
     "metadata": {},
     "output_type": "execute_result"
    }
   ],
   "source": [
    "np.where(np.isnan(pivot.values),0,pivot.values)\n"
   ]
  },
  {
   "cell_type": "code",
   "execution_count": 24,
   "metadata": {
    "collapsed": false
   },
   "outputs": [
    {
     "data": {
      "text/plain": [
       "(4, 10)"
      ]
     },
     "execution_count": 24,
     "metadata": {},
     "output_type": "execute_result"
    }
   ],
   "source": [
    "pivot.shape"
   ]
  },
  {
   "cell_type": "code",
   "execution_count": null,
   "metadata": {
    "collapsed": true
   },
   "outputs": [],
   "source": []
  }
 ],
 "metadata": {
  "kernelspec": {
   "display_name": "Python [Root]",
   "language": "python",
   "name": "Python [Root]"
  },
  "language_info": {
   "codemirror_mode": {
    "name": "ipython",
    "version": 2
   },
   "file_extension": ".py",
   "mimetype": "text/x-python",
   "name": "python",
   "nbconvert_exporter": "python",
   "pygments_lexer": "ipython2",
   "version": "2.7.12"
  }
 },
 "nbformat": 4,
 "nbformat_minor": 0
}
