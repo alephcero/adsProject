{
 "cells": [
  {
   "cell_type": "code",
   "execution_count": 1,
   "metadata": {
    "collapsed": false
   },
   "outputs": [
    {
     "name": "stderr",
     "output_type": "stream",
     "text": [
      "/home/pipe/anaconda2/lib/python2.7/site-packages/sklearn/cross_validation.py:44: DeprecationWarning: This module was deprecated in version 0.18 in favor of the model_selection module into which all the refactored classes and functions are moved. Also note that the interface of the new CV iterators are different from that of this module. This module will be removed in 0.20.\n",
      "  \"This module will be removed in 0.20.\", DeprecationWarning)\n"
     ]
    }
   ],
   "source": [
    "import getEPH\n",
    "import functionsForModels\n",
    "import make_dummy\n",
    "import schoolYears\n",
    "import categorize\n",
    "import functionsForModels\n",
    "import createVariables\n",
    "\n",
    "import pandas as pd\n",
    "#http://statsmodels.sourceforge.net/devel/examples/generated/example_wls.html\n",
    "import numpy as np\n",
    "from scipy import stats\n",
    "import statsmodels.api as sm\n",
    "import matplotlib.pyplot as plt\n",
    "import seaborn as sns\n",
    "from statsmodels.sandbox.regression.predstd import wls_prediction_std\n",
    "from statsmodels.iolib.table import (SimpleTable, default_txt_fmt)\n",
    "np.random.seed(1024)\n",
    "%matplotlib inline"
   ]
  },
  {
   "cell_type": "code",
   "execution_count": 2,
   "metadata": {
    "collapsed": true
   },
   "outputs": [],
   "source": [
    "hog = pd.read_csv('data/cleanDataHouseholdt310.csv')"
   ]
  },
  {
   "cell_type": "code",
   "execution_count": 3,
   "metadata": {
    "collapsed": false
   },
   "outputs": [
    {
     "data": {
      "text/html": [
       "<div>\n",
       "<table border=\"1\" class=\"dataframe\">\n",
       "  <thead>\n",
       "    <tr style=\"text-align: right;\">\n",
       "      <th></th>\n",
       "      <th>CODUSU</th>\n",
       "      <th>NRO_HOGAR</th>\n",
       "      <th>REGION</th>\n",
       "      <th>PONDERA</th>\n",
       "      <th>HomeType</th>\n",
       "      <th>HomeTypeesp</th>\n",
       "      <th>RoomsNumber</th>\n",
       "      <th>FloorMaterial</th>\n",
       "      <th>FloorMaterialesp</th>\n",
       "      <th>RoofMaterial</th>\n",
       "      <th>...</th>\n",
       "      <th>HouseMembers</th>\n",
       "      <th>Memberless10</th>\n",
       "      <th>Membermore10</th>\n",
       "      <th>TotalHouseHoldIncome</th>\n",
       "      <th>DomesticService1</th>\n",
       "      <th>DomesticService2</th>\n",
       "      <th>DomesticService3</th>\n",
       "      <th>DomesticService4</th>\n",
       "      <th>DomesticService5</th>\n",
       "      <th>DomesticService6</th>\n",
       "    </tr>\n",
       "  </thead>\n",
       "  <tbody>\n",
       "    <tr>\n",
       "      <th>0</th>\n",
       "      <td>302468</td>\n",
       "      <td>1</td>\n",
       "      <td>1</td>\n",
       "      <td>1287</td>\n",
       "      <td>2</td>\n",
       "      <td>NaN</td>\n",
       "      <td>2</td>\n",
       "      <td>1</td>\n",
       "      <td>NaN</td>\n",
       "      <td>9</td>\n",
       "      <td>...</td>\n",
       "      <td>2</td>\n",
       "      <td>0</td>\n",
       "      <td>2</td>\n",
       "      <td>4000.0</td>\n",
       "      <td>1</td>\n",
       "      <td>0</td>\n",
       "      <td>2</td>\n",
       "      <td>0</td>\n",
       "      <td>0</td>\n",
       "      <td>0</td>\n",
       "    </tr>\n",
       "    <tr>\n",
       "      <th>1</th>\n",
       "      <td>307861</td>\n",
       "      <td>1</td>\n",
       "      <td>1</td>\n",
       "      <td>1674</td>\n",
       "      <td>2</td>\n",
       "      <td>NaN</td>\n",
       "      <td>2</td>\n",
       "      <td>1</td>\n",
       "      <td>NaN</td>\n",
       "      <td>1</td>\n",
       "      <td>...</td>\n",
       "      <td>4</td>\n",
       "      <td>1</td>\n",
       "      <td>3</td>\n",
       "      <td>5800.0</td>\n",
       "      <td>1</td>\n",
       "      <td>2</td>\n",
       "      <td>98</td>\n",
       "      <td>0</td>\n",
       "      <td>0</td>\n",
       "      <td>0</td>\n",
       "    </tr>\n",
       "    <tr>\n",
       "      <th>2</th>\n",
       "      <td>308762</td>\n",
       "      <td>1</td>\n",
       "      <td>1</td>\n",
       "      <td>1522</td>\n",
       "      <td>2</td>\n",
       "      <td>NaN</td>\n",
       "      <td>4</td>\n",
       "      <td>1</td>\n",
       "      <td>NaN</td>\n",
       "      <td>9</td>\n",
       "      <td>...</td>\n",
       "      <td>1</td>\n",
       "      <td>0</td>\n",
       "      <td>1</td>\n",
       "      <td>3200.0</td>\n",
       "      <td>1</td>\n",
       "      <td>0</td>\n",
       "      <td>98</td>\n",
       "      <td>0</td>\n",
       "      <td>0</td>\n",
       "      <td>0</td>\n",
       "    </tr>\n",
       "    <tr>\n",
       "      <th>3</th>\n",
       "      <td>308278</td>\n",
       "      <td>1</td>\n",
       "      <td>1</td>\n",
       "      <td>1320</td>\n",
       "      <td>2</td>\n",
       "      <td>NaN</td>\n",
       "      <td>3</td>\n",
       "      <td>1</td>\n",
       "      <td>NaN</td>\n",
       "      <td>9</td>\n",
       "      <td>...</td>\n",
       "      <td>2</td>\n",
       "      <td>0</td>\n",
       "      <td>2</td>\n",
       "      <td>10000.0</td>\n",
       "      <td>2</td>\n",
       "      <td>0</td>\n",
       "      <td>96</td>\n",
       "      <td>0</td>\n",
       "      <td>0</td>\n",
       "      <td>0</td>\n",
       "    </tr>\n",
       "    <tr>\n",
       "      <th>4</th>\n",
       "      <td>311937</td>\n",
       "      <td>1</td>\n",
       "      <td>1</td>\n",
       "      <td>1281</td>\n",
       "      <td>2</td>\n",
       "      <td>NaN</td>\n",
       "      <td>4</td>\n",
       "      <td>1</td>\n",
       "      <td>NaN</td>\n",
       "      <td>1</td>\n",
       "      <td>...</td>\n",
       "      <td>4</td>\n",
       "      <td>0</td>\n",
       "      <td>4</td>\n",
       "      <td>11000.0</td>\n",
       "      <td>2</td>\n",
       "      <td>4</td>\n",
       "      <td>96</td>\n",
       "      <td>0</td>\n",
       "      <td>0</td>\n",
       "      <td>0</td>\n",
       "    </tr>\n",
       "  </tbody>\n",
       "</table>\n",
       "<p>5 rows × 44 columns</p>\n",
       "</div>"
      ],
      "text/plain": [
       "   CODUSU  NRO_HOGAR  REGION  PONDERA  HomeType HomeTypeesp  RoomsNumber  \\\n",
       "0  302468          1       1     1287         2         NaN            2   \n",
       "1  307861          1       1     1674         2         NaN            2   \n",
       "2  308762          1       1     1522         2         NaN            4   \n",
       "3  308278          1       1     1320         2         NaN            3   \n",
       "4  311937          1       1     1281         2         NaN            4   \n",
       "\n",
       "   FloorMaterial FloorMaterialesp  RoofMaterial        ...         \\\n",
       "0              1              NaN             9        ...          \n",
       "1              1              NaN             1        ...          \n",
       "2              1              NaN             9        ...          \n",
       "3              1              NaN             9        ...          \n",
       "4              1              NaN             1        ...          \n",
       "\n",
       "   HouseMembers  Memberless10  Membermore10 TotalHouseHoldIncome  \\\n",
       "0             2             0             2               4000.0   \n",
       "1             4             1             3               5800.0   \n",
       "2             1             0             1               3200.0   \n",
       "3             2             0             2              10000.0   \n",
       "4             4             0             4              11000.0   \n",
       "\n",
       "   DomesticService1  DomesticService2  DomesticService3  DomesticService4  \\\n",
       "0                 1                 0                 2                 0   \n",
       "1                 1                 2                98                 0   \n",
       "2                 1                 0                98                 0   \n",
       "3                 2                 0                96                 0   \n",
       "4                 2                 4                96                 0   \n",
       "\n",
       "   DomesticService5  DomesticService6  \n",
       "0                 0                 0  \n",
       "1                 0                 0  \n",
       "2                 0                 0  \n",
       "3                 0                 0  \n",
       "4                 0                 0  \n",
       "\n",
       "[5 rows x 44 columns]"
      ]
     },
     "execution_count": 3,
     "metadata": {},
     "output_type": "execute_result"
    }
   ],
   "source": [
    "hog.head()"
   ]
  },
  {
   "cell_type": "markdown",
   "metadata": {},
   "source": [
    "**HomeType IV 1, ** NO CREO QUE SIRVA\n",
    "Tipo de vivienda ( por observación)\n",
    "1. = Casa\n",
    "2. = Departamento\n",
    "3. = Pieza de inquilinato\n",
    "4. = Pieza en hotel / pensión\n",
    "5. = Local no construido para habitación\n",
    "6. = Otros\n",
    "\n",
    "**FloorMaterial** SIRVE SACAR TAL COMO ESTA SACAR 9 SE PUEDE HACER PCA CON LAS DE ABAJO\n",
    "IV3 N(1) Los pisos interiores son principalmente de...\n",
    "1. = Mosaico / baldosa / madera / cerámica / alfombra\n",
    "2. = Cemento / ladrillo fijo\n",
    "3. = Ladrillo suelto / tierra\n",
    "4. = Otro\n",
    "\n",
    "\n",
    "** RoofMaterial** SIRVE SACAR TAL COMO ESTA SACAR 9\n",
    "IV4 N(2) La cubierta exterior del techo es de....\n",
    "1. = Membrana / cubierta asfáltica\n",
    "2. = Baldosa / losa sin cubierta\n",
    "3. = Pizarra / teja\n",
    "4. = Chapa de metal sin cubierta\n",
    "5. = Chapa de fibrocemento / plástico\n",
    "6. = Chapa de cartón\n",
    "7. = Caña / tabla / paja con barro / paja sola\n",
    "9. = N/S. Depto en propiedad horizontal\n",
    "\n",
    "**RoofCoat**\n",
    "IV5 N(1) ¿El techo tiene cielorraso / revestimiento interior?\n",
    "1 = Sí\n",
    "2 = No\n",
    "    "
   ]
  },
  {
   "cell_type": "code",
   "execution_count": 18,
   "metadata": {
    "collapsed": false
   },
   "outputs": [
    {
     "name": "stdout",
     "output_type": "stream",
     "text": [
      "1    2336\n",
      "2     366\n",
      "9       1\n",
      "Name: RoofCoat, dtype: int64\n"
     ]
    },
    {
     "data": {
      "text/plain": [
       "<matplotlib.collections.PathCollection at 0x7f80ddbbcb50>"
      ]
     },
     "execution_count": 18,
     "metadata": {},
     "output_type": "execute_result"
    },
    {
     "data": {
      "image/png": "[encoded data removed]",
      "text/plain": [
       "<matplotlib.figure.Figure at 0x7f80de470550>"
      ]
     },
     "metadata": {},
     "output_type": "display_data"
    }
   ],
   "source": [
    "print hog.RoofCoat.value_counts()\n",
    "plt.scatter(hog.RoofCoat, hog.TotalHouseHoldIncome)"
   ]
  },
  {
   "cell_type": "code",
   "execution_count": 7,
   "metadata": {
    "collapsed": false
   },
   "outputs": [
    {
     "data": {
      "text/plain": [
       "[<matplotlib.lines.Line2D at 0x7f80de50c590>]"
      ]
     },
     "execution_count": 7,
     "metadata": {},
     "output_type": "execute_result"
    },
    {
     "data": {
      "image/png": "[encoded data removed]",
      "text/plain": [
       "<matplotlib.figure.Figure at 0x7f80de5c77d0>"
      ]
     },
     "metadata": {},
     "output_type": "display_data"
    }
   ],
   "source": []
  },
  {
   "cell_type": "code",
   "execution_count": null,
   "metadata": {
    "collapsed": true
   },
   "outputs": [],
   "source": []
  }
 ],
 "metadata": {
  "kernelspec": {
   "display_name": "Python [Root]",
   "language": "python",
   "name": "Python [Root]"
  },
  "language_info": {
   "codemirror_mode": {
    "name": "ipython",
    "version": 2
   },
   "file_extension": ".py",
   "mimetype": "text/x-python",
   "name": "python",
   "nbconvert_exporter": "python",
   "pygments_lexer": "ipython2",
   "version": "2.7.12"
  }
 },
 "nbformat": 4,
 "nbformat_minor": 0
}
