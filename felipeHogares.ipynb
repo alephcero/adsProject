{
 "cells": [
  {
   "cell_type": "code",
   "execution_count": 6,
   "metadata": {
    "collapsed": false
   },
   "outputs": [],
   "source": [
    "import getEPH\n",
    "import functionsForModels\n",
    "import make_dummy\n",
    "import schoolYears\n",
    "import categorize\n",
    "import functionsForModels\n",
    "import createVariables\n",
    "\n",
    "import pandas as pd\n",
    "#http://statsmodels.sourceforge.net/devel/examples/generated/example_wls.html\n",
    "import numpy as np\n",
    "from scipy import stats\n",
    "import statsmodels.api as sm\n",
    "import matplotlib.pyplot as plt\n",
    "import seaborn as sns\n",
    "from statsmodels.sandbox.regression.predstd import wls_prediction_std\n",
    "from statsmodels.iolib.table import (SimpleTable, default_txt_fmt)\n",
    "np.random.seed(1024)\n",
    "%matplotlib inline"
   ]
  },
  {
   "cell_type": "code",
   "execution_count": null,
   "metadata": {
    "collapsed": true
   },
   "outputs": [],
   "source": [
    "getEPH.getEPHdbf('t310')"
   ]
  },
  {
   "cell_type": "code",
   "execution_count": 32,
   "metadata": {
    "collapsed": false
   },
   "outputs": [],
   "source": [
    "hog = pd.read_csv('data/cleanDataHouseholdt310.csv')"
   ]
  },
  {
   "cell_type": "code",
   "execution_count": 33,
   "metadata": {
    "collapsed": false
   },
   "outputs": [
    {
     "name": "stdout",
     "output_type": "stream",
     "text": [
      "(2703, 50)\n"
     ]
    },
    {
     "data": {
      "text/html": [
       "<div>\n",
       "<table border=\"1\" class=\"dataframe\">\n",
       "  <thead>\n",
       "    <tr style=\"text-align: right;\">\n",
       "      <th></th>\n",
       "      <th>CODUSU</th>\n",
       "      <th>NRO_HOGAR</th>\n",
       "      <th>REGION</th>\n",
       "      <th>PONDERA</th>\n",
       "      <th>HomeType</th>\n",
       "      <th>HomeTypeesp</th>\n",
       "      <th>RoomsNumber</th>\n",
       "      <th>FloorMaterial</th>\n",
       "      <th>FloorMaterialesp</th>\n",
       "      <th>RoofMaterial</th>\n",
       "      <th>...</th>\n",
       "      <th>DomesticService3</th>\n",
       "      <th>DomesticService4</th>\n",
       "      <th>DomesticService5</th>\n",
       "      <th>DomesticService6</th>\n",
       "      <th>TotalFamilyIncome</th>\n",
       "      <th>TotalFamilyIncomeDec</th>\n",
       "      <th>TotalFamilyIncomeDecReg</th>\n",
       "      <th>PerCapInc</th>\n",
       "      <th>PerCapIncDec</th>\n",
       "      <th>PerCapIncDecReg</th>\n",
       "    </tr>\n",
       "  </thead>\n",
       "  <tbody>\n",
       "    <tr>\n",
       "      <th>0</th>\n",
       "      <td>302468</td>\n",
       "      <td>1</td>\n",
       "      <td>1</td>\n",
       "      <td>1287</td>\n",
       "      <td>2</td>\n",
       "      <td>NaN</td>\n",
       "      <td>2</td>\n",
       "      <td>1</td>\n",
       "      <td>NaN</td>\n",
       "      <td>9</td>\n",
       "      <td>...</td>\n",
       "      <td>2</td>\n",
       "      <td>0</td>\n",
       "      <td>0</td>\n",
       "      <td>0</td>\n",
       "      <td>4000.0</td>\n",
       "      <td>6</td>\n",
       "      <td>6</td>\n",
       "      <td>2000.0</td>\n",
       "      <td>8</td>\n",
       "      <td>8</td>\n",
       "    </tr>\n",
       "    <tr>\n",
       "      <th>1</th>\n",
       "      <td>307861</td>\n",
       "      <td>1</td>\n",
       "      <td>1</td>\n",
       "      <td>1674</td>\n",
       "      <td>2</td>\n",
       "      <td>NaN</td>\n",
       "      <td>2</td>\n",
       "      <td>1</td>\n",
       "      <td>NaN</td>\n",
       "      <td>1</td>\n",
       "      <td>...</td>\n",
       "      <td>98</td>\n",
       "      <td>0</td>\n",
       "      <td>0</td>\n",
       "      <td>0</td>\n",
       "      <td>5800.0</td>\n",
       "      <td>8</td>\n",
       "      <td>8</td>\n",
       "      <td>1450.0</td>\n",
       "      <td>6</td>\n",
       "      <td>6</td>\n",
       "    </tr>\n",
       "    <tr>\n",
       "      <th>2</th>\n",
       "      <td>308762</td>\n",
       "      <td>1</td>\n",
       "      <td>1</td>\n",
       "      <td>1522</td>\n",
       "      <td>2</td>\n",
       "      <td>NaN</td>\n",
       "      <td>4</td>\n",
       "      <td>1</td>\n",
       "      <td>NaN</td>\n",
       "      <td>9</td>\n",
       "      <td>...</td>\n",
       "      <td>98</td>\n",
       "      <td>0</td>\n",
       "      <td>0</td>\n",
       "      <td>0</td>\n",
       "      <td>3200.0</td>\n",
       "      <td>5</td>\n",
       "      <td>5</td>\n",
       "      <td>3200.0</td>\n",
       "      <td>9</td>\n",
       "      <td>9</td>\n",
       "    </tr>\n",
       "    <tr>\n",
       "      <th>3</th>\n",
       "      <td>308278</td>\n",
       "      <td>1</td>\n",
       "      <td>1</td>\n",
       "      <td>1320</td>\n",
       "      <td>2</td>\n",
       "      <td>NaN</td>\n",
       "      <td>3</td>\n",
       "      <td>1</td>\n",
       "      <td>NaN</td>\n",
       "      <td>9</td>\n",
       "      <td>...</td>\n",
       "      <td>96</td>\n",
       "      <td>0</td>\n",
       "      <td>0</td>\n",
       "      <td>0</td>\n",
       "      <td>10000.0</td>\n",
       "      <td>10</td>\n",
       "      <td>10</td>\n",
       "      <td>5000.0</td>\n",
       "      <td>10</td>\n",
       "      <td>10</td>\n",
       "    </tr>\n",
       "    <tr>\n",
       "      <th>4</th>\n",
       "      <td>311937</td>\n",
       "      <td>1</td>\n",
       "      <td>1</td>\n",
       "      <td>1281</td>\n",
       "      <td>2</td>\n",
       "      <td>NaN</td>\n",
       "      <td>4</td>\n",
       "      <td>1</td>\n",
       "      <td>NaN</td>\n",
       "      <td>1</td>\n",
       "      <td>...</td>\n",
       "      <td>96</td>\n",
       "      <td>0</td>\n",
       "      <td>0</td>\n",
       "      <td>0</td>\n",
       "      <td>11000.0</td>\n",
       "      <td>10</td>\n",
       "      <td>10</td>\n",
       "      <td>2750.0</td>\n",
       "      <td>9</td>\n",
       "      <td>9</td>\n",
       "    </tr>\n",
       "  </tbody>\n",
       "</table>\n",
       "<p>5 rows × 50 columns</p>\n",
       "</div>"
      ],
      "text/plain": [
       "   CODUSU  NRO_HOGAR  REGION  PONDERA  HomeType HomeTypeesp  RoomsNumber  \\\n",
       "0  302468          1       1     1287         2         NaN            2   \n",
       "1  307861          1       1     1674         2         NaN            2   \n",
       "2  308762          1       1     1522         2         NaN            4   \n",
       "3  308278          1       1     1320         2         NaN            3   \n",
       "4  311937          1       1     1281         2         NaN            4   \n",
       "\n",
       "   FloorMaterial FloorMaterialesp  RoofMaterial       ...         \\\n",
       "0              1              NaN             9       ...          \n",
       "1              1              NaN             1       ...          \n",
       "2              1              NaN             9       ...          \n",
       "3              1              NaN             9       ...          \n",
       "4              1              NaN             1       ...          \n",
       "\n",
       "   DomesticService3  DomesticService4  DomesticService5 DomesticService6  \\\n",
       "0                 2                 0                 0                0   \n",
       "1                98                 0                 0                0   \n",
       "2                98                 0                 0                0   \n",
       "3                96                 0                 0                0   \n",
       "4                96                 0                 0                0   \n",
       "\n",
       "   TotalFamilyIncome  TotalFamilyIncomeDec  TotalFamilyIncomeDecReg  \\\n",
       "0             4000.0                     6                        6   \n",
       "1             5800.0                     8                        8   \n",
       "2             3200.0                     5                        5   \n",
       "3            10000.0                    10                       10   \n",
       "4            11000.0                    10                       10   \n",
       "\n",
       "   PerCapInc  PerCapIncDec  PerCapIncDecReg  \n",
       "0     2000.0             8                8  \n",
       "1     1450.0             6                6  \n",
       "2     3200.0             9                9  \n",
       "3     5000.0            10               10  \n",
       "4     2750.0             9                9  \n",
       "\n",
       "[5 rows x 50 columns]"
      ]
     },
     "execution_count": 33,
     "metadata": {},
     "output_type": "execute_result"
    }
   ],
   "source": [
    "print hog.shape\n",
    "hog.head()"
   ]
  },
  {
   "cell_type": "markdown",
   "metadata": {},
   "source": [
    "**HomeType IV 1, ** NO CREO QUE SIRVA\n",
    "Tipo de vivienda ( por observación)\n",
    "1. = Casa\n",
    "2. = Departamento\n",
    "3. = Pieza de inquilinato\n",
    "4. = Pieza en hotel / pensión\n",
    "5. = Local no construido para habitación\n",
    "6. = Otros\n",
    "\n",
    "**FloorMaterial** SIRVE SACAR TAL COMO ESTA SACAR 9 SE PUEDE HACER PCA CON LAS DE ABAJO\n",
    "IV3 N(1) Los pisos interiores son principalmente de...\n",
    "1. = Mosaico / baldosa / madera / cerámica / alfombra\n",
    "2. = Cemento / ladrillo fijo\n",
    "3. = Ladrillo suelto / tierra\n",
    "4. = Otro\n",
    "\n",
    "\n",
    "** RoofMaterial** SIRVE SACAR TAL COMO ESTA SACAR 9\n",
    "IV4 N(2) La cubierta exterior del techo es de....\n",
    "1. = Membrana / cubierta asfáltica\n",
    "2. = Baldosa / losa sin cubierta\n",
    "3. = Pizarra / teja\n",
    "4. = Chapa de metal sin cubierta\n",
    "5. = Chapa de fibrocemento / plástico\n",
    "6. = Chapa de cartón\n",
    "7. = Caña / tabla / paja con barro / paja sola\n",
    "9. = N/S. Depto en propiedad horizontal\n",
    "\n",
    "**RoofCoat**\n",
    "IV5 N(1) ¿El techo tiene cielorraso / revestimiento interior?\n",
    "1 = Sí\n",
    "2 = No\n",
    "    \n",
    "**Water**\n",
    "IV6 N(1) Tiene agua...\n",
    "1. Por cañería dentro de la vivienda\n",
    "2. Fuera de la vivienda pero dentro del terreno\n",
    "3. Fuera del terreno\n",
    "\n",
    "**WaterType**\n",
    "IV7 N(1) El agua es de...\n",
    "1. = Red pública (agua corriente)\n",
    "2. = Perforación con bomba a motor\n",
    "3. = Perforación con bomba manual\n",
    "4. = Otra fuente\n",
    "\n",
    "***'Toilet',***\n",
    "IV8 N(1) ¿Tiene baño / letrina?\n",
    "1. = Sí\n",
    "2. = No\n",
    "\n",
    "***'ToiletLocation'***\n",
    "\n",
    "**'ToiletType',**\n",
    "\n",
    "'IV11',            =            'Sewer',\n",
    "'IV12_1',          =            'DumpSites',\n",
    "'IV12_2',          =            'Flooding',\n",
    "'IV12_3',          =            'EmergencyLoc',\n",
    "'II1',         =            'UsableTotalRooms',\n",
    "'II2',         =            'SleepingRooms', #esta es para hacinamiento\n",
    "'II3',         =            'OfficeRooms',\n",
    "'II3_1',           =            'OnlyWork',\n",
    "'II4_1',           =            'Kitchen',\n",
    "'II4_2',           =            'Sink',\n",
    "'II4_3',           =            'Garage',\n",
    "'II7',         =            'Ownership', #JUNTAR 1 Y 3 EN SITUACION CONTACTUAL ESTABLE\n",
    "'II7_ESP',         =            'Ownershipesp',\n",
    "'II8',         =           'CookingCombustible',\n",
    "'II8_ESP',         =            'CookingCombustibleesp'\n",
    "'II9',         =           'BathroomUse',\n",
    "'V1',          =            'Working',"
   ]
  },
  {
   "cell_type": "code",
   "execution_count": 34,
   "metadata": {
    "collapsed": false
   },
   "outputs": [],
   "source": [
    "def remove9(df,variables):\n",
    "    for var in variables:\n",
    "        df[var].replace(to_replace=[9], value=[np.nan] , inplace=True, axis=None)\n",
    "\n",
    "def remove0(df,variables):\n",
    "    for var in variables:\n",
    "        df[var].replace(to_replace=[0], value=[np.nan] , inplace=True, axis=None)\n",
    "\n",
    "def remove99(df,variables):\n",
    "    for var in variables:\n",
    "        df[var].replace(to_replace=[99], value=[np.nan] , inplace=True, axis=None)"
   ]
  },
  {
   "cell_type": "code",
   "execution_count": 35,
   "metadata": {
    "collapsed": true
   },
   "outputs": [],
   "source": [
    "hog2 = hog.copy()"
   ]
  },
  {
   "cell_type": "markdown",
   "metadata": {},
   "source": [
    "Limpieza de valores que estan mal 99, 9 y 0 cuando no corresponde"
   ]
  },
  {
   "cell_type": "code",
   "execution_count": 36,
   "metadata": {
    "collapsed": false
   },
   "outputs": [],
   "source": [
    "remove9(df = hog2, variables = ['FloorMaterial','RoofMaterial','RoofCoat','Water','WaterType','Toilet','ToiletLocation',\n",
    "                               'ToiletType','Sewer','DumpSites','Flooding','EmergencyLoc','CookingCombustible',\n",
    "                               'BathroomUse'])\n",
    "remove0(df = hog2, variables = ['FloorMaterial','RoofMaterial','RoofCoat','Water','WaterType','Toilet','ToiletLocation',\n",
    "                               'ToiletType','Sewer','DumpSites','Flooding','EmergencyLoc','Ownership','CookingCombustible',\n",
    "                               'BathroomUse'])\n",
    "remove99(df = hog2, variables = ['Ownership'])"
   ]
  },
  {
   "cell_type": "code",
   "execution_count": 37,
   "metadata": {
    "collapsed": false
   },
   "outputs": [
    {
     "name": "stdout",
     "output_type": "stream",
     "text": [
      "1.0    2109\n",
      "2.0     552\n",
      "4.0      11\n",
      "3.0       3\n",
      "Name: CookingCombustible, dtype: int64\n"
     ]
    },
    {
     "data": {
      "image/png": "[encoded data removed]",
      "text/plain": [
       "<matplotlib.figure.Figure at 0x7fa8629c4810>"
      ]
     },
     "metadata": {},
     "output_type": "display_data"
    }
   ],
   "source": [
    "variables = ['CookingCombustible']\n",
    "for var in variables:\n",
    "    print hog2[var].value_counts()\n",
    "    plt.scatter(hog2[var], hog2.TotalHouseHoldIncome)\n",
    "    plt.show()"
   ]
  },
  {
   "cell_type": "markdown",
   "metadata": {},
   "source": [
    "Recategorizacion de variables para que tengan mas sentido"
   ]
  },
  {
   "cell_type": "code",
   "execution_count": 38,
   "metadata": {
    "collapsed": true
   },
   "outputs": [],
   "source": [
    "hog2['CookingRec'] = np.nan"
   ]
  },
  {
   "cell_type": "code",
   "execution_count": 39,
   "metadata": {
    "collapsed": false
   },
   "outputs": [
    {
     "name": "stderr",
     "output_type": "stream",
     "text": [
      "/home/pipe/anaconda2/lib/python2.7/site-packages/ipykernel/__main__.py:1: SettingWithCopyWarning: \n",
      "A value is trying to be set on a copy of a slice from a DataFrame\n",
      "\n",
      "See the caveats in the documentation: http://pandas.pydata.org/pandas-docs/stable/indexing.html#indexing-view-versus-copy\n",
      "  if __name__ == '__main__':\n",
      "/home/pipe/anaconda2/lib/python2.7/site-packages/ipykernel/__main__.py:2: SettingWithCopyWarning: \n",
      "A value is trying to be set on a copy of a slice from a DataFrame\n",
      "\n",
      "See the caveats in the documentation: http://pandas.pydata.org/pandas-docs/stable/indexing.html#indexing-view-versus-copy\n",
      "  from ipykernel import kernelapp as app\n",
      "/home/pipe/anaconda2/lib/python2.7/site-packages/ipykernel/__main__.py:3: SettingWithCopyWarning: \n",
      "A value is trying to be set on a copy of a slice from a DataFrame\n",
      "\n",
      "See the caveats in the documentation: http://pandas.pydata.org/pandas-docs/stable/indexing.html#indexing-view-versus-copy\n",
      "  app.launch_new_instance()\n",
      "/home/pipe/anaconda2/lib/python2.7/site-packages/ipykernel/__main__.py:4: SettingWithCopyWarning: \n",
      "A value is trying to be set on a copy of a slice from a DataFrame\n",
      "\n",
      "See the caveats in the documentation: http://pandas.pydata.org/pandas-docs/stable/indexing.html#indexing-view-versus-copy\n"
     ]
    }
   ],
   "source": [
    "hog2['CookingRec'][hog2.CookingCombustible == 4] = 1\n",
    "hog2['CookingRec'][hog2.CookingCombustible == 3] = 1\n",
    "hog2['CookingRec'][hog2.CookingCombustible == 2] = 2\n",
    "hog2['CookingRec'][hog2.CookingCombustible == 1] = 3"
   ]
  },
  {
   "cell_type": "code",
   "execution_count": 40,
   "metadata": {
    "collapsed": false
   },
   "outputs": [
    {
     "name": "stdout",
     "output_type": "stream",
     "text": [
      "3.0    2109\n",
      "2.0     552\n",
      "1.0      14\n",
      "Name: CookingRec, dtype: int64\n"
     ]
    },
    {
     "data": {
      "image/png": "[encoded data removed]",
      "text/plain": [
       "<matplotlib.figure.Figure at 0x7fa860362b90>"
      ]
     },
     "metadata": {},
     "output_type": "display_data"
    }
   ],
   "source": [
    "variables = ['CookingRec']\n",
    "for var in variables:\n",
    "    print hog2[var].value_counts()\n",
    "    plt.scatter(hog2[var], hog2.TotalHouseHoldIncome)\n",
    "    plt.show()"
   ]
  },
  {
   "cell_type": "code",
   "execution_count": 41,
   "metadata": {
    "collapsed": false
   },
   "outputs": [],
   "source": [
    "#hogFinal = hog2.copy().loc[:,['FloorMaterial','RoofMaterial','RoofCoat','Water','WaterType','Toilet','ToiletLocation',\n",
    "#                              'ToiletType','Sewer']]\n",
    "\n",
    "#solamente las que tienen 1. Por cañería dentro de la vivienda\n",
    "hog2['WaterRec'] = (hog2.Water == 1).astype(int)\n",
    "\n",
    "\n",
    "hog2['OwnershipRec'] = ((hog2.Ownership == 1) | (hog2.Ownership == 3)).astype(int)\n",
    "hog2['Hacinamiento'] = hog2.HouseMembers * 1.0 / hog2.SleepingRooms\n",
    "hog2['id'] =  (hog2.CODUSU.astype(str) + hog2.NRO_HOGAR.astype(str))\n",
    "\n",
    "#saco los ingresos del hogar\n",
    "hog2['TotalHouseHoldIncome'].replace(to_replace=[0], value=[1] , inplace=True, axis=None)\n",
    "hog2['lnHouseIncome'] = np.log(hog2['TotalHouseHoldIncome'])\n"
   ]
  },
  {
   "cell_type": "code",
   "execution_count": 42,
   "metadata": {
    "collapsed": false
   },
   "outputs": [
    {
     "data": {
      "text/plain": [
       "28"
      ]
     },
     "execution_count": 42,
     "metadata": {},
     "output_type": "execute_result"
    }
   ],
   "source": [
    "sinCuartosParaDormir = (hog2.SleepingRooms == 0)\n",
    "sum(sinCuartosParaDormir)"
   ]
  },
  {
   "cell_type": "code",
   "execution_count": 43,
   "metadata": {
    "collapsed": false,
    "scrolled": true
   },
   "outputs": [
    {
     "data": {
      "text/html": [
       "<div>\n",
       "<table border=\"1\" class=\"dataframe\">\n",
       "  <thead>\n",
       "    <tr style=\"text-align: right;\">\n",
       "      <th></th>\n",
       "      <th>CODUSU</th>\n",
       "      <th>NRO_HOGAR</th>\n",
       "      <th>REGION</th>\n",
       "      <th>PONDERA</th>\n",
       "      <th>HomeType</th>\n",
       "      <th>HomeTypeesp</th>\n",
       "      <th>RoomsNumber</th>\n",
       "      <th>FloorMaterial</th>\n",
       "      <th>FloorMaterialesp</th>\n",
       "      <th>RoofMaterial</th>\n",
       "      <th>...</th>\n",
       "      <th>TotalFamilyIncomeDecReg</th>\n",
       "      <th>PerCapInc</th>\n",
       "      <th>PerCapIncDec</th>\n",
       "      <th>PerCapIncDecReg</th>\n",
       "      <th>CookingRec</th>\n",
       "      <th>WaterRec</th>\n",
       "      <th>OwnershipRec</th>\n",
       "      <th>Hacinamiento</th>\n",
       "      <th>id</th>\n",
       "      <th>lnHouseIncome</th>\n",
       "    </tr>\n",
       "  </thead>\n",
       "  <tbody>\n",
       "    <tr>\n",
       "      <th>10</th>\n",
       "      <td>259897</td>\n",
       "      <td>2</td>\n",
       "      <td>1</td>\n",
       "      <td>1259</td>\n",
       "      <td>2</td>\n",
       "      <td>NaN</td>\n",
       "      <td>5</td>\n",
       "      <td>1.0</td>\n",
       "      <td>NaN</td>\n",
       "      <td>NaN</td>\n",
       "      <td>...</td>\n",
       "      <td>0</td>\n",
       "      <td>0.0</td>\n",
       "      <td>0</td>\n",
       "      <td>0</td>\n",
       "      <td>NaN</td>\n",
       "      <td>1</td>\n",
       "      <td>0</td>\n",
       "      <td>inf</td>\n",
       "      <td>2598972</td>\n",
       "      <td>0.000000</td>\n",
       "    </tr>\n",
       "    <tr>\n",
       "      <th>11</th>\n",
       "      <td>285841</td>\n",
       "      <td>2</td>\n",
       "      <td>1</td>\n",
       "      <td>1311</td>\n",
       "      <td>2</td>\n",
       "      <td>NaN</td>\n",
       "      <td>99</td>\n",
       "      <td>1.0</td>\n",
       "      <td>NaN</td>\n",
       "      <td>NaN</td>\n",
       "      <td>...</td>\n",
       "      <td>2</td>\n",
       "      <td>1800.0</td>\n",
       "      <td>7</td>\n",
       "      <td>7</td>\n",
       "      <td>NaN</td>\n",
       "      <td>1</td>\n",
       "      <td>0</td>\n",
       "      <td>inf</td>\n",
       "      <td>2858412</td>\n",
       "      <td>7.495542</td>\n",
       "    </tr>\n",
       "    <tr>\n",
       "      <th>20</th>\n",
       "      <td>311871</td>\n",
       "      <td>2</td>\n",
       "      <td>1</td>\n",
       "      <td>1374</td>\n",
       "      <td>2</td>\n",
       "      <td>NaN</td>\n",
       "      <td>3</td>\n",
       "      <td>1.0</td>\n",
       "      <td>NaN</td>\n",
       "      <td>NaN</td>\n",
       "      <td>...</td>\n",
       "      <td>2</td>\n",
       "      <td>1500.0</td>\n",
       "      <td>7</td>\n",
       "      <td>6</td>\n",
       "      <td>NaN</td>\n",
       "      <td>1</td>\n",
       "      <td>0</td>\n",
       "      <td>inf</td>\n",
       "      <td>3118712</td>\n",
       "      <td>7.313220</td>\n",
       "    </tr>\n",
       "    <tr>\n",
       "      <th>28</th>\n",
       "      <td>146462</td>\n",
       "      <td>2</td>\n",
       "      <td>1</td>\n",
       "      <td>1457</td>\n",
       "      <td>1</td>\n",
       "      <td>NaN</td>\n",
       "      <td>5</td>\n",
       "      <td>1.0</td>\n",
       "      <td>NaN</td>\n",
       "      <td>2.0</td>\n",
       "      <td>...</td>\n",
       "      <td>4</td>\n",
       "      <td>2460.0</td>\n",
       "      <td>9</td>\n",
       "      <td>8</td>\n",
       "      <td>NaN</td>\n",
       "      <td>1</td>\n",
       "      <td>0</td>\n",
       "      <td>inf</td>\n",
       "      <td>1464622</td>\n",
       "      <td>7.807917</td>\n",
       "    </tr>\n",
       "    <tr>\n",
       "      <th>34</th>\n",
       "      <td>301199</td>\n",
       "      <td>2</td>\n",
       "      <td>1</td>\n",
       "      <td>2168</td>\n",
       "      <td>2</td>\n",
       "      <td>NaN</td>\n",
       "      <td>5</td>\n",
       "      <td>1.0</td>\n",
       "      <td>NaN</td>\n",
       "      <td>NaN</td>\n",
       "      <td>...</td>\n",
       "      <td>2</td>\n",
       "      <td>1600.0</td>\n",
       "      <td>7</td>\n",
       "      <td>7</td>\n",
       "      <td>NaN</td>\n",
       "      <td>1</td>\n",
       "      <td>0</td>\n",
       "      <td>inf</td>\n",
       "      <td>3011992</td>\n",
       "      <td>7.377759</td>\n",
       "    </tr>\n",
       "  </tbody>\n",
       "</table>\n",
       "<p>5 rows × 56 columns</p>\n",
       "</div>"
      ],
      "text/plain": [
       "    CODUSU  NRO_HOGAR  REGION  PONDERA  HomeType HomeTypeesp  RoomsNumber  \\\n",
       "10  259897          2       1     1259         2         NaN            5   \n",
       "11  285841          2       1     1311         2         NaN           99   \n",
       "20  311871          2       1     1374         2         NaN            3   \n",
       "28  146462          2       1     1457         1         NaN            5   \n",
       "34  301199          2       1     2168         2         NaN            5   \n",
       "\n",
       "    FloorMaterial FloorMaterialesp  RoofMaterial      ...        \\\n",
       "10            1.0              NaN           NaN      ...         \n",
       "11            1.0              NaN           NaN      ...         \n",
       "20            1.0              NaN           NaN      ...         \n",
       "28            1.0              NaN           2.0      ...         \n",
       "34            1.0              NaN           NaN      ...         \n",
       "\n",
       "    TotalFamilyIncomeDecReg  PerCapInc  PerCapIncDec PerCapIncDecReg  \\\n",
       "10                        0        0.0             0               0   \n",
       "11                        2     1800.0             7               7   \n",
       "20                        2     1500.0             7               6   \n",
       "28                        4     2460.0             9               8   \n",
       "34                        2     1600.0             7               7   \n",
       "\n",
       "    CookingRec  WaterRec  OwnershipRec  Hacinamiento       id  lnHouseIncome  \n",
       "10         NaN         1             0           inf  2598972       0.000000  \n",
       "11         NaN         1             0           inf  2858412       7.495542  \n",
       "20         NaN         1             0           inf  3118712       7.313220  \n",
       "28         NaN         1             0           inf  1464622       7.807917  \n",
       "34         NaN         1             0           inf  3011992       7.377759  \n",
       "\n",
       "[5 rows x 56 columns]"
      ]
     },
     "execution_count": 43,
     "metadata": {},
     "output_type": "execute_result"
    }
   ],
   "source": [
    "hog2.loc[sinCuartosParaDormir,:].head()"
   ]
  },
  {
   "cell_type": "code",
   "execution_count": 44,
   "metadata": {
    "collapsed": false
   },
   "outputs": [
    {
     "data": {
      "text/html": [
       "<div>\n",
       "<table border=\"1\" class=\"dataframe\">\n",
       "  <thead>\n",
       "    <tr style=\"text-align: right;\">\n",
       "      <th></th>\n",
       "      <th>CODUSU</th>\n",
       "      <th>NRO_HOGAR</th>\n",
       "      <th>REGION</th>\n",
       "      <th>PONDERA</th>\n",
       "      <th>HomeType</th>\n",
       "      <th>HomeTypeesp</th>\n",
       "      <th>RoomsNumber</th>\n",
       "      <th>FloorMaterial</th>\n",
       "      <th>FloorMaterialesp</th>\n",
       "      <th>RoofMaterial</th>\n",
       "      <th>...</th>\n",
       "      <th>TotalFamilyIncomeDecReg</th>\n",
       "      <th>PerCapInc</th>\n",
       "      <th>PerCapIncDec</th>\n",
       "      <th>PerCapIncDecReg</th>\n",
       "      <th>CookingRec</th>\n",
       "      <th>WaterRec</th>\n",
       "      <th>OwnershipRec</th>\n",
       "      <th>Hacinamiento</th>\n",
       "      <th>id</th>\n",
       "      <th>lnHouseIncome</th>\n",
       "    </tr>\n",
       "  </thead>\n",
       "  <tbody>\n",
       "    <tr>\n",
       "      <th>0</th>\n",
       "      <td>302468</td>\n",
       "      <td>1</td>\n",
       "      <td>1</td>\n",
       "      <td>1287</td>\n",
       "      <td>2</td>\n",
       "      <td>NaN</td>\n",
       "      <td>2</td>\n",
       "      <td>1.0</td>\n",
       "      <td>NaN</td>\n",
       "      <td>NaN</td>\n",
       "      <td>...</td>\n",
       "      <td>6</td>\n",
       "      <td>2000.0</td>\n",
       "      <td>8</td>\n",
       "      <td>8</td>\n",
       "      <td>3.0</td>\n",
       "      <td>1</td>\n",
       "      <td>1</td>\n",
       "      <td>2.000000</td>\n",
       "      <td>3024681</td>\n",
       "      <td>8.294050</td>\n",
       "    </tr>\n",
       "    <tr>\n",
       "      <th>1</th>\n",
       "      <td>307861</td>\n",
       "      <td>1</td>\n",
       "      <td>1</td>\n",
       "      <td>1674</td>\n",
       "      <td>2</td>\n",
       "      <td>NaN</td>\n",
       "      <td>2</td>\n",
       "      <td>1.0</td>\n",
       "      <td>NaN</td>\n",
       "      <td>1.0</td>\n",
       "      <td>...</td>\n",
       "      <td>8</td>\n",
       "      <td>1450.0</td>\n",
       "      <td>6</td>\n",
       "      <td>6</td>\n",
       "      <td>3.0</td>\n",
       "      <td>1</td>\n",
       "      <td>0</td>\n",
       "      <td>2.000000</td>\n",
       "      <td>3078611</td>\n",
       "      <td>8.665613</td>\n",
       "    </tr>\n",
       "    <tr>\n",
       "      <th>2</th>\n",
       "      <td>308762</td>\n",
       "      <td>1</td>\n",
       "      <td>1</td>\n",
       "      <td>1522</td>\n",
       "      <td>2</td>\n",
       "      <td>NaN</td>\n",
       "      <td>4</td>\n",
       "      <td>1.0</td>\n",
       "      <td>NaN</td>\n",
       "      <td>NaN</td>\n",
       "      <td>...</td>\n",
       "      <td>5</td>\n",
       "      <td>3200.0</td>\n",
       "      <td>9</td>\n",
       "      <td>9</td>\n",
       "      <td>3.0</td>\n",
       "      <td>1</td>\n",
       "      <td>1</td>\n",
       "      <td>1.000000</td>\n",
       "      <td>3087621</td>\n",
       "      <td>8.070906</td>\n",
       "    </tr>\n",
       "    <tr>\n",
       "      <th>3</th>\n",
       "      <td>308278</td>\n",
       "      <td>1</td>\n",
       "      <td>1</td>\n",
       "      <td>1320</td>\n",
       "      <td>2</td>\n",
       "      <td>NaN</td>\n",
       "      <td>3</td>\n",
       "      <td>1.0</td>\n",
       "      <td>NaN</td>\n",
       "      <td>NaN</td>\n",
       "      <td>...</td>\n",
       "      <td>10</td>\n",
       "      <td>5000.0</td>\n",
       "      <td>10</td>\n",
       "      <td>10</td>\n",
       "      <td>1.0</td>\n",
       "      <td>1</td>\n",
       "      <td>1</td>\n",
       "      <td>2.000000</td>\n",
       "      <td>3082781</td>\n",
       "      <td>9.210340</td>\n",
       "    </tr>\n",
       "    <tr>\n",
       "      <th>4</th>\n",
       "      <td>311937</td>\n",
       "      <td>1</td>\n",
       "      <td>1</td>\n",
       "      <td>1281</td>\n",
       "      <td>2</td>\n",
       "      <td>NaN</td>\n",
       "      <td>4</td>\n",
       "      <td>1.0</td>\n",
       "      <td>NaN</td>\n",
       "      <td>1.0</td>\n",
       "      <td>...</td>\n",
       "      <td>10</td>\n",
       "      <td>2750.0</td>\n",
       "      <td>9</td>\n",
       "      <td>9</td>\n",
       "      <td>3.0</td>\n",
       "      <td>1</td>\n",
       "      <td>1</td>\n",
       "      <td>1.333333</td>\n",
       "      <td>3119371</td>\n",
       "      <td>9.305651</td>\n",
       "    </tr>\n",
       "  </tbody>\n",
       "</table>\n",
       "<p>5 rows × 56 columns</p>\n",
       "</div>"
      ],
      "text/plain": [
       "   CODUSU  NRO_HOGAR  REGION  PONDERA  HomeType HomeTypeesp  RoomsNumber  \\\n",
       "0  302468          1       1     1287         2         NaN            2   \n",
       "1  307861          1       1     1674         2         NaN            2   \n",
       "2  308762          1       1     1522         2         NaN            4   \n",
       "3  308278          1       1     1320         2         NaN            3   \n",
       "4  311937          1       1     1281         2         NaN            4   \n",
       "\n",
       "   FloorMaterial FloorMaterialesp  RoofMaterial      ...        \\\n",
       "0            1.0              NaN           NaN      ...         \n",
       "1            1.0              NaN           1.0      ...         \n",
       "2            1.0              NaN           NaN      ...         \n",
       "3            1.0              NaN           NaN      ...         \n",
       "4            1.0              NaN           1.0      ...         \n",
       "\n",
       "   TotalFamilyIncomeDecReg  PerCapInc  PerCapIncDec PerCapIncDecReg  \\\n",
       "0                        6     2000.0             8               8   \n",
       "1                        8     1450.0             6               6   \n",
       "2                        5     3200.0             9               9   \n",
       "3                       10     5000.0            10              10   \n",
       "4                       10     2750.0             9               9   \n",
       "\n",
       "   CookingRec  WaterRec  OwnershipRec  Hacinamiento       id  lnHouseIncome  \n",
       "0         3.0         1             1      2.000000  3024681       8.294050  \n",
       "1         3.0         1             0      2.000000  3078611       8.665613  \n",
       "2         3.0         1             1      1.000000  3087621       8.070906  \n",
       "3         1.0         1             1      2.000000  3082781       9.210340  \n",
       "4         3.0         1             1      1.333333  3119371       9.305651  \n",
       "\n",
       "[5 rows x 56 columns]"
      ]
     },
     "execution_count": 44,
     "metadata": {},
     "output_type": "execute_result"
    }
   ],
   "source": [
    "hog2.head()"
   ]
  },
  {
   "cell_type": "code",
   "execution_count": 45,
   "metadata": {
    "collapsed": false
   },
   "outputs": [
    {
     "data": {
      "text/plain": [
       "Index([u'CODUSU', u'NRO_HOGAR', u'REGION', u'PONDERA', u'HomeType',\n",
       "       u'HomeTypeesp', u'RoomsNumber', u'FloorMaterial', u'FloorMaterialesp',\n",
       "       u'RoofMaterial', u'RoofCoat', u'Water', u'WaterType', u'WaterTypeesp',\n",
       "       u'Toilet', u'ToiletLocation', u'ToiletType', u'Sewer', u'DumpSites',\n",
       "       u'Flooding', u'EmergencyLoc', u'UsableTotalRooms', u'SleepingRooms',\n",
       "       u'OfficeRooms', u'OnlyWork', u'Kitchen', u'Sink', u'Garage',\n",
       "       u'Ownership', u'Ownershipesp', u'CookingCombustible',\n",
       "       u'CookingCombustibleesp', u'BathroomUse', u'Working', u'HouseMembers',\n",
       "       u'Memberless10', u'Membermore10', u'TotalHouseHoldIncome',\n",
       "       u'DomesticService1', u'DomesticService2', u'DomesticService3',\n",
       "       u'DomesticService4', u'DomesticService5', u'DomesticService6',\n",
       "       u'TotalFamilyIncome', u'TotalFamilyIncomeDec',\n",
       "       u'TotalFamilyIncomeDecReg', u'PerCapInc', u'PerCapIncDec',\n",
       "       u'PerCapIncDecReg', u'CookingRec', u'WaterRec', u'OwnershipRec',\n",
       "       u'Hacinamiento', u'id', u'lnHouseIncome'],\n",
       "      dtype='object')"
      ]
     },
     "execution_count": 45,
     "metadata": {},
     "output_type": "execute_result"
    }
   ],
   "source": [
    "hog2.columns"
   ]
  },
  {
   "cell_type": "code",
   "execution_count": 46,
   "metadata": {
    "collapsed": false
   },
   "outputs": [
    {
     "data": {
      "text/plain": [
       "<matplotlib.axes._subplots.AxesSubplot at 0x7fa8602dcf10>"
      ]
     },
     "execution_count": 46,
     "metadata": {},
     "output_type": "execute_result"
    },
    {
     "data": {
      "image/png": "[encoded data removed]",
      "text/plain": [
       "<matplotlib.figure.Figure at 0x7fa8602f8b50>"
      ]
     },
     "metadata": {},
     "output_type": "display_data"
    }
   ],
   "source": [
    "sns.kdeplot(hog2.lnHouseIncome)"
   ]
  },
  {
   "cell_type": "code",
   "execution_count": 47,
   "metadata": {
    "collapsed": true
   },
   "outputs": [],
   "source": [
    "hogReducida = hog2.copy().drop(['CODUSU','NRO_HOGAR','REGION','HomeTypeesp','FloorMaterialesp',\n",
    "                              'WaterTypeesp','Ownershipesp','CookingCombustibleesp','DomesticService1', \n",
    "                               'DomesticService2', 'DomesticService3','DomesticService4', 'DomesticService5',\n",
    "                               'DomesticService6'],axis = 1)"
   ]
  },
  {
   "cell_type": "code",
   "execution_count": 48,
   "metadata": {
    "collapsed": false
   },
   "outputs": [
    {
     "data": {
      "text/html": [
       "<div>\n",
       "<table border=\"1\" class=\"dataframe\">\n",
       "  <thead>\n",
       "    <tr style=\"text-align: right;\">\n",
       "      <th></th>\n",
       "      <th>PONDERA</th>\n",
       "      <th>HomeType</th>\n",
       "      <th>RoomsNumber</th>\n",
       "      <th>FloorMaterial</th>\n",
       "      <th>RoofMaterial</th>\n",
       "      <th>RoofCoat</th>\n",
       "      <th>Water</th>\n",
       "      <th>WaterType</th>\n",
       "      <th>Toilet</th>\n",
       "      <th>ToiletLocation</th>\n",
       "      <th>...</th>\n",
       "      <th>TotalFamilyIncomeDecReg</th>\n",
       "      <th>PerCapInc</th>\n",
       "      <th>PerCapIncDec</th>\n",
       "      <th>PerCapIncDecReg</th>\n",
       "      <th>CookingRec</th>\n",
       "      <th>WaterRec</th>\n",
       "      <th>OwnershipRec</th>\n",
       "      <th>Hacinamiento</th>\n",
       "      <th>id</th>\n",
       "      <th>lnHouseIncome</th>\n",
       "    </tr>\n",
       "  </thead>\n",
       "  <tbody>\n",
       "    <tr>\n",
       "      <th>0</th>\n",
       "      <td>1287</td>\n",
       "      <td>2</td>\n",
       "      <td>2</td>\n",
       "      <td>1.0</td>\n",
       "      <td>NaN</td>\n",
       "      <td>1.0</td>\n",
       "      <td>1.0</td>\n",
       "      <td>1</td>\n",
       "      <td>1</td>\n",
       "      <td>1.0</td>\n",
       "      <td>...</td>\n",
       "      <td>6</td>\n",
       "      <td>2000.0</td>\n",
       "      <td>8</td>\n",
       "      <td>8</td>\n",
       "      <td>3.0</td>\n",
       "      <td>1</td>\n",
       "      <td>1</td>\n",
       "      <td>2.000000</td>\n",
       "      <td>3024681</td>\n",
       "      <td>8.294050</td>\n",
       "    </tr>\n",
       "    <tr>\n",
       "      <th>1</th>\n",
       "      <td>1674</td>\n",
       "      <td>2</td>\n",
       "      <td>2</td>\n",
       "      <td>1.0</td>\n",
       "      <td>1.0</td>\n",
       "      <td>1.0</td>\n",
       "      <td>1.0</td>\n",
       "      <td>1</td>\n",
       "      <td>1</td>\n",
       "      <td>1.0</td>\n",
       "      <td>...</td>\n",
       "      <td>8</td>\n",
       "      <td>1450.0</td>\n",
       "      <td>6</td>\n",
       "      <td>6</td>\n",
       "      <td>3.0</td>\n",
       "      <td>1</td>\n",
       "      <td>0</td>\n",
       "      <td>2.000000</td>\n",
       "      <td>3078611</td>\n",
       "      <td>8.665613</td>\n",
       "    </tr>\n",
       "    <tr>\n",
       "      <th>2</th>\n",
       "      <td>1522</td>\n",
       "      <td>2</td>\n",
       "      <td>4</td>\n",
       "      <td>1.0</td>\n",
       "      <td>NaN</td>\n",
       "      <td>1.0</td>\n",
       "      <td>1.0</td>\n",
       "      <td>1</td>\n",
       "      <td>1</td>\n",
       "      <td>1.0</td>\n",
       "      <td>...</td>\n",
       "      <td>5</td>\n",
       "      <td>3200.0</td>\n",
       "      <td>9</td>\n",
       "      <td>9</td>\n",
       "      <td>3.0</td>\n",
       "      <td>1</td>\n",
       "      <td>1</td>\n",
       "      <td>1.000000</td>\n",
       "      <td>3087621</td>\n",
       "      <td>8.070906</td>\n",
       "    </tr>\n",
       "    <tr>\n",
       "      <th>3</th>\n",
       "      <td>1320</td>\n",
       "      <td>2</td>\n",
       "      <td>3</td>\n",
       "      <td>1.0</td>\n",
       "      <td>NaN</td>\n",
       "      <td>1.0</td>\n",
       "      <td>1.0</td>\n",
       "      <td>1</td>\n",
       "      <td>1</td>\n",
       "      <td>1.0</td>\n",
       "      <td>...</td>\n",
       "      <td>10</td>\n",
       "      <td>5000.0</td>\n",
       "      <td>10</td>\n",
       "      <td>10</td>\n",
       "      <td>1.0</td>\n",
       "      <td>1</td>\n",
       "      <td>1</td>\n",
       "      <td>2.000000</td>\n",
       "      <td>3082781</td>\n",
       "      <td>9.210340</td>\n",
       "    </tr>\n",
       "    <tr>\n",
       "      <th>4</th>\n",
       "      <td>1281</td>\n",
       "      <td>2</td>\n",
       "      <td>4</td>\n",
       "      <td>1.0</td>\n",
       "      <td>1.0</td>\n",
       "      <td>1.0</td>\n",
       "      <td>1.0</td>\n",
       "      <td>1</td>\n",
       "      <td>1</td>\n",
       "      <td>1.0</td>\n",
       "      <td>...</td>\n",
       "      <td>10</td>\n",
       "      <td>2750.0</td>\n",
       "      <td>9</td>\n",
       "      <td>9</td>\n",
       "      <td>3.0</td>\n",
       "      <td>1</td>\n",
       "      <td>1</td>\n",
       "      <td>1.333333</td>\n",
       "      <td>3119371</td>\n",
       "      <td>9.305651</td>\n",
       "    </tr>\n",
       "  </tbody>\n",
       "</table>\n",
       "<p>5 rows × 42 columns</p>\n",
       "</div>"
      ],
      "text/plain": [
       "   PONDERA  HomeType  RoomsNumber  FloorMaterial  RoofMaterial  RoofCoat  \\\n",
       "0     1287         2            2            1.0           NaN       1.0   \n",
       "1     1674         2            2            1.0           1.0       1.0   \n",
       "2     1522         2            4            1.0           NaN       1.0   \n",
       "3     1320         2            3            1.0           NaN       1.0   \n",
       "4     1281         2            4            1.0           1.0       1.0   \n",
       "\n",
       "   Water  WaterType  Toilet  ToiletLocation      ...        \\\n",
       "0    1.0          1       1             1.0      ...         \n",
       "1    1.0          1       1             1.0      ...         \n",
       "2    1.0          1       1             1.0      ...         \n",
       "3    1.0          1       1             1.0      ...         \n",
       "4    1.0          1       1             1.0      ...         \n",
       "\n",
       "   TotalFamilyIncomeDecReg  PerCapInc  PerCapIncDec  PerCapIncDecReg  \\\n",
       "0                        6     2000.0             8                8   \n",
       "1                        8     1450.0             6                6   \n",
       "2                        5     3200.0             9                9   \n",
       "3                       10     5000.0            10               10   \n",
       "4                       10     2750.0             9                9   \n",
       "\n",
       "   CookingRec  WaterRec  OwnershipRec  Hacinamiento       id  lnHouseIncome  \n",
       "0         3.0         1             1      2.000000  3024681       8.294050  \n",
       "1         3.0         1             0      2.000000  3078611       8.665613  \n",
       "2         3.0         1             1      1.000000  3087621       8.070906  \n",
       "3         1.0         1             1      2.000000  3082781       9.210340  \n",
       "4         3.0         1             1      1.333333  3119371       9.305651  \n",
       "\n",
       "[5 rows x 42 columns]"
      ]
     },
     "execution_count": 48,
     "metadata": {},
     "output_type": "execute_result"
    }
   ],
   "source": [
    "hogReducida.head()"
   ]
  },
  {
   "cell_type": "markdown",
   "metadata": {},
   "source": [
    "# Indivitual Data"
   ]
  },
  {
   "cell_type": "code",
   "execution_count": 49,
   "metadata": {
    "collapsed": false
   },
   "outputs": [],
   "source": [
    "#para leer en otro archivo\n",
    "\n",
    "ind = pd.read_csv('data/pivotInd.csv')\n",
    "\n",
    "ind['id'] = ind['id'].astype(str)\n"
   ]
  },
  {
   "cell_type": "code",
   "execution_count": 50,
   "metadata": {
    "collapsed": false
   },
   "outputs": [
    {
     "data": {
      "text/html": [
       "<div>\n",
       "<table border=\"1\" class=\"dataframe\">\n",
       "  <thead>\n",
       "    <tr style=\"text-align: right;\">\n",
       "      <th></th>\n",
       "      <th>schoolAndJob</th>\n",
       "      <th>noJob</th>\n",
       "      <th>job</th>\n",
       "      <th>id</th>\n",
       "      <th>headAge</th>\n",
       "      <th>spouseAge</th>\n",
       "      <th>headAge2</th>\n",
       "      <th>spouseAge2</th>\n",
       "      <th>headFemale</th>\n",
       "      <th>spouseFemale</th>\n",
       "      <th>...</th>\n",
       "      <th>headDECCFR</th>\n",
       "      <th>spouseDECCFR</th>\n",
       "      <th>headDECIFR</th>\n",
       "      <th>spouseDECIFR</th>\n",
       "      <th>headMaritalStatus</th>\n",
       "      <th>spouseMaritalStatus</th>\n",
       "      <th>headReading</th>\n",
       "      <th>spouseReading</th>\n",
       "      <th>headPlaceOfBirth</th>\n",
       "      <th>spouseplaceOfBirth</th>\n",
       "    </tr>\n",
       "  </thead>\n",
       "  <tbody>\n",
       "    <tr>\n",
       "      <th>0</th>\n",
       "      <td>40.0</td>\n",
       "      <td>1</td>\n",
       "      <td>3</td>\n",
       "      <td>1250971</td>\n",
       "      <td>57.0</td>\n",
       "      <td>NaN</td>\n",
       "      <td>3249.0</td>\n",
       "      <td>NaN</td>\n",
       "      <td>1.0</td>\n",
       "      <td>NaN</td>\n",
       "      <td>...</td>\n",
       "      <td>8.0</td>\n",
       "      <td>NaN</td>\n",
       "      <td>9.0</td>\n",
       "      <td>NaN</td>\n",
       "      <td>4.0</td>\n",
       "      <td>NaN</td>\n",
       "      <td>1.0</td>\n",
       "      <td>NaN</td>\n",
       "      <td>1.0</td>\n",
       "      <td>NaN</td>\n",
       "    </tr>\n",
       "    <tr>\n",
       "      <th>1</th>\n",
       "      <td>12.0</td>\n",
       "      <td>1</td>\n",
       "      <td>1</td>\n",
       "      <td>1253451</td>\n",
       "      <td>66.0</td>\n",
       "      <td>NaN</td>\n",
       "      <td>4356.0</td>\n",
       "      <td>NaN</td>\n",
       "      <td>1.0</td>\n",
       "      <td>NaN</td>\n",
       "      <td>...</td>\n",
       "      <td>8.0</td>\n",
       "      <td>NaN</td>\n",
       "      <td>6.0</td>\n",
       "      <td>NaN</td>\n",
       "      <td>3.0</td>\n",
       "      <td>NaN</td>\n",
       "      <td>1.0</td>\n",
       "      <td>NaN</td>\n",
       "      <td>1.0</td>\n",
       "      <td>NaN</td>\n",
       "    </tr>\n",
       "    <tr>\n",
       "      <th>2</th>\n",
       "      <td>0.0</td>\n",
       "      <td>1</td>\n",
       "      <td>0</td>\n",
       "      <td>1254461</td>\n",
       "      <td>79.0</td>\n",
       "      <td>NaN</td>\n",
       "      <td>6241.0</td>\n",
       "      <td>NaN</td>\n",
       "      <td>1.0</td>\n",
       "      <td>NaN</td>\n",
       "      <td>...</td>\n",
       "      <td>7.0</td>\n",
       "      <td>NaN</td>\n",
       "      <td>2.0</td>\n",
       "      <td>NaN</td>\n",
       "      <td>4.0</td>\n",
       "      <td>NaN</td>\n",
       "      <td>1.0</td>\n",
       "      <td>NaN</td>\n",
       "      <td>1.0</td>\n",
       "      <td>NaN</td>\n",
       "    </tr>\n",
       "    <tr>\n",
       "      <th>3</th>\n",
       "      <td>14.0</td>\n",
       "      <td>2</td>\n",
       "      <td>2</td>\n",
       "      <td>1256691</td>\n",
       "      <td>61.0</td>\n",
       "      <td>NaN</td>\n",
       "      <td>3721.0</td>\n",
       "      <td>NaN</td>\n",
       "      <td>0.0</td>\n",
       "      <td>NaN</td>\n",
       "      <td>...</td>\n",
       "      <td>8.0</td>\n",
       "      <td>NaN</td>\n",
       "      <td>9.0</td>\n",
       "      <td>NaN</td>\n",
       "      <td>4.0</td>\n",
       "      <td>NaN</td>\n",
       "      <td>1.0</td>\n",
       "      <td>NaN</td>\n",
       "      <td>1.0</td>\n",
       "      <td>NaN</td>\n",
       "    </tr>\n",
       "    <tr>\n",
       "      <th>4</th>\n",
       "      <td>24.0</td>\n",
       "      <td>1</td>\n",
       "      <td>2</td>\n",
       "      <td>1256892</td>\n",
       "      <td>31.0</td>\n",
       "      <td>23.0</td>\n",
       "      <td>961.0</td>\n",
       "      <td>529.0</td>\n",
       "      <td>0.0</td>\n",
       "      <td>1.0</td>\n",
       "      <td>...</td>\n",
       "      <td>5.0</td>\n",
       "      <td>5.0</td>\n",
       "      <td>5.0</td>\n",
       "      <td>5.0</td>\n",
       "      <td>1.0</td>\n",
       "      <td>1.0</td>\n",
       "      <td>1.0</td>\n",
       "      <td>1.0</td>\n",
       "      <td>4.0</td>\n",
       "      <td>4.0</td>\n",
       "    </tr>\n",
       "  </tbody>\n",
       "</table>\n",
       "<p>5 rows × 42 columns</p>\n",
       "</div>"
      ],
      "text/plain": [
       "   schoolAndJob  noJob  job       id  headAge  spouseAge  headAge2  \\\n",
       "0          40.0      1    3  1250971     57.0        NaN    3249.0   \n",
       "1          12.0      1    1  1253451     66.0        NaN    4356.0   \n",
       "2           0.0      1    0  1254461     79.0        NaN    6241.0   \n",
       "3          14.0      2    2  1256691     61.0        NaN    3721.0   \n",
       "4          24.0      1    2  1256892     31.0       23.0     961.0   \n",
       "\n",
       "   spouseAge2  headFemale  spouseFemale         ...          headDECCFR  \\\n",
       "0         NaN         1.0           NaN         ...                 8.0   \n",
       "1         NaN         1.0           NaN         ...                 8.0   \n",
       "2         NaN         1.0           NaN         ...                 7.0   \n",
       "3         NaN         0.0           NaN         ...                 8.0   \n",
       "4       529.0         0.0           1.0         ...                 5.0   \n",
       "\n",
       "   spouseDECCFR  headDECIFR  spouseDECIFR  headMaritalStatus  \\\n",
       "0           NaN         9.0           NaN                4.0   \n",
       "1           NaN         6.0           NaN                3.0   \n",
       "2           NaN         2.0           NaN                4.0   \n",
       "3           NaN         9.0           NaN                4.0   \n",
       "4           5.0         5.0           5.0                1.0   \n",
       "\n",
       "   spouseMaritalStatus  headReading  spouseReading  headPlaceOfBirth  \\\n",
       "0                  NaN          1.0            NaN               1.0   \n",
       "1                  NaN          1.0            NaN               1.0   \n",
       "2                  NaN          1.0            NaN               1.0   \n",
       "3                  NaN          1.0            NaN               1.0   \n",
       "4                  1.0          1.0            1.0               4.0   \n",
       "\n",
       "   spouseplaceOfBirth  \n",
       "0                 NaN  \n",
       "1                 NaN  \n",
       "2                 NaN  \n",
       "3                 NaN  \n",
       "4                 4.0  \n",
       "\n",
       "[5 rows x 42 columns]"
      ]
     },
     "execution_count": 50,
     "metadata": {},
     "output_type": "execute_result"
    }
   ],
   "source": [
    "ind.head()"
   ]
  },
  {
   "cell_type": "code",
   "execution_count": 51,
   "metadata": {
    "collapsed": true
   },
   "outputs": [],
   "source": [
    "#sumo los valores predecidos del modelo\n",
    "ind['sumPredicted'] = ind.headPredictedLnIncome + ind.spousePredictedLnIncome"
   ]
  },
  {
   "cell_type": "markdown",
   "metadata": {},
   "source": [
    "# Merge de datos"
   ]
  },
  {
   "cell_type": "code",
   "execution_count": 52,
   "metadata": {
    "collapsed": true
   },
   "outputs": [],
   "source": [
    "#sacar los hogares sin cuartos para dormir\n",
    "hogReducida = hogReducida.copy().loc[~sinCuartosParaDormir,:]"
   ]
  },
  {
   "cell_type": "code",
   "execution_count": 53,
   "metadata": {
    "collapsed": false,
    "scrolled": true
   },
   "outputs": [
    {
     "name": "stdout",
     "output_type": "stream",
     "text": [
      "filas hog: 2675\n",
      "filas ind: 2703\n",
      "cantidad de ind en hog: 2675\n"
     ]
    }
   ],
   "source": [
    "#chequeo\n",
    "print 'filas hog:',hogReducida.shape[0]\n",
    "print 'filas ind:',ind.shape[0]\n",
    "print 'cantidad de ind en hog:', sum(ind['id'].sort_values().isin(hogReducida['id'].sort_values()))"
   ]
  },
  {
   "cell_type": "code",
   "execution_count": 54,
   "metadata": {
    "collapsed": true
   },
   "outputs": [],
   "source": [
    "dataUnida = pd.merge(left=hogReducida, right=ind, on='id',how='left')"
   ]
  },
  {
   "cell_type": "code",
   "execution_count": 55,
   "metadata": {
    "collapsed": true
   },
   "outputs": [],
   "source": [
    "dataUnida.to_csv('data/dataFinalParaModelo.csv',index=False)"
   ]
  },
  {
   "cell_type": "code",
   "execution_count": 25,
   "metadata": {
    "collapsed": false
   },
   "outputs": [
    {
     "name": "stdout",
     "output_type": "stream",
     "text": [
      "(2675, 80)\n"
     ]
    },
    {
     "data": {
      "text/plain": [
       "Index([u'PONDERA', u'HomeType', u'RoomsNumber', u'FloorMaterial',\n",
       "       u'RoofMaterial', u'RoofCoat', u'Water', u'WaterType', u'Toilet',\n",
       "       u'ToiletLocation', u'ToiletType', u'Sewer', u'DumpSites', u'Flooding',\n",
       "       u'EmergencyLoc', u'UsableTotalRooms', u'SleepingRooms', u'OfficeRooms',\n",
       "       u'OnlyWork', u'Kitchen', u'Sink', u'Garage', u'Ownership',\n",
       "       u'CookingCombustible', u'BathroomUse', u'Working', u'HouseMembers',\n",
       "       u'Memberless10', u'Membermore10', u'TotalHouseHoldIncome',\n",
       "       u'TotalFamilyIncome', u'TotalFamilyIncomeDec',\n",
       "       u'TotalFamilyIncomeDecReg', u'PerCapInc', u'PerCapIncDec',\n",
       "       u'PerCapIncDecReg', u'WaterRec', u'OwnershipRec', u'Hacinamiento',\n",
       "       u'id', u'lnHouseIncome', u'headAge', u'spouseAge', u'headAge2',\n",
       "       u'spouseAge2', u'headFemale', u'spouseFemale', u'headEduc',\n",
       "       u'spouseEduc', u'headEduc2', u'spouseEduc2', u'headPrimary',\n",
       "       u'spousePrimary', u'headSecondary', u'spouseSecondary',\n",
       "       u'headUniversity', u'spouseUniversity', u'headP21', u'spouseP21',\n",
       "       u'headP47T', u'spouseP47T', u'headLnIncome', u'spouseLnIncome',\n",
       "       u'headLnIncomeT', u'spouseLnIncomeT', u'headPredictedLnIncome',\n",
       "       u'spousePredictedLnIncome', u'headJob', u'spouseJob', u'headDECCFR',\n",
       "       u'spouseDECCFR', u'headDECIFR', u'spouseDECIFR', u'headMaritalStatus',\n",
       "       u'spouseMaritalStatus', u'headReading', u'spouseReading',\n",
       "       u'headPlaceOfBirth', u'spouseplaceOfBirth', u'sumPredicted'],\n",
       "      dtype='object')"
      ]
     },
     "execution_count": 25,
     "metadata": {},
     "output_type": "execute_result"
    }
   ],
   "source": [
    "print dataUnida.shape\n",
    "dataUnida.columns"
   ]
  },
  {
   "cell_type": "markdown",
   "metadata": {},
   "source": [
    "# Filtrar Outliers"
   ]
  },
  {
   "cell_type": "code",
   "execution_count": 26,
   "metadata": {
    "collapsed": false
   },
   "outputs": [
    {
     "data": {
      "text/html": [
       "<div>\n",
       "<table border=\"1\" class=\"dataframe\">\n",
       "  <thead>\n",
       "    <tr style=\"text-align: right;\">\n",
       "      <th></th>\n",
       "      <th>PONDERA</th>\n",
       "      <th>HomeType</th>\n",
       "      <th>RoomsNumber</th>\n",
       "      <th>FloorMaterial</th>\n",
       "      <th>RoofMaterial</th>\n",
       "      <th>RoofCoat</th>\n",
       "      <th>Water</th>\n",
       "      <th>WaterType</th>\n",
       "      <th>Toilet</th>\n",
       "      <th>ToiletLocation</th>\n",
       "      <th>...</th>\n",
       "      <th>spouseDECCFR</th>\n",
       "      <th>headDECIFR</th>\n",
       "      <th>spouseDECIFR</th>\n",
       "      <th>headMaritalStatus</th>\n",
       "      <th>spouseMaritalStatus</th>\n",
       "      <th>headReading</th>\n",
       "      <th>spouseReading</th>\n",
       "      <th>headPlaceOfBirth</th>\n",
       "      <th>spouseplaceOfBirth</th>\n",
       "      <th>sumPredicted</th>\n",
       "    </tr>\n",
       "  </thead>\n",
       "  <tbody>\n",
       "    <tr>\n",
       "      <th>0</th>\n",
       "      <td>1287</td>\n",
       "      <td>2</td>\n",
       "      <td>2</td>\n",
       "      <td>1.0</td>\n",
       "      <td>NaN</td>\n",
       "      <td>1.0</td>\n",
       "      <td>1.0</td>\n",
       "      <td>1</td>\n",
       "      <td>1</td>\n",
       "      <td>1.0</td>\n",
       "      <td>...</td>\n",
       "      <td>NaN</td>\n",
       "      <td>5.0</td>\n",
       "      <td>NaN</td>\n",
       "      <td>1.0</td>\n",
       "      <td>NaN</td>\n",
       "      <td>1.0</td>\n",
       "      <td>NaN</td>\n",
       "      <td>NaN</td>\n",
       "      <td>NaN</td>\n",
       "      <td>NaN</td>\n",
       "    </tr>\n",
       "    <tr>\n",
       "      <th>1</th>\n",
       "      <td>1674</td>\n",
       "      <td>2</td>\n",
       "      <td>2</td>\n",
       "      <td>1.0</td>\n",
       "      <td>1.0</td>\n",
       "      <td>1.0</td>\n",
       "      <td>1.0</td>\n",
       "      <td>1</td>\n",
       "      <td>1</td>\n",
       "      <td>1.0</td>\n",
       "      <td>...</td>\n",
       "      <td>6.0</td>\n",
       "      <td>2.0</td>\n",
       "      <td>2.0</td>\n",
       "      <td>1.0</td>\n",
       "      <td>1.0</td>\n",
       "      <td>2.0</td>\n",
       "      <td>2.0</td>\n",
       "      <td>NaN</td>\n",
       "      <td>NaN</td>\n",
       "      <td>15.469188</td>\n",
       "    </tr>\n",
       "    <tr>\n",
       "      <th>2</th>\n",
       "      <td>1522</td>\n",
       "      <td>2</td>\n",
       "      <td>4</td>\n",
       "      <td>1.0</td>\n",
       "      <td>NaN</td>\n",
       "      <td>1.0</td>\n",
       "      <td>1.0</td>\n",
       "      <td>1</td>\n",
       "      <td>1</td>\n",
       "      <td>1.0</td>\n",
       "      <td>...</td>\n",
       "      <td>NaN</td>\n",
       "      <td>4.0</td>\n",
       "      <td>NaN</td>\n",
       "      <td>1.0</td>\n",
       "      <td>NaN</td>\n",
       "      <td>3.0</td>\n",
       "      <td>NaN</td>\n",
       "      <td>NaN</td>\n",
       "      <td>NaN</td>\n",
       "      <td>NaN</td>\n",
       "    </tr>\n",
       "    <tr>\n",
       "      <th>3</th>\n",
       "      <td>1320</td>\n",
       "      <td>2</td>\n",
       "      <td>3</td>\n",
       "      <td>1.0</td>\n",
       "      <td>NaN</td>\n",
       "      <td>1.0</td>\n",
       "      <td>1.0</td>\n",
       "      <td>1</td>\n",
       "      <td>1</td>\n",
       "      <td>1.0</td>\n",
       "      <td>...</td>\n",
       "      <td>10.0</td>\n",
       "      <td>2.0</td>\n",
       "      <td>2.0</td>\n",
       "      <td>1.0</td>\n",
       "      <td>1.0</td>\n",
       "      <td>1.0</td>\n",
       "      <td>1.0</td>\n",
       "      <td>NaN</td>\n",
       "      <td>NaN</td>\n",
       "      <td>16.235857</td>\n",
       "    </tr>\n",
       "    <tr>\n",
       "      <th>4</th>\n",
       "      <td>1281</td>\n",
       "      <td>2</td>\n",
       "      <td>4</td>\n",
       "      <td>1.0</td>\n",
       "      <td>1.0</td>\n",
       "      <td>1.0</td>\n",
       "      <td>1.0</td>\n",
       "      <td>1</td>\n",
       "      <td>1</td>\n",
       "      <td>1.0</td>\n",
       "      <td>...</td>\n",
       "      <td>9.0</td>\n",
       "      <td>2.0</td>\n",
       "      <td>2.0</td>\n",
       "      <td>1.0</td>\n",
       "      <td>1.0</td>\n",
       "      <td>1.0</td>\n",
       "      <td>3.0</td>\n",
       "      <td>NaN</td>\n",
       "      <td>NaN</td>\n",
       "      <td>8.336136</td>\n",
       "    </tr>\n",
       "  </tbody>\n",
       "</table>\n",
       "<p>5 rows × 80 columns</p>\n",
       "</div>"
      ],
      "text/plain": [
       "   PONDERA  HomeType  RoomsNumber  FloorMaterial  RoofMaterial  RoofCoat  \\\n",
       "0     1287         2            2            1.0           NaN       1.0   \n",
       "1     1674         2            2            1.0           1.0       1.0   \n",
       "2     1522         2            4            1.0           NaN       1.0   \n",
       "3     1320         2            3            1.0           NaN       1.0   \n",
       "4     1281         2            4            1.0           1.0       1.0   \n",
       "\n",
       "   Water  WaterType  Toilet  ToiletLocation      ...       spouseDECCFR  \\\n",
       "0    1.0          1       1             1.0      ...                NaN   \n",
       "1    1.0          1       1             1.0      ...                6.0   \n",
       "2    1.0          1       1             1.0      ...                NaN   \n",
       "3    1.0          1       1             1.0      ...               10.0   \n",
       "4    1.0          1       1             1.0      ...                9.0   \n",
       "\n",
       "   headDECIFR  spouseDECIFR  headMaritalStatus  spouseMaritalStatus  \\\n",
       "0         5.0           NaN                1.0                  NaN   \n",
       "1         2.0           2.0                1.0                  1.0   \n",
       "2         4.0           NaN                1.0                  NaN   \n",
       "3         2.0           2.0                1.0                  1.0   \n",
       "4         2.0           2.0                1.0                  1.0   \n",
       "\n",
       "   headReading  spouseReading  headPlaceOfBirth  spouseplaceOfBirth  \\\n",
       "0          1.0            NaN               NaN                 NaN   \n",
       "1          2.0            2.0               NaN                 NaN   \n",
       "2          3.0            NaN               NaN                 NaN   \n",
       "3          1.0            1.0               NaN                 NaN   \n",
       "4          1.0            3.0               NaN                 NaN   \n",
       "\n",
       "   sumPredicted  \n",
       "0           NaN  \n",
       "1     15.469188  \n",
       "2           NaN  \n",
       "3     16.235857  \n",
       "4      8.336136  \n",
       "\n",
       "[5 rows x 80 columns]"
      ]
     },
     "execution_count": 26,
     "metadata": {},
     "output_type": "execute_result"
    }
   ],
   "source": [
    "dataUnida.head()"
   ]
  },
  {
   "cell_type": "code",
   "execution_count": 27,
   "metadata": {
    "collapsed": false
   },
   "outputs": [
    {
     "data": {
      "text/plain": [
       "{'boxes': [<matplotlib.lines.Line2D at 0x7fca1722dd50>],\n",
       " 'caps': [<matplotlib.lines.Line2D at 0x7fca17239c90>,\n",
       "  <matplotlib.lines.Line2D at 0x7fca17245310>],\n",
       " 'fliers': [<matplotlib.lines.Line2D at 0x7fca17245f90>],\n",
       " 'means': [],\n",
       " 'medians': [<matplotlib.lines.Line2D at 0x7fca17245950>],\n",
       " 'whiskers': [<matplotlib.lines.Line2D at 0x7fca1722df50>,\n",
       "  <matplotlib.lines.Line2D at 0x7fca17239650>]}"
      ]
     },
     "execution_count": 27,
     "metadata": {},
     "output_type": "execute_result"
    },
    {
     "data": {
      "image/png": "[encoded data removed]",
      "text/plain": [
       "<matplotlib.figure.Figure at 0x7fca172c65d0>"
      ]
     },
     "metadata": {},
     "output_type": "display_data"
    }
   ],
   "source": [
    "plt.boxplot([dataUnida.lnHouseIncome])"
   ]
  },
  {
   "cell_type": "code",
   "execution_count": null,
   "metadata": {
    "collapsed": true
   },
   "outputs": [],
   "source": []
  },
  {
   "cell_type": "markdown",
   "metadata": {},
   "source": [
    "# Probando Modelos"
   ]
  },
  {
   "cell_type": "code",
   "execution_count": null,
   "metadata": {
    "collapsed": true
   },
   "outputs": [],
   "source": [
    "def runModel(dataset, income , variables):\n",
    "    \n",
    "    '''\n",
    "    This function takes a data set, runs a model according to specifications,\n",
    "    and returns the model, printing the summary\n",
    "    '''\n",
    "    selectedVariables = ['PONDERA',income] + variables\n",
    "    dataToRun = dataset.loc[:,selectedVariables]\n",
    "    y = dataToRun.copy().iloc[:,1].values\n",
    "    X = sm.add_constant(dataToRun.copy().iloc[:,2:].values)\n",
    "    w = dataToRun.copy().iloc[:,0].values\n",
    "    lm = sm.WLS(y, X, weights=1. / w).fit()\n",
    "    print lm.summary()\n",
    "    for i in range(1,len(variables)+1):\n",
    "        print 'x%d: %s' % (i,variables[i-1])\n",
    "        \n",
    "        \n",
    "        \n",
    "    y = dataUnida[ingreso].values)\n",
    "\n",
    "    X = np.where(np.isnan(dataUnida.loc[:,variablesParaModelo].values),0,dataUnida.loc[:,variablesParaModelo].values)\n",
    "    X = sm.add_constant(X)\n",
    "\n",
    "    w = np.where(np.isnan(dataUnida.PONDERA.values),0,dataUnida.PONDERA.values)\n",
    "    lm = sm.WLS(y, X, weights=1. / w).fit()\n",
    "    print lm.summary()\n",
    "    for i in range(1,len(variables)+1):\n",
    "        print 'x%d: %s' % (i,variables[i-1])\n",
    "    \n",
    "    #testing within sample\n",
    "    R_IS=[]\n",
    "    R_OS=[]\n",
    "    nCross=1000\n",
    "    \n",
    "    for i in range(nCross):\n",
    "        X_train, X_test, y_train, y_test, w_train, w_test = train_test_split(X, y, w, test_size=0.33)\n",
    "        lm = sm.WLS(y_train, X_train, weights=1. / w_train, hasconst=False).fit()        \n",
    "        R_IS.append(1-((np.asarray(lm.predict(exog = X_train))-y_train)**2).sum()/((y_train-np.mean(y_train))**2).sum())                                                                     \n",
    "        R_OS.append(1-((np.asarray(lm.predict(exog = X_test))-y_test)**2).sum()/((y_test-np.mean(y_test))**2).sum())\n",
    "    print(\"IS R-squared for {} times is {}\".format(nCross,np.mean(R_IS)))\n",
    "    print(\"OS R-squared for {} times is {}\".format(nCross,np.mean(R_OS)))\n",
    "\n",
    "    return lm"
   ]
  },
  {
   "cell_type": "code",
   "execution_count": null,
   "metadata": {
    "collapsed": false
   },
   "outputs": [],
   "source": [
    "ingreso = 'lnHouseIncome'\n",
    "variablesParaModelo = [u'RoomsNumber', u'FloorMaterial', u'RoofMaterial',\n",
    "       u'RoofCoat', u'Water', u'WaterType', u'Toilet', u'ToiletLocation',\n",
    "       u'ToiletType', u'Sewer', u'DumpSites', u'Flooding', u'EmergencyLoc',\n",
    "       u'UsableTotalRooms', u'SleepingRooms', u'OfficeRooms', u'OnlyWork',\n",
    "       u'Kitchen', u'Sink', u'Garage', u'Ownership', u'CookingCombustible',\n",
    "       u'BathroomUse', u'Working', u'HouseMembers', u'Memberless10',\n",
    "       u'Membermore10', u'WaterRec', u'OwnershipRec',\n",
    "       u'Hacinamiento', u'headAge', u'spouseAge',\n",
    "       u'headAge2', u'spouseAge2', u'headFemale', u'spouseFemale', u'headEduc',\n",
    "       u'spouseEduc', u'headEduc2', u'spouseEduc2', u'headPrimary',\n",
    "       u'spousePrimary', u'headSecondary', u'spouseSecondary',\n",
    "       u'headUniversity', u'spouseUniversity']\n",
    "\n",
    "\n",
    "\n",
    "y = np.where(np.isnan(dataUnida[ingreso].values),0,dataUnida[ingreso].values)\n",
    "\n",
    "X = np.where(np.isnan(dataUnida.loc[:,variablesParaModelo].values),0,dataUnida.loc[:,variablesParaModelo].values)\n",
    "X = sm.add_constant(X)\n",
    "\n",
    "w = np.where(np.isnan(dataUnida.PONDERA.values),0,dataUnida.PONDERA.values)\n",
    "lm = sm.WLS(y, X, weights=1. / w).fit()\n",
    "print lm.summary()\n",
    "for i in range(1,len(variables)+1):\n",
    "    print 'x%d: %s' % (i,variables[i-1])\n"
   ]
  },
  {
   "cell_type": "code",
   "execution_count": null,
   "metadata": {
    "collapsed": false
   },
   "outputs": [],
   "source": []
  },
  {
   "cell_type": "code",
   "execution_count": null,
   "metadata": {
    "collapsed": true
   },
   "outputs": [],
   "source": []
  },
  {
   "cell_type": "markdown",
   "metadata": {},
   "source": [
    "# PCA"
   ]
  },
  {
   "cell_type": "code",
   "execution_count": null,
   "metadata": {
    "collapsed": false
   },
   "outputs": [],
   "source": [
    "from sklearn.decomposition import PCA\n",
    "\n",
    "variablesParaModelo = ['FloorMaterial', 'RoofMaterial',\n",
    "       'RoofCoat', 'Water', 'WaterType', 'Toilet', 'ToiletLocation',\n",
    "       'ToiletType', 'Sewer','CookingCombustible',\n",
    "       'BathroomUse','OwnershipRec']\n",
    "\n",
    "X = np.where(np.isnan(dataUnida.loc[:,variablesParaModelo].values),0,dataUnida.loc[:,variablesParaModelo].values)\n",
    "\n",
    "n = 12\n",
    "pca = PCA(n)\n",
    "Xproj = pca.fit_transform(X)\n",
    "\n",
    "\n",
    "eigenvalues = pca.explained_variance_\n",
    "fig = plt.figure(figsize=(16,4))\n",
    "ax = fig.add_subplot(1,3,1)\n",
    "\n",
    "ax.bar(np.arange(n), eigenvalues);\n",
    "ax.set_xlabel(\"Dimensionality\")\n",
    "ax.set_ylabel(\"Variance\")\n",
    "\n",
    "\n",
    "ratio = pca.explained_variance_ratio_\n",
    "ax2 = fig.add_subplot(1,3,2)\n",
    "ax2.bar(np.arange(n), ratio);\n",
    "ax2.set_xlabel(\"Dimensionality\")\n",
    "ax2.set_ylabel(\"%of variance\")\n",
    "\n",
    "sumRatio = np.cumsum(pca.explained_variance_ratio_)\n",
    "ax3 = fig.add_subplot(1,3,3)\n",
    "ax3.bar(np.arange(n), sumRatio);\n",
    "ax3.set_xlabel(\"Dimensionality\")\n",
    "ax3.set_ylabel(\"%Cumulative sum of variance\")"
   ]
  },
  {
   "cell_type": "code",
   "execution_count": null,
   "metadata": {
    "collapsed": false
   },
   "outputs": [],
   "source": [
    "plt.scatter(Xproj[:, 0], Xproj[:, 1])"
   ]
  },
  {
   "cell_type": "code",
   "execution_count": null,
   "metadata": {
    "collapsed": true
   },
   "outputs": [],
   "source": [
    "dataUnida['HousePCA1'] = Xproj[:, 0]\n",
    "dataUnida['HousePCA2'] = Xproj[:, 1]\n"
   ]
  },
  {
   "cell_type": "code",
   "execution_count": null,
   "metadata": {
    "collapsed": true
   },
   "outputs": [],
   "source": []
  },
  {
   "cell_type": "markdown",
   "metadata": {},
   "source": [
    "# MODELO 2 - PCA para la vivienda y variables individuales del jefe y conyuge separdas"
   ]
  },
  {
   "cell_type": "code",
   "execution_count": null,
   "metadata": {
    "collapsed": false
   },
   "outputs": [],
   "source": [
    "ingreso = 'lnHouseIncome'\n",
    "variablesParaModelo = ['HousePCA1', 'HousePCA2','Hacinamiento',\n",
    "    'headAge', 'spouseAge',\n",
    "       'headAge2', 'spouseAge2', 'headFemale', 'spouseFemale', 'headEduc',\n",
    "       'spouseEduc', 'headEduc2', 'spouseEduc2'\n",
    "                      ]\n",
    "\n",
    "\n",
    "\n",
    "y = np.where(np.isnan(dataUnida[ingreso].values),0,dataUnida[ingreso].values)\n",
    "\n",
    "X = np.where(np.isnan(dataUnida.loc[:,variablesParaModelo].values),0,dataUnida.loc[:,variablesParaModelo].values)\n",
    "X = sm.add_constant(X)\n",
    "\n",
    "w = np.where(np.isnan(dataUnida.PONDERA.values),0,dataUnida.PONDERA.values)\n",
    "\n",
    "lm = sm.WLS(y, X, weights=1. / w).fit()\n",
    "print lm.summary()\n",
    "for i in range(1,len(variablesParaModelo)+1):\n",
    "    print 'x%d: %s' % (i,variablesParaModelo[i-1])"
   ]
  },
  {
   "cell_type": "markdown",
   "metadata": {},
   "source": [
    "# MODELO 3 - PCA para la vivienda y variables individuales del jefe y conyuge predecidas "
   ]
  },
  {
   "cell_type": "code",
   "execution_count": null,
   "metadata": {
    "collapsed": false
   },
   "outputs": [],
   "source": [
    "ingreso = 'lnHouseIncome'\n",
    "variablesParaModelo = ['HousePCA1', 'HousePCA2','Hacinamiento','headPredictedLnIncome','spousePredictedLnIncome']\n",
    "\n",
    "\n",
    "\n",
    "y = np.where(np.isnan(dataUnida[ingreso].values),0,dataUnida[ingreso].values)\n",
    "\n",
    "X = np.where(np.isnan(dataUnida.loc[:,variablesParaModelo].values),0,dataUnida.loc[:,variablesParaModelo].values)\n",
    "X = sm.add_constant(X)\n",
    "\n",
    "w = np.where(np.isnan(dataUnida.PONDERA.values),0,dataUnida.PONDERA.values)\n",
    "\n",
    "lm = sm.WLS(y, X, weights=1. / w).fit()\n",
    "print lm.summary()\n",
    "for i in range(1,len(variablesParaModelo)+1):\n",
    "    print 'x%d: %s' % (i,variablesParaModelo[i-1])"
   ]
  },
  {
   "cell_type": "markdown",
   "metadata": {},
   "source": [
    "# Modelo 4 - PCA para la vivienda y variables individuales del jefe y conyuge sumadas"
   ]
  },
  {
   "cell_type": "code",
   "execution_count": null,
   "metadata": {
    "collapsed": false
   },
   "outputs": [],
   "source": [
    "ingreso = 'lnHouseIncome'\n",
    "variablesParaModelo = ['HousePCA1', 'HousePCA2','sumPredicted']\n",
    "\n",
    "\n",
    "y = np.where(np.isnan(dataUnida[ingreso].values),0,dataUnida[ingreso].values)\n",
    "\n",
    "X = np.where(np.isnan(dataUnida.loc[:,variablesParaModelo].values),0,dataUnida.loc[:,variablesParaModelo].values)\n",
    "X = sm.add_constant(X)\n",
    "\n",
    "w = np.where(np.isnan(dataUnida.PONDERA.values),0,dataUnida.PONDERA.values)\n",
    "\n",
    "lm = sm.WLS(y, X, weights=1. / w).fit()\n",
    "print lm.summary()\n",
    "for i in range(1,len(variablesParaModelo)+1):\n",
    "    print 'x%d: %s' % (i,variablesParaModelo[i-1])"
   ]
  },
  {
   "cell_type": "markdown",
   "metadata": {},
   "source": [
    "# Modelo 5 - solo con jefe"
   ]
  },
  {
   "cell_type": "code",
   "execution_count": null,
   "metadata": {
    "collapsed": false
   },
   "outputs": [],
   "source": [
    "ingreso = 'lnHouseIncome'\n",
    "variablesParaModelo = ['HousePCA1', 'HousePCA2','headAge','headEduc']\n",
    "\n",
    "\n",
    "y = np.where(np.isnan(dataUnida[ingreso].values),0,dataUnida[ingreso].values)\n",
    "\n",
    "X = np.where(np.isnan(dataUnida.loc[:,variablesParaModelo].values),0,dataUnida.loc[:,variablesParaModelo].values)\n",
    "X = sm.add_constant(X)\n",
    "\n",
    "w = np.where(np.isnan(dataUnida.PONDERA.values),0,dataUnida.PONDERA.values)\n",
    "\n",
    "lm = sm.WLS(y, X, weights=1. / w).fit()\n",
    "print lm.summary()\n",
    "for i in range(1,len(variablesParaModelo)+1):\n",
    "    print 'x%d: %s' % (i,variablesParaModelo[i-1])"
   ]
  },
  {
   "cell_type": "markdown",
   "metadata": {
    "collapsed": true
   },
   "source": [
    "# pROBANDO COSAS"
   ]
  },
  {
   "cell_type": "code",
   "execution_count": null,
   "metadata": {
    "collapsed": true
   },
   "outputs": [],
   "source": [
    "ingreso = 'lnHouseIncome'\n",
    "variablesParaModelo = ['HousePCA1', 'HousePCA2','Hacinamiento',\n",
    "    'headAge', 'spouseAge',\n",
    "       'headAge2', 'spouseAge2', 'headFemale', 'spouseFemale', 'headEduc',\n",
    "       'spouseEduc', 'headEduc2', 'spouseEduc2'\n",
    "                      ]\n",
    "\n",
    "\n",
    "\n",
    "y = np.where(np.isnan(dataUnida[ingreso].values),0,dataUnida[ingreso].values)\n",
    "\n",
    "X = np.where(np.isnan(dataUnida.loc[:,variablesParaModelo].values),0,dataUnida.loc[:,variablesParaModelo].values)\n",
    "X = sm.add_constant(X)\n",
    "\n",
    "w = np.where(np.isnan(dataUnida.PONDERA.values),0,dataUnida.PONDERA.values)\n",
    "\n",
    "lm = sm.WLS(y, X, weights=1. / w).fit()\n",
    "print lm.summary()\n",
    "for i in range(1,len(variablesParaModelo)+1):\n",
    "    print 'x%d: %s' % (i,variablesParaModelo[i-1])"
   ]
  }
 ],
 "metadata": {
  "kernelspec": {
   "display_name": "Python [Root]",
   "language": "python",
   "name": "Python [Root]"
  },
  "language_info": {
   "codemirror_mode": {
    "name": "ipython",
    "version": 2
   },
   "file_extension": ".py",
   "mimetype": "text/x-python",
   "name": "python",
   "nbconvert_exporter": "python",
   "pygments_lexer": "ipython2",
   "version": "2.7.12"
  }
 },
 "nbformat": 4,
 "nbformat_minor": 0
}
