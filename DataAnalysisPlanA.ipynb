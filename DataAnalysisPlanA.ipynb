{
 "cells": [
  {
   "cell_type": "markdown",
   "metadata": {},
   "source": [
    "# New York University\n",
    "## Applied Data Science 2016 Final Project\n",
    "----\n",
    "## Measuring household income under Redatam in CensusData\n",
    "\n",
    "**Project Description:** Lorem ipsum\n",
    "\n",
    "**Members:**\n",
    "- Felipe Gonzales\n",
    "- Ilan Reinstein\n",
    "- Fernando Melchor\n",
    "- Nicolas Metallo"
   ]
  },
  {
   "cell_type": "markdown",
   "metadata": {},
   "source": [
    "# Libraries"
   ]
  },
  {
   "cell_type": "code",
   "execution_count": 83,
   "metadata": {
    "collapsed": false
   },
   "outputs": [
    {
     "name": "stdout",
     "output_type": "stream",
     "text": [
      "Populating the interactive namespace from numpy and matplotlib\n"
     ]
    }
   ],
   "source": [
    "import pandas as pd\n",
    "import numpy as np\n",
    "import os\n",
    "import sys\n",
    "import simpledbf\n",
    "%pylab inline\n",
    "import matplotlib.pyplot as plt\n",
    "import statsmodels.api as sm\n",
    "from sklearn.model_selection import train_test_split\n",
    "from sklearn import linear_model"
   ]
  },
  {
   "cell_type": "markdown",
   "metadata": {},
   "source": [
    "# Functions"
   ]
  },
  {
   "cell_type": "code",
   "execution_count": 280,
   "metadata": {
    "collapsed": false
   },
   "outputs": [],
   "source": [
    "def runModel(dataset, income, varForModel):\n",
    "    \n",
    "    '''\n",
    "    This function takes a data set, runs a model according to specifications,\n",
    "    and returns the model, printing the summary\n",
    "    '''\n",
    "    y = dataset[income].values\n",
    "    X = dataset.loc[:,varForModel].values\n",
    "    X = sm.add_constant(X)\n",
    "\n",
    "    w = dataset.PONDERA\n",
    "    \n",
    "    lm = sm.WLS(y, X, weights=1. / w, missing = 'drop', hasconst=True).fit()\n",
    "    print lm.summary()\n",
    "    for i in range(1,len(varForModel)+1):\n",
    "        print 'x%d: %s' % (i,varForModel[i-1])\n",
    "    #testing within sample\n",
    "    R_IS=[]\n",
    "    R_OS=[]\n",
    "    #R_prime = []\n",
    "    n=500\n",
    "    \n",
    "    for i in range(n):  \n",
    "        X_train, X_test, y_train, y_test = train_test_split(X, y, test_size=0.3, random_state = 200)\n",
    "        X_train = sm.add_constant(X_train)\n",
    "        X_test = sm.add_constant(X_test)\n",
    "        \n",
    "        lm = linear_model.LinearRegression(fit_intercept=True)\n",
    "        lm.fit(X_train, y_train, sample_weight = 1. / w[:len(X_train)])\n",
    "        y_hat_IS = lm.predict(X_train)\n",
    "        err_IS = y_hat_IS - y_train\n",
    "        R2_IS = 1 - (np.var(err_IS) / np.var(y_train))\n",
    "        \n",
    "        y_hat_OS = lm.predict(X_test)\n",
    "        err_OS = y_hat_OS - y_test\n",
    "        R2_OS = 1 - (np.var(err_OS) / np.var(y_test))\n",
    "        \n",
    "        R_IS.append(R2_IS)\n",
    "        R_OS.append(R2_OS)\n",
    "        \n",
    "    print(\"IS R-squared for {} times is {}\".format(n,np.mean(R_IS)))\n",
    "    print(\"OS R-squared for {} times is {}\".format(n,np.mean(R_OS)))\n"
   ]
  },
  {
   "cell_type": "markdown",
   "metadata": {},
   "source": [
    "# Get Data"
   ]
  },
  {
   "cell_type": "code",
   "execution_count": 231,
   "metadata": {
    "collapsed": false
   },
   "outputs": [
    {
     "data": {
      "text/html": [
       "<div>\n",
       "<table border=\"1\" class=\"dataframe\">\n",
       "  <thead>\n",
       "    <tr style=\"text-align: right;\">\n",
       "      <th></th>\n",
       "      <th>PONDERA</th>\n",
       "      <th>HomeType</th>\n",
       "      <th>RoomsNumber</th>\n",
       "      <th>FloorMaterial</th>\n",
       "      <th>RoofMaterial</th>\n",
       "      <th>RoofCoat</th>\n",
       "      <th>Water</th>\n",
       "      <th>WaterType</th>\n",
       "      <th>Toilet</th>\n",
       "      <th>ToiletLocation</th>\n",
       "      <th>...</th>\n",
       "      <th>spouseDECCFR</th>\n",
       "      <th>headDECIFR</th>\n",
       "      <th>spouseDECIFR</th>\n",
       "      <th>headMaritalStatus</th>\n",
       "      <th>spouseMaritalStatus</th>\n",
       "      <th>headReading</th>\n",
       "      <th>spouseReading</th>\n",
       "      <th>headPlaceOfBirth</th>\n",
       "      <th>spouseplaceOfBirth</th>\n",
       "      <th>sumPredicted</th>\n",
       "    </tr>\n",
       "  </thead>\n",
       "  <tbody>\n",
       "    <tr>\n",
       "      <th>0</th>\n",
       "      <td>1287</td>\n",
       "      <td>2</td>\n",
       "      <td>2</td>\n",
       "      <td>1.0</td>\n",
       "      <td>NaN</td>\n",
       "      <td>1.0</td>\n",
       "      <td>1.0</td>\n",
       "      <td>1</td>\n",
       "      <td>1</td>\n",
       "      <td>1.0</td>\n",
       "      <td>...</td>\n",
       "      <td>NaN</td>\n",
       "      <td>5.0</td>\n",
       "      <td>NaN</td>\n",
       "      <td>1.0</td>\n",
       "      <td>NaN</td>\n",
       "      <td>1.0</td>\n",
       "      <td>NaN</td>\n",
       "      <td>NaN</td>\n",
       "      <td>NaN</td>\n",
       "      <td>NaN</td>\n",
       "    </tr>\n",
       "    <tr>\n",
       "      <th>1</th>\n",
       "      <td>1674</td>\n",
       "      <td>2</td>\n",
       "      <td>2</td>\n",
       "      <td>1.0</td>\n",
       "      <td>1.0</td>\n",
       "      <td>1.0</td>\n",
       "      <td>1.0</td>\n",
       "      <td>1</td>\n",
       "      <td>1</td>\n",
       "      <td>1.0</td>\n",
       "      <td>...</td>\n",
       "      <td>6.0</td>\n",
       "      <td>2.0</td>\n",
       "      <td>2.0</td>\n",
       "      <td>1.0</td>\n",
       "      <td>1.0</td>\n",
       "      <td>2.0</td>\n",
       "      <td>2.0</td>\n",
       "      <td>NaN</td>\n",
       "      <td>NaN</td>\n",
       "      <td>15.469188</td>\n",
       "    </tr>\n",
       "    <tr>\n",
       "      <th>2</th>\n",
       "      <td>1522</td>\n",
       "      <td>2</td>\n",
       "      <td>4</td>\n",
       "      <td>1.0</td>\n",
       "      <td>NaN</td>\n",
       "      <td>1.0</td>\n",
       "      <td>1.0</td>\n",
       "      <td>1</td>\n",
       "      <td>1</td>\n",
       "      <td>1.0</td>\n",
       "      <td>...</td>\n",
       "      <td>NaN</td>\n",
       "      <td>4.0</td>\n",
       "      <td>NaN</td>\n",
       "      <td>1.0</td>\n",
       "      <td>NaN</td>\n",
       "      <td>3.0</td>\n",
       "      <td>NaN</td>\n",
       "      <td>NaN</td>\n",
       "      <td>NaN</td>\n",
       "      <td>NaN</td>\n",
       "    </tr>\n",
       "    <tr>\n",
       "      <th>3</th>\n",
       "      <td>1320</td>\n",
       "      <td>2</td>\n",
       "      <td>3</td>\n",
       "      <td>1.0</td>\n",
       "      <td>NaN</td>\n",
       "      <td>1.0</td>\n",
       "      <td>1.0</td>\n",
       "      <td>1</td>\n",
       "      <td>1</td>\n",
       "      <td>1.0</td>\n",
       "      <td>...</td>\n",
       "      <td>10.0</td>\n",
       "      <td>2.0</td>\n",
       "      <td>2.0</td>\n",
       "      <td>1.0</td>\n",
       "      <td>1.0</td>\n",
       "      <td>1.0</td>\n",
       "      <td>1.0</td>\n",
       "      <td>NaN</td>\n",
       "      <td>NaN</td>\n",
       "      <td>16.235857</td>\n",
       "    </tr>\n",
       "    <tr>\n",
       "      <th>4</th>\n",
       "      <td>1281</td>\n",
       "      <td>2</td>\n",
       "      <td>4</td>\n",
       "      <td>1.0</td>\n",
       "      <td>1.0</td>\n",
       "      <td>1.0</td>\n",
       "      <td>1.0</td>\n",
       "      <td>1</td>\n",
       "      <td>1</td>\n",
       "      <td>1.0</td>\n",
       "      <td>...</td>\n",
       "      <td>9.0</td>\n",
       "      <td>2.0</td>\n",
       "      <td>2.0</td>\n",
       "      <td>1.0</td>\n",
       "      <td>1.0</td>\n",
       "      <td>1.0</td>\n",
       "      <td>3.0</td>\n",
       "      <td>NaN</td>\n",
       "      <td>NaN</td>\n",
       "      <td>8.336136</td>\n",
       "    </tr>\n",
       "  </tbody>\n",
       "</table>\n",
       "<p>5 rows × 80 columns</p>\n",
       "</div>"
      ],
      "text/plain": [
       "   PONDERA  HomeType  RoomsNumber  FloorMaterial  RoofMaterial  RoofCoat  \\\n",
       "0     1287         2            2            1.0           NaN       1.0   \n",
       "1     1674         2            2            1.0           1.0       1.0   \n",
       "2     1522         2            4            1.0           NaN       1.0   \n",
       "3     1320         2            3            1.0           NaN       1.0   \n",
       "4     1281         2            4            1.0           1.0       1.0   \n",
       "\n",
       "   Water  WaterType  Toilet  ToiletLocation      ...       spouseDECCFR  \\\n",
       "0    1.0          1       1             1.0      ...                NaN   \n",
       "1    1.0          1       1             1.0      ...                6.0   \n",
       "2    1.0          1       1             1.0      ...                NaN   \n",
       "3    1.0          1       1             1.0      ...               10.0   \n",
       "4    1.0          1       1             1.0      ...                9.0   \n",
       "\n",
       "   headDECIFR  spouseDECIFR  headMaritalStatus  spouseMaritalStatus  \\\n",
       "0         5.0           NaN                1.0                  NaN   \n",
       "1         2.0           2.0                1.0                  1.0   \n",
       "2         4.0           NaN                1.0                  NaN   \n",
       "3         2.0           2.0                1.0                  1.0   \n",
       "4         2.0           2.0                1.0                  1.0   \n",
       "\n",
       "   headReading  spouseReading  headPlaceOfBirth  spouseplaceOfBirth  \\\n",
       "0          1.0            NaN               NaN                 NaN   \n",
       "1          2.0            2.0               NaN                 NaN   \n",
       "2          3.0            NaN               NaN                 NaN   \n",
       "3          1.0            1.0               NaN                 NaN   \n",
       "4          1.0            3.0               NaN                 NaN   \n",
       "\n",
       "   sumPredicted  \n",
       "0           NaN  \n",
       "1     15.469188  \n",
       "2           NaN  \n",
       "3     16.235857  \n",
       "4      8.336136  \n",
       "\n",
       "[5 rows x 80 columns]"
      ]
     },
     "execution_count": 231,
     "metadata": {},
     "output_type": "execute_result"
    }
   ],
   "source": [
    "data = pd.read_csv('/resources/data/Data Projects/ADS Project/dataFinalParaModelo.csv')\n",
    "data.head()"
   ]
  },
  {
   "cell_type": "markdown",
   "metadata": {},
   "source": [
    "# Y = \"lnHouseIncome\""
   ]
  },
  {
   "cell_type": "markdown",
   "metadata": {},
   "source": [
    "## Data Exploration (Correlation Matrix)"
   ]
  },
  {
   "cell_type": "code",
   "execution_count": 96,
   "metadata": {
    "collapsed": true
   },
   "outputs": [
    {
     "data": {
      "image/png": "[encoded data removed]",
      "text/plain": [
       "<matplotlib.figure.Figure at 0x7f3069bb0310>"
      ]
     },
     "metadata": {},
     "output_type": "display_data"
    }
   ],
   "source": [
    "import seaborn as sns\n",
    "sns.set(context=\"paper\", font=\"monospace\")\n",
    "\n",
    "corrmat = data.loc[:,varForModel].corr()\n",
    "f, ax = plt.subplots(figsize=(18, 16))\n",
    "sns.heatmap(corrmat, vmax=.8, square=True)\n",
    "f.tight_layout()"
   ]
  },
  {
   "cell_type": "markdown",
   "metadata": {},
   "source": [
    "## Data Analysis (Linear Regression, WLS)"
   ]
  },
  {
   "cell_type": "code",
   "execution_count": 126,
   "metadata": {
    "collapsed": true
   },
   "outputs": [],
   "source": [
    "df1 = data.loc[:,'HomeType':'spouseUniversity']\n",
    "df2 = data.loc[:,'headJob':'spouseJob']\n",
    "df3 = data.loc[:,'headMaritalStatus':'spouseplaceOfBirth']\n",
    "\n",
    "df_lm = pd.concat([df1,df2,df3], axis=1)"
   ]
  },
  {
   "cell_type": "markdown",
   "metadata": {},
   "source": [
    "## Plan A - Base para el Modelo (con R = 0.30)"
   ]
  },
  {
   "cell_type": "code",
   "execution_count": 235,
   "metadata": {
    "collapsed": true
   },
   "outputs": [],
   "source": [
    "data['hasSpouse'] = np.where(np.isnan(data.spouseJob.values),0,1)\n",
    "data['spouseJob'] = np.where(np.isnan(data.spouseJob.values),0,data.spouseJob.values)"
   ]
  },
  {
   "cell_type": "code",
   "execution_count": 240,
   "metadata": {
    "collapsed": false
   },
   "outputs": [],
   "source": [
    "data = data[data.TotalFamilyIncomeDecReg != 0]"
   ]
  },
  {
   "cell_type": "code",
   "execution_count": 233,
   "metadata": {
    "collapsed": false
   },
   "outputs": [
    {
     "data": {
      "text/plain": [
       "Index([u'PONDERA', u'HomeType', u'RoomsNumber', u'FloorMaterial',\n",
       "       u'RoofMaterial', u'RoofCoat', u'Water', u'WaterType', u'Toilet',\n",
       "       u'ToiletLocation', u'ToiletType', u'Sewer', u'DumpSites', u'Flooding',\n",
       "       u'EmergencyLoc', u'UsableTotalRooms', u'SleepingRooms', u'OfficeRooms',\n",
       "       u'OnlyWork', u'Kitchen', u'Sink', u'Garage', u'Ownership',\n",
       "       u'CookingCombustible', u'BathroomUse', u'Working', u'HouseMembers',\n",
       "       u'Memberless10', u'Membermore10', u'TotalHouseHoldIncome',\n",
       "       u'TotalFamilyIncome', u'TotalFamilyIncomeDec',\n",
       "       u'TotalFamilyIncomeDecReg', u'PerCapInc', u'PerCapIncDec',\n",
       "       u'PerCapIncDecReg', u'WaterRec', u'OwnershipRec', u'Hacinamiento',\n",
       "       u'id', u'lnHouseIncome', u'headAge', u'spouseAge', u'headAge2',\n",
       "       u'spouseAge2', u'headFemale', u'spouseFemale', u'headEduc',\n",
       "       u'spouseEduc', u'headEduc2', u'spouseEduc2', u'headPrimary',\n",
       "       u'spousePrimary', u'headSecondary', u'spouseSecondary',\n",
       "       u'headUniversity', u'spouseUniversity', u'headP21', u'spouseP21',\n",
       "       u'headP47T', u'spouseP47T', u'headLnIncome', u'spouseLnIncome',\n",
       "       u'headLnIncomeT', u'spouseLnIncomeT', u'headPredictedLnIncome',\n",
       "       u'spousePredictedLnIncome', u'headJob', u'spouseJob', u'headDECCFR',\n",
       "       u'spouseDECCFR', u'headDECIFR', u'spouseDECIFR', u'headMaritalStatus',\n",
       "       u'spouseMaritalStatus', u'headReading', u'spouseReading',\n",
       "       u'headPlaceOfBirth', u'spouseplaceOfBirth', u'sumPredicted'],\n",
       "      dtype='object')"
      ]
     },
     "execution_count": 233,
     "metadata": {},
     "output_type": "execute_result"
    }
   ],
   "source": [
    "data.columns"
   ]
  },
  {
   "cell_type": "code",
   "execution_count": 255,
   "metadata": {
    "collapsed": false
   },
   "outputs": [],
   "source": [
    "data['income_log'] = np.log(data.TotalFamilyIncome)"
   ]
  },
  {
   "cell_type": "code",
   "execution_count": 289,
   "metadata": {
    "collapsed": false
   },
   "outputs": [
    {
     "name": "stdout",
     "output_type": "stream",
     "text": [
      "                            WLS Regression Results                            \n",
      "==============================================================================\n",
      "Dep. Variable:                      y   R-squared:                       0.296\n",
      "Model:                            WLS   Adj. R-squared:                  0.295\n",
      "Method:                 Least Squares   F-statistic:                     223.4\n",
      "Date:                Thu, 01 Dec 2016   Prob (F-statistic):          2.33e-199\n",
      "Time:                        00:12:23   Log-Likelihood:                -6157.6\n",
      "No. Observations:                2658   AIC:                         1.233e+04\n",
      "Df Residuals:                    2652   BIC:                         1.236e+04\n",
      "Df Model:                           5                                         \n",
      "Covariance Type:            nonrobust                                         \n",
      "==============================================================================\n",
      "                 coef    std err          t      P>|t|      [95.0% Conf. Int.]\n",
      "------------------------------------------------------------------------------\n",
      "const         -0.1888      0.291     -0.649      0.517        -0.759     0.382\n",
      "x1             0.0288      0.004      8.213      0.000         0.022     0.036\n",
      "x2             0.2344      0.012     20.050      0.000         0.211     0.257\n",
      "x3             1.5198      0.125     12.146      0.000         1.274     1.765\n",
      "x4             1.3493      0.126     10.715      0.000         1.102     1.596\n",
      "x5             0.6671      0.115      5.784      0.000         0.441     0.893\n",
      "==============================================================================\n",
      "Omnibus:                       25.065   Durbin-Watson:                   1.938\n",
      "Prob(Omnibus):                  0.000   Jarque-Bera (JB):               18.502\n",
      "Skew:                           0.099   Prob(JB):                     9.60e-05\n",
      "Kurtosis:                       2.643   Cond. No.                         363.\n",
      "==============================================================================\n",
      "\n",
      "Warnings:\n",
      "[1] Standard Errors assume that the covariance matrix of the errors is correctly specified.\n",
      "x1: headAge\n",
      "x2: headEduc\n",
      "x3: headJob\n",
      "x4: spouseJob\n",
      "x5: hasSpouse\n",
      "IS R-squared for 500 times is 0.294803052092\n",
      "OS R-squared for 500 times is 0.309712675125\n"
     ]
    }
   ],
   "source": [
    "income1 = 'income_log'\n",
    "income2 = 'TotalFamilyIncome'\n",
    "income = 'TotalFamilyIncomeDecReg'\n",
    "\n",
    "varForModel = [\n",
    "    'headAge', 'headEduc','headJob', 'spouseJob', 'hasSpouse'\n",
    "                      ]\n",
    "\n",
    "runModel(data, income, varForModel)"
   ]
  },
  {
   "cell_type": "code",
   "execution_count": 315,
   "metadata": {
    "collapsed": false
   },
   "outputs": [
    {
     "name": "stdout",
     "output_type": "stream",
     "text": [
      "SleepingRooms 0\n",
      "UsableTotalRooms 0\n",
      "RoomsNumber 0\n",
      "HouseMembers 0\n",
      "WaterRec 0\n",
      "CookingCombustible 0\n",
      "FloorMaterial 0\n",
      "Sewer 0\n",
      "ToiletType 0\n",
      "Sink 0\n",
      "RoofCoat 1\n",
      "Water 0\n",
      "headReading 0\n",
      "OwnershipRec 0\n",
      "WaterType 0\n",
      "headAge 0\n",
      "headEduc 0\n",
      "headJob 0\n",
      "spouseJob 0\n",
      "hasSpouse 0\n"
     ]
    }
   ],
   "source": [
    "for i in varForModel:\n",
    "    print i, data[i].isnull().sum()"
   ]
  },
  {
   "cell_type": "markdown",
   "metadata": {},
   "source": [
    "## Plan B - Base para el Modelo (con R = 0.42)"
   ]
  },
  {
   "cell_type": "code",
   "execution_count": 316,
   "metadata": {
    "collapsed": false
   },
   "outputs": [
    {
     "data": {
      "text/plain": [
       "1.0    2292\n",
       "2.0     365\n",
       "Name: RoofCoat, dtype: int64"
      ]
     },
     "execution_count": 316,
     "metadata": {},
     "output_type": "execute_result"
    }
   ],
   "source": [
    "data.RoofCoat.value_counts()"
   ]
  },
  {
   "cell_type": "code",
   "execution_count": 317,
   "metadata": {
    "collapsed": false
   },
   "outputs": [],
   "source": [
    "data['FloorMaterial'] = np.where(np.isnan(data.FloorMaterial.values),5,data.FloorMaterial.values)\n",
    "data['sumPredicted'] = np.where(np.isnan(data.sumPredicted.values),0,data.sumPredicted.values)\n",
    "data['Sewer'] = np.where(np.isnan(data.Sewer.values),5,data.Sewer.values)\n",
    "data['ToiletType'] = np.where(np.isnan(data.ToiletType.values),4,data.ToiletType.values)\n",
    "data['Water'] = np.where(np.isnan(data.Water.values),4,data.Water.values)\n",
    "data['RoofCoat'] = np.where(np.isnan(data.RoofCoat.values),2,data.RoofCoat.values)"
   ]
  },
  {
   "cell_type": "code",
   "execution_count": 292,
   "metadata": {
    "collapsed": false
   },
   "outputs": [
    {
     "data": {
      "text/plain": [
       "1    2179\n",
       "2     479\n",
       "Name: Working, dtype: int64"
      ]
     },
     "execution_count": 292,
     "metadata": {},
     "output_type": "execute_result"
    }
   ],
   "source": [
    "data.Working.value_counts()"
   ]
  },
  {
   "cell_type": "code",
   "execution_count": 324,
   "metadata": {
    "collapsed": false
   },
   "outputs": [
    {
     "data": {
      "text/plain": [
       "spousePrimary              0.152954\n",
       "WaterRec                   0.163373\n",
       "headPrimary                0.192579\n",
       "HouseMembers               0.239568\n",
       "hasSpouse                  0.268053\n",
       "spouseLnIncomeT            0.268757\n",
       "Membermore10               0.299271\n",
       "RoomsNumber                0.305293\n",
       "UsableTotalRooms           0.308522\n",
       "headJob                    0.315838\n",
       "SleepingRooms              0.318886\n",
       "spouseJob                  0.338919\n",
       "spousePredictedLnIncome    0.345337\n",
       "spouseSecondary            0.350372\n",
       "headSecondary              0.354092\n",
       "headPredictedLnIncome      0.363371\n",
       "headUniversity             0.364185\n",
       "headLnIncomeT              0.381602\n",
       "spouseLnIncome             0.388686\n",
       "headEduc                   0.406296\n",
       "sumPredicted               0.415837\n",
       "headEduc2                  0.416498\n",
       "headLnIncome               0.416832\n",
       "spouseUniversity           0.427270\n",
       "spouseEduc                 0.428856\n",
       "spouseEduc2                0.451749\n",
       "spouseP21                  0.469695\n",
       "spouseP47T                 0.485558\n",
       "headP21                    0.562298\n",
       "PerCapInc                  0.581407\n",
       "headP47T                   0.613738\n",
       "PerCapIncDec               0.707220\n",
       "headDECCFR                 0.707220\n",
       "PerCapIncDecReg            0.707635\n",
       "TotalFamilyIncome          0.804034\n",
       "TotalHouseHoldIncome       0.804034\n",
       "spouseDECCFR               0.839108\n",
       "income_log                 0.963900\n",
       "lnHouseIncome              0.963900\n",
       "TotalFamilyIncomeDec       0.989017\n",
       "TotalFamilyIncomeDecReg    1.000000\n",
       "Name: TotalFamilyIncomeDecReg, dtype: float64"
      ]
     },
     "execution_count": 324,
     "metadata": {},
     "output_type": "execute_result"
    }
   ],
   "source": [
    "data.corr()['TotalFamilyIncomeDecReg'][data.corr()['TotalFamilyIncomeDecReg'] > 0.15].sort_values()"
   ]
  },
  {
   "cell_type": "code",
   "execution_count": 360,
   "metadata": {
    "collapsed": false
   },
   "outputs": [
    {
     "name": "stdout",
     "output_type": "stream",
     "text": [
      "                            WLS Regression Results                            \n",
      "==============================================================================\n",
      "Dep. Variable:                      y   R-squared:                       0.381\n",
      "Model:                            WLS   Adj. R-squared:                  0.379\n",
      "Method:                 Least Squares   F-statistic:                     203.4\n",
      "Date:                Thu, 01 Dec 2016   Prob (F-statistic):          6.70e-269\n",
      "Time:                        00:42:51   Log-Likelihood:                -2591.4\n",
      "No. Observations:                2658   AIC:                             5201.\n",
      "Df Residuals:                    2649   BIC:                             5254.\n",
      "Df Model:                           8                                         \n",
      "Covariance Type:            nonrobust                                         \n",
      "==============================================================================\n",
      "                 coef    std err          t      P>|t|      [95.0% Conf. Int.]\n",
      "------------------------------------------------------------------------------\n",
      "const          6.2900      0.119     52.847      0.000         6.057     6.523\n",
      "x1             0.1538      0.021      7.349      0.000         0.113     0.195\n",
      "x2             0.0798      0.010      7.844      0.000         0.060     0.100\n",
      "x3             0.2175      0.064      3.418      0.001         0.093     0.342\n",
      "x4            -0.2253      0.032     -7.080      0.000        -0.288    -0.163\n",
      "x5             0.0076      0.001      7.806      0.000         0.006     0.009\n",
      "x6             0.0641      0.003     19.097      0.000         0.057     0.071\n",
      "x7             0.3677      0.033     11.241      0.000         0.304     0.432\n",
      "x8             0.3689      0.029     12.751      0.000         0.312     0.426\n",
      "==============================================================================\n",
      "Omnibus:                      134.287   Durbin-Watson:                   1.945\n",
      "Prob(Omnibus):                  0.000   Jarque-Bera (JB):              204.235\n",
      "Skew:                          -0.438   Prob(JB):                     4.48e-45\n",
      "Kurtosis:                       4.037   Cond. No.                         586.\n",
      "==============================================================================\n",
      "\n",
      "Warnings:\n",
      "[1] Standard Errors assume that the covariance matrix of the errors is correctly specified.\n",
      "x1: SleepingRooms\n",
      "x2: HouseMembers\n",
      "x3: WaterRec\n",
      "x4: CookingCombustible\n",
      "x5: headAge\n",
      "x6: headEduc\n",
      "x7: headJob\n",
      "x8: spouseJob\n",
      "IS R-squared for 500 times is 0.394682483736\n",
      "OS R-squared for 500 times is 0.338540634143\n"
     ]
    }
   ],
   "source": [
    "income1 = 'income_log'\n",
    "income2 = 'TotalFamilyIncome'\n",
    "income = 'TotalFamilyIncomeDecReg'\n",
    "\n",
    "income = 'income_log'\n",
    "\n",
    "varForModel = [\n",
    "    'SleepingRooms','HouseMembers','WaterRec',\n",
    "    'CookingCombustible',\n",
    "    \n",
    "#     'SleepingRooms', 'UsableTotalRooms', 'RoomsNumber', 'HouseMembers', 'WaterRec', # positivas\n",
    "#     'CookingCombustible', 'FloorMaterial', 'Sewer', 'ToiletType','Sink', 'RoofCoat', 'Water', #negativas\n",
    "#     'headReading', 'OwnershipRec','WaterType', #sospechoso\n",
    "    'headAge', 'headEduc','headJob', 'spouseJob' #base\n",
    "                      ]\n",
    "\n",
    "runModel(data, income, varForModel)"
   ]
  },
  {
   "cell_type": "markdown",
   "metadata": {},
   "source": [
    "# **OLS PERFORMANCE COMPARISON**"
   ]
  },
  {
   "cell_type": "code",
   "execution_count": 213,
   "metadata": {
    "collapsed": false
   },
   "outputs": [],
   "source": [
    "y = data[income].values\n",
    "X = data.loc[:,varForModel]\n",
    "X1 = sm.add_constant(X)\n",
    "\n",
    "X_train, X_test, y_train, y_test = train_test_split(X, y, test_size=0.3, random_state = 200)"
   ]
  },
  {
   "cell_type": "code",
   "execution_count": 220,
   "metadata": {
    "collapsed": false
   },
   "outputs": [
    {
     "ename": "TypeError",
     "evalue": "cannot concatenate a non-NDFrame object",
     "output_type": "error",
     "traceback": [
      "\u001b[0;31m\u001b[0m",
      "\u001b[0;31mTypeError\u001b[0mTraceback (most recent call last)",
      "\u001b[0;32m<ipython-input-220-6c2191b5df80>\u001b[0m in \u001b[0;36m<module>\u001b[0;34m()\u001b[0m\n\u001b[1;32m     22\u001b[0m     \u001b[0;31m# OLS\u001b[0m\u001b[0;34m\u001b[0m\u001b[0;34m\u001b[0m\u001b[0m\n\u001b[1;32m     23\u001b[0m     lm = sm.OLS(formula = 'Y ~ '+ '+'.join(X_train.columns[:j+1]), \n\u001b[0;32m---> 24\u001b[0;31m                  data = pd.concat([X_train.iloc[:,:j+1],y_train], axis=1)).fit()\n\u001b[0m\u001b[1;32m     25\u001b[0m     \u001b[0merror\u001b[0m \u001b[0;34m=\u001b[0m \u001b[0mlm\u001b[0m\u001b[0;34m.\u001b[0m\u001b[0mpredict\u001b[0m\u001b[0;34m(\u001b[0m\u001b[0mX_test\u001b[0m\u001b[0;34m.\u001b[0m\u001b[0miloc\u001b[0m\u001b[0;34m[\u001b[0m\u001b[0;34m:\u001b[0m\u001b[0;34m,\u001b[0m\u001b[0;34m:\u001b[0m\u001b[0mj\u001b[0m\u001b[0;34m+\u001b[0m\u001b[0;36m1\u001b[0m\u001b[0;34m]\u001b[0m\u001b[0;34m)\u001b[0m \u001b[0;34m-\u001b[0m \u001b[0my_test\u001b[0m\u001b[0;34m\u001b[0m\u001b[0m\n\u001b[1;32m     26\u001b[0m     \u001b[0mR_2_OS_OLS\u001b[0m\u001b[0;34m=\u001b[0m\u001b[0;36m1\u001b[0m\u001b[0;34m-\u001b[0m\u001b[0merror\u001b[0m\u001b[0;34m.\u001b[0m\u001b[0mvar\u001b[0m\u001b[0;34m(\u001b[0m\u001b[0;34m)\u001b[0m\u001b[0;34m/\u001b[0m\u001b[0my_test\u001b[0m\u001b[0;34m.\u001b[0m\u001b[0mvar\u001b[0m\u001b[0;34m(\u001b[0m\u001b[0;34m)\u001b[0m\u001b[0;34m\u001b[0m\u001b[0m\n",
      "\u001b[0;32m/usr/local/lib/python2.7/dist-packages/pandas/tools/merge.pyc\u001b[0m in \u001b[0;36mconcat\u001b[0;34m(objs, axis, join, join_axes, ignore_index, keys, levels, names, verify_integrity, copy)\u001b[0m\n\u001b[1;32m    843\u001b[0m                        \u001b[0mkeys\u001b[0m\u001b[0;34m=\u001b[0m\u001b[0mkeys\u001b[0m\u001b[0;34m,\u001b[0m \u001b[0mlevels\u001b[0m\u001b[0;34m=\u001b[0m\u001b[0mlevels\u001b[0m\u001b[0;34m,\u001b[0m \u001b[0mnames\u001b[0m\u001b[0;34m=\u001b[0m\u001b[0mnames\u001b[0m\u001b[0;34m,\u001b[0m\u001b[0;34m\u001b[0m\u001b[0m\n\u001b[1;32m    844\u001b[0m                        \u001b[0mverify_integrity\u001b[0m\u001b[0;34m=\u001b[0m\u001b[0mverify_integrity\u001b[0m\u001b[0;34m,\u001b[0m\u001b[0;34m\u001b[0m\u001b[0m\n\u001b[0;32m--> 845\u001b[0;31m                        copy=copy)\n\u001b[0m\u001b[1;32m    846\u001b[0m     \u001b[0;32mreturn\u001b[0m \u001b[0mop\u001b[0m\u001b[0;34m.\u001b[0m\u001b[0mget_result\u001b[0m\u001b[0;34m(\u001b[0m\u001b[0;34m)\u001b[0m\u001b[0;34m\u001b[0m\u001b[0m\n\u001b[1;32m    847\u001b[0m \u001b[0;34m\u001b[0m\u001b[0m\n",
      "\u001b[0;32m/usr/local/lib/python2.7/dist-packages/pandas/tools/merge.pyc\u001b[0m in \u001b[0;36m__init__\u001b[0;34m(self, objs, axis, join, join_axes, keys, levels, names, ignore_index, verify_integrity, copy)\u001b[0m\n\u001b[1;32m    899\u001b[0m         \u001b[0;32mfor\u001b[0m \u001b[0mobj\u001b[0m \u001b[0;32min\u001b[0m \u001b[0mobjs\u001b[0m\u001b[0;34m:\u001b[0m\u001b[0;34m\u001b[0m\u001b[0m\n\u001b[1;32m    900\u001b[0m             \u001b[0;32mif\u001b[0m \u001b[0;32mnot\u001b[0m \u001b[0misinstance\u001b[0m\u001b[0;34m(\u001b[0m\u001b[0mobj\u001b[0m\u001b[0;34m,\u001b[0m \u001b[0mNDFrame\u001b[0m\u001b[0;34m)\u001b[0m\u001b[0;34m:\u001b[0m\u001b[0;34m\u001b[0m\u001b[0m\n\u001b[0;32m--> 901\u001b[0;31m                 \u001b[0;32mraise\u001b[0m \u001b[0mTypeError\u001b[0m\u001b[0;34m(\u001b[0m\u001b[0;34m\"cannot concatenate a non-NDFrame object\"\u001b[0m\u001b[0;34m)\u001b[0m\u001b[0;34m\u001b[0m\u001b[0m\n\u001b[0m\u001b[1;32m    902\u001b[0m \u001b[0;34m\u001b[0m\u001b[0m\n\u001b[1;32m    903\u001b[0m             \u001b[0;31m# consolidate\u001b[0m\u001b[0;34m\u001b[0m\u001b[0;34m\u001b[0m\u001b[0m\n",
      "\u001b[0;31mTypeError\u001b[0m: cannot concatenate a non-NDFrame object"
     ]
    }
   ],
   "source": [
    "Number_variables=range(len(X_train.columns[:]))\n",
    "\n",
    "# #select best lambda for Ridge\n",
    "# lambdas = np.exp(np.linspace(-5,13,200))\n",
    "# lambda_r_optimal=Regularization_fit_lambda(1,X_train,y_train,lambdas,p=0.4,Graph=True)\n",
    "\n",
    "# #select lambdas for Lasso \n",
    "# lambdas=np.exp(np.linspace(-5,6.5,200))\n",
    "# lambda_l_optimal=Regularization_fit_lambda(2,X_train,y_train,lambdas,p=0.4,Graph=True)\n",
    "\n",
    "OLS_R_2_OS_F=[]\n",
    "OLS_R_2_IS_F=[]\n",
    "OLS_R_2_Ridge_OS_F=[]\n",
    "OLS_R_2_Ridge_IS_F=[]\n",
    "OLS_R_2_Lasso_OS_F=[]\n",
    "OLS_R_2_Lasso_IS_F=[]\n",
    "\n",
    "Ridge=linear_model.Ridge(fit_intercept=True,alpha=1)\n",
    "Lasso=linear_model.Lasso(fit_intercept=True, alpha=1)\n",
    "\n",
    "for j in Number_variables:\n",
    "    # OLS\n",
    "    lm = sm.OLS(formula = 'Y ~ '+ '+'.join(X_train.columns[:j+1]), \n",
    "                 data = pd.concat([X_train.iloc[:,:j+1],y_train], axis=1)).fit()\n",
    "    error = lm.predict(X_test.iloc[:,:j+1]) - y_test\n",
    "    R_2_OS_OLS=1-error.var()/y_test.var()\n",
    "    R_2_IS_OLS = lm.rsquared\n",
    "    OLS_R_2_IS_F.append(R_2_IS_OLS)\n",
    "    OLS_R_2_OS_F.append(max(R_2_OS_OLS,0))\n",
    "    \n",
    "    # Ridge\n",
    "    Ridge.fit(X_train.iloc[:,:j+1],y_train)\n",
    "    \n",
    "    # In sample:\n",
    "    err_IS=Ridge.predict(X_train.iloc[:,:j+1]) - y_train\n",
    "    R_2_IS_Ridge=1-np.var(err_IS)/np.var(y_train)\n",
    "    OLS_R_2_Ridge_IS_F.append(R_2_IS_Ridge)\n",
    "    \n",
    "    #Out of sample\n",
    "    err_OS=Ridge.predict(X_test.iloc[:,:j+1]) - y_test\n",
    "    R_2_OS_Ridge=1-np.var(err_OS)/np.var(y_test)\n",
    "    OLS_R_2_Ridge_OS_F.append(max(R_2_OS_Ridge,0))\n",
    "\n",
    "    # Lasso\n",
    "    \n",
    "    Lasso.fit(X_train.iloc[:,0:j+1],y_train)\n",
    "    \n",
    "    #In sample:\n",
    "    p_IS=Lasso.predict(X_train.iloc[:,0:j+1])\n",
    "    err_IS=p_IS-y_train\n",
    "    R_2_IS_Lasso=1-np.var(err_IS)/np.var(y_train)\n",
    "    OLS_R_2_Lasso_IS_F.append(R_2_IS_Lasso)\n",
    "\n",
    "    #Out of sample\n",
    "    p_OS=Lasso.predict(X_test.iloc[:,0:j+1])\n",
    "    err_OS=p_OS-y_test\n",
    "    R_2_OS_Lasso=1-np.var(err_OS)/np.var(y_test)\n",
    "    OLS_R_2_Lasso_OS_F.append(max(R_2_OS_Lasso,0))\n",
    "\n",
    "\n",
    "pylab.rcParams['figure.figsize'] = [14,10]\n",
    "\n",
    "plt.title('OS performance of OLS when we subsequently add variables')\n",
    "\n",
    "plt.plot(Number_variables,OLS_R_2_IS_F,'g',label='OLS_IS')\n",
    "plt.plot(Number_variables,OLS_R_2_Lasso_IS_F,'y',label='Lasso_IS')\n",
    "plt.plot(Number_variables,OLS_R_2_Ridge_IS_F,'k',label='Ridge_IS')\n",
    "\n",
    "plt.plot(Number_variables,OLS_R_2_OS_F,'b',label='OLS_OS')\n",
    "plt.plot(Number_variables,OLS_R_2_Lasso_OS_F,'c',label='Lasso_OS')\n",
    "plt.plot(Number_variables,OLS_R_2_Ridge_OS_F,'r',label='Ridge_OS')\n",
    "\n",
    "plt.legend(loc='lower right')\n",
    "plt.xlabel('Number of independent variables')\n",
    "plt.ylabel('R-squared')\n",
    "plt.show()"
   ]
  },
  {
   "cell_type": "code",
   "execution_count": null,
   "metadata": {
    "collapsed": true
   },
   "outputs": [],
   "source": []
  }
 ],
 "metadata": {
  "kernelspec": {
   "display_name": "Python [Root]",
   "language": "python",
   "name": "Python [Root]"
  },
  "language_info": {
   "codemirror_mode": {
    "name": "ipython",
    "version": 2
   },
   "file_extension": ".py",
   "mimetype": "text/x-python",
   "name": "python",
   "nbconvert_exporter": "python",
   "pygments_lexer": "ipython2",
   "version": "2.7.12"
  },
  "widgets": {
   "state": {},
   "version": "1.1.2"
  }
 },
 "nbformat": 4,
 "nbformat_minor": 0
}
