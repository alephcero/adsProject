{
 "cells": [
  {
   "cell_type": "code",
   "execution_count": 2,
   "metadata": {
    "collapsed": true
   },
   "outputs": [],
   "source": [
    "import pandas as pd\n",
    "import os\n",
    "import numpy as np\n",
    "import simpledbf\n",
    "import matplotlib.pyplot as plt\n",
    "import seaborn\n",
    "%matplotlib inline"
   ]
  },
  {
   "cell_type": "markdown",
   "metadata": {},
   "source": [
    "# Base de ingresos de la ciudad de buenos aires 2010"
   ]
  },
  {
   "cell_type": "code",
   "execution_count": 3,
   "metadata": {
    "collapsed": false
   },
   "outputs": [],
   "source": [
    "dbf = simpledbf.Dbf5('data/BaseEAH2010/EAH10_BU_IND_VERSION2.dbf')\n",
    "data10 = dbf.to_dataframe()"
   ]
  },
  {
   "cell_type": "code",
   "execution_count": 4,
   "metadata": {
    "collapsed": false
   },
   "outputs": [
    {
     "data": {
      "text/plain": [
       "6143"
      ]
     },
     "execution_count": 4,
     "metadata": {},
     "output_type": "execute_result"
    }
   ],
   "source": [
    "(data10.ITFB == 9999999).sum()"
   ]
  },
  {
   "cell_type": "code",
   "execution_count": 5,
   "metadata": {
    "collapsed": false
   },
   "outputs": [
    {
     "name": "stdout",
     "output_type": "stream",
     "text": [
      "(10843, 4)\n"
     ]
    },
    {
     "data": {
      "text/html": [
       "<div>\n",
       "<table border=\"1\" class=\"dataframe\">\n",
       "  <thead>\n",
       "    <tr style=\"text-align: right;\">\n",
       "      <th></th>\n",
       "      <th>ID</th>\n",
       "      <th>COMUNA</th>\n",
       "      <th>FEXP</th>\n",
       "      <th>ITFB</th>\n",
       "    </tr>\n",
       "  </thead>\n",
       "  <tbody>\n",
       "    <tr>\n",
       "      <th>0</th>\n",
       "      <td>1</td>\n",
       "      <td>1</td>\n",
       "      <td>130.7693</td>\n",
       "      <td>400</td>\n",
       "    </tr>\n",
       "    <tr>\n",
       "      <th>1</th>\n",
       "      <td>1</td>\n",
       "      <td>1</td>\n",
       "      <td>130.7693</td>\n",
       "      <td>400</td>\n",
       "    </tr>\n",
       "    <tr>\n",
       "      <th>2</th>\n",
       "      <td>1</td>\n",
       "      <td>1</td>\n",
       "      <td>130.7693</td>\n",
       "      <td>400</td>\n",
       "    </tr>\n",
       "    <tr>\n",
       "      <th>3</th>\n",
       "      <td>1</td>\n",
       "      <td>1</td>\n",
       "      <td>130.7693</td>\n",
       "      <td>400</td>\n",
       "    </tr>\n",
       "    <tr>\n",
       "      <th>4</th>\n",
       "      <td>2</td>\n",
       "      <td>1</td>\n",
       "      <td>47.0046</td>\n",
       "      <td>2000</td>\n",
       "    </tr>\n",
       "  </tbody>\n",
       "</table>\n",
       "</div>"
      ],
      "text/plain": [
       "   ID  COMUNA      FEXP  ITFB\n",
       "0   1       1  130.7693   400\n",
       "1   1       1  130.7693   400\n",
       "2   1       1  130.7693   400\n",
       "3   1       1  130.7693   400\n",
       "4   2       1   47.0046  2000"
      ]
     },
     "execution_count": 5,
     "metadata": {},
     "output_type": "execute_result"
    }
   ],
   "source": [
    "data10 = data10.loc[data10.ITFB != 9999999,['ID','COMUNA','FEXP','ITFB']]\n",
    "#data10repe = data10.loc[:,['ID','COMUNA','FEXP','INGTOT','ITFB']]\n",
    "print data10.shape\n",
    "data10.head()"
   ]
  },
  {
   "cell_type": "code",
   "execution_count": 6,
   "metadata": {
    "collapsed": false
   },
   "outputs": [
    {
     "name": "stdout",
     "output_type": "stream",
     "text": [
      "(4449, 4)\n"
     ]
    }
   ],
   "source": [
    "data10.drop_duplicates(inplace = True)\n",
    "print data10.shape"
   ]
  },
  {
   "cell_type": "code",
   "execution_count": 7,
   "metadata": {
    "collapsed": false
   },
   "outputs": [
    {
     "name": "stdout",
     "output_type": "stream",
     "text": [
      "46\n",
      "0\n"
     ]
    }
   ],
   "source": [
    "print(data10.ITFB == 0).sum()\n",
    "data10.ITFB.replace(to_replace=[0], value=[1] , inplace=True, axis=None)\n",
    "print (data10.ITFB == 0).sum()"
   ]
  },
  {
   "cell_type": "code",
   "execution_count": 8,
   "metadata": {
    "collapsed": true
   },
   "outputs": [],
   "source": [
    "data10['lnIncome'] = np.log(data10.ITFB)"
   ]
  },
  {
   "cell_type": "code",
   "execution_count": 9,
   "metadata": {
    "collapsed": false
   },
   "outputs": [
    {
     "name": "stdout",
     "output_type": "stream",
     "text": [
      "<type 'numpy.int64'> <type 'numpy.float64'>\n"
     ]
    }
   ],
   "source": [
    "print type(data10.index.values[0]),type(data10.FEXP[0])"
   ]
  },
  {
   "cell_type": "code",
   "execution_count": 10,
   "metadata": {
    "collapsed": false
   },
   "outputs": [],
   "source": [
    "data10.FEXP = data10.FEXP.astype(int)"
   ]
  },
  {
   "cell_type": "code",
   "execution_count": 11,
   "metadata": {
    "collapsed": false
   },
   "outputs": [],
   "source": [
    "data10exp = data10.loc[np.repeat(data10.index.values,data10.FEXP)]\n"
   ]
  },
  {
   "cell_type": "code",
   "execution_count": 12,
   "metadata": {
    "collapsed": false
   },
   "outputs": [
    {
     "data": {
      "text/plain": [
       "COMUNA\n",
       "8     7.565635\n",
       "1     7.837654\n",
       "4     7.912230\n",
       "12    8.043669\n",
       "10    8.044518\n",
       "3     8.052529\n",
       "7     8.083813\n",
       "9     8.122232\n",
       "15    8.136962\n",
       "13    8.215712\n",
       "14    8.216385\n",
       "5     8.239378\n",
       "6     8.263870\n",
       "11    8.283765\n",
       "2     8.432181\n",
       "Name: lnIncome, dtype: float64"
      ]
     },
     "execution_count": 12,
     "metadata": {},
     "output_type": "execute_result"
    }
   ],
   "source": [
    "data10exp.lnIncome.groupby(by=data10exp.COMUNA).mean().sort_values()"
   ]
  },
  {
   "cell_type": "code",
   "execution_count": 13,
   "metadata": {
    "collapsed": false
   },
   "outputs": [
    {
     "data": {
      "text/plain": [
       "COMUNA\n",
       "1     3634.447034\n",
       "2     6512.264228\n",
       "3     4395.164865\n",
       "4     3655.127764\n",
       "5     4916.963696\n",
       "6     5798.725275\n",
       "7     4507.372781\n",
       "8     2836.487952\n",
       "9     4316.655290\n",
       "10    4067.532468\n",
       "11    5449.662835\n",
       "12    4644.552764\n",
       "13    5903.435185\n",
       "14    6015.775100\n",
       "15    4692.528958\n",
       "Name: ITFB, dtype: float64"
      ]
     },
     "execution_count": 13,
     "metadata": {},
     "output_type": "execute_result"
    }
   ],
   "source": [
    "data10.ITFB.groupby(by=data10.COMUNA).mean()"
   ]
  },
  {
   "cell_type": "code",
   "execution_count": 14,
   "metadata": {
    "collapsed": false
   },
   "outputs": [
    {
     "data": {
      "text/plain": [
       "COMUNA\n",
       "1     3806.762807\n",
       "2     6933.011914\n",
       "3     4301.447851\n",
       "4     3869.557112\n",
       "5     5070.870747\n",
       "6     5603.396225\n",
       "7     4575.618845\n",
       "8     2800.941981\n",
       "9     4667.634219\n",
       "10    4103.096635\n",
       "11    5515.926401\n",
       "12    4720.418917\n",
       "13    6103.743836\n",
       "14    6204.832037\n",
       "15    4843.879949\n",
       "Name: ITFB, dtype: float64"
      ]
     },
     "execution_count": 14,
     "metadata": {},
     "output_type": "execute_result"
    }
   ],
   "source": [
    "data10exp.ITFB.groupby(by=data10exp.COMUNA).mean()"
   ]
  },
  {
   "cell_type": "markdown",
   "metadata": {
    "collapsed": true
   },
   "source": [
    "# CENSO"
   ]
  },
  {
   "cell_type": "code",
   "execution_count": 16,
   "metadata": {
    "collapsed": true
   },
   "outputs": [],
   "source": [
    "def readRedatamCSV(asciiFile):\n",
    "    f = open(asciiFile, 'r')\n",
    "    areas = []\n",
    "    measures = []\n",
    "    for line in f:\n",
    "        columns = line.strip().split()\n",
    "        #print columns\n",
    "        if len(columns) > 0:\n",
    "            if 'RESUMEN' in columns[0] :\n",
    "                break\n",
    "            elif columns[0] == 'AREA':\n",
    "                area = str.split(columns[2],',')[0]\n",
    "                areas.append(area)\n",
    "            elif columns[0] == 'Total':\n",
    "                measure = str.split(columns[2],',')[2]\n",
    "                measures.append(measure)\n",
    "    try:        \n",
    "        data = pd.DataFrame({'area':areas,'measure':measures})\n",
    "        return data\n",
    "    except:\n",
    "        print asciiFile\n",
    "\n",
    "def R2(dataset,real,predicted):\n",
    "    plt.scatter(dataset[predicted],dataset[real])\n",
    "    return ((dataset[real] - dataset[predicted])**2).sum() / ((dataset[real] - dataset[real].mean())**2).sum()"
   ]
  },
  {
   "cell_type": "code",
   "execution_count": 17,
   "metadata": {
    "collapsed": false
   },
   "outputs": [],
   "source": [
    "archivo = 'data/indecOnline/headEduc/comunas.csv'\n",
    "ingresoXComuna = readRedatamCSV(archivo)"
   ]
  },
  {
   "cell_type": "code",
   "execution_count": 18,
   "metadata": {
    "collapsed": false
   },
   "outputs": [],
   "source": [
    "ingresoXComuna.columns = ['area','educHead']"
   ]
  },
  {
   "cell_type": "code",
   "execution_count": 19,
   "metadata": {
    "collapsed": true
   },
   "outputs": [],
   "source": [
    "incomeEncuesta = [3806.762807,\n",
    "6933.011914,\n",
    "4301.447851,\n",
    "3869.557112,\n",
    "5070.870747,\n",
    "5603.396225,\n",
    "4575.618845,\n",
    "2800.941981,\n",
    "4667.634219,\n",
    "4103.096635,\n",
    "5515.926401,\n",
    "4720.418917,\n",
    "6103.743836,\n",
    "6204.832037,\n",
    "4843.879949]"
   ]
  },
  {
   "cell_type": "code",
   "execution_count": 20,
   "metadata": {
    "collapsed": true
   },
   "outputs": [],
   "source": [
    "ingresoXComuna['ingresoEncuesta'] = incomeEncuesta"
   ]
  },
  {
   "cell_type": "code",
   "execution_count": 21,
   "metadata": {
    "collapsed": false
   },
   "outputs": [
    {
     "data": {
      "text/html": [
       "<div>\n",
       "<table border=\"1\" class=\"dataframe\">\n",
       "  <thead>\n",
       "    <tr style=\"text-align: right;\">\n",
       "      <th></th>\n",
       "      <th>area</th>\n",
       "      <th>educHead</th>\n",
       "      <th>ingresoEncuesta</th>\n",
       "    </tr>\n",
       "  </thead>\n",
       "  <tbody>\n",
       "    <tr>\n",
       "      <th>0</th>\n",
       "      <td>02001</td>\n",
       "      <td>4654.65</td>\n",
       "      <td>3806.762807</td>\n",
       "    </tr>\n",
       "    <tr>\n",
       "      <th>1</th>\n",
       "      <td>02002</td>\n",
       "      <td>5389.31</td>\n",
       "      <td>6933.011914</td>\n",
       "    </tr>\n",
       "    <tr>\n",
       "      <th>2</th>\n",
       "      <td>02003</td>\n",
       "      <td>4629.02</td>\n",
       "      <td>4301.447851</td>\n",
       "    </tr>\n",
       "    <tr>\n",
       "      <th>3</th>\n",
       "      <td>02004</td>\n",
       "      <td>3872.46</td>\n",
       "      <td>3869.557112</td>\n",
       "    </tr>\n",
       "    <tr>\n",
       "      <th>4</th>\n",
       "      <td>02005</td>\n",
       "      <td>4695.1</td>\n",
       "      <td>5070.870747</td>\n",
       "    </tr>\n",
       "    <tr>\n",
       "      <th>5</th>\n",
       "      <td>02006</td>\n",
       "      <td>4796.01</td>\n",
       "      <td>5603.396225</td>\n",
       "    </tr>\n",
       "    <tr>\n",
       "      <th>6</th>\n",
       "      <td>02007</td>\n",
       "      <td>4197.39</td>\n",
       "      <td>4575.618845</td>\n",
       "    </tr>\n",
       "    <tr>\n",
       "      <th>7</th>\n",
       "      <td>02008</td>\n",
       "      <td>3348.49</td>\n",
       "      <td>2800.941981</td>\n",
       "    </tr>\n",
       "    <tr>\n",
       "      <th>8</th>\n",
       "      <td>02009</td>\n",
       "      <td>3952.79</td>\n",
       "      <td>4667.634219</td>\n",
       "    </tr>\n",
       "    <tr>\n",
       "      <th>9</th>\n",
       "      <td>02010</td>\n",
       "      <td>4226.21</td>\n",
       "      <td>4103.096635</td>\n",
       "    </tr>\n",
       "    <tr>\n",
       "      <th>10</th>\n",
       "      <td>02011</td>\n",
       "      <td>4373.56</td>\n",
       "      <td>5515.926401</td>\n",
       "    </tr>\n",
       "    <tr>\n",
       "      <th>11</th>\n",
       "      <td>02012</td>\n",
       "      <td>4494.77</td>\n",
       "      <td>4720.418917</td>\n",
       "    </tr>\n",
       "    <tr>\n",
       "      <th>12</th>\n",
       "      <td>02013</td>\n",
       "      <td>4987.93</td>\n",
       "      <td>6103.743836</td>\n",
       "    </tr>\n",
       "    <tr>\n",
       "      <th>13</th>\n",
       "      <td>02014</td>\n",
       "      <td>5213.16</td>\n",
       "      <td>6204.832037</td>\n",
       "    </tr>\n",
       "    <tr>\n",
       "      <th>14</th>\n",
       "      <td>02015</td>\n",
       "      <td>4505.45</td>\n",
       "      <td>4843.879949</td>\n",
       "    </tr>\n",
       "  </tbody>\n",
       "</table>\n",
       "</div>"
      ],
      "text/plain": [
       "     area educHead  ingresoEncuesta\n",
       "0   02001  4654.65      3806.762807\n",
       "1   02002  5389.31      6933.011914\n",
       "2   02003  4629.02      4301.447851\n",
       "3   02004  3872.46      3869.557112\n",
       "4   02005   4695.1      5070.870747\n",
       "5   02006  4796.01      5603.396225\n",
       "6   02007  4197.39      4575.618845\n",
       "7   02008  3348.49      2800.941981\n",
       "8   02009  3952.79      4667.634219\n",
       "9   02010  4226.21      4103.096635\n",
       "10  02011  4373.56      5515.926401\n",
       "11  02012  4494.77      4720.418917\n",
       "12  02013  4987.93      6103.743836\n",
       "13  02014  5213.16      6204.832037\n",
       "14  02015  4505.45      4843.879949"
      ]
     },
     "execution_count": 21,
     "metadata": {},
     "output_type": "execute_result"
    }
   ],
   "source": [
    "ingresoXComuna"
   ]
  },
  {
   "cell_type": "code",
   "execution_count": 23,
   "metadata": {
    "collapsed": false
   },
   "outputs": [],
   "source": [
    "ruta = 'data/indecOnline/headEducYjobs/'\n",
    "archivo = ruta + 'comuna.csv'\n",
    "ingresoModelo2 = readRedatamCSV(archivo)"
   ]
  },
  {
   "cell_type": "code",
   "execution_count": 24,
   "metadata": {
    "collapsed": false
   },
   "outputs": [],
   "source": [
    "ingresoXComuna = ingresoXComuna.merge(right=ingresoModelo2,on='area')\n"
   ]
  },
  {
   "cell_type": "code",
   "execution_count": 25,
   "metadata": {
    "collapsed": false
   },
   "outputs": [],
   "source": [
    "ingresoXComuna.columns = ['area','educHead','ingresoEncuesta','educHeadYjobs']"
   ]
  },
  {
   "cell_type": "code",
   "execution_count": 26,
   "metadata": {
    "collapsed": false
   },
   "outputs": [
    {
     "data": {
      "text/html": [
       "<div>\n",
       "<table border=\"1\" class=\"dataframe\">\n",
       "  <thead>\n",
       "    <tr style=\"text-align: right;\">\n",
       "      <th></th>\n",
       "      <th>area</th>\n",
       "      <th>educHead</th>\n",
       "      <th>ingresoEncuesta</th>\n",
       "      <th>educHeadYjobs</th>\n",
       "    </tr>\n",
       "  </thead>\n",
       "  <tbody>\n",
       "    <tr>\n",
       "      <th>0</th>\n",
       "      <td>02001</td>\n",
       "      <td>4654.65</td>\n",
       "      <td>3806.762807</td>\n",
       "      <td>5150.35</td>\n",
       "    </tr>\n",
       "    <tr>\n",
       "      <th>1</th>\n",
       "      <td>02002</td>\n",
       "      <td>5389.31</td>\n",
       "      <td>6933.011914</td>\n",
       "      <td>5595.67</td>\n",
       "    </tr>\n",
       "    <tr>\n",
       "      <th>2</th>\n",
       "      <td>02003</td>\n",
       "      <td>4629.02</td>\n",
       "      <td>4301.447851</td>\n",
       "      <td>5180.74</td>\n",
       "    </tr>\n",
       "    <tr>\n",
       "      <th>3</th>\n",
       "      <td>02004</td>\n",
       "      <td>3872.46</td>\n",
       "      <td>3869.557112</td>\n",
       "      <td>4943.48</td>\n",
       "    </tr>\n",
       "    <tr>\n",
       "      <th>4</th>\n",
       "      <td>02005</td>\n",
       "      <td>4695.1</td>\n",
       "      <td>5070.870747</td>\n",
       "      <td>5293.34</td>\n",
       "    </tr>\n",
       "    <tr>\n",
       "      <th>5</th>\n",
       "      <td>02006</td>\n",
       "      <td>4796.01</td>\n",
       "      <td>5603.396225</td>\n",
       "      <td>5377.37</td>\n",
       "    </tr>\n",
       "    <tr>\n",
       "      <th>6</th>\n",
       "      <td>02007</td>\n",
       "      <td>4197.39</td>\n",
       "      <td>4575.618845</td>\n",
       "      <td>5095.96</td>\n",
       "    </tr>\n",
       "    <tr>\n",
       "      <th>7</th>\n",
       "      <td>02008</td>\n",
       "      <td>3348.49</td>\n",
       "      <td>2800.941981</td>\n",
       "      <td>4590.73</td>\n",
       "    </tr>\n",
       "    <tr>\n",
       "      <th>8</th>\n",
       "      <td>02009</td>\n",
       "      <td>3952.79</td>\n",
       "      <td>4667.634219</td>\n",
       "      <td>4955.25</td>\n",
       "    </tr>\n",
       "    <tr>\n",
       "      <th>9</th>\n",
       "      <td>02010</td>\n",
       "      <td>4226.21</td>\n",
       "      <td>4103.096635</td>\n",
       "      <td>5167.14</td>\n",
       "    </tr>\n",
       "    <tr>\n",
       "      <th>10</th>\n",
       "      <td>02011</td>\n",
       "      <td>4373.56</td>\n",
       "      <td>5515.926401</td>\n",
       "      <td>5266.28</td>\n",
       "    </tr>\n",
       "    <tr>\n",
       "      <th>11</th>\n",
       "      <td>02012</td>\n",
       "      <td>4494.77</td>\n",
       "      <td>4720.418917</td>\n",
       "      <td>5347.55</td>\n",
       "    </tr>\n",
       "    <tr>\n",
       "      <th>12</th>\n",
       "      <td>02013</td>\n",
       "      <td>4987.93</td>\n",
       "      <td>6103.743836</td>\n",
       "      <td>5506.33</td>\n",
       "    </tr>\n",
       "    <tr>\n",
       "      <th>13</th>\n",
       "      <td>02014</td>\n",
       "      <td>5213.16</td>\n",
       "      <td>6204.832037</td>\n",
       "      <td>5607.01</td>\n",
       "    </tr>\n",
       "    <tr>\n",
       "      <th>14</th>\n",
       "      <td>02015</td>\n",
       "      <td>4505.45</td>\n",
       "      <td>4843.879949</td>\n",
       "      <td>5400.13</td>\n",
       "    </tr>\n",
       "  </tbody>\n",
       "</table>\n",
       "</div>"
      ],
      "text/plain": [
       "     area educHead  ingresoEncuesta educHeadYjobs\n",
       "0   02001  4654.65      3806.762807       5150.35\n",
       "1   02002  5389.31      6933.011914       5595.67\n",
       "2   02003  4629.02      4301.447851       5180.74\n",
       "3   02004  3872.46      3869.557112       4943.48\n",
       "4   02005   4695.1      5070.870747       5293.34\n",
       "5   02006  4796.01      5603.396225       5377.37\n",
       "6   02007  4197.39      4575.618845       5095.96\n",
       "7   02008  3348.49      2800.941981       4590.73\n",
       "8   02009  3952.79      4667.634219       4955.25\n",
       "9   02010  4226.21      4103.096635       5167.14\n",
       "10  02011  4373.56      5515.926401       5266.28\n",
       "11  02012  4494.77      4720.418917       5347.55\n",
       "12  02013  4987.93      6103.743836       5506.33\n",
       "13  02014  5213.16      6204.832037       5607.01\n",
       "14  02015  4505.45      4843.879949       5400.13"
      ]
     },
     "execution_count": 26,
     "metadata": {},
     "output_type": "execute_result"
    }
   ],
   "source": [
    "ingresoXComuna"
   ]
  },
  {
   "cell_type": "code",
   "execution_count": 27,
   "metadata": {
    "collapsed": false
   },
   "outputs": [],
   "source": [
    "ingresoXComuna.educHead = ingresoXComuna.educHead.astype(float)\n"
   ]
  },
  {
   "cell_type": "code",
   "execution_count": 28,
   "metadata": {
    "collapsed": true
   },
   "outputs": [],
   "source": [
    "ingresoXComuna.educHeadYjobs = ingresoXComuna.educHeadYjobs.astype(float)\n"
   ]
  },
  {
   "cell_type": "markdown",
   "metadata": {
    "collapsed": true
   },
   "source": [
    "# Modelo3 headEduc, Jobs and Rooms"
   ]
  },
  {
   "cell_type": "code",
   "execution_count": 29,
   "metadata": {
    "collapsed": true
   },
   "outputs": [],
   "source": [
    "ruta = 'data/indecOnline/headEducuJobsYrooms/'\n",
    "archivo = ruta + 'comunas.csv'\n",
    "ingresoModelo3 = readRedatamCSV(archivo)"
   ]
  },
  {
   "cell_type": "code",
   "execution_count": 30,
   "metadata": {
    "collapsed": true
   },
   "outputs": [],
   "source": [
    "ingresoXComuna = ingresoXComuna.merge(right=ingresoModelo3,on='area')\n",
    "ingresoXComuna.columns = ['area','educHead','ingresoEncuesta','educHeadYjobs','educHeadYjobsYrooms']\n",
    "ingresoXComuna.educHeadYjobsYrooms = ingresoXComuna.educHeadYjobsYrooms.astype(float)\n"
   ]
  },
  {
   "cell_type": "markdown",
   "metadata": {},
   "source": [
    "# Modelo4 jobsAndSchool"
   ]
  },
  {
   "cell_type": "code",
   "execution_count": 32,
   "metadata": {
    "collapsed": false
   },
   "outputs": [],
   "source": [
    "ruta = 'data/indecOnline/jobSchool/'\n",
    "archivo = ruta + 'comunas.csv'\n",
    "ingresoModelo4 = readRedatamCSV(archivo)"
   ]
  },
  {
   "cell_type": "code",
   "execution_count": 33,
   "metadata": {
    "collapsed": true
   },
   "outputs": [],
   "source": [
    "ingresoXComuna = ingresoXComuna.merge(right=ingresoModelo4,on='area')\n",
    "ingresoXComuna.columns = ['area','educHead','ingresoEncuesta','educHeadYjobs','educHeadYjobsYrooms','jobsAndSchool']\n",
    "ingresoXComuna.jobsAndSchool = ingresoXComuna.jobsAndSchool.astype(float)"
   ]
  },
  {
   "cell_type": "code",
   "execution_count": 34,
   "metadata": {
    "collapsed": false
   },
   "outputs": [
    {
     "data": {
      "text/html": [
       "<div>\n",
       "<table border=\"1\" class=\"dataframe\">\n",
       "  <thead>\n",
       "    <tr style=\"text-align: right;\">\n",
       "      <th></th>\n",
       "      <th>area</th>\n",
       "      <th>educHead</th>\n",
       "      <th>ingresoEncuesta</th>\n",
       "      <th>educHeadYjobs</th>\n",
       "      <th>educHeadYjobsYrooms</th>\n",
       "      <th>jobsAndSchool</th>\n",
       "    </tr>\n",
       "  </thead>\n",
       "  <tbody>\n",
       "    <tr>\n",
       "      <th>0</th>\n",
       "      <td>02001</td>\n",
       "      <td>4654.65</td>\n",
       "      <td>3806.762807</td>\n",
       "      <td>5150.35</td>\n",
       "      <td>6218.23</td>\n",
       "      <td>5609.57</td>\n",
       "    </tr>\n",
       "    <tr>\n",
       "      <th>1</th>\n",
       "      <td>02002</td>\n",
       "      <td>5389.31</td>\n",
       "      <td>6933.011914</td>\n",
       "      <td>5595.67</td>\n",
       "      <td>6935.92</td>\n",
       "      <td>5994.45</td>\n",
       "    </tr>\n",
       "    <tr>\n",
       "      <th>2</th>\n",
       "      <td>02003</td>\n",
       "      <td>4629.02</td>\n",
       "      <td>4301.447851</td>\n",
       "      <td>5180.74</td>\n",
       "      <td>6245.81</td>\n",
       "      <td>5711.07</td>\n",
       "    </tr>\n",
       "    <tr>\n",
       "      <th>3</th>\n",
       "      <td>02004</td>\n",
       "      <td>3872.46</td>\n",
       "      <td>3869.557112</td>\n",
       "      <td>4943.48</td>\n",
       "      <td>6098.16</td>\n",
       "      <td>5675.21</td>\n",
       "    </tr>\n",
       "    <tr>\n",
       "      <th>4</th>\n",
       "      <td>02005</td>\n",
       "      <td>4695.10</td>\n",
       "      <td>5070.870747</td>\n",
       "      <td>5293.34</td>\n",
       "      <td>6443.76</td>\n",
       "      <td>5962.11</td>\n",
       "    </tr>\n",
       "    <tr>\n",
       "      <th>5</th>\n",
       "      <td>02006</td>\n",
       "      <td>4796.01</td>\n",
       "      <td>5603.396225</td>\n",
       "      <td>5377.37</td>\n",
       "      <td>6642.32</td>\n",
       "      <td>6168.19</td>\n",
       "    </tr>\n",
       "    <tr>\n",
       "      <th>6</th>\n",
       "      <td>02007</td>\n",
       "      <td>4197.39</td>\n",
       "      <td>4575.618845</td>\n",
       "      <td>5095.96</td>\n",
       "      <td>6355.43</td>\n",
       "      <td>5938.75</td>\n",
       "    </tr>\n",
       "    <tr>\n",
       "      <th>7</th>\n",
       "      <td>02008</td>\n",
       "      <td>3348.49</td>\n",
       "      <td>2800.941981</td>\n",
       "      <td>4590.73</td>\n",
       "      <td>5832.88</td>\n",
       "      <td>5400.85</td>\n",
       "    </tr>\n",
       "    <tr>\n",
       "      <th>8</th>\n",
       "      <td>02009</td>\n",
       "      <td>3952.79</td>\n",
       "      <td>4667.634219</td>\n",
       "      <td>4955.25</td>\n",
       "      <td>6237.88</td>\n",
       "      <td>5815.04</td>\n",
       "    </tr>\n",
       "    <tr>\n",
       "      <th>9</th>\n",
       "      <td>02010</td>\n",
       "      <td>4226.21</td>\n",
       "      <td>4103.096635</td>\n",
       "      <td>5167.14</td>\n",
       "      <td>6453.09</td>\n",
       "      <td>6088.45</td>\n",
       "    </tr>\n",
       "    <tr>\n",
       "      <th>10</th>\n",
       "      <td>02011</td>\n",
       "      <td>4373.56</td>\n",
       "      <td>5515.926401</td>\n",
       "      <td>5266.28</td>\n",
       "      <td>6589.54</td>\n",
       "      <td>6203.09</td>\n",
       "    </tr>\n",
       "    <tr>\n",
       "      <th>11</th>\n",
       "      <td>02012</td>\n",
       "      <td>4494.77</td>\n",
       "      <td>4720.418917</td>\n",
       "      <td>5347.55</td>\n",
       "      <td>6636.81</td>\n",
       "      <td>6277.50</td>\n",
       "    </tr>\n",
       "    <tr>\n",
       "      <th>12</th>\n",
       "      <td>02013</td>\n",
       "      <td>4987.93</td>\n",
       "      <td>6103.743836</td>\n",
       "      <td>5506.33</td>\n",
       "      <td>6852.92</td>\n",
       "      <td>6276.06</td>\n",
       "    </tr>\n",
       "    <tr>\n",
       "      <th>13</th>\n",
       "      <td>02014</td>\n",
       "      <td>5213.16</td>\n",
       "      <td>6204.832037</td>\n",
       "      <td>5607.01</td>\n",
       "      <td>6921.21</td>\n",
       "      <td>6179.37</td>\n",
       "    </tr>\n",
       "    <tr>\n",
       "      <th>14</th>\n",
       "      <td>02015</td>\n",
       "      <td>4505.45</td>\n",
       "      <td>4843.879949</td>\n",
       "      <td>5400.13</td>\n",
       "      <td>6613.76</td>\n",
       "      <td>6175.88</td>\n",
       "    </tr>\n",
       "  </tbody>\n",
       "</table>\n",
       "</div>"
      ],
      "text/plain": [
       "     area  educHead  ingresoEncuesta  educHeadYjobs  educHeadYjobsYrooms  \\\n",
       "0   02001   4654.65      3806.762807        5150.35              6218.23   \n",
       "1   02002   5389.31      6933.011914        5595.67              6935.92   \n",
       "2   02003   4629.02      4301.447851        5180.74              6245.81   \n",
       "3   02004   3872.46      3869.557112        4943.48              6098.16   \n",
       "4   02005   4695.10      5070.870747        5293.34              6443.76   \n",
       "5   02006   4796.01      5603.396225        5377.37              6642.32   \n",
       "6   02007   4197.39      4575.618845        5095.96              6355.43   \n",
       "7   02008   3348.49      2800.941981        4590.73              5832.88   \n",
       "8   02009   3952.79      4667.634219        4955.25              6237.88   \n",
       "9   02010   4226.21      4103.096635        5167.14              6453.09   \n",
       "10  02011   4373.56      5515.926401        5266.28              6589.54   \n",
       "11  02012   4494.77      4720.418917        5347.55              6636.81   \n",
       "12  02013   4987.93      6103.743836        5506.33              6852.92   \n",
       "13  02014   5213.16      6204.832037        5607.01              6921.21   \n",
       "14  02015   4505.45      4843.879949        5400.13              6613.76   \n",
       "\n",
       "    jobsAndSchool  \n",
       "0         5609.57  \n",
       "1         5994.45  \n",
       "2         5711.07  \n",
       "3         5675.21  \n",
       "4         5962.11  \n",
       "5         6168.19  \n",
       "6         5938.75  \n",
       "7         5400.85  \n",
       "8         5815.04  \n",
       "9         6088.45  \n",
       "10        6203.09  \n",
       "11        6277.50  \n",
       "12        6276.06  \n",
       "13        6179.37  \n",
       "14        6175.88  "
      ]
     },
     "execution_count": 34,
     "metadata": {},
     "output_type": "execute_result"
    }
   ],
   "source": [
    "ingresoXComuna"
   ]
  },
  {
   "cell_type": "markdown",
   "metadata": {},
   "source": [
    "# Modelo5 jobsAndSchoolYrooms"
   ]
  },
  {
   "cell_type": "code",
   "execution_count": 35,
   "metadata": {
    "collapsed": true
   },
   "outputs": [],
   "source": [
    "ruta = 'data/indecOnline/jobSchoolYrooms/'\n",
    "archivo = ruta + 'comunas.csv'\n",
    "ingresoModelo5 = readRedatamCSV(archivo)"
   ]
  },
  {
   "cell_type": "code",
   "execution_count": 36,
   "metadata": {
    "collapsed": true
   },
   "outputs": [],
   "source": [
    "ingresoXComuna = ingresoXComuna.merge(right=ingresoModelo5,on='area')\n",
    "ingresoXComuna.columns = ['area','educHead','ingresoEncuesta','educHeadYjobs','educHeadYjobsYrooms','jobsAndSchool',\n",
    "                         'jobsAndSchoolYrooms']\n",
    "ingresoXComuna.jobsAndSchoolYrooms = ingresoXComuna.jobsAndSchoolYrooms.astype(float)"
   ]
  },
  {
   "cell_type": "code",
   "execution_count": 37,
   "metadata": {
    "collapsed": false
   },
   "outputs": [
    {
     "data": {
      "text/html": [
       "<div>\n",
       "<table border=\"1\" class=\"dataframe\">\n",
       "  <thead>\n",
       "    <tr style=\"text-align: right;\">\n",
       "      <th></th>\n",
       "      <th>area</th>\n",
       "      <th>educHead</th>\n",
       "      <th>ingresoEncuesta</th>\n",
       "      <th>educHeadYjobs</th>\n",
       "      <th>educHeadYjobsYrooms</th>\n",
       "      <th>jobsAndSchool</th>\n",
       "      <th>jobsAndSchoolYrooms</th>\n",
       "    </tr>\n",
       "  </thead>\n",
       "  <tbody>\n",
       "    <tr>\n",
       "      <th>0</th>\n",
       "      <td>02001</td>\n",
       "      <td>4654.65</td>\n",
       "      <td>3806.762807</td>\n",
       "      <td>5150.35</td>\n",
       "      <td>6218.23</td>\n",
       "      <td>5609.57</td>\n",
       "      <td>5672.81</td>\n",
       "    </tr>\n",
       "    <tr>\n",
       "      <th>1</th>\n",
       "      <td>02002</td>\n",
       "      <td>5389.31</td>\n",
       "      <td>6933.011914</td>\n",
       "      <td>5595.67</td>\n",
       "      <td>6935.92</td>\n",
       "      <td>5994.45</td>\n",
       "      <td>6184.47</td>\n",
       "    </tr>\n",
       "    <tr>\n",
       "      <th>2</th>\n",
       "      <td>02003</td>\n",
       "      <td>4629.02</td>\n",
       "      <td>4301.447851</td>\n",
       "      <td>5180.74</td>\n",
       "      <td>6245.81</td>\n",
       "      <td>5711.07</td>\n",
       "      <td>5772.03</td>\n",
       "    </tr>\n",
       "    <tr>\n",
       "      <th>3</th>\n",
       "      <td>02004</td>\n",
       "      <td>3872.46</td>\n",
       "      <td>3869.557112</td>\n",
       "      <td>4943.48</td>\n",
       "      <td>6098.16</td>\n",
       "      <td>5675.21</td>\n",
       "      <td>5851.23</td>\n",
       "    </tr>\n",
       "    <tr>\n",
       "      <th>4</th>\n",
       "      <td>02005</td>\n",
       "      <td>4695.10</td>\n",
       "      <td>5070.870747</td>\n",
       "      <td>5293.34</td>\n",
       "      <td>6443.76</td>\n",
       "      <td>5962.11</td>\n",
       "      <td>6069.88</td>\n",
       "    </tr>\n",
       "    <tr>\n",
       "      <th>5</th>\n",
       "      <td>02006</td>\n",
       "      <td>4796.01</td>\n",
       "      <td>5603.396225</td>\n",
       "      <td>5377.37</td>\n",
       "      <td>6642.32</td>\n",
       "      <td>6168.19</td>\n",
       "      <td>6338.92</td>\n",
       "    </tr>\n",
       "    <tr>\n",
       "      <th>6</th>\n",
       "      <td>02007</td>\n",
       "      <td>4197.39</td>\n",
       "      <td>4575.618845</td>\n",
       "      <td>5095.96</td>\n",
       "      <td>6355.43</td>\n",
       "      <td>5938.75</td>\n",
       "      <td>6152.72</td>\n",
       "    </tr>\n",
       "    <tr>\n",
       "      <th>7</th>\n",
       "      <td>02008</td>\n",
       "      <td>3348.49</td>\n",
       "      <td>2800.941981</td>\n",
       "      <td>4590.73</td>\n",
       "      <td>5832.88</td>\n",
       "      <td>5400.85</td>\n",
       "      <td>5672.33</td>\n",
       "    </tr>\n",
       "    <tr>\n",
       "      <th>8</th>\n",
       "      <td>02009</td>\n",
       "      <td>3952.79</td>\n",
       "      <td>4667.634219</td>\n",
       "      <td>4955.25</td>\n",
       "      <td>6237.88</td>\n",
       "      <td>5815.04</td>\n",
       "      <td>6063.10</td>\n",
       "    </tr>\n",
       "    <tr>\n",
       "      <th>9</th>\n",
       "      <td>02010</td>\n",
       "      <td>4226.21</td>\n",
       "      <td>4103.096635</td>\n",
       "      <td>5167.14</td>\n",
       "      <td>6453.09</td>\n",
       "      <td>6088.45</td>\n",
       "      <td>6315.20</td>\n",
       "    </tr>\n",
       "    <tr>\n",
       "      <th>10</th>\n",
       "      <td>02011</td>\n",
       "      <td>4373.56</td>\n",
       "      <td>5515.926401</td>\n",
       "      <td>5266.28</td>\n",
       "      <td>6589.54</td>\n",
       "      <td>6203.09</td>\n",
       "      <td>6442.57</td>\n",
       "    </tr>\n",
       "    <tr>\n",
       "      <th>11</th>\n",
       "      <td>02012</td>\n",
       "      <td>4494.77</td>\n",
       "      <td>4720.418917</td>\n",
       "      <td>5347.55</td>\n",
       "      <td>6636.81</td>\n",
       "      <td>6277.50</td>\n",
       "      <td>6485.08</td>\n",
       "    </tr>\n",
       "    <tr>\n",
       "      <th>12</th>\n",
       "      <td>02013</td>\n",
       "      <td>4987.93</td>\n",
       "      <td>6103.743836</td>\n",
       "      <td>5506.33</td>\n",
       "      <td>6852.92</td>\n",
       "      <td>6276.06</td>\n",
       "      <td>6487.79</td>\n",
       "    </tr>\n",
       "    <tr>\n",
       "      <th>13</th>\n",
       "      <td>02014</td>\n",
       "      <td>5213.16</td>\n",
       "      <td>6204.832037</td>\n",
       "      <td>5607.01</td>\n",
       "      <td>6921.21</td>\n",
       "      <td>6179.37</td>\n",
       "      <td>6360.25</td>\n",
       "    </tr>\n",
       "    <tr>\n",
       "      <th>14</th>\n",
       "      <td>02015</td>\n",
       "      <td>4505.45</td>\n",
       "      <td>4843.879949</td>\n",
       "      <td>5400.13</td>\n",
       "      <td>6613.76</td>\n",
       "      <td>6175.88</td>\n",
       "      <td>6340.28</td>\n",
       "    </tr>\n",
       "  </tbody>\n",
       "</table>\n",
       "</div>"
      ],
      "text/plain": [
       "     area  educHead  ingresoEncuesta  educHeadYjobs  educHeadYjobsYrooms  \\\n",
       "0   02001   4654.65      3806.762807        5150.35              6218.23   \n",
       "1   02002   5389.31      6933.011914        5595.67              6935.92   \n",
       "2   02003   4629.02      4301.447851        5180.74              6245.81   \n",
       "3   02004   3872.46      3869.557112        4943.48              6098.16   \n",
       "4   02005   4695.10      5070.870747        5293.34              6443.76   \n",
       "5   02006   4796.01      5603.396225        5377.37              6642.32   \n",
       "6   02007   4197.39      4575.618845        5095.96              6355.43   \n",
       "7   02008   3348.49      2800.941981        4590.73              5832.88   \n",
       "8   02009   3952.79      4667.634219        4955.25              6237.88   \n",
       "9   02010   4226.21      4103.096635        5167.14              6453.09   \n",
       "10  02011   4373.56      5515.926401        5266.28              6589.54   \n",
       "11  02012   4494.77      4720.418917        5347.55              6636.81   \n",
       "12  02013   4987.93      6103.743836        5506.33              6852.92   \n",
       "13  02014   5213.16      6204.832037        5607.01              6921.21   \n",
       "14  02015   4505.45      4843.879949        5400.13              6613.76   \n",
       "\n",
       "    jobsAndSchool  jobsAndSchoolYrooms  \n",
       "0         5609.57              5672.81  \n",
       "1         5994.45              6184.47  \n",
       "2         5711.07              5772.03  \n",
       "3         5675.21              5851.23  \n",
       "4         5962.11              6069.88  \n",
       "5         6168.19              6338.92  \n",
       "6         5938.75              6152.72  \n",
       "7         5400.85              5672.33  \n",
       "8         5815.04              6063.10  \n",
       "9         6088.45              6315.20  \n",
       "10        6203.09              6442.57  \n",
       "11        6277.50              6485.08  \n",
       "12        6276.06              6487.79  \n",
       "13        6179.37              6360.25  \n",
       "14        6175.88              6340.28  "
      ]
     },
     "execution_count": 37,
     "metadata": {},
     "output_type": "execute_result"
    }
   ],
   "source": [
    "ingresoXComuna"
   ]
  },
  {
   "cell_type": "markdown",
   "metadata": {},
   "source": [
    "# TEST"
   ]
  },
  {
   "cell_type": "code",
   "execution_count": 38,
   "metadata": {
    "collapsed": false
   },
   "outputs": [
    {
     "data": {
      "text/plain": [
       "2.2226287706569297"
      ]
     },
     "execution_count": 38,
     "metadata": {},
     "output_type": "execute_result"
    },
    {
     "data": {
      "image/png": "[encoded data removed]",
      "text/plain": [
       "<matplotlib.figure.Figure at 0x7f0d0287ba10>"
      ]
     },
     "metadata": {},
     "output_type": "display_data"
    }
   ],
   "source": [
    "R2(dataset = ingresoXComuna,real = 'ingresoEncuesta',predicted = 'jobsAndSchoolYrooms')"
   ]
  },
  {
   "cell_type": "code",
   "execution_count": 40,
   "metadata": {
    "collapsed": false
   },
   "outputs": [
    {
     "data": {
      "text/plain": [
       "1.8134632515764395"
      ]
     },
     "execution_count": 40,
     "metadata": {},
     "output_type": "execute_result"
    },
    {
     "data": {
      "image/png": "[encoded data removed]",
      "text/plain": [
       "<matplotlib.figure.Figure at 0x7f0d0279b5d0>"
      ]
     },
     "metadata": {},
     "output_type": "display_data"
    }
   ],
   "source": [
    "R2(dataset = ingresoXComuna,real = 'ingresoEncuesta',predicted = 'jobsAndSchool')"
   ]
  },
  {
   "cell_type": "code",
   "execution_count": 41,
   "metadata": {
    "collapsed": false
   },
   "outputs": [
    {
     "data": {
      "text/plain": [
       "2.9263175703317885"
      ]
     },
     "execution_count": 41,
     "metadata": {},
     "output_type": "execute_result"
    },
    {
     "data": {
      "image/png": "[encoded data removed]",
      "text/plain": [
       "<matplotlib.figure.Figure at 0x7f0d024b5710>"
      ]
     },
     "metadata": {},
     "output_type": "display_data"
    }
   ],
   "source": [
    "R2(dataset = ingresoXComuna,real = 'ingresoEncuesta',predicted = 'educHeadYjobsYrooms')"
   ]
  },
  {
   "cell_type": "code",
   "execution_count": 42,
   "metadata": {
    "collapsed": false
   },
   "outputs": [
    {
     "data": {
      "text/plain": [
       "0.7354646108728816"
      ]
     },
     "execution_count": 42,
     "metadata": {},
     "output_type": "execute_result"
    },
    {
     "data": {
      "image/png": "[encoded data removed]",
      "text/plain": [
       "<matplotlib.figure.Figure at 0x7f0d023ee650>"
      ]
     },
     "metadata": {},
     "output_type": "display_data"
    }
   ],
   "source": [
    "R2(dataset = ingresoXComuna,real = 'ingresoEncuesta',predicted = 'educHeadYjobs')"
   ]
  },
  {
   "cell_type": "code",
   "execution_count": 43,
   "metadata": {
    "collapsed": false
   },
   "outputs": [
    {
     "data": {
      "text/plain": [
       "0.5408951985028208"
      ]
     },
     "execution_count": 43,
     "metadata": {},
     "output_type": "execute_result"
    },
    {
     "data": {
      "image/png": "[encoded data removed]",
      "text/plain": [
       "<matplotlib.figure.Figure at 0x7f0d023251d0>"
      ]
     },
     "metadata": {},
     "output_type": "display_data"
    }
   ],
   "source": [
    "R2(dataset = ingresoXComuna,real = 'ingresoEncuesta',predicted = 'educHead')"
   ]
  },
  {
   "cell_type": "code",
   "execution_count": 44,
   "metadata": {
    "collapsed": false
   },
   "outputs": [
    {
     "data": {
      "text/html": [
       "<div>\n",
       "<table border=\"1\" class=\"dataframe\">\n",
       "  <thead>\n",
       "    <tr style=\"text-align: right;\">\n",
       "      <th></th>\n",
       "      <th>educHead</th>\n",
       "      <th>ingresoEncuesta</th>\n",
       "      <th>educHeadYjobs</th>\n",
       "      <th>educHeadYjobsYrooms</th>\n",
       "      <th>jobsAndSchool</th>\n",
       "      <th>jobsAndSchoolYrooms</th>\n",
       "    </tr>\n",
       "  </thead>\n",
       "  <tbody>\n",
       "    <tr>\n",
       "      <th>educHead</th>\n",
       "      <td>1.000000</td>\n",
       "      <td>0.852916</td>\n",
       "      <td>0.945786</td>\n",
       "      <td>0.868302</td>\n",
       "      <td>0.582601</td>\n",
       "      <td>0.453320</td>\n",
       "    </tr>\n",
       "    <tr>\n",
       "      <th>ingresoEncuesta</th>\n",
       "      <td>0.852916</td>\n",
       "      <td>1.000000</td>\n",
       "      <td>0.887309</td>\n",
       "      <td>0.930352</td>\n",
       "      <td>0.719773</td>\n",
       "      <td>0.678700</td>\n",
       "    </tr>\n",
       "    <tr>\n",
       "      <th>educHeadYjobs</th>\n",
       "      <td>0.945786</td>\n",
       "      <td>0.887309</td>\n",
       "      <td>1.000000</td>\n",
       "      <td>0.962413</td>\n",
       "      <td>0.796443</td>\n",
       "      <td>0.691391</td>\n",
       "    </tr>\n",
       "    <tr>\n",
       "      <th>educHeadYjobsYrooms</th>\n",
       "      <td>0.868302</td>\n",
       "      <td>0.930352</td>\n",
       "      <td>0.962413</td>\n",
       "      <td>1.000000</td>\n",
       "      <td>0.864166</td>\n",
       "      <td>0.813481</td>\n",
       "    </tr>\n",
       "    <tr>\n",
       "      <th>jobsAndSchool</th>\n",
       "      <td>0.582601</td>\n",
       "      <td>0.719773</td>\n",
       "      <td>0.796443</td>\n",
       "      <td>0.864166</td>\n",
       "      <td>1.000000</td>\n",
       "      <td>0.976802</td>\n",
       "    </tr>\n",
       "    <tr>\n",
       "      <th>jobsAndSchoolYrooms</th>\n",
       "      <td>0.453320</td>\n",
       "      <td>0.678700</td>\n",
       "      <td>0.691391</td>\n",
       "      <td>0.813481</td>\n",
       "      <td>0.976802</td>\n",
       "      <td>1.000000</td>\n",
       "    </tr>\n",
       "  </tbody>\n",
       "</table>\n",
       "</div>"
      ],
      "text/plain": [
       "                     educHead  ingresoEncuesta  educHeadYjobs  \\\n",
       "educHead             1.000000         0.852916       0.945786   \n",
       "ingresoEncuesta      0.852916         1.000000       0.887309   \n",
       "educHeadYjobs        0.945786         0.887309       1.000000   \n",
       "educHeadYjobsYrooms  0.868302         0.930352       0.962413   \n",
       "jobsAndSchool        0.582601         0.719773       0.796443   \n",
       "jobsAndSchoolYrooms  0.453320         0.678700       0.691391   \n",
       "\n",
       "                     educHeadYjobsYrooms  jobsAndSchool  jobsAndSchoolYrooms  \n",
       "educHead                        0.868302       0.582601             0.453320  \n",
       "ingresoEncuesta                 0.930352       0.719773             0.678700  \n",
       "educHeadYjobs                   0.962413       0.796443             0.691391  \n",
       "educHeadYjobsYrooms             1.000000       0.864166             0.813481  \n",
       "jobsAndSchool                   0.864166       1.000000             0.976802  \n",
       "jobsAndSchoolYrooms             0.813481       0.976802             1.000000  "
      ]
     },
     "execution_count": 44,
     "metadata": {},
     "output_type": "execute_result"
    }
   ],
   "source": [
    "ingresoXComuna.corr()"
   ]
  },
  {
   "cell_type": "markdown",
   "metadata": {},
   "source": [
    "# Si usamos el correlation coeficient el que mejor da es educHeadYjobsYrooms. 96%"
   ]
  },
  {
   "cell_type": "code",
   "execution_count": null,
   "metadata": {
    "collapsed": true
   },
   "outputs": [],
   "source": []
  }
 ],
 "metadata": {
  "kernelspec": {
   "display_name": "Python [Root]",
   "language": "python",
   "name": "Python [Root]"
  },
  "language_info": {
   "codemirror_mode": {
    "name": "ipython",
    "version": 2
   },
   "file_extension": ".py",
   "mimetype": "text/x-python",
   "name": "python",
   "nbconvert_exporter": "python",
   "pygments_lexer": "ipython2",
   "version": "2.7.12"
  }
 },
 "nbformat": 4,
 "nbformat_minor": 0
}
