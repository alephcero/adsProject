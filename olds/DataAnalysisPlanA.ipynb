{
 "cells": [
  {
   "cell_type": "markdown",
   "metadata": {},
   "source": [
    "# New York University\n",
    "## Applied Data Science 2016 Final Project\n",
    "----\n",
    "## Measuring household income under Redatam in CensusData\n",
    "\n",
    "**Project Description:** Lorem ipsum\n",
    "\n",
    "**Members:**\n",
    "- Felipe Gonzales\n",
    "- Ilan Reinstein\n",
    "- Fernando Melchor\n",
    "- Nicolas Metallo"
   ]
  },
  {
   "cell_type": "markdown",
   "metadata": {},
   "source": [
    "# Libraries"
   ]
  },
  {
   "cell_type": "code",
   "execution_count": 29,
   "metadata": {
    "collapsed": false
   },
   "outputs": [
    {
     "name": "stdout",
     "output_type": "stream",
     "text": [
      "Populating the interactive namespace from numpy and matplotlib\n"
     ]
    }
   ],
   "source": [
    "import pandas as pd\n",
    "import numpy as np\n",
    "import os\n",
    "import sys\n",
    "import simpledbf\n",
    "%pylab inline\n",
    "import matplotlib.pyplot as plt\n",
    "import statsmodels.api as sm\n",
    "from sklearn.model_selection import train_test_split\n",
    "from sklearn import linear_model"
   ]
  },
  {
   "cell_type": "markdown",
   "metadata": {},
   "source": [
    "# Functions"
   ]
  },
  {
   "cell_type": "code",
   "execution_count": 30,
   "metadata": {
    "collapsed": false
   },
   "outputs": [],
   "source": [
    "def runModel(dataset, income, varForModel):\n",
    "    \n",
    "    '''\n",
    "    This function takes a data set, runs a model according to specifications,\n",
    "    and returns the model, printing the summary\n",
    "    '''\n",
    "    y = dataset[income].values\n",
    "    X = dataset.loc[:,varForModel].values\n",
    "    X = sm.add_constant(X)\n",
    "\n",
    "    w = dataset.PONDERA\n",
    "    \n",
    "    lm = sm.WLS(y, X, weights=1. / w, missing = 'drop', hasconst=True).fit()\n",
    "    print lm.summary()\n",
    "    for i in range(1,len(varForModel)+1):\n",
    "        print 'x%d: %s' % (i,varForModel[i-1])\n",
    "    #testing within sample\n",
    "    R_IS=[]\n",
    "    R_OS=[]\n",
    "    #R_prime = []\n",
    "    n=500\n",
    "    \n",
    "    for i in range(n):  \n",
    "        X_train, X_test, y_train, y_test = train_test_split(X, y, test_size=0.3, random_state = 200)\n",
    "        X_train = sm.add_constant(X_train)\n",
    "        X_test = sm.add_constant(X_test)\n",
    "        \n",
    "        lm = linear_model.LinearRegression(fit_intercept=True)\n",
    "        lm.fit(X_train, y_train, sample_weight = 1. / w[:len(X_train)])\n",
    "        y_hat_IS = lm.predict(X_train)\n",
    "        err_IS = y_hat_IS - y_train\n",
    "        R2_IS = 1 - (np.var(err_IS) / np.var(y_train))\n",
    "        \n",
    "        y_hat_OS = lm.predict(X_test)\n",
    "        err_OS = y_hat_OS - y_test\n",
    "        R2_OS = 1 - (np.var(err_OS) / np.var(y_test))\n",
    "        \n",
    "        R_IS.append(R2_IS)\n",
    "        R_OS.append(R2_OS)\n",
    "        \n",
    "    print(\"IS R-squared for {} times is {}\".format(n,np.mean(R_IS)))\n",
    "    print(\"OS R-squared for {} times is {}\".format(n,np.mean(R_OS)))\n"
   ]
  },
  {
   "cell_type": "markdown",
   "metadata": {},
   "source": [
    "# Get Data"
   ]
  },
  {
   "cell_type": "code",
   "execution_count": 31,
   "metadata": {
    "collapsed": false
   },
   "outputs": [
    {
     "data": {
      "text/html": [
       "<div>\n",
       "<table border=\"1\" class=\"dataframe\">\n",
       "  <thead>\n",
       "    <tr style=\"text-align: right;\">\n",
       "      <th></th>\n",
       "      <th>PONDERA</th>\n",
       "      <th>HomeType</th>\n",
       "      <th>RoomsNumber</th>\n",
       "      <th>FloorMaterial</th>\n",
       "      <th>RoofMaterial</th>\n",
       "      <th>RoofCoat</th>\n",
       "      <th>Water</th>\n",
       "      <th>WaterType</th>\n",
       "      <th>Toilet</th>\n",
       "      <th>ToiletLocation</th>\n",
       "      <th>...</th>\n",
       "      <th>spouseDECCFR</th>\n",
       "      <th>headDECIFR</th>\n",
       "      <th>spouseDECIFR</th>\n",
       "      <th>headMaritalStatus</th>\n",
       "      <th>spouseMaritalStatus</th>\n",
       "      <th>headReading</th>\n",
       "      <th>spouseReading</th>\n",
       "      <th>headPlaceOfBirth</th>\n",
       "      <th>spouseplaceOfBirth</th>\n",
       "      <th>sumPredicted</th>\n",
       "    </tr>\n",
       "  </thead>\n",
       "  <tbody>\n",
       "    <tr>\n",
       "      <th>0</th>\n",
       "      <td>1287</td>\n",
       "      <td>2</td>\n",
       "      <td>2</td>\n",
       "      <td>1.0</td>\n",
       "      <td>NaN</td>\n",
       "      <td>1.0</td>\n",
       "      <td>1.0</td>\n",
       "      <td>1</td>\n",
       "      <td>1</td>\n",
       "      <td>1.0</td>\n",
       "      <td>...</td>\n",
       "      <td>NaN</td>\n",
       "      <td>6.0</td>\n",
       "      <td>NaN</td>\n",
       "      <td>5.0</td>\n",
       "      <td>NaN</td>\n",
       "      <td>1.0</td>\n",
       "      <td>NaN</td>\n",
       "      <td>1.0</td>\n",
       "      <td>NaN</td>\n",
       "      <td>NaN</td>\n",
       "    </tr>\n",
       "    <tr>\n",
       "      <th>1</th>\n",
       "      <td>1674</td>\n",
       "      <td>2</td>\n",
       "      <td>2</td>\n",
       "      <td>1.0</td>\n",
       "      <td>1.0</td>\n",
       "      <td>1.0</td>\n",
       "      <td>1.0</td>\n",
       "      <td>1</td>\n",
       "      <td>1</td>\n",
       "      <td>1.0</td>\n",
       "      <td>...</td>\n",
       "      <td>6.0</td>\n",
       "      <td>8.0</td>\n",
       "      <td>8.0</td>\n",
       "      <td>2.0</td>\n",
       "      <td>2.0</td>\n",
       "      <td>1.0</td>\n",
       "      <td>1.0</td>\n",
       "      <td>2.0</td>\n",
       "      <td>2.0</td>\n",
       "      <td>15.469188</td>\n",
       "    </tr>\n",
       "    <tr>\n",
       "      <th>2</th>\n",
       "      <td>1522</td>\n",
       "      <td>2</td>\n",
       "      <td>4</td>\n",
       "      <td>1.0</td>\n",
       "      <td>NaN</td>\n",
       "      <td>1.0</td>\n",
       "      <td>1.0</td>\n",
       "      <td>1</td>\n",
       "      <td>1</td>\n",
       "      <td>1.0</td>\n",
       "      <td>...</td>\n",
       "      <td>NaN</td>\n",
       "      <td>5.0</td>\n",
       "      <td>NaN</td>\n",
       "      <td>4.0</td>\n",
       "      <td>NaN</td>\n",
       "      <td>1.0</td>\n",
       "      <td>NaN</td>\n",
       "      <td>3.0</td>\n",
       "      <td>NaN</td>\n",
       "      <td>NaN</td>\n",
       "    </tr>\n",
       "    <tr>\n",
       "      <th>3</th>\n",
       "      <td>1320</td>\n",
       "      <td>2</td>\n",
       "      <td>3</td>\n",
       "      <td>1.0</td>\n",
       "      <td>NaN</td>\n",
       "      <td>1.0</td>\n",
       "      <td>1.0</td>\n",
       "      <td>1</td>\n",
       "      <td>1</td>\n",
       "      <td>1.0</td>\n",
       "      <td>...</td>\n",
       "      <td>10.0</td>\n",
       "      <td>10.0</td>\n",
       "      <td>10.0</td>\n",
       "      <td>2.0</td>\n",
       "      <td>2.0</td>\n",
       "      <td>1.0</td>\n",
       "      <td>1.0</td>\n",
       "      <td>1.0</td>\n",
       "      <td>1.0</td>\n",
       "      <td>16.235857</td>\n",
       "    </tr>\n",
       "    <tr>\n",
       "      <th>4</th>\n",
       "      <td>1281</td>\n",
       "      <td>2</td>\n",
       "      <td>4</td>\n",
       "      <td>1.0</td>\n",
       "      <td>1.0</td>\n",
       "      <td>1.0</td>\n",
       "      <td>1.0</td>\n",
       "      <td>1</td>\n",
       "      <td>1</td>\n",
       "      <td>1.0</td>\n",
       "      <td>...</td>\n",
       "      <td>9.0</td>\n",
       "      <td>10.0</td>\n",
       "      <td>10.0</td>\n",
       "      <td>2.0</td>\n",
       "      <td>2.0</td>\n",
       "      <td>1.0</td>\n",
       "      <td>1.0</td>\n",
       "      <td>1.0</td>\n",
       "      <td>3.0</td>\n",
       "      <td>8.336136</td>\n",
       "    </tr>\n",
       "  </tbody>\n",
       "</table>\n",
       "<p>5 rows × 85 columns</p>\n",
       "</div>"
      ],
      "text/plain": [
       "   PONDERA  HomeType  RoomsNumber  FloorMaterial  RoofMaterial  RoofCoat  \\\n",
       "0     1287         2            2            1.0           NaN       1.0   \n",
       "1     1674         2            2            1.0           1.0       1.0   \n",
       "2     1522         2            4            1.0           NaN       1.0   \n",
       "3     1320         2            3            1.0           NaN       1.0   \n",
       "4     1281         2            4            1.0           1.0       1.0   \n",
       "\n",
       "   Water  WaterType  Toilet  ToiletLocation      ...       spouseDECCFR  \\\n",
       "0    1.0          1       1             1.0      ...                NaN   \n",
       "1    1.0          1       1             1.0      ...                6.0   \n",
       "2    1.0          1       1             1.0      ...                NaN   \n",
       "3    1.0          1       1             1.0      ...               10.0   \n",
       "4    1.0          1       1             1.0      ...                9.0   \n",
       "\n",
       "   headDECIFR  spouseDECIFR  headMaritalStatus  spouseMaritalStatus  \\\n",
       "0         6.0           NaN                5.0                  NaN   \n",
       "1         8.0           8.0                2.0                  2.0   \n",
       "2         5.0           NaN                4.0                  NaN   \n",
       "3        10.0          10.0                2.0                  2.0   \n",
       "4        10.0          10.0                2.0                  2.0   \n",
       "\n",
       "   headReading  spouseReading  headPlaceOfBirth  spouseplaceOfBirth  \\\n",
       "0          1.0            NaN               1.0                 NaN   \n",
       "1          1.0            1.0               2.0                 2.0   \n",
       "2          1.0            NaN               3.0                 NaN   \n",
       "3          1.0            1.0               1.0                 1.0   \n",
       "4          1.0            1.0               1.0                 3.0   \n",
       "\n",
       "   sumPredicted  \n",
       "0           NaN  \n",
       "1     15.469188  \n",
       "2           NaN  \n",
       "3     16.235857  \n",
       "4      8.336136  \n",
       "\n",
       "[5 rows x 85 columns]"
      ]
     },
     "execution_count": 31,
     "metadata": {},
     "output_type": "execute_result"
    }
   ],
   "source": [
    "#data = pd.read_csv('/resources/data/Data Projects/ADS Project/dataFinalParaModelo.csv')\n",
    "data = pd.read_csv('data/dataFinalParaModelo.csv')\n",
    "data.head()"
   ]
  },
  {
   "cell_type": "code",
   "execution_count": 32,
   "metadata": {
    "collapsed": false
   },
   "outputs": [
    {
     "data": {
      "text/plain": [
       "Index([u'PONDERA', u'HomeType', u'RoomsNumber', u'FloorMaterial',\n",
       "       u'RoofMaterial', u'RoofCoat', u'Water', u'WaterType', u'Toilet',\n",
       "       u'ToiletLocation', u'ToiletType', u'Sewer', u'DumpSites', u'Flooding',\n",
       "       u'EmergencyLoc', u'UsableTotalRooms', u'SleepingRooms', u'OfficeRooms',\n",
       "       u'OnlyWork', u'Kitchen', u'Sink', u'Garage', u'Ownership',\n",
       "       u'CookingCombustible', u'BathroomUse', u'Working', u'HouseMembers',\n",
       "       u'Memberless10', u'Membermore10', u'TotalHouseHoldIncome',\n",
       "       u'TotalFamilyIncome', u'TotalFamilyIncomeDec',\n",
       "       u'TotalFamilyIncomeDecReg', u'PerCapInc', u'PerCapIncDec',\n",
       "       u'PerCapIncDecReg', u'CookingRec', u'WaterRec', u'OwnershipRec',\n",
       "       u'Hacinamiento', u'id', u'lnHouseIncome', u'schoolAndJob', u'noJob',\n",
       "       u'job', u'AGLO1', u'headAge', u'spouseAge', u'headAge2', u'spouseAge2',\n",
       "       u'headFemale', u'spouseFemale', u'headEduc', u'spouseEduc',\n",
       "       u'headEduc2', u'spouseEduc2', u'headPrimary', u'spousePrimary',\n",
       "       u'headSecondary', u'spouseSecondary', u'headUniversity',\n",
       "       u'spouseUniversity', u'headP21', u'spouseP21', u'headP47T',\n",
       "       u'spouseP47T', u'headLnIncome', u'spouseLnIncome', u'headLnIncomeT',\n",
       "       u'spouseLnIncomeT', u'headPredictedLnIncome',\n",
       "       u'spousePredictedLnIncome', u'headJob', u'spouseJob', u'headDECCFR',\n",
       "       u'spouseDECCFR', u'headDECIFR', u'spouseDECIFR', u'headMaritalStatus',\n",
       "       u'spouseMaritalStatus', u'headReading', u'spouseReading',\n",
       "       u'headPlaceOfBirth', u'spouseplaceOfBirth', u'sumPredicted'],\n",
       "      dtype='object')"
      ]
     },
     "execution_count": 32,
     "metadata": {},
     "output_type": "execute_result"
    }
   ],
   "source": [
    "data.columns"
   ]
  },
  {
   "cell_type": "markdown",
   "metadata": {},
   "source": [
    "# Y = \"lnHouseIncome\""
   ]
  },
  {
   "cell_type": "markdown",
   "metadata": {},
   "source": [
    "## Data Exploration (Correlation Matrix)"
   ]
  },
  {
   "cell_type": "code",
   "execution_count": 33,
   "metadata": {
    "collapsed": false
   },
   "outputs": [
    {
     "data": {
      "image/png": "[encoded data removed]",
      "text/plain": [
       "<matplotlib.figure.Figure at 0x7f5f614802d0>"
      ]
     },
     "metadata": {},
     "output_type": "display_data"
    }
   ],
   "source": [
    "import seaborn as sns\n",
    "sns.set(context=\"paper\", font=\"monospace\")\n",
    "\n",
    "corrmat = data.loc[:,varForModel].corr()\n",
    "f, ax = plt.subplots(figsize=(18, 16))\n",
    "sns.heatmap(corrmat, vmax=.8, square=True)\n",
    "f.tight_layout()"
   ]
  },
  {
   "cell_type": "markdown",
   "metadata": {},
   "source": [
    "## Data Analysis (Linear Regression, WLS)"
   ]
  },
  {
   "cell_type": "code",
   "execution_count": 34,
   "metadata": {
    "collapsed": true
   },
   "outputs": [],
   "source": [
    "df1 = data.loc[:,'HomeType':'spouseUniversity']\n",
    "df2 = data.loc[:,'headJob':'spouseJob']\n",
    "df3 = data.loc[:,'headMaritalStatus':'spouseplaceOfBirth']\n",
    "\n",
    "df_lm = pd.concat([df1,df2,df3], axis=1)"
   ]
  },
  {
   "cell_type": "markdown",
   "metadata": {},
   "source": [
    "## Plan A - Base para el Modelo (con R = 0.30)"
   ]
  },
  {
   "cell_type": "code",
   "execution_count": 35,
   "metadata": {
    "collapsed": true
   },
   "outputs": [],
   "source": [
    "data['hasSpouse'] = np.where(np.isnan(data.spouseJob.values),0,1)\n",
    "data['spouseJob'] = np.where(np.isnan(data.spouseJob.values),0,data.spouseJob.values)"
   ]
  },
  {
   "cell_type": "code",
   "execution_count": 36,
   "metadata": {
    "collapsed": true
   },
   "outputs": [],
   "source": [
    "data['TotalFamilyIncome'].replace(to_replace=[0], value=[1] , inplace=True, axis=None)\n"
   ]
  },
  {
   "cell_type": "code",
   "execution_count": 37,
   "metadata": {
    "collapsed": false
   },
   "outputs": [],
   "source": [
    "data = data[data.TotalFamilyIncomeDecReg != 0]"
   ]
  },
  {
   "cell_type": "code",
   "execution_count": 38,
   "metadata": {
    "collapsed": false
   },
   "outputs": [
    {
     "data": {
      "text/plain": [
       "Index([u'PONDERA', u'HomeType', u'RoomsNumber', u'FloorMaterial',\n",
       "       u'RoofMaterial', u'RoofCoat', u'Water', u'WaterType', u'Toilet',\n",
       "       u'ToiletLocation', u'ToiletType', u'Sewer', u'DumpSites', u'Flooding',\n",
       "       u'EmergencyLoc', u'UsableTotalRooms', u'SleepingRooms', u'OfficeRooms',\n",
       "       u'OnlyWork', u'Kitchen', u'Sink', u'Garage', u'Ownership',\n",
       "       u'CookingCombustible', u'BathroomUse', u'Working', u'HouseMembers',\n",
       "       u'Memberless10', u'Membermore10', u'TotalHouseHoldIncome',\n",
       "       u'TotalFamilyIncome', u'TotalFamilyIncomeDec',\n",
       "       u'TotalFamilyIncomeDecReg', u'PerCapInc', u'PerCapIncDec',\n",
       "       u'PerCapIncDecReg', u'CookingRec', u'WaterRec', u'OwnershipRec',\n",
       "       u'Hacinamiento', u'id', u'lnHouseIncome', u'schoolAndJob', u'noJob',\n",
       "       u'job', u'AGLO1', u'headAge', u'spouseAge', u'headAge2', u'spouseAge2',\n",
       "       u'headFemale', u'spouseFemale', u'headEduc', u'spouseEduc',\n",
       "       u'headEduc2', u'spouseEduc2', u'headPrimary', u'spousePrimary',\n",
       "       u'headSecondary', u'spouseSecondary', u'headUniversity',\n",
       "       u'spouseUniversity', u'headP21', u'spouseP21', u'headP47T',\n",
       "       u'spouseP47T', u'headLnIncome', u'spouseLnIncome', u'headLnIncomeT',\n",
       "       u'spouseLnIncomeT', u'headPredictedLnIncome',\n",
       "       u'spousePredictedLnIncome', u'headJob', u'spouseJob', u'headDECCFR',\n",
       "       u'spouseDECCFR', u'headDECIFR', u'spouseDECIFR', u'headMaritalStatus',\n",
       "       u'spouseMaritalStatus', u'headReading', u'spouseReading',\n",
       "       u'headPlaceOfBirth', u'spouseplaceOfBirth', u'sumPredicted',\n",
       "       u'hasSpouse'],\n",
       "      dtype='object')"
      ]
     },
     "execution_count": 38,
     "metadata": {},
     "output_type": "execute_result"
    }
   ],
   "source": [
    "data.columns"
   ]
  },
  {
   "cell_type": "code",
   "execution_count": 39,
   "metadata": {
    "collapsed": false
   },
   "outputs": [],
   "source": [
    "data['income_log'] = np.log(data.TotalFamilyIncome)"
   ]
  },
  {
   "cell_type": "code",
   "execution_count": 40,
   "metadata": {
    "collapsed": false
   },
   "outputs": [
    {
     "data": {
      "text/plain": [
       "0"
      ]
     },
     "execution_count": 40,
     "metadata": {},
     "output_type": "execute_result"
    }
   ],
   "source": [
    "(data['TotalFamilyIncome']==0).sum()"
   ]
  },
  {
   "cell_type": "code",
   "execution_count": 41,
   "metadata": {
    "collapsed": false
   },
   "outputs": [
    {
     "name": "stdout",
     "output_type": "stream",
     "text": [
      "                            WLS Regression Results                            \n",
      "==============================================================================\n",
      "Dep. Variable:                      y   R-squared:                       0.293\n",
      "Model:                            WLS   Adj. R-squared:                  0.292\n",
      "Method:                 Least Squares   F-statistic:                     220.1\n",
      "Date:                Wed, 07 Dec 2016   Prob (F-statistic):          6.86e-197\n",
      "Time:                        14:00:35   Log-Likelihood:                -2766.5\n",
      "No. Observations:                2658   AIC:                             5545.\n",
      "Df Residuals:                    2652   BIC:                             5580.\n",
      "Df Model:                           5                                         \n",
      "Covariance Type:            nonrobust                                         \n",
      "==============================================================================\n",
      "                 coef    std err          t      P>|t|      [95.0% Conf. Int.]\n",
      "------------------------------------------------------------------------------\n",
      "const          6.5193      0.081     80.238      0.000         6.360     6.679\n",
      "x1             0.0086      0.001      8.767      0.000         0.007     0.011\n",
      "x2             0.0655      0.003     20.078      0.000         0.059     0.072\n",
      "x3             0.4103      0.035     11.744      0.000         0.342     0.479\n",
      "x4             0.3596      0.035     10.229      0.000         0.291     0.429\n",
      "x5             0.2190      0.032      6.802      0.000         0.156     0.282\n",
      "==============================================================================\n",
      "Omnibus:                       70.124   Durbin-Watson:                   1.965\n",
      "Prob(Omnibus):                  0.000   Jarque-Bera (JB):              116.312\n",
      "Skew:                          -0.232   Prob(JB):                     5.53e-26\n",
      "Kurtosis:                       3.914   Cond. No.                         363.\n",
      "==============================================================================\n",
      "\n",
      "Warnings:\n",
      "[1] Standard Errors assume that the covariance matrix of the errors is correctly specified.\n",
      "x1: headAge\n",
      "x2: headEduc\n",
      "x3: headJob\n",
      "x4: spouseJob\n",
      "x5: hasSpouse\n",
      "IS R-squared for 500 times is 0.293217072779\n",
      "OS R-squared for 500 times is 0.304470103705\n"
     ]
    }
   ],
   "source": [
    "income1 = 'income_log'\n",
    "income2 = 'TotalFamilyIncome'\n",
    "income = 'TotalFamilyIncomeDecReg'\n",
    "\n",
    "varForModel = [\n",
    "    'headAge', 'headEduc','headJob', 'spouseJob', 'hasSpouse'\n",
    "                      ]\n",
    "\n",
    "runModel(data, income1, varForModel)"
   ]
  },
  {
   "cell_type": "code",
   "execution_count": 42,
   "metadata": {
    "collapsed": false
   },
   "outputs": [
    {
     "name": "stdout",
     "output_type": "stream",
     "text": [
      "headAge 0\n",
      "headEduc 0\n",
      "headJob 0\n",
      "spouseJob 0\n",
      "hasSpouse 0\n"
     ]
    }
   ],
   "source": [
    "for i in varForModel:\n",
    "    print i, data[i].isnull().sum()"
   ]
  },
  {
   "cell_type": "markdown",
   "metadata": {},
   "source": [
    "## Plan B - Base para el Modelo (con R = 0.42)"
   ]
  },
  {
   "cell_type": "code",
   "execution_count": 43,
   "metadata": {
    "collapsed": false
   },
   "outputs": [
    {
     "data": {
      "text/plain": [
       "1.0    2292\n",
       "2.0     365\n",
       "Name: RoofCoat, dtype: int64"
      ]
     },
     "execution_count": 43,
     "metadata": {},
     "output_type": "execute_result"
    }
   ],
   "source": [
    "data.RoofCoat.value_counts()"
   ]
  },
  {
   "cell_type": "code",
   "execution_count": 44,
   "metadata": {
    "collapsed": false
   },
   "outputs": [],
   "source": [
    "data['FloorMaterial'] = np.where(np.isnan(data.FloorMaterial.values),5,data.FloorMaterial.values)\n",
    "data['sumPredicted'] = np.where(np.isnan(data.sumPredicted.values),0,data.sumPredicted.values)\n",
    "data['Sewer'] = np.where(np.isnan(data.Sewer.values),5,data.Sewer.values)\n",
    "data['ToiletType'] = np.where(np.isnan(data.ToiletType.values),4,data.ToiletType.values)\n",
    "data['Water'] = np.where(np.isnan(data.Water.values),4,data.Water.values)\n",
    "data['RoofCoat'] = np.where(np.isnan(data.RoofCoat.values),2,data.RoofCoat.values)"
   ]
  },
  {
   "cell_type": "code",
   "execution_count": 45,
   "metadata": {
    "collapsed": false
   },
   "outputs": [
    {
     "data": {
      "text/plain": [
       "1    2179\n",
       "2     479\n",
       "Name: Working, dtype: int64"
      ]
     },
     "execution_count": 45,
     "metadata": {},
     "output_type": "execute_result"
    }
   ],
   "source": [
    "data.Working.value_counts()"
   ]
  },
  {
   "cell_type": "code",
   "execution_count": 46,
   "metadata": {
    "collapsed": false
   },
   "outputs": [
    {
     "data": {
      "text/plain": [
       "spousePrimary              0.152954\n",
       "WaterRec                   0.163373\n",
       "headPrimary                0.192579\n",
       "HouseMembers               0.239568\n",
       "CookingRec                 0.250057\n",
       "hasSpouse                  0.268053\n",
       "spouseLnIncomeT            0.268757\n",
       "Membermore10               0.299271\n",
       "RoomsNumber                0.305293\n",
       "UsableTotalRooms           0.308522\n",
       "headJob                    0.315838\n",
       "SleepingRooms              0.318886\n",
       "spouseJob                  0.338919\n",
       "spousePredictedLnIncome    0.345337\n",
       "spouseSecondary            0.350372\n",
       "headSecondary              0.354092\n",
       "headPredictedLnIncome      0.363371\n",
       "headUniversity             0.364185\n",
       "headLnIncomeT              0.381602\n",
       "spouseLnIncome             0.388686\n",
       "headEduc                   0.406296\n",
       "sumPredicted               0.415837\n",
       "headEduc2                  0.416498\n",
       "headLnIncome               0.416832\n",
       "spouseUniversity           0.427270\n",
       "spouseEduc                 0.428856\n",
       "spouseEduc2                0.451749\n",
       "spouseP21                  0.469695\n",
       "spouseP47T                 0.485558\n",
       "job                        0.540878\n",
       "headP21                    0.562298\n",
       "PerCapInc                  0.581407\n",
       "headP47T                   0.613738\n",
       "schoolAndJob               0.649187\n",
       "headDECCFR                 0.707220\n",
       "PerCapIncDec               0.707220\n",
       "PerCapIncDecReg            0.707635\n",
       "TotalHouseHoldIncome       0.804034\n",
       "TotalFamilyIncome          0.804034\n",
       "spouseDECCFR               0.839108\n",
       "income_log                 0.963900\n",
       "lnHouseIncome              0.963900\n",
       "spouseDECIFR               0.987291\n",
       "TotalFamilyIncomeDec       0.989017\n",
       "headDECIFR                 0.989017\n",
       "TotalFamilyIncomeDecReg    1.000000\n",
       "Name: TotalFamilyIncomeDecReg, dtype: float64"
      ]
     },
     "execution_count": 46,
     "metadata": {},
     "output_type": "execute_result"
    }
   ],
   "source": [
    "data.corr()['TotalFamilyIncomeDecReg'][data.corr()['TotalFamilyIncomeDecReg'] > 0.15].sort_values()"
   ]
  },
  {
   "cell_type": "code",
   "execution_count": 47,
   "metadata": {
    "collapsed": false
   },
   "outputs": [
    {
     "name": "stdout",
     "output_type": "stream",
     "text": [
      "                            WLS Regression Results                            \n",
      "==============================================================================\n",
      "Dep. Variable:                      y   R-squared:                       0.381\n",
      "Model:                            WLS   Adj. R-squared:                  0.379\n",
      "Method:                 Least Squares   F-statistic:                     203.4\n",
      "Date:                Wed, 07 Dec 2016   Prob (F-statistic):          6.70e-269\n",
      "Time:                        14:00:43   Log-Likelihood:                -2591.4\n",
      "No. Observations:                2658   AIC:                             5201.\n",
      "Df Residuals:                    2649   BIC:                             5254.\n",
      "Df Model:                           8                                         \n",
      "Covariance Type:            nonrobust                                         \n",
      "==============================================================================\n",
      "                 coef    std err          t      P>|t|      [95.0% Conf. Int.]\n",
      "------------------------------------------------------------------------------\n",
      "const          6.2900      0.119     52.847      0.000         6.057     6.523\n",
      "x1             0.1538      0.021      7.349      0.000         0.113     0.195\n",
      "x2             0.0798      0.010      7.844      0.000         0.060     0.100\n",
      "x3             0.2175      0.064      3.418      0.001         0.093     0.342\n",
      "x4            -0.2253      0.032     -7.080      0.000        -0.288    -0.163\n",
      "x5             0.0076      0.001      7.806      0.000         0.006     0.009\n",
      "x6             0.0641      0.003     19.097      0.000         0.057     0.071\n",
      "x7             0.3677      0.033     11.241      0.000         0.304     0.432\n",
      "x8             0.3689      0.029     12.751      0.000         0.312     0.426\n",
      "==============================================================================\n",
      "Omnibus:                      134.287   Durbin-Watson:                   1.945\n",
      "Prob(Omnibus):                  0.000   Jarque-Bera (JB):              204.235\n",
      "Skew:                          -0.438   Prob(JB):                     4.48e-45\n",
      "Kurtosis:                       4.037   Cond. No.                         586.\n",
      "==============================================================================\n",
      "\n",
      "Warnings:\n",
      "[1] Standard Errors assume that the covariance matrix of the errors is correctly specified.\n",
      "x1: SleepingRooms\n",
      "x2: HouseMembers\n",
      "x3: WaterRec\n",
      "x4: CookingCombustible\n",
      "x5: headAge\n",
      "x6: headEduc\n",
      "x7: headJob\n",
      "x8: spouseJob\n",
      "IS R-squared for 500 times is 0.394682483736\n",
      "OS R-squared for 500 times is 0.338540634143\n"
     ]
    }
   ],
   "source": [
    "income1 = 'income_log'\n",
    "income2 = 'TotalFamilyIncome'\n",
    "income = 'TotalFamilyIncomeDecReg'\n",
    "\n",
    "income = 'income_log'\n",
    "\n",
    "varForModel = [\n",
    "    'SleepingRooms','HouseMembers','WaterRec',\n",
    "    'CookingCombustible',\n",
    "    \n",
    "#     'SleepingRooms', 'UsableTotalRooms', 'RoomsNumber', 'HouseMembers', 'WaterRec', # positivas\n",
    "#     'CookingCombustible', 'FloorMaterial', 'Sewer', 'ToiletType','Sink', 'RoofCoat', 'Water', #negativas\n",
    "#     'headReading', 'OwnershipRec','WaterType', #sospechoso\n",
    "    'headAge', 'headEduc','headJob', 'spouseJob' #base\n",
    "                      ]\n",
    "\n",
    "runModel(data, income, varForModel)"
   ]
  },
  {
   "cell_type": "markdown",
   "metadata": {},
   "source": [
    "# MODELOS FELIPE PROBANDO"
   ]
  },
  {
   "cell_type": "code",
   "execution_count": 48,
   "metadata": {
    "collapsed": true
   },
   "outputs": [],
   "source": [
    "data['TotalFamilyIncome'].replace(to_replace=[0], value=[1] , inplace=True, axis=None)\n"
   ]
  },
  {
   "cell_type": "code",
   "execution_count": 49,
   "metadata": {
    "collapsed": false
   },
   "outputs": [],
   "source": [
    "data['income_logPer'] = np.log(data.PerCapInc)"
   ]
  },
  {
   "cell_type": "code",
   "execution_count": 112,
   "metadata": {
    "collapsed": false
   },
   "outputs": [
    {
     "data": {
      "text/plain": [
       "Flooding                   0.108231\n",
       "spousePrimary              0.122330\n",
       "OwnershipRec               0.126776\n",
       "WaterRec                   0.132485\n",
       "headPrimary                0.147454\n",
       "HouseMembers               0.181875\n",
       "hasSpouse                  0.203178\n",
       "CookingRec                 0.217917\n",
       "Membermore10               0.246261\n",
       "headJob                    0.246625\n",
       "spouseLnIncomeT            0.280361\n",
       "headPredictedLnIncome      0.286899\n",
       "spouseJob                  0.304031\n",
       "SleepingRooms              0.307961\n",
       "headSecondary              0.312949\n",
       "spousePredictedLnIncome    0.314176\n",
       "RoomsNumber                0.316654\n",
       "spouseSecondary            0.319981\n",
       "UsableTotalRooms           0.320164\n",
       "headLnIncome               0.339666\n",
       "headLnIncomeT              0.349351\n",
       "sumPredicted               0.360143\n",
       "spouseLnIncome             0.363158\n",
       "headEduc                   0.378242\n",
       "headUniversity             0.386140\n",
       "headEduc2                  0.403212\n",
       "spouseEduc                 0.417591\n",
       "spouseEduc2                0.454361\n",
       "spouseUniversity           0.462501\n",
       "job                        0.470682\n",
       "headDECCFR                 0.607559\n",
       "PerCapIncDec               0.607559\n",
       "PerCapIncDecReg            0.615880\n",
       "schoolAndJob               0.616160\n",
       "spouseP21                  0.645548\n",
       "income_logPer              0.651651\n",
       "headP21                    0.667581\n",
       "spouseP47T                 0.669564\n",
       "PerCapInc                  0.692921\n",
       "spouseDECCFR               0.702022\n",
       "headP47T                   0.755165\n",
       "spouseDECIFR               0.766633\n",
       "TotalFamilyIncomeDec       0.790339\n",
       "headDECIFR                 0.790339\n",
       "TotalFamilyIncomeDecReg    0.804034\n",
       "income_log                 0.846533\n",
       "lnHouseIncome              0.846533\n",
       "TotalFamilyIncome          1.000000\n",
       "TotalHouseHoldIncome       1.000000\n",
       "Name: TotalFamilyIncome, dtype: float64"
      ]
     },
     "execution_count": 112,
     "metadata": {},
     "output_type": "execute_result"
    }
   ],
   "source": [
    "data.corr()['TotalFamilyIncome'][data.corr()['TotalFamilyIncome'] > 0.10].sort_values()"
   ]
  },
  {
   "cell_type": "code",
   "execution_count": 51,
   "metadata": {
    "collapsed": true
   },
   "outputs": [],
   "source": [
    "data['haciBool'] = (data.Hacinamiento > 3).astype(int)"
   ]
  },
  {
   "cell_type": "markdown",
   "metadata": {},
   "source": [
    "# MODELO 1"
   ]
  },
  {
   "cell_type": "code",
   "execution_count": 130,
   "metadata": {
    "collapsed": false
   },
   "outputs": [
    {
     "name": "stdout",
     "output_type": "stream",
     "text": [
      "                            WLS Regression Results                            \n",
      "==============================================================================\n",
      "Dep. Variable:                      y   R-squared:                       0.346\n",
      "Model:                            WLS   Adj. R-squared:                  0.345\n",
      "Method:                 Least Squares   F-statistic:                     468.2\n",
      "Date:                Wed, 07 Dec 2016   Prob (F-statistic):          3.76e-244\n",
      "Time:                        21:06:49   Log-Likelihood:                -25307.\n",
      "No. Observations:                2658   AIC:                         5.062e+04\n",
      "Df Residuals:                    2654   BIC:                         5.065e+04\n",
      "Df Model:                           3                                         \n",
      "Covariance Type:            nonrobust                                         \n",
      "==============================================================================\n",
      "                 coef    std err          t      P>|t|      [95.0% Conf. Int.]\n",
      "------------------------------------------------------------------------------\n",
      "const       -688.8471    181.426     -3.797      0.000     -1044.597  -333.097\n",
      "x1           292.9684     14.989     19.545      0.000       263.577   322.360\n",
      "x2          1777.3222     61.817     28.751      0.000      1656.108  1898.536\n",
      "x3         -1408.5292    292.023     -4.823      0.000     -1981.145  -835.913\n",
      "==============================================================================\n",
      "Omnibus:                     2193.060   Durbin-Watson:                   1.926\n",
      "Prob(Omnibus):                  0.000   Jarque-Bera (JB):           126655.123\n",
      "Skew:                           3.501   Prob(JB):                         0.00\n",
      "Kurtosis:                      36.084   Cond. No.                         53.0\n",
      "==============================================================================\n",
      "\n",
      "Warnings:\n",
      "[1] Standard Errors assume that the covariance matrix of the errors is correctly specified.\n",
      "x1: headEduc\n",
      "x2: job\n",
      "x3: haciBool\n",
      "IS R-squared for 500 times is 0.324940249663\n",
      "OS R-squared for 500 times is 0.367547173218\n"
     ]
    }
   ],
   "source": [
    "incomePer1 = 'PerCapInc'\n",
    "incomePer2 = 'income_logPer'\n",
    "incomePer3 = 'PerCapIncDecReg'\n",
    "income1 = 'TotalFamilyIncome'\n",
    "income2 = 'income_log'\n",
    "income3 = 'TotalFamilyIncomeDecReg'\n",
    "\n",
    "\n",
    "varForModel = [\n",
    "'headEduc',\n",
    "    #'CookingRec',\n",
    "    #'schoolAndJob',\n",
    "    #'WaterRec',\n",
    "    #'OwnershipRec',\n",
    "    'job', \n",
    "    #'noJob',\n",
    "    #'SleepingRooms',\n",
    "    'haciBool',\n",
    "    #'Hacinamiento'\n",
    "]\n",
    "\n",
    "runModel(data, income1, varForModel)\n",
    "#si uso per tengo que comentar sleeping y hacibool\n",
    "#runModel(data, incomePer2, varForModel)"
   ]
  },
  {
   "cell_type": "markdown",
   "metadata": {},
   "source": [
    "# Para CABA"
   ]
  },
  {
   "cell_type": "code",
   "execution_count": 225,
   "metadata": {
    "collapsed": false
   },
   "outputs": [
    {
     "name": "stdout",
     "output_type": "stream",
     "text": [
      "                            WLS Regression Results                            \n",
      "==============================================================================\n",
      "Dep. Variable:                      y   R-squared:                       0.436\n",
      "Model:                            WLS   Adj. R-squared:                  0.429\n",
      "Method:                 Least Squares   F-statistic:                     59.80\n",
      "Date:                Wed, 07 Dec 2016   Prob (F-statistic):           2.14e-89\n",
      "Time:                        21:33:22   Log-Likelihood:                -7536.3\n",
      "No. Observations:                 785   AIC:                         1.509e+04\n",
      "Df Residuals:                     774   BIC:                         1.515e+04\n",
      "Df Model:                          10                                         \n",
      "Covariance Type:            nonrobust                                         \n",
      "==============================================================================\n",
      "                 coef    std err          t      P>|t|      [95.0% Conf. Int.]\n",
      "------------------------------------------------------------------------------\n",
      "const      -5052.0109   2168.009     -2.330      0.020     -9307.885  -796.137\n",
      "x1             5.7797     48.182      0.120      0.905       -88.802   100.362\n",
      "x2           871.2333    467.858      1.862      0.063       -47.188  1789.654\n",
      "x3           324.3238     37.638      8.617      0.000       250.440   398.208\n",
      "x4          2391.4984   1277.249      1.872      0.062      -115.785  4898.782\n",
      "x5           398.2116    366.623      1.086      0.278      -321.482  1117.905\n",
      "x6         -2365.3000    576.274     -4.104      0.000     -3496.546 -1234.054\n",
      "x7          -448.1668    331.417     -1.352      0.177     -1098.749   202.416\n",
      "x8          1358.6949    516.094      2.633      0.009       345.585  2371.805\n",
      "x9         -2021.1824   1387.140     -1.457      0.145     -4744.185   701.820\n",
      "x10          786.8896    514.600      1.529      0.127      -223.287  1797.067\n",
      "==============================================================================\n",
      "Omnibus:                      673.291   Durbin-Watson:                   1.935\n",
      "Prob(Omnibus):                  0.000   Jarque-Bera (JB):            40939.384\n",
      "Skew:                           3.465   Prob(JB):                         0.00\n",
      "Kurtosis:                      37.693   Cond. No.                         482.\n",
      "==============================================================================\n",
      "\n",
      "Warnings:\n",
      "[1] Standard Errors assume that the covariance matrix of the errors is correctly specified.\n",
      "x1: headEduc\n",
      "x2: CookingRec\n",
      "x3: schoolAndJob\n",
      "x4: WaterRec\n",
      "x5: OwnershipRec\n",
      "x6: job\n",
      "x7: noJob\n",
      "x8: SleepingRooms\n",
      "x9: haciBool\n",
      "x10: Hacinamiento\n",
      "IS R-squared for 500 times is 0.438609106767\n",
      "OS R-squared for 500 times is 0.355431153812\n"
     ]
    }
   ],
   "source": [
    "varForModel = [\n",
    "'headEduc','job', \n",
    "    'SleepingRooms',\n",
    "\n",
    "    'schoolAndJob',\n",
    "    #'Hacinamiento'\n",
    "]\n",
    "\n",
    "\n",
    "dataCaba = data.loc[data.AGLO1 == 32,:]\n",
    "runModel(dataCaba, 'TotalFamilyIncome', varForModel)\n",
    "#si uso per tengo que comentar sleeping y hacibool\n",
    "#runModel(data, incomePer2, varForModel)"
   ]
  },
  {
   "cell_type": "code",
   "execution_count": null,
   "metadata": {
    "collapsed": true
   },
   "outputs": [],
   "source": []
  },
  {
   "cell_type": "code",
   "execution_count": 173,
   "metadata": {
    "collapsed": false
   },
   "outputs": [
    {
     "data": {
      "text/plain": [
       "headFemale                -0.170442\n",
       "spouseplaceOfBirth        -0.165554\n",
       "Garage                    -0.155483\n",
       "headPlaceOfBirth          -0.130169\n",
       "Sink                      -0.118291\n",
       "Ownership                 -0.117215\n",
       "OfficeRooms               -0.111855\n",
       "headAge2                  -0.104317\n",
       "RoofMaterial              -0.100135\n",
       "BathroomUse               -0.097633\n",
       "Kitchen                   -0.093201\n",
       "HomeType                  -0.092322\n",
       "noJob                     -0.088053\n",
       "haciBool                  -0.082325\n",
       "ToiletLocation            -0.081201\n",
       "headAge                   -0.078962\n",
       "Water                     -0.076476\n",
       "CookingCombustible        -0.062990\n",
       "ToiletType                -0.058658\n",
       "spouseAge2                -0.048889\n",
       "RoofCoat                  -0.037759\n",
       "Sewer                     -0.037503\n",
       "Toilet                    -0.025897\n",
       "spouseFemale              -0.025176\n",
       "id                        -0.015920\n",
       "spouseAge                 -0.011854\n",
       "PONDERA                    0.002111\n",
       "Flooding                   0.010874\n",
       "spouseMaritalStatus        0.016505\n",
       "FloorMaterial              0.020874\n",
       "                             ...   \n",
       "headLnIncome               0.350050\n",
       "spouseEduc                 0.352180\n",
       "spouseLnIncomeT            0.361750\n",
       "spousePredictedLnIncome    0.365929\n",
       "spouseEduc2                0.376133\n",
       "spouseUniversity           0.384851\n",
       "spouseJob                  0.391375\n",
       "spouseLnIncome             0.406646\n",
       "headLnIncomeT              0.418621\n",
       "sumPredicted               0.423010\n",
       "job                        0.540605\n",
       "PerCapIncDec               0.549037\n",
       "headDECCFR                 0.549037\n",
       "PerCapIncDecReg            0.559491\n",
       "spouseDECCFR               0.626715\n",
       "schoolAndJob               0.627046\n",
       "income_logPer              0.633924\n",
       "PerCapInc                  0.668324\n",
       "headP21                    0.676819\n",
       "spouseDECIFR               0.693593\n",
       "spouseP21                  0.694394\n",
       "spouseP47T                 0.734489\n",
       "headDECIFR                 0.753806\n",
       "TotalFamilyIncomeDec       0.753806\n",
       "headP47T                   0.760988\n",
       "TotalFamilyIncomeDecReg    0.766296\n",
       "lnHouseIncome              0.854564\n",
       "income_log                 0.854564\n",
       "TotalFamilyIncome          1.000000\n",
       "TotalHouseHoldIncome       1.000000\n",
       "Name: TotalFamilyIncome, dtype: float64"
      ]
     },
     "execution_count": 173,
     "metadata": {},
     "output_type": "execute_result"
    }
   ],
   "source": [
    "dataCaba.corr()['TotalFamilyIncome'][dataCaba.corr()['TotalFamilyIncome'] >-0.2].sort_values()"
   ]
  },
  {
   "cell_type": "code",
   "execution_count": 56,
   "metadata": {
    "collapsed": false
   },
   "outputs": [
    {
     "data": {
      "text/plain": [
       "2658"
      ]
     },
     "execution_count": 56,
     "metadata": {},
     "output_type": "execute_result"
    }
   ],
   "source": [
    "data.AGLO1.value_counts().sum()"
   ]
  },
  {
   "cell_type": "code",
   "execution_count": 57,
   "metadata": {
    "collapsed": false
   },
   "outputs": [
    {
     "data": {
      "text/plain": [
       "(2658, 89)"
      ]
     },
     "execution_count": 57,
     "metadata": {},
     "output_type": "execute_result"
    }
   ],
   "source": [
    "data.shape"
   ]
  },
  {
   "cell_type": "markdown",
   "metadata": {},
   "source": [
    "# **OLS PERFORMANCE COMPARISON**"
   ]
  },
  {
   "cell_type": "code",
   "execution_count": null,
   "metadata": {
    "collapsed": false
   },
   "outputs": [],
   "source": [
    "y = data[income].values\n",
    "X = data.loc[:,varForModel]\n",
    "X1 = sm.add_constant(X)\n",
    "\n",
    "X_train, X_test, y_train, y_test = train_test_split(X, y, test_size=0.3, random_state = 200)"
   ]
  },
  {
   "cell_type": "code",
   "execution_count": null,
   "metadata": {
    "collapsed": false
   },
   "outputs": [],
   "source": [
    "Number_variables=range(len(X_train.columns[:]))\n",
    "\n",
    "# #select best lambda for Ridge\n",
    "# lambdas = np.exp(np.linspace(-5,13,200))\n",
    "# lambda_r_optimal=Regularization_fit_lambda(1,X_train,y_train,lambdas,p=0.4,Graph=True)\n",
    "\n",
    "# #select lambdas for Lasso \n",
    "# lambdas=np.exp(np.linspace(-5,6.5,200))\n",
    "# lambda_l_optimal=Regularization_fit_lambda(2,X_train,y_train,lambdas,p=0.4,Graph=True)\n",
    "\n",
    "OLS_R_2_OS_F=[]\n",
    "OLS_R_2_IS_F=[]\n",
    "OLS_R_2_Ridge_OS_F=[]\n",
    "OLS_R_2_Ridge_IS_F=[]\n",
    "OLS_R_2_Lasso_OS_F=[]\n",
    "OLS_R_2_Lasso_IS_F=[]\n",
    "\n",
    "Ridge=linear_model.Ridge(fit_intercept=True,alpha=1)\n",
    "Lasso=linear_model.Lasso(fit_intercept=True, alpha=1)\n",
    "\n",
    "for j in Number_variables:\n",
    "    # OLS\n",
    "    lm = sm.OLS(formula = 'Y ~ '+ '+'.join(X_train.columns[:j+1]), \n",
    "                 data = pd.concat([X_train.iloc[:,:j+1],y_train], axis=1)).fit()\n",
    "    error = lm.predict(X_test.iloc[:,:j+1]) - y_test\n",
    "    R_2_OS_OLS=1-error.var()/y_test.var()\n",
    "    R_2_IS_OLS = lm.rsquared\n",
    "    OLS_R_2_IS_F.append(R_2_IS_OLS)\n",
    "    OLS_R_2_OS_F.append(max(R_2_OS_OLS,0))\n",
    "    \n",
    "    # Ridge\n",
    "    Ridge.fit(X_train.iloc[:,:j+1],y_train)\n",
    "    \n",
    "    # In sample:\n",
    "    err_IS=Ridge.predict(X_train.iloc[:,:j+1]) - y_train\n",
    "    R_2_IS_Ridge=1-np.var(err_IS)/np.var(y_train)\n",
    "    OLS_R_2_Ridge_IS_F.append(R_2_IS_Ridge)\n",
    "    \n",
    "    #Out of sample\n",
    "    err_OS=Ridge.predict(X_test.iloc[:,:j+1]) - y_test\n",
    "    R_2_OS_Ridge=1-np.var(err_OS)/np.var(y_test)\n",
    "    OLS_R_2_Ridge_OS_F.append(max(R_2_OS_Ridge,0))\n",
    "\n",
    "    # Lasso\n",
    "    \n",
    "    Lasso.fit(X_train.iloc[:,0:j+1],y_train)\n",
    "    \n",
    "    #In sample:\n",
    "    p_IS=Lasso.predict(X_train.iloc[:,0:j+1])\n",
    "    err_IS=p_IS-y_train\n",
    "    R_2_IS_Lasso=1-np.var(err_IS)/np.var(y_train)\n",
    "    OLS_R_2_Lasso_IS_F.append(R_2_IS_Lasso)\n",
    "\n",
    "    #Out of sample\n",
    "    p_OS=Lasso.predict(X_test.iloc[:,0:j+1])\n",
    "    err_OS=p_OS-y_test\n",
    "    R_2_OS_Lasso=1-np.var(err_OS)/np.var(y_test)\n",
    "    OLS_R_2_Lasso_OS_F.append(max(R_2_OS_Lasso,0))\n",
    "\n",
    "\n",
    "pylab.rcParams['figure.figsize'] = [14,10]\n",
    "\n",
    "plt.title('OS performance of OLS when we subsequently add variables')\n",
    "\n",
    "plt.plot(Number_variables,OLS_R_2_IS_F,'g',label='OLS_IS')\n",
    "plt.plot(Number_variables,OLS_R_2_Lasso_IS_F,'y',label='Lasso_IS')\n",
    "plt.plot(Number_variables,OLS_R_2_Ridge_IS_F,'k',label='Ridge_IS')\n",
    "\n",
    "plt.plot(Number_variables,OLS_R_2_OS_F,'b',label='OLS_OS')\n",
    "plt.plot(Number_variables,OLS_R_2_Lasso_OS_F,'c',label='Lasso_OS')\n",
    "plt.plot(Number_variables,OLS_R_2_Ridge_OS_F,'r',label='Ridge_OS')\n",
    "\n",
    "plt.legend(loc='lower right')\n",
    "plt.xlabel('Number of independent variables')\n",
    "plt.ylabel('R-squared')\n",
    "plt.show()"
   ]
  },
  {
   "cell_type": "code",
   "execution_count": null,
   "metadata": {
    "collapsed": true
   },
   "outputs": [],
   "source": []
  }
 ],
 "metadata": {
  "kernelspec": {
   "display_name": "Python [Root]",
   "language": "python",
   "name": "Python [Root]"
  },
  "language_info": {
   "codemirror_mode": {
    "name": "ipython",
    "version": 2
   },
   "file_extension": ".py",
   "mimetype": "text/x-python",
   "name": "python",
   "nbconvert_exporter": "python",
   "pygments_lexer": "ipython2",
   "version": "2.7.12"
  },
  "widgets": {
   "state": {},
   "version": "1.1.2"
  }
 },
 "nbformat": 4,
 "nbformat_minor": 0
}
