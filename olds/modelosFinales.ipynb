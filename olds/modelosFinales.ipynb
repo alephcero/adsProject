{
 "cells": [
  {
   "cell_type": "markdown",
   "metadata": {},
   "source": [
    "# Modelos finales"
   ]
  },
  {
   "cell_type": "markdown",
   "metadata": {},
   "source": [
    "# Libraries"
   ]
  },
  {
   "cell_type": "code",
   "execution_count": 1,
   "metadata": {
    "collapsed": false
   },
   "outputs": [
    {
     "name": "stdout",
     "output_type": "stream",
     "text": [
      "Populating the interactive namespace from numpy and matplotlib\n"
     ]
    }
   ],
   "source": [
    "import pandas as pd\n",
    "import numpy as np\n",
    "import os\n",
    "import sys\n",
    "import simpledbf\n",
    "%pylab inline\n",
    "import matplotlib.pyplot as plt\n",
    "import statsmodels.api as sm\n",
    "from sklearn.model_selection import train_test_split\n",
    "from sklearn import linear_model"
   ]
  },
  {
   "cell_type": "markdown",
   "metadata": {},
   "source": [
    "# Functions"
   ]
  },
  {
   "cell_type": "code",
   "execution_count": 2,
   "metadata": {
    "collapsed": false
   },
   "outputs": [],
   "source": [
    "def runModel(dataset, income, varForModel):\n",
    "    \n",
    "    '''\n",
    "    This function takes a data set, runs a model according to specifications,\n",
    "    and returns the model, printing the summary\n",
    "    '''\n",
    "    y = dataset[income].values\n",
    "    X = dataset.loc[:,varForModel].values\n",
    "    X = sm.add_constant(X)\n",
    "\n",
    "    w = dataset.PONDERA\n",
    "    \n",
    "    lm = sm.WLS(y, X, weights=1. / w, missing = 'drop', hasconst=True).fit()\n",
    "    print lm.summary()\n",
    "    for i in range(1,len(varForModel)+1):\n",
    "        print 'x%d: %s' % (i,varForModel[i-1])\n",
    "    #testing within sample\n",
    "    R_IS=[]\n",
    "    R_OS=[]\n",
    "    #R_prime = []\n",
    "    n=500\n",
    "    \n",
    "    for i in range(n):  \n",
    "        X_train, X_test, y_train, y_test = train_test_split(X, y, test_size=0.3, random_state = 200)\n",
    "        X_train = sm.add_constant(X_train)\n",
    "        X_test = sm.add_constant(X_test)\n",
    "        \n",
    "        lm = linear_model.LinearRegression(fit_intercept=True)\n",
    "        lm.fit(X_train, y_train, sample_weight = 1. / w[:len(X_train)])\n",
    "        y_hat_IS = lm.predict(X_train)\n",
    "        err_IS = y_hat_IS - y_train\n",
    "        R2_IS = 1 - (np.var(err_IS) / np.var(y_train))\n",
    "        \n",
    "        y_hat_OS = lm.predict(X_test)\n",
    "        err_OS = y_hat_OS - y_test\n",
    "        R2_OS = 1 - (np.var(err_OS) / np.var(y_test))\n",
    "        \n",
    "        R_IS.append(R2_IS)\n",
    "        R_OS.append(R2_OS)\n",
    "        \n",
    "    print(\"IS R-squared for {} times is {}\".format(n,np.mean(R_IS)))\n",
    "    print(\"OS R-squared for {} times is {}\".format(n,np.mean(R_OS)))\n"
   ]
  },
  {
   "cell_type": "markdown",
   "metadata": {},
   "source": [
    "# Get Data"
   ]
  },
  {
   "cell_type": "code",
   "execution_count": 3,
   "metadata": {
    "collapsed": false
   },
   "outputs": [
    {
     "data": {
      "text/html": [
       "<div>\n",
       "<table border=\"1\" class=\"dataframe\">\n",
       "  <thead>\n",
       "    <tr style=\"text-align: right;\">\n",
       "      <th></th>\n",
       "      <th>PONDERA</th>\n",
       "      <th>HomeType</th>\n",
       "      <th>RoomsNumber</th>\n",
       "      <th>FloorMaterial</th>\n",
       "      <th>RoofMaterial</th>\n",
       "      <th>RoofCoat</th>\n",
       "      <th>Water</th>\n",
       "      <th>WaterType</th>\n",
       "      <th>Toilet</th>\n",
       "      <th>ToiletLocation</th>\n",
       "      <th>...</th>\n",
       "      <th>spouseDECCFR</th>\n",
       "      <th>headDECIFR</th>\n",
       "      <th>spouseDECIFR</th>\n",
       "      <th>headMaritalStatus</th>\n",
       "      <th>spouseMaritalStatus</th>\n",
       "      <th>headReading</th>\n",
       "      <th>spouseReading</th>\n",
       "      <th>headPlaceOfBirth</th>\n",
       "      <th>spouseplaceOfBirth</th>\n",
       "      <th>sumPredicted</th>\n",
       "    </tr>\n",
       "  </thead>\n",
       "  <tbody>\n",
       "    <tr>\n",
       "      <th>0</th>\n",
       "      <td>1287</td>\n",
       "      <td>2</td>\n",
       "      <td>2</td>\n",
       "      <td>1.0</td>\n",
       "      <td>NaN</td>\n",
       "      <td>1.0</td>\n",
       "      <td>1.0</td>\n",
       "      <td>1</td>\n",
       "      <td>1</td>\n",
       "      <td>1.0</td>\n",
       "      <td>...</td>\n",
       "      <td>NaN</td>\n",
       "      <td>6.0</td>\n",
       "      <td>NaN</td>\n",
       "      <td>5.0</td>\n",
       "      <td>NaN</td>\n",
       "      <td>1.0</td>\n",
       "      <td>NaN</td>\n",
       "      <td>1.0</td>\n",
       "      <td>NaN</td>\n",
       "      <td>NaN</td>\n",
       "    </tr>\n",
       "    <tr>\n",
       "      <th>1</th>\n",
       "      <td>1674</td>\n",
       "      <td>2</td>\n",
       "      <td>2</td>\n",
       "      <td>1.0</td>\n",
       "      <td>1.0</td>\n",
       "      <td>1.0</td>\n",
       "      <td>1.0</td>\n",
       "      <td>1</td>\n",
       "      <td>1</td>\n",
       "      <td>1.0</td>\n",
       "      <td>...</td>\n",
       "      <td>6.0</td>\n",
       "      <td>8.0</td>\n",
       "      <td>8.0</td>\n",
       "      <td>2.0</td>\n",
       "      <td>2.0</td>\n",
       "      <td>1.0</td>\n",
       "      <td>1.0</td>\n",
       "      <td>2.0</td>\n",
       "      <td>2.0</td>\n",
       "      <td>15.469188</td>\n",
       "    </tr>\n",
       "    <tr>\n",
       "      <th>2</th>\n",
       "      <td>1522</td>\n",
       "      <td>2</td>\n",
       "      <td>4</td>\n",
       "      <td>1.0</td>\n",
       "      <td>NaN</td>\n",
       "      <td>1.0</td>\n",
       "      <td>1.0</td>\n",
       "      <td>1</td>\n",
       "      <td>1</td>\n",
       "      <td>1.0</td>\n",
       "      <td>...</td>\n",
       "      <td>NaN</td>\n",
       "      <td>5.0</td>\n",
       "      <td>NaN</td>\n",
       "      <td>4.0</td>\n",
       "      <td>NaN</td>\n",
       "      <td>1.0</td>\n",
       "      <td>NaN</td>\n",
       "      <td>3.0</td>\n",
       "      <td>NaN</td>\n",
       "      <td>NaN</td>\n",
       "    </tr>\n",
       "    <tr>\n",
       "      <th>3</th>\n",
       "      <td>1320</td>\n",
       "      <td>2</td>\n",
       "      <td>3</td>\n",
       "      <td>1.0</td>\n",
       "      <td>NaN</td>\n",
       "      <td>1.0</td>\n",
       "      <td>1.0</td>\n",
       "      <td>1</td>\n",
       "      <td>1</td>\n",
       "      <td>1.0</td>\n",
       "      <td>...</td>\n",
       "      <td>10.0</td>\n",
       "      <td>10.0</td>\n",
       "      <td>10.0</td>\n",
       "      <td>2.0</td>\n",
       "      <td>2.0</td>\n",
       "      <td>1.0</td>\n",
       "      <td>1.0</td>\n",
       "      <td>1.0</td>\n",
       "      <td>1.0</td>\n",
       "      <td>16.235857</td>\n",
       "    </tr>\n",
       "    <tr>\n",
       "      <th>4</th>\n",
       "      <td>1281</td>\n",
       "      <td>2</td>\n",
       "      <td>4</td>\n",
       "      <td>1.0</td>\n",
       "      <td>1.0</td>\n",
       "      <td>1.0</td>\n",
       "      <td>1.0</td>\n",
       "      <td>1</td>\n",
       "      <td>1</td>\n",
       "      <td>1.0</td>\n",
       "      <td>...</td>\n",
       "      <td>9.0</td>\n",
       "      <td>10.0</td>\n",
       "      <td>10.0</td>\n",
       "      <td>2.0</td>\n",
       "      <td>2.0</td>\n",
       "      <td>1.0</td>\n",
       "      <td>1.0</td>\n",
       "      <td>1.0</td>\n",
       "      <td>3.0</td>\n",
       "      <td>8.336136</td>\n",
       "    </tr>\n",
       "  </tbody>\n",
       "</table>\n",
       "<p>5 rows × 85 columns</p>\n",
       "</div>"
      ],
      "text/plain": [
       "   PONDERA  HomeType  RoomsNumber  FloorMaterial  RoofMaterial  RoofCoat  \\\n",
       "0     1287         2            2            1.0           NaN       1.0   \n",
       "1     1674         2            2            1.0           1.0       1.0   \n",
       "2     1522         2            4            1.0           NaN       1.0   \n",
       "3     1320         2            3            1.0           NaN       1.0   \n",
       "4     1281         2            4            1.0           1.0       1.0   \n",
       "\n",
       "   Water  WaterType  Toilet  ToiletLocation      ...       spouseDECCFR  \\\n",
       "0    1.0          1       1             1.0      ...                NaN   \n",
       "1    1.0          1       1             1.0      ...                6.0   \n",
       "2    1.0          1       1             1.0      ...                NaN   \n",
       "3    1.0          1       1             1.0      ...               10.0   \n",
       "4    1.0          1       1             1.0      ...                9.0   \n",
       "\n",
       "   headDECIFR  spouseDECIFR  headMaritalStatus  spouseMaritalStatus  \\\n",
       "0         6.0           NaN                5.0                  NaN   \n",
       "1         8.0           8.0                2.0                  2.0   \n",
       "2         5.0           NaN                4.0                  NaN   \n",
       "3        10.0          10.0                2.0                  2.0   \n",
       "4        10.0          10.0                2.0                  2.0   \n",
       "\n",
       "   headReading  spouseReading  headPlaceOfBirth  spouseplaceOfBirth  \\\n",
       "0          1.0            NaN               1.0                 NaN   \n",
       "1          1.0            1.0               2.0                 2.0   \n",
       "2          1.0            NaN               3.0                 NaN   \n",
       "3          1.0            1.0               1.0                 1.0   \n",
       "4          1.0            1.0               1.0                 3.0   \n",
       "\n",
       "   sumPredicted  \n",
       "0           NaN  \n",
       "1     15.469188  \n",
       "2           NaN  \n",
       "3     16.235857  \n",
       "4      8.336136  \n",
       "\n",
       "[5 rows x 85 columns]"
      ]
     },
     "execution_count": 3,
     "metadata": {},
     "output_type": "execute_result"
    }
   ],
   "source": [
    "#data = pd.read_csv('/resources/data/Data Projects/ADS Project/dataFinalParaModelo.csv')\n",
    "data = pd.read_csv('data/dataFinalParaModelo.csv')\n",
    "data.head()"
   ]
  },
  {
   "cell_type": "markdown",
   "metadata": {},
   "source": [
    "## Modifiacion en variables\n"
   ]
  },
  {
   "cell_type": "code",
   "execution_count": 5,
   "metadata": {
    "collapsed": true
   },
   "outputs": [],
   "source": [
    "data['hasSpouse'] = np.where(np.isnan(data.spouseJob.values),0,1)\n",
    "data['spouseJob'] = np.where(np.isnan(data.spouseJob.values),0,data.spouseJob.values)"
   ]
  },
  {
   "cell_type": "code",
   "execution_count": 6,
   "metadata": {
    "collapsed": true
   },
   "outputs": [],
   "source": [
    "data['TotalFamilyIncome'].replace(to_replace=[0], value=[1] , inplace=True, axis=None)\n"
   ]
  },
  {
   "cell_type": "code",
   "execution_count": 7,
   "metadata": {
    "collapsed": false
   },
   "outputs": [],
   "source": [
    "data = data[data.TotalFamilyIncomeDecReg != 0]"
   ]
  },
  {
   "cell_type": "code",
   "execution_count": 8,
   "metadata": {
    "collapsed": false
   },
   "outputs": [],
   "source": [
    "data['income_log'] = np.log(data.TotalFamilyIncome)"
   ]
  },
  {
   "cell_type": "code",
   "execution_count": 9,
   "metadata": {
    "collapsed": false
   },
   "outputs": [
    {
     "data": {
      "text/plain": [
       "0"
      ]
     },
     "execution_count": 9,
     "metadata": {},
     "output_type": "execute_result"
    }
   ],
   "source": [
    "(data['TotalFamilyIncome']==0).sum()"
   ]
  },
  {
   "cell_type": "code",
   "execution_count": 10,
   "metadata": {
    "collapsed": false
   },
   "outputs": [],
   "source": [
    "data['FloorMaterial'] = np.where(np.isnan(data.FloorMaterial.values),5,data.FloorMaterial.values)\n",
    "data['sumPredicted'] = np.where(np.isnan(data.sumPredicted.values),0,data.sumPredicted.values)\n",
    "data['Sewer'] = np.where(np.isnan(data.Sewer.values),5,data.Sewer.values)\n",
    "data['ToiletType'] = np.where(np.isnan(data.ToiletType.values),4,data.ToiletType.values)\n",
    "data['Water'] = np.where(np.isnan(data.Water.values),4,data.Water.values)\n",
    "data['RoofCoat'] = np.where(np.isnan(data.RoofCoat.values),2,data.RoofCoat.values)"
   ]
  },
  {
   "cell_type": "code",
   "execution_count": 15,
   "metadata": {
    "collapsed": true
   },
   "outputs": [],
   "source": [
    "data['TotalFamilyIncome'].replace(to_replace=[0], value=[1] , inplace=True, axis=None)\n"
   ]
  },
  {
   "cell_type": "code",
   "execution_count": 16,
   "metadata": {
    "collapsed": false
   },
   "outputs": [],
   "source": [
    "data['income_logPer'] = np.log(data.PerCapInc)"
   ]
  },
  {
   "cell_type": "code",
   "execution_count": 17,
   "metadata": {
    "collapsed": false
   },
   "outputs": [
    {
     "data": {
      "text/plain": [
       "Flooding                   0.108231\n",
       "spousePrimary              0.122330\n",
       "OwnershipRec               0.126776\n",
       "WaterRec                   0.132485\n",
       "headPrimary                0.147454\n",
       "HouseMembers               0.181875\n",
       "hasSpouse                  0.203178\n",
       "CookingRec                 0.217917\n",
       "Membermore10               0.246261\n",
       "headJob                    0.246625\n",
       "spouseLnIncomeT            0.280361\n",
       "headPredictedLnIncome      0.286899\n",
       "spouseJob                  0.304031\n",
       "SleepingRooms              0.307961\n",
       "headSecondary              0.312949\n",
       "spousePredictedLnIncome    0.314176\n",
       "RoomsNumber                0.316654\n",
       "spouseSecondary            0.319981\n",
       "UsableTotalRooms           0.320164\n",
       "headLnIncome               0.339666\n",
       "headLnIncomeT              0.349351\n",
       "sumPredicted               0.360143\n",
       "spouseLnIncome             0.363158\n",
       "headEduc                   0.378242\n",
       "headUniversity             0.386140\n",
       "headEduc2                  0.403212\n",
       "spouseEduc                 0.417591\n",
       "spouseEduc2                0.454361\n",
       "spouseUniversity           0.462501\n",
       "job                        0.470682\n",
       "headDECCFR                 0.607559\n",
       "PerCapIncDec               0.607559\n",
       "PerCapIncDecReg            0.615880\n",
       "schoolAndJob               0.616160\n",
       "spouseP21                  0.645548\n",
       "income_logPer              0.651651\n",
       "headP21                    0.667581\n",
       "spouseP47T                 0.669564\n",
       "PerCapInc                  0.692921\n",
       "spouseDECCFR               0.702022\n",
       "headP47T                   0.755165\n",
       "spouseDECIFR               0.766633\n",
       "TotalFamilyIncomeDec       0.790339\n",
       "headDECIFR                 0.790339\n",
       "TotalFamilyIncomeDecReg    0.804034\n",
       "income_log                 0.846533\n",
       "lnHouseIncome              0.846533\n",
       "TotalFamilyIncome          1.000000\n",
       "TotalHouseHoldIncome       1.000000\n",
       "Name: TotalFamilyIncome, dtype: float64"
      ]
     },
     "execution_count": 17,
     "metadata": {},
     "output_type": "execute_result"
    }
   ],
   "source": [
    "data.corr()['TotalFamilyIncome'][data.corr()['TotalFamilyIncome'] > 0.10].sort_values()"
   ]
  },
  {
   "cell_type": "code",
   "execution_count": 18,
   "metadata": {
    "collapsed": true
   },
   "outputs": [],
   "source": [
    "data['haciBool'] = (data.Hacinamiento > 3).astype(int)"
   ]
  },
  {
   "cell_type": "code",
   "execution_count": 21,
   "metadata": {
    "collapsed": true
   },
   "outputs": [],
   "source": [
    "#data solo para la ciudad de buenos aires\n",
    "dataCaba = data.loc[data.AGLO1 == 32,:]"
   ]
  },
  {
   "cell_type": "markdown",
   "metadata": {},
   "source": [
    "# Para CABA"
   ]
  },
  {
   "cell_type": "markdown",
   "metadata": {},
   "source": [
    "Tome dos lineas de accion. \n",
    "\n",
    "Por un lado tomar la parte individual, de las personas que viven en la casa. Ya sea el nivel educativo del jefe y la cantidad de gente que trabaja o por otro lado usar la suma de años de escolaridad de todos los que trabajan en la casa.  Por el otro, las variables que tenian que ver con el hogar, la calidad del hogar. La que mejor funcionaba ahi esa hacinamiento (cantidad de personas por cuarto) o directamente la cantidad de cuartos.\n",
    "\n",
    "Aca van los modelos que corri en retadatam\n"
   ]
  },
  {
   "cell_type": "markdown",
   "metadata": {},
   "source": [
    "### Modelo 1 a (educHead)"
   ]
  },
  {
   "cell_type": "code",
   "execution_count": 22,
   "metadata": {
    "collapsed": false
   },
   "outputs": [
    {
     "name": "stdout",
     "output_type": "stream",
     "text": [
      "                            WLS Regression Results                            \n",
      "==============================================================================\n",
      "Dep. Variable:                      y   R-squared:                       0.098\n",
      "Model:                            WLS   Adj. R-squared:                  0.097\n",
      "Method:                 Least Squares   F-statistic:                     85.39\n",
      "Date:                Sat, 10 Dec 2016   Prob (F-statistic):           2.26e-19\n",
      "Time:                        13:19:40   Log-Likelihood:                -7720.4\n",
      "No. Observations:                 785   AIC:                         1.544e+04\n",
      "Df Residuals:                     783   BIC:                         1.545e+04\n",
      "Df Model:                           1                                         \n",
      "Covariance Type:            nonrobust                                         \n",
      "==============================================================================\n",
      "                 coef    std err          t      P>|t|      [95.0% Conf. Int.]\n",
      "------------------------------------------------------------------------------\n",
      "const        826.4193    570.197      1.449      0.148      -292.877  1945.716\n",
      "x1           395.6744     42.819      9.241      0.000       311.621   479.728\n",
      "==============================================================================\n",
      "Omnibus:                      572.340   Durbin-Watson:                   1.917\n",
      "Prob(Omnibus):                  0.000   Jarque-Bera (JB):            15209.225\n",
      "Skew:                           2.960   Prob(JB):                         0.00\n",
      "Kurtosis:                      23.735   Cond. No.                         48.2\n",
      "==============================================================================\n",
      "\n",
      "Warnings:\n",
      "[1] Standard Errors assume that the covariance matrix of the errors is correctly specified.\n",
      "x1: headEduc\n",
      "IS R-squared for 500 times is 0.117245206392\n",
      "OS R-squared for 500 times is 0.0286390690395\n"
     ]
    }
   ],
   "source": [
    "varForModel = [\n",
    "    'headEduc',\n",
    "    #'job', \n",
    "    #'SleepingRooms',\n",
    "    #'schoolAndJob',\n",
    "    #'Hacinamiento'\n",
    "]\n",
    "\n",
    "runModel(dataCaba, 'TotalFamilyIncome', varForModel)"
   ]
  },
  {
   "cell_type": "markdown",
   "metadata": {
    "collapsed": true
   },
   "source": [
    "### Modelo 1 b (educHeadYjobs)"
   ]
  },
  {
   "cell_type": "code",
   "execution_count": 24,
   "metadata": {
    "collapsed": false
   },
   "outputs": [
    {
     "name": "stdout",
     "output_type": "stream",
     "text": [
      "                            WLS Regression Results                            \n",
      "==============================================================================\n",
      "Dep. Variable:                      y   R-squared:                       0.356\n",
      "Model:                            WLS   Adj. R-squared:                  0.354\n",
      "Method:                 Least Squares   F-statistic:                     216.0\n",
      "Date:                Sat, 10 Dec 2016   Prob (F-statistic):           2.10e-75\n",
      "Time:                        13:20:10   Log-Likelihood:                -7588.4\n",
      "No. Observations:                 785   AIC:                         1.518e+04\n",
      "Df Residuals:                     782   BIC:                         1.520e+04\n",
      "Df Model:                           2                                         \n",
      "Covariance Type:            nonrobust                                         \n",
      "==============================================================================\n",
      "                 coef    std err          t      P>|t|      [95.0% Conf. Int.]\n",
      "------------------------------------------------------------------------------\n",
      "const      -1315.3112    497.245     -2.645      0.008     -2291.404  -339.219\n",
      "x1           292.2212     36.685      7.966      0.000       220.208   364.234\n",
      "x2          2572.8911    145.528     17.680      0.000      2287.220  2858.562\n",
      "==============================================================================\n",
      "Omnibus:                      667.358   Durbin-Watson:                   1.910\n",
      "Prob(Omnibus):                  0.000   Jarque-Bera (JB):            35935.200\n",
      "Skew:                           3.462   Prob(JB):                         0.00\n",
      "Kurtosis:                      35.415   Cond. No.                         50.1\n",
      "==============================================================================\n",
      "\n",
      "Warnings:\n",
      "[1] Standard Errors assume that the covariance matrix of the errors is correctly specified.\n",
      "x1: headEduc\n",
      "x2: job\n",
      "IS R-squared for 500 times is 0.352787822032\n",
      "OS R-squared for 500 times is 0.308512376509\n"
     ]
    }
   ],
   "source": [
    "varForModel = [\n",
    "    'headEduc',\n",
    "    'job', \n",
    "    #'SleepingRooms',\n",
    "    #'schoolAndJob',\n",
    "    #'Hacinamiento'\n",
    "]\n",
    "\n",
    "runModel(dataCaba, 'TotalFamilyIncome', varForModel)"
   ]
  },
  {
   "cell_type": "markdown",
   "metadata": {},
   "source": [
    "### Modelo 1 c (educHeadYjobsYrooms)\n",
    "\n",
    "Este para mi es el que mejor da. Sobre estima sistematicamente, la R2 da muy alta, pero es el que mejor rendimiento tiene porque estan todos ajustados a una recta de mejor modo que en los otros. Creo que esto se podría ajustar. Si no usamos R2 sino el correlation coefficient, es el mas alto 96%. Ademas es el mejor mapa me parece"
   ]
  },
  {
   "cell_type": "code",
   "execution_count": 25,
   "metadata": {
    "collapsed": false
   },
   "outputs": [
    {
     "name": "stdout",
     "output_type": "stream",
     "text": [
      "                            WLS Regression Results                            \n",
      "==============================================================================\n",
      "Dep. Variable:                      y   R-squared:                       0.367\n",
      "Model:                            WLS   Adj. R-squared:                  0.365\n",
      "Method:                 Least Squares   F-statistic:                     151.1\n",
      "Date:                Sat, 10 Dec 2016   Prob (F-statistic):           3.36e-77\n",
      "Time:                        13:20:28   Log-Likelihood:                -7581.4\n",
      "No. Observations:                 785   AIC:                         1.517e+04\n",
      "Df Residuals:                     781   BIC:                         1.519e+04\n",
      "Df Model:                           3                                         \n",
      "Covariance Type:            nonrobust                                         \n",
      "==============================================================================\n",
      "                 coef    std err          t      P>|t|      [95.0% Conf. Int.]\n",
      "------------------------------------------------------------------------------\n",
      "const      -2352.9962    565.552     -4.161      0.000     -3463.179 -1242.814\n",
      "x1           308.8816     36.654      8.427      0.000       236.931   380.833\n",
      "x2          2292.6737    162.544     14.105      0.000      1973.599  2611.748\n",
      "x3           748.2556    199.643      3.748      0.000       356.355  1140.156\n",
      "==============================================================================\n",
      "Omnibus:                      654.904   Durbin-Watson:                   1.933\n",
      "Prob(Omnibus):                  0.000   Jarque-Bera (JB):            33738.140\n",
      "Skew:                           3.373   Prob(JB):                         0.00\n",
      "Kurtosis:                      34.400   Cond. No.                         58.6\n",
      "==============================================================================\n",
      "\n",
      "Warnings:\n",
      "[1] Standard Errors assume that the covariance matrix of the errors is correctly specified.\n",
      "x1: headEduc\n",
      "x2: job\n",
      "x3: SleepingRooms\n",
      "IS R-squared for 500 times is 0.36982755681\n",
      "OS R-squared for 500 times is 0.28262153194\n"
     ]
    }
   ],
   "source": [
    "varForModel = [\n",
    "    'headEduc',\n",
    "    'job', \n",
    "    'SleepingRooms',\n",
    "    #'schoolAndJob',\n",
    "    #'Hacinamiento'\n",
    "]\n",
    "\n",
    "runModel(dataCaba, 'TotalFamilyIncome', varForModel)"
   ]
  },
  {
   "cell_type": "markdown",
   "metadata": {},
   "source": [
    "### Modelo 2 a (jobsAndSchool)"
   ]
  },
  {
   "cell_type": "code",
   "execution_count": 26,
   "metadata": {
    "collapsed": false
   },
   "outputs": [
    {
     "name": "stdout",
     "output_type": "stream",
     "text": [
      "                            WLS Regression Results                            \n",
      "==============================================================================\n",
      "Dep. Variable:                      y   R-squared:                       0.401\n",
      "Model:                            WLS   Adj. R-squared:                  0.400\n",
      "Method:                 Least Squares   F-statistic:                     524.0\n",
      "Date:                Sat, 10 Dec 2016   Prob (F-statistic):           3.48e-89\n",
      "Time:                        13:20:51   Log-Likelihood:                -7559.9\n",
      "No. Observations:                 785   AIC:                         1.512e+04\n",
      "Df Residuals:                     783   BIC:                         1.513e+04\n",
      "Df Model:                           1                                         \n",
      "Covariance Type:            nonrobust                                         \n",
      "==============================================================================\n",
      "                 coef    std err          t      P>|t|      [95.0% Conf. Int.]\n",
      "------------------------------------------------------------------------------\n",
      "const       1890.8406    217.127      8.708      0.000      1464.621  2317.060\n",
      "x1           220.2679      9.623     22.891      0.000       201.379   239.157\n",
      "==============================================================================\n",
      "Omnibus:                      676.756   Durbin-Watson:                   1.891\n",
      "Prob(Omnibus):                  0.000   Jarque-Bera (JB):            40163.175\n",
      "Skew:                           3.504   Prob(JB):                         0.00\n",
      "Kurtosis:                      37.334   Cond. No.                         38.0\n",
      "==============================================================================\n",
      "\n",
      "Warnings:\n",
      "[1] Standard Errors assume that the covariance matrix of the errors is correctly specified.\n",
      "x1: schoolAndJob\n",
      "IS R-squared for 500 times is 0.396870456935\n",
      "OS R-squared for 500 times is 0.362450943384\n"
     ]
    }
   ],
   "source": [
    "varForModel = [\n",
    "    #'headEduc',\n",
    "    #'job', \n",
    "    #'SleepingRooms',\n",
    "    'schoolAndJob',\n",
    "    #'Hacinamiento'\n",
    "]\n",
    "\n",
    "runModel(dataCaba, 'TotalFamilyIncome', varForModel)"
   ]
  },
  {
   "cell_type": "markdown",
   "metadata": {},
   "source": [
    "### Modelo 2 b (jobsAndSchoolYrooms)"
   ]
  },
  {
   "cell_type": "code",
   "execution_count": 27,
   "metadata": {
    "collapsed": false
   },
   "outputs": [
    {
     "name": "stdout",
     "output_type": "stream",
     "text": [
      "                            WLS Regression Results                            \n",
      "==============================================================================\n",
      "Dep. Variable:                      y   R-squared:                       0.406\n",
      "Model:                            WLS   Adj. R-squared:                  0.404\n",
      "Method:                 Least Squares   F-statistic:                     266.8\n",
      "Date:                Sat, 10 Dec 2016   Prob (F-statistic):           4.52e-89\n",
      "Time:                        13:21:08   Log-Likelihood:                -7556.8\n",
      "No. Observations:                 785   AIC:                         1.512e+04\n",
      "Df Residuals:                     782   BIC:                         1.513e+04\n",
      "Df Model:                           2                                         \n",
      "Covariance Type:            nonrobust                                         \n",
      "==============================================================================\n",
      "                 coef    std err          t      P>|t|      [95.0% Conf. Int.]\n",
      "------------------------------------------------------------------------------\n",
      "const       2585.9725    352.863      7.329      0.000      1893.301  3278.644\n",
      "x1           226.6069      9.922     22.839      0.000       207.130   246.083\n",
      "x2          -510.0726    204.513     -2.494      0.013      -911.533  -108.612\n",
      "==============================================================================\n",
      "Omnibus:                      672.980   Durbin-Watson:                   1.910\n",
      "Prob(Omnibus):                  0.000   Jarque-Bera (JB):            39775.134\n",
      "Skew:                           3.473   Prob(JB):                         0.00\n",
      "Kurtosis:                      37.173   Cond. No.                         68.9\n",
      "==============================================================================\n",
      "\n",
      "Warnings:\n",
      "[1] Standard Errors assume that the covariance matrix of the errors is correctly specified.\n",
      "x1: schoolAndJob\n",
      "x2: Hacinamiento\n",
      "IS R-squared for 500 times is 0.40180764679\n",
      "OS R-squared for 500 times is 0.36444241289\n"
     ]
    }
   ],
   "source": [
    "varForModel = [\n",
    "    #'headEduc',\n",
    "    #'job', \n",
    "    #'SleepingRooms',\n",
    "    'schoolAndJob',\n",
    "    'Hacinamiento'\n",
    "]\n",
    "\n",
    "runModel(dataCaba, 'TotalFamilyIncome', varForModel)"
   ]
  },
  {
   "cell_type": "code",
   "execution_count": null,
   "metadata": {
    "collapsed": true
   },
   "outputs": [],
   "source": []
  },
  {
   "cell_type": "code",
   "execution_count": null,
   "metadata": {
    "collapsed": true
   },
   "outputs": [],
   "source": []
  },
  {
   "cell_type": "code",
   "execution_count": null,
   "metadata": {
    "collapsed": true
   },
   "outputs": [],
   "source": []
  },
  {
   "cell_type": "code",
   "execution_count": null,
   "metadata": {
    "collapsed": true
   },
   "outputs": [],
   "source": []
  },
  {
   "cell_type": "code",
   "execution_count": null,
   "metadata": {
    "collapsed": true
   },
   "outputs": [],
   "source": []
  },
  {
   "cell_type": "code",
   "execution_count": null,
   "metadata": {
    "collapsed": true
   },
   "outputs": [],
   "source": []
  },
  {
   "cell_type": "code",
   "execution_count": null,
   "metadata": {
    "collapsed": true
   },
   "outputs": [],
   "source": []
  },
  {
   "cell_type": "markdown",
   "metadata": {},
   "source": [
    "## Modelo con todas las variables (Ignorar)"
   ]
  },
  {
   "cell_type": "code",
   "execution_count": null,
   "metadata": {
    "collapsed": true
   },
   "outputs": [],
   "source": [
    "income1 = 'income_log'\n",
    "income2 = 'TotalFamilyIncome'\n",
    "income = 'TotalFamilyIncomeDecReg'\n",
    "\n",
    "income = 'income_log'\n",
    "\n",
    "varForModel = [\n",
    "    'SleepingRooms','HouseMembers','WaterRec',\n",
    "    'CookingCombustible',\n",
    "    \n",
    "#     'SleepingRooms', 'UsableTotalRooms', 'RoomsNumber', 'HouseMembers', 'WaterRec', # positivas\n",
    "#     'CookingCombustible', 'FloorMaterial', 'Sewer', 'ToiletType','Sink', 'RoofCoat', 'Water', #negativas\n",
    "#     'headReading', 'OwnershipRec','WaterType', #sospechoso\n",
    "    'headAge', 'headEduc','headJob', 'spouseJob' #base\n",
    "                      ]\n",
    "\n",
    "runModel(data, income, varForModel)"
   ]
  }
 ],
 "metadata": {
  "kernelspec": {
   "display_name": "Python [Root]",
   "language": "python",
   "name": "Python [Root]"
  },
  "language_info": {
   "codemirror_mode": {
    "name": "ipython",
    "version": 2
   },
   "file_extension": ".py",
   "mimetype": "text/x-python",
   "name": "python",
   "nbconvert_exporter": "python",
   "pygments_lexer": "ipython2",
   "version": "2.7.12"
  },
  "widgets": {
   "state": {},
   "version": "1.1.2"
  }
 },
 "nbformat": 4,
 "nbformat_minor": 0
}
