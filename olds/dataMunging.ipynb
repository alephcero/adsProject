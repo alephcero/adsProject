{
 "cells": [
  {
   "cell_type": "code",
   "execution_count": 2,
   "metadata": {
    "collapsed": true
   },
   "outputs": [],
   "source": [
    "import pandas as pd\n",
    "import numpy as np\n",
    "\n",
    "import matplotlib.pyplot as plt\n",
    "%matplotlib inline"
   ]
  },
  {
   "cell_type": "code",
   "execution_count": 3,
   "metadata": {
    "collapsed": false
   },
   "outputs": [
    {
     "data": {
      "text/html": [
       "<div>\n",
       "<table border=\"1\" class=\"dataframe\">\n",
       "  <thead>\n",
       "    <tr style=\"text-align: right;\">\n",
       "      <th></th>\n",
       "      <th>CODUSU</th>\n",
       "      <th>NRO_HOGAR</th>\n",
       "      <th>COMPONENTE</th>\n",
       "      <th>AGLOMERADO</th>\n",
       "      <th>PONDERA</th>\n",
       "      <th>familyRelation</th>\n",
       "      <th>female</th>\n",
       "      <th>age</th>\n",
       "      <th>schooled</th>\n",
       "      <th>schoolYear</th>\n",
       "      <th>finishedYear</th>\n",
       "      <th>lastYear</th>\n",
       "      <th>activity</th>\n",
       "      <th>educLevel</th>\n",
       "      <th>empCond</th>\n",
       "      <th>unempCond</th>\n",
       "      <th>ITF</th>\n",
       "      <th>IPCF</th>\n",
       "      <th>P47T</th>\n",
       "    </tr>\n",
       "  </thead>\n",
       "  <tbody>\n",
       "    <tr>\n",
       "      <th>0</th>\n",
       "      <td>302468</td>\n",
       "      <td>1</td>\n",
       "      <td>1</td>\n",
       "      <td>32</td>\n",
       "      <td>1287</td>\n",
       "      <td>1</td>\n",
       "      <td>2</td>\n",
       "      <td>20</td>\n",
       "      <td>1</td>\n",
       "      <td>7</td>\n",
       "      <td>2</td>\n",
       "      <td>1.0</td>\n",
       "      <td>3</td>\n",
       "      <td>5</td>\n",
       "      <td>0</td>\n",
       "      <td>3</td>\n",
       "      <td>4000</td>\n",
       "      <td>2000.0</td>\n",
       "      <td>2000</td>\n",
       "    </tr>\n",
       "    <tr>\n",
       "      <th>1</th>\n",
       "      <td>302468</td>\n",
       "      <td>1</td>\n",
       "      <td>2</td>\n",
       "      <td>32</td>\n",
       "      <td>1287</td>\n",
       "      <td>10</td>\n",
       "      <td>2</td>\n",
       "      <td>20</td>\n",
       "      <td>1</td>\n",
       "      <td>6</td>\n",
       "      <td>2</td>\n",
       "      <td>1.0</td>\n",
       "      <td>3</td>\n",
       "      <td>5</td>\n",
       "      <td>0</td>\n",
       "      <td>3</td>\n",
       "      <td>4000</td>\n",
       "      <td>2000.0</td>\n",
       "      <td>2000</td>\n",
       "    </tr>\n",
       "    <tr>\n",
       "      <th>2</th>\n",
       "      <td>307861</td>\n",
       "      <td>1</td>\n",
       "      <td>1</td>\n",
       "      <td>32</td>\n",
       "      <td>1674</td>\n",
       "      <td>1</td>\n",
       "      <td>1</td>\n",
       "      <td>42</td>\n",
       "      <td>2</td>\n",
       "      <td>2</td>\n",
       "      <td>1</td>\n",
       "      <td>NaN</td>\n",
       "      <td>1</td>\n",
       "      <td>2</td>\n",
       "      <td>3</td>\n",
       "      <td>0</td>\n",
       "      <td>5800</td>\n",
       "      <td>1450.0</td>\n",
       "      <td>3000</td>\n",
       "    </tr>\n",
       "    <tr>\n",
       "      <th>3</th>\n",
       "      <td>307861</td>\n",
       "      <td>1</td>\n",
       "      <td>2</td>\n",
       "      <td>32</td>\n",
       "      <td>1674</td>\n",
       "      <td>2</td>\n",
       "      <td>2</td>\n",
       "      <td>44</td>\n",
       "      <td>2</td>\n",
       "      <td>7</td>\n",
       "      <td>1</td>\n",
       "      <td>NaN</td>\n",
       "      <td>1</td>\n",
       "      <td>6</td>\n",
       "      <td>3</td>\n",
       "      <td>0</td>\n",
       "      <td>5800</td>\n",
       "      <td>1450.0</td>\n",
       "      <td>2800</td>\n",
       "    </tr>\n",
       "    <tr>\n",
       "      <th>4</th>\n",
       "      <td>307861</td>\n",
       "      <td>1</td>\n",
       "      <td>3</td>\n",
       "      <td>32</td>\n",
       "      <td>1674</td>\n",
       "      <td>3</td>\n",
       "      <td>1</td>\n",
       "      <td>13</td>\n",
       "      <td>1</td>\n",
       "      <td>4</td>\n",
       "      <td>2</td>\n",
       "      <td>0.0</td>\n",
       "      <td>3</td>\n",
       "      <td>3</td>\n",
       "      <td>0</td>\n",
       "      <td>3</td>\n",
       "      <td>5800</td>\n",
       "      <td>1450.0</td>\n",
       "      <td>0</td>\n",
       "    </tr>\n",
       "  </tbody>\n",
       "</table>\n",
       "</div>"
      ],
      "text/plain": [
       "   CODUSU  NRO_HOGAR  COMPONENTE  AGLOMERADO  PONDERA  familyRelation  female  \\\n",
       "0  302468          1           1          32     1287               1       2   \n",
       "1  302468          1           2          32     1287              10       2   \n",
       "2  307861          1           1          32     1674               1       1   \n",
       "3  307861          1           2          32     1674               2       2   \n",
       "4  307861          1           3          32     1674               3       1   \n",
       "\n",
       "   age  schooled  schoolYear  finishedYear  lastYear  activity  educLevel  \\\n",
       "0   20         1           7             2       1.0         3          5   \n",
       "1   20         1           6             2       1.0         3          5   \n",
       "2   42         2           2             1       NaN         1          2   \n",
       "3   44         2           7             1       NaN         1          6   \n",
       "4   13         1           4             2       0.0         3          3   \n",
       "\n",
       "   empCond  unempCond   ITF    IPCF  P47T  \n",
       "0        0          3  4000  2000.0  2000  \n",
       "1        0          3  4000  2000.0  2000  \n",
       "2        3          0  5800  1450.0  3000  \n",
       "3        3          0  5800  1450.0  2800  \n",
       "4        0          3  5800  1450.0     0  "
      ]
     },
     "execution_count": 3,
     "metadata": {},
     "output_type": "execute_result"
    }
   ],
   "source": [
    "ind = pd.read_csv('data/cleanData.csv')\n",
    "ind.head()"
   ]
  },
  {
   "cell_type": "code",
   "execution_count": 4,
   "metadata": {
    "collapsed": false
   },
   "outputs": [
    {
     "name": "stdout",
     "output_type": "stream",
     "text": [
      "(8360, 19)\n"
     ]
    }
   ],
   "source": [
    "print ind.shape\n",
    "#CHEQUEAR\n",
    "ind.drop_duplicates(subset = ['CODUSU',\n",
    " 'NRO_HOGAR',\n",
    " 'AGLOMERADO',\n",
    " 'PONDERA',\n",
    " 'familyRelation',\n",
    " 'female',\n",
    " 'age',\n",
    " 'schooled',\n",
    " 'schoolYear',\n",
    " 'finishedYear',\n",
    " 'lastYear',\n",
    " 'activity',\n",
    " 'educLevel',\n",
    " 'empCond',\n",
    " 'unempCond',\n",
    " 'ITF',\n",
    " 'IPCF',\n",
    " 'P47T'], inplace = True)"
   ]
  },
  {
   "cell_type": "code",
   "execution_count": 5,
   "metadata": {
    "collapsed": false
   },
   "outputs": [
    {
     "name": "stdout",
     "output_type": "stream",
     "text": [
      "(8347, 19)\n"
     ]
    }
   ],
   "source": [
    "print ind.shape"
   ]
  },
  {
   "cell_type": "code",
   "execution_count": 47,
   "metadata": {
    "collapsed": false
   },
   "outputs": [
    {
     "name": "stdout",
     "output_type": "stream",
     "text": [
      "2    4447\n",
      "1    3913\n",
      "Name: female, dtype: int64\n"
     ]
    }
   ],
   "source": [
    "print ind.female.value_counts()\n"
   ]
  },
  {
   "cell_type": "code",
   "execution_count": 48,
   "metadata": {
    "collapsed": false
   },
   "outputs": [],
   "source": [
    "# create a boolean variable for females\n",
    "#1 = male\n",
    "#2 = female\n",
    "ind.female = ind.female == 2\n"
   ]
  },
  {
   "cell_type": "code",
   "execution_count": null,
   "metadata": {
    "collapsed": true
   },
   "outputs": [],
   "source": [
    "pd.crosstab(ind.schooled)"
   ]
  },
  {
   "cell_type": "code",
   "execution_count": 6,
   "metadata": {
    "collapsed": false
   },
   "outputs": [
    {
     "name": "stdout",
     "output_type": "stream",
     "text": [
      "2    5506\n",
      "1    2376\n",
      "0     248\n",
      "3     210\n",
      "9       7\n",
      "Name: schooled, dtype: int64\n",
      "2.0    5506\n",
      "1.0    2376\n",
      "3.0     210\n",
      "Name: schooled, dtype: int64\n"
     ]
    }
   ],
   "source": [
    "#CH10 - ¿Asiste o asistió a algún establecimiento\n",
    "#educativo (colegio, escuela, universidad)? \n",
    "#1 = Si, asiste\n",
    "#2 = No asiste, pero asistió\n",
    "#3 = Nunca asistió \n",
    "print ind.schooled.value_counts()\n",
    "ind.schooled.replace(to_replace=[0,9], value=[np.nan,np.nan] , inplace=True, axis=None)  \n",
    "print ind.schooled.value_counts()"
   ]
  },
  {
   "cell_type": "code",
   "execution_count": 7,
   "metadata": {
    "collapsed": false
   },
   "outputs": [
    {
     "name": "stdout",
     "output_type": "stream",
     "text": [
      "2    4043\n",
      "1    3817\n",
      "0     465\n",
      "9      22\n",
      "Name: finishedYear, dtype: int64\n",
      "2.0    4043\n",
      "1.0    3817\n",
      "Name: finishedYear, dtype: int64\n"
     ]
    }
   ],
   "source": [
    "#CH13 = finishedYear\n",
    "#¿Finalizó ese nivel?\n",
    "#1 = Sí\n",
    "#2 = No\n",
    "#9 = Ns./Nr. \n",
    "print ind.finishedYear.value_counts()\n",
    "ind.finishedYear.replace(to_replace=[0,9], value=[np.nan,np.nan] , inplace=True, axis=None)  \n",
    "print ind.finishedYear.value_counts()"
   ]
  },
  {
   "cell_type": "code",
   "execution_count": 8,
   "metadata": {
    "collapsed": false
   },
   "outputs": [
    {
     "name": "stdout",
     "output_type": "stream",
     "text": [
      "1    3759\n",
      "3    3072\n",
      "4    1175\n",
      "2     337\n",
      "0       4\n",
      "Name: activity, dtype: int64\n",
      "1.0    3759\n",
      "3.0    3072\n",
      "4.0    1175\n",
      "2.0     337\n",
      "Name: activity, dtype: int64\n"
     ]
    }
   ],
   "source": [
    "#ESTADO N(1) CONDICIÓN DE ACTIVIDAD\n",
    "#0 = Entrevista individual no realizada\n",
    "#1 = Ocupado\n",
    "#2 = Desocupado\n",
    "#3 = Inactivo\n",
    "#4 = Menor de 10 años\n",
    "print ind.activity.value_counts()\n",
    "ind.activity.replace(to_replace=0, value=np.nan , inplace=True, axis=None)  \n",
    "print ind.activity.value_counts()"
   ]
  },
  {
   "cell_type": "code",
   "execution_count": 39,
   "metadata": {
    "collapsed": false
   },
   "outputs": [
    {
     "name": "stdout",
     "output_type": "stream",
     "text": [
      "3.0    1667\n",
      "1.0    1044\n",
      "5.0     706\n",
      "4.0     682\n",
      "7.0     106\n",
      "6.0      30\n",
      "2.0      21\n",
      "Name: unempCond, dtype: int64\n",
      "3.0    1667\n",
      "1.0    1044\n",
      "5.0     706\n",
      "4.0     682\n",
      "7.0     106\n",
      "6.0      30\n",
      "2.0      21\n",
      "Name: unempCond, dtype: int64\n"
     ]
    }
   ],
   "source": [
    "#N(1)CAT_INAC = unempCond\n",
    "#CATEGORÍA DE INACTIVIDAD\n",
    "#1 = Jubilado / Pensionado\n",
    "#2 = Rentista\n",
    "#3 = Estudiante\n",
    "#4 = Ama de casa\n",
    "#5 = Menor de 6 años\n",
    "#6 = Discapacitado\n",
    "#7 = Otros\n",
    "\n",
    "print ind.unempCond.value_counts()\n",
    "ind.unempCond.replace(to_replace=0, value=np.nan , inplace=True, axis=None)  \n",
    "print ind.unempCond.value_counts()"
   ]
  },
  {
   "cell_type": "code",
   "execution_count": 54,
   "metadata": {
    "collapsed": false
   },
   "outputs": [
    {
     "name": "stdout",
     "output_type": "stream",
     "text": [
      "0    4333\n",
      "3    3116\n",
      "2     700\n",
      "1     176\n",
      "4      35\n",
      "Name: empCond, dtype: int64\n",
      "3.0    3116\n",
      "2.0     700\n",
      "1.0     176\n",
      "4.0      35\n",
      "Name: empCond, dtype: int64\n"
     ]
    }
   ],
   "source": [
    "#CAT OCUP\n",
    "#CATEGORÍA OCUPACIONAL (Para ocupados y\n",
    "#desocupados con ocupación anterior)\n",
    "#1 = Patrón\n",
    "#2 = Cuenta propia\n",
    "#3 = Obrero o empleado\n",
    "#4 = Trabajador familiar sin remuneración\n",
    "#9 = Ns./Nr.\n",
    "\n",
    "print ind.empCond.value_counts()\n",
    "ind.empCond.replace(to_replace=0, value=np.nan , inplace=True, axis=None)  \n",
    "print ind.empCond.value_counts()"
   ]
  },
  {
   "cell_type": "code",
   "execution_count": 9,
   "metadata": {
    "collapsed": false
   },
   "outputs": [
    {
     "name": "stdout",
     "output_type": "stream",
     "text": [
      "3    1633\n",
      "4    1415\n",
      "2    1381\n",
      "1    1321\n",
      "6    1000\n",
      "5     830\n",
      "7     767\n",
      "Name: educLevel, dtype: int64\n",
      "3    1633\n",
      "4    1415\n",
      "2    1381\n",
      "1    1321\n",
      "6    1000\n",
      "5     830\n",
      "0     767\n",
      "Name: educLevel, dtype: int64\n"
     ]
    }
   ],
   "source": [
    "#NIVEL_ED N(1) NIVEL EDUCATIVO\n",
    "#1 = Primaria Incompleta (incluye educación especial)\n",
    "#2 = Primaria Completa\n",
    "#3 = Secundaria Incompleta\n",
    "#4 = Secundaria Completa\n",
    "#5 = Superior Universitaria Incompleta\n",
    "#6 = Superior Universitaria Completa\n",
    "#7 = Sin instrucción\n",
    "#9 = Ns./ Nr.\n",
    "\n",
    "#we replace 7 (no instruction, with 0 so the variable has an increasing order)\n",
    "print ind.educLevel.value_counts()\n",
    "ind.educLevel.replace(to_replace = 7, value = 0, inplace = True, axis = None)\n",
    "print ind.educLevel.value_counts()"
   ]
  },
  {
   "cell_type": "code",
   "execution_count": 98,
   "metadata": {
    "collapsed": false
   },
   "outputs": [
    {
     "data": {
      "text/plain": [
       "3.110223642172524"
      ]
     },
     "execution_count": 98,
     "metadata": {},
     "output_type": "execute_result"
    }
   ],
   "source": [
    "ind.lastYear[(ind.educLevel == 1) & (ind.lastYear < 98)].mean()"
   ]
  },
  {
   "cell_type": "code",
   "execution_count": 132,
   "metadata": {
    "collapsed": false
   },
   "outputs": [
    {
     "name": "stderr",
     "output_type": "stream",
     "text": [
      "/home/pipe/anaconda2/lib/python2.7/site-packages/ipykernel/__main__.py:3: SettingWithCopyWarning: \n",
      "A value is trying to be set on a copy of a slice from a DataFrame\n",
      "\n",
      "See the caveats in the documentation: http://pandas.pydata.org/pandas-docs/stable/indexing.html#indexing-view-versus-copy\n",
      "  app.launch_new_instance()\n",
      "/home/pipe/anaconda2/lib/python2.7/site-packages/ipykernel/__main__.py:4: SettingWithCopyWarning: \n",
      "A value is trying to be set on a copy of a slice from a DataFrame\n",
      "\n",
      "See the caveats in the documentation: http://pandas.pydata.org/pandas-docs/stable/indexing.html#indexing-view-versus-copy\n",
      "/home/pipe/anaconda2/lib/python2.7/site-packages/ipykernel/__main__.py:5: SettingWithCopyWarning: \n",
      "A value is trying to be set on a copy of a slice from a DataFrame\n",
      "\n",
      "See the caveats in the documentation: http://pandas.pydata.org/pandas-docs/stable/indexing.html#indexing-view-versus-copy\n"
     ]
    }
   ],
   "source": [
    "ind['primary'] = 0\n",
    "#ind.Esc1[ind.educLevel == 0] = 0\n",
    "ind.primary[ind.educLevel > 1] = 7\n",
    "ind.primary[(ind.educLevel == 1) & (ind.lastYear > 7)] = int(ind.lastYear[(ind.educLevel == 1) & (ind.lastYear < 98)].mean())\n",
    "ind.primary[(ind.educLevel == 1) & (ind.lastYear <= 7)] = ind.lastYear[(ind.educLevel == 1) & (ind.lastYear <= 7)]\n",
    "\n",
    "\n",
    "# if educLevel > 1, esc1 = 7\n",
    "# if educLevel = 0, esc1 = 0\n",
    "# if educLevel ==1 and\n",
    "#Esc1 = lastYear, si dicen 98 o 99, mean \n",
    "#there are 8 cases with spetial educacion, and two that never finished primary but don't remember their last year. Those are 0\n"
   ]
  },
  {
   "cell_type": "code",
   "execution_count": 133,
   "metadata": {
    "collapsed": false
   },
   "outputs": [
    {
     "data": {
      "text/html": [
       "<div>\n",
       "<table border=\"1\" class=\"dataframe\">\n",
       "  <thead>\n",
       "    <tr style=\"text-align: right;\">\n",
       "      <th>educLevel</th>\n",
       "      <th>0</th>\n",
       "      <th>1</th>\n",
       "      <th>2</th>\n",
       "      <th>3</th>\n",
       "      <th>4</th>\n",
       "      <th>5</th>\n",
       "      <th>6</th>\n",
       "    </tr>\n",
       "    <tr>\n",
       "      <th>primary</th>\n",
       "      <th></th>\n",
       "      <th></th>\n",
       "      <th></th>\n",
       "      <th></th>\n",
       "      <th></th>\n",
       "      <th></th>\n",
       "      <th></th>\n",
       "    </tr>\n",
       "  </thead>\n",
       "  <tbody>\n",
       "    <tr>\n",
       "      <th>0</th>\n",
       "      <td>767</td>\n",
       "      <td>150</td>\n",
       "      <td>0</td>\n",
       "      <td>0</td>\n",
       "      <td>0</td>\n",
       "      <td>0</td>\n",
       "      <td>0</td>\n",
       "    </tr>\n",
       "    <tr>\n",
       "      <th>1</th>\n",
       "      <td>0</td>\n",
       "      <td>117</td>\n",
       "      <td>0</td>\n",
       "      <td>0</td>\n",
       "      <td>0</td>\n",
       "      <td>0</td>\n",
       "      <td>0</td>\n",
       "    </tr>\n",
       "    <tr>\n",
       "      <th>2</th>\n",
       "      <td>0</td>\n",
       "      <td>232</td>\n",
       "      <td>0</td>\n",
       "      <td>0</td>\n",
       "      <td>0</td>\n",
       "      <td>0</td>\n",
       "      <td>0</td>\n",
       "    </tr>\n",
       "    <tr>\n",
       "      <th>3</th>\n",
       "      <td>0</td>\n",
       "      <td>276</td>\n",
       "      <td>0</td>\n",
       "      <td>0</td>\n",
       "      <td>0</td>\n",
       "      <td>0</td>\n",
       "      <td>0</td>\n",
       "    </tr>\n",
       "    <tr>\n",
       "      <th>4</th>\n",
       "      <td>0</td>\n",
       "      <td>213</td>\n",
       "      <td>0</td>\n",
       "      <td>0</td>\n",
       "      <td>0</td>\n",
       "      <td>0</td>\n",
       "      <td>0</td>\n",
       "    </tr>\n",
       "    <tr>\n",
       "      <th>5</th>\n",
       "      <td>0</td>\n",
       "      <td>196</td>\n",
       "      <td>0</td>\n",
       "      <td>0</td>\n",
       "      <td>0</td>\n",
       "      <td>0</td>\n",
       "      <td>0</td>\n",
       "    </tr>\n",
       "    <tr>\n",
       "      <th>6</th>\n",
       "      <td>0</td>\n",
       "      <td>137</td>\n",
       "      <td>0</td>\n",
       "      <td>0</td>\n",
       "      <td>0</td>\n",
       "      <td>0</td>\n",
       "      <td>0</td>\n",
       "    </tr>\n",
       "    <tr>\n",
       "      <th>7</th>\n",
       "      <td>0</td>\n",
       "      <td>0</td>\n",
       "      <td>1381</td>\n",
       "      <td>1633</td>\n",
       "      <td>1415</td>\n",
       "      <td>830</td>\n",
       "      <td>1000</td>\n",
       "    </tr>\n",
       "  </tbody>\n",
       "</table>\n",
       "</div>"
      ],
      "text/plain": [
       "educLevel    0    1     2     3     4    5     6\n",
       "primary                                         \n",
       "0          767  150     0     0     0    0     0\n",
       "1            0  117     0     0     0    0     0\n",
       "2            0  232     0     0     0    0     0\n",
       "3            0  276     0     0     0    0     0\n",
       "4            0  213     0     0     0    0     0\n",
       "5            0  196     0     0     0    0     0\n",
       "6            0  137     0     0     0    0     0\n",
       "7            0    0  1381  1633  1415  830  1000"
      ]
     },
     "execution_count": 133,
     "metadata": {},
     "output_type": "execute_result"
    }
   ],
   "source": [
    "pd.crosstab(ind.primary,ind.educLevel)"
   ]
  },
  {
   "cell_type": "code",
   "execution_count": 134,
   "metadata": {
    "collapsed": false
   },
   "outputs": [
    {
     "data": {
      "text/html": [
       "<div>\n",
       "<table border=\"1\" class=\"dataframe\">\n",
       "  <thead>\n",
       "    <tr style=\"text-align: right;\">\n",
       "      <th>educLevel</th>\n",
       "      <th>0</th>\n",
       "      <th>1</th>\n",
       "      <th>2</th>\n",
       "      <th>3</th>\n",
       "      <th>5</th>\n",
       "      <th>6</th>\n",
       "    </tr>\n",
       "    <tr>\n",
       "      <th>lastYear</th>\n",
       "      <th></th>\n",
       "      <th></th>\n",
       "      <th></th>\n",
       "      <th></th>\n",
       "      <th></th>\n",
       "      <th></th>\n",
       "    </tr>\n",
       "  </thead>\n",
       "  <tbody>\n",
       "    <tr>\n",
       "      <th>0.0</th>\n",
       "      <td>286</td>\n",
       "      <td>140</td>\n",
       "      <td>0</td>\n",
       "      <td>195</td>\n",
       "      <td>180</td>\n",
       "      <td>8</td>\n",
       "    </tr>\n",
       "    <tr>\n",
       "      <th>1.0</th>\n",
       "      <td>5</td>\n",
       "      <td>117</td>\n",
       "      <td>0</td>\n",
       "      <td>300</td>\n",
       "      <td>148</td>\n",
       "      <td>4</td>\n",
       "    </tr>\n",
       "    <tr>\n",
       "      <th>2.0</th>\n",
       "      <td>2</td>\n",
       "      <td>232</td>\n",
       "      <td>0</td>\n",
       "      <td>410</td>\n",
       "      <td>213</td>\n",
       "      <td>1</td>\n",
       "    </tr>\n",
       "    <tr>\n",
       "      <th>3.0</th>\n",
       "      <td>2</td>\n",
       "      <td>214</td>\n",
       "      <td>0</td>\n",
       "      <td>304</td>\n",
       "      <td>135</td>\n",
       "      <td>2</td>\n",
       "    </tr>\n",
       "    <tr>\n",
       "      <th>4.0</th>\n",
       "      <td>1</td>\n",
       "      <td>213</td>\n",
       "      <td>0</td>\n",
       "      <td>143</td>\n",
       "      <td>95</td>\n",
       "      <td>0</td>\n",
       "    </tr>\n",
       "    <tr>\n",
       "      <th>5.0</th>\n",
       "      <td>0</td>\n",
       "      <td>196</td>\n",
       "      <td>0</td>\n",
       "      <td>13</td>\n",
       "      <td>37</td>\n",
       "      <td>0</td>\n",
       "    </tr>\n",
       "    <tr>\n",
       "      <th>6.0</th>\n",
       "      <td>0</td>\n",
       "      <td>137</td>\n",
       "      <td>0</td>\n",
       "      <td>0</td>\n",
       "      <td>4</td>\n",
       "      <td>0</td>\n",
       "    </tr>\n",
       "    <tr>\n",
       "      <th>7.0</th>\n",
       "      <td>0</td>\n",
       "      <td>0</td>\n",
       "      <td>10</td>\n",
       "      <td>65</td>\n",
       "      <td>0</td>\n",
       "      <td>0</td>\n",
       "    </tr>\n",
       "    <tr>\n",
       "      <th>8.0</th>\n",
       "      <td>0</td>\n",
       "      <td>0</td>\n",
       "      <td>0</td>\n",
       "      <td>116</td>\n",
       "      <td>1</td>\n",
       "      <td>0</td>\n",
       "    </tr>\n",
       "    <tr>\n",
       "      <th>98.0</th>\n",
       "      <td>0</td>\n",
       "      <td>33</td>\n",
       "      <td>0</td>\n",
       "      <td>0</td>\n",
       "      <td>0</td>\n",
       "      <td>0</td>\n",
       "    </tr>\n",
       "    <tr>\n",
       "      <th>99.0</th>\n",
       "      <td>3</td>\n",
       "      <td>29</td>\n",
       "      <td>1</td>\n",
       "      <td>31</td>\n",
       "      <td>17</td>\n",
       "      <td>0</td>\n",
       "    </tr>\n",
       "  </tbody>\n",
       "</table>\n",
       "</div>"
      ],
      "text/plain": [
       "educLevel    0    1   2    3    5  6\n",
       "lastYear                            \n",
       "0.0        286  140   0  195  180  8\n",
       "1.0          5  117   0  300  148  4\n",
       "2.0          2  232   0  410  213  1\n",
       "3.0          2  214   0  304  135  2\n",
       "4.0          1  213   0  143   95  0\n",
       "5.0          0  196   0   13   37  0\n",
       "6.0          0  137   0    0    4  0\n",
       "7.0          0    0  10   65    0  0\n",
       "8.0          0    0   0  116    1  0\n",
       "98.0         0   33   0    0    0  0\n",
       "99.0         3   29   1   31   17  0"
      ]
     },
     "execution_count": 134,
     "metadata": {},
     "output_type": "execute_result"
    }
   ],
   "source": [
    "pd.crosstab(ind.lastYear,ind.educLevel)"
   ]
  },
  {
   "cell_type": "code",
   "execution_count": 138,
   "metadata": {
    "collapsed": false
   },
   "outputs": [
    {
     "name": "stderr",
     "output_type": "stream",
     "text": [
      "/home/pipe/anaconda2/lib/python2.7/site-packages/ipykernel/__main__.py:4: SettingWithCopyWarning: \n",
      "A value is trying to be set on a copy of a slice from a DataFrame\n",
      "\n",
      "See the caveats in the documentation: http://pandas.pydata.org/pandas-docs/stable/indexing.html#indexing-view-versus-copy\n",
      "/home/pipe/anaconda2/lib/python2.7/site-packages/ipykernel/__main__.py:7: SettingWithCopyWarning: \n",
      "A value is trying to be set on a copy of a slice from a DataFrame\n",
      "\n",
      "See the caveats in the documentation: http://pandas.pydata.org/pandas-docs/stable/indexing.html#indexing-view-versus-copy\n",
      "/home/pipe/anaconda2/lib/python2.7/site-packages/ipykernel/__main__.py:10: SettingWithCopyWarning: \n",
      "A value is trying to be set on a copy of a slice from a DataFrame\n",
      "\n",
      "See the caveats in the documentation: http://pandas.pydata.org/pandas-docs/stable/indexing.html#indexing-view-versus-copy\n",
      "/home/pipe/anaconda2/lib/python2.7/site-packages/ipykernel/__main__.py:13: SettingWithCopyWarning: \n",
      "A value is trying to be set on a copy of a slice from a DataFrame\n",
      "\n",
      "See the caveats in the documentation: http://pandas.pydata.org/pandas-docs/stable/indexing.html#indexing-view-versus-copy\n",
      "/home/pipe/anaconda2/lib/python2.7/site-packages/ipykernel/__main__.py:17: SettingWithCopyWarning: \n",
      "A value is trying to be set on a copy of a slice from a DataFrame\n",
      "\n",
      "See the caveats in the documentation: http://pandas.pydata.org/pandas-docs/stable/indexing.html#indexing-view-versus-copy\n",
      "/home/pipe/anaconda2/lib/python2.7/site-packages/ipykernel/__main__.py:18: SettingWithCopyWarning: \n",
      "A value is trying to be set on a copy of a slice from a DataFrame\n",
      "\n",
      "See the caveats in the documentation: http://pandas.pydata.org/pandas-docs/stable/indexing.html#indexing-view-versus-copy\n",
      "/home/pipe/anaconda2/lib/python2.7/site-packages/ipykernel/__main__.py:19: SettingWithCopyWarning: \n",
      "A value is trying to be set on a copy of a slice from a DataFrame\n",
      "\n",
      "See the caveats in the documentation: http://pandas.pydata.org/pandas-docs/stable/indexing.html#indexing-view-versus-copy\n",
      "/home/pipe/anaconda2/lib/python2.7/site-packages/ipykernel/__main__.py:22: SettingWithCopyWarning: \n",
      "A value is trying to be set on a copy of a slice from a DataFrame\n",
      "\n",
      "See the caveats in the documentation: http://pandas.pydata.org/pandas-docs/stable/indexing.html#indexing-view-versus-copy\n",
      "/home/pipe/anaconda2/lib/python2.7/site-packages/ipykernel/__main__.py:25: SettingWithCopyWarning: \n",
      "A value is trying to be set on a copy of a slice from a DataFrame\n",
      "\n",
      "See the caveats in the documentation: http://pandas.pydata.org/pandas-docs/stable/indexing.html#indexing-view-versus-copy\n"
     ]
    }
   ],
   "source": [
    "ind['secondary'] = 999\n",
    "\n",
    "#dont know their last level\n",
    "ind.secondary[ind.schoolYear == 99] = 0\n",
    "\n",
    "#dont know if they went to school\n",
    "ind.secondary[ind.schooled == 0] = 0\n",
    "\n",
    "#bellow uncomplete secondary\n",
    "ind.secondary[ind.educLevel < 3] = 0\n",
    "\n",
    "#above uncomplete secondary\n",
    "ind.secondary[ind.educLevel > 3] = 5\n",
    "\n",
    "#special cases (another school system with 7,8,9 grades)\n",
    "\n",
    "ind.secondary[(ind.educLevel == 3) & (ind.lastYear == 7)] = 1\n",
    "ind.secondary[(ind.educLevel == 3) & (ind.lastYear == 8)] = 2\n",
    "ind.secondary[(ind.educLevel == 3) & (ind.lastYear == 9)] = 3\n",
    "\n",
    "#error, finished 9 grade EGB system\n",
    "ind.secondary[(ind.schoolYear == 3) & (ind.finishedYear == 1)] = 3\n",
    "\n",
    "#they get their last aproved year\n",
    "ind.secondary[(ind.educLevel == 3) & (ind.lastYear <= 5)] = ind.lastYear[(ind.educLevel == 3) & (ind.lastYear <= 5)]\n",
    "\n",
    "#dont know their last aproved year, so they get the mean\n",
    "ind.secondary[(ind.educLevel == 3) & (ind.lastYear > 9)] = int(ind.lastYear[(ind.educLevel == 3) & (ind.lastYear < 98)].mean())\n",
    "\n",
    "\n"
   ]
  },
  {
   "cell_type": "code",
   "execution_count": 139,
   "metadata": {
    "collapsed": false
   },
   "outputs": [
    {
     "data": {
      "text/html": [
       "<div>\n",
       "<table border=\"1\" class=\"dataframe\">\n",
       "  <thead>\n",
       "    <tr style=\"text-align: right;\">\n",
       "      <th>educLevel</th>\n",
       "      <th>0</th>\n",
       "      <th>1</th>\n",
       "      <th>2</th>\n",
       "      <th>3</th>\n",
       "      <th>4</th>\n",
       "      <th>5</th>\n",
       "      <th>6</th>\n",
       "    </tr>\n",
       "    <tr>\n",
       "      <th>secondary</th>\n",
       "      <th></th>\n",
       "      <th></th>\n",
       "      <th></th>\n",
       "      <th></th>\n",
       "      <th></th>\n",
       "      <th></th>\n",
       "      <th></th>\n",
       "    </tr>\n",
       "  </thead>\n",
       "  <tbody>\n",
       "    <tr>\n",
       "      <th>0</th>\n",
       "      <td>767</td>\n",
       "      <td>1321</td>\n",
       "      <td>1381</td>\n",
       "      <td>198</td>\n",
       "      <td>0</td>\n",
       "      <td>0</td>\n",
       "      <td>0</td>\n",
       "    </tr>\n",
       "    <tr>\n",
       "      <th>1</th>\n",
       "      <td>0</td>\n",
       "      <td>0</td>\n",
       "      <td>0</td>\n",
       "      <td>365</td>\n",
       "      <td>0</td>\n",
       "      <td>0</td>\n",
       "      <td>0</td>\n",
       "    </tr>\n",
       "    <tr>\n",
       "      <th>2</th>\n",
       "      <td>0</td>\n",
       "      <td>0</td>\n",
       "      <td>0</td>\n",
       "      <td>557</td>\n",
       "      <td>0</td>\n",
       "      <td>0</td>\n",
       "      <td>0</td>\n",
       "    </tr>\n",
       "    <tr>\n",
       "      <th>3</th>\n",
       "      <td>0</td>\n",
       "      <td>0</td>\n",
       "      <td>0</td>\n",
       "      <td>354</td>\n",
       "      <td>0</td>\n",
       "      <td>0</td>\n",
       "      <td>0</td>\n",
       "    </tr>\n",
       "    <tr>\n",
       "      <th>4</th>\n",
       "      <td>0</td>\n",
       "      <td>0</td>\n",
       "      <td>0</td>\n",
       "      <td>143</td>\n",
       "      <td>0</td>\n",
       "      <td>0</td>\n",
       "      <td>0</td>\n",
       "    </tr>\n",
       "    <tr>\n",
       "      <th>5</th>\n",
       "      <td>0</td>\n",
       "      <td>0</td>\n",
       "      <td>0</td>\n",
       "      <td>13</td>\n",
       "      <td>1415</td>\n",
       "      <td>830</td>\n",
       "      <td>1000</td>\n",
       "    </tr>\n",
       "    <tr>\n",
       "      <th>999</th>\n",
       "      <td>0</td>\n",
       "      <td>0</td>\n",
       "      <td>0</td>\n",
       "      <td>3</td>\n",
       "      <td>0</td>\n",
       "      <td>0</td>\n",
       "      <td>0</td>\n",
       "    </tr>\n",
       "  </tbody>\n",
       "</table>\n",
       "</div>"
      ],
      "text/plain": [
       "educLevel    0     1     2    3     4    5     6\n",
       "secondary                                       \n",
       "0          767  1321  1381  198     0    0     0\n",
       "1            0     0     0  365     0    0     0\n",
       "2            0     0     0  557     0    0     0\n",
       "3            0     0     0  354     0    0     0\n",
       "4            0     0     0  143     0    0     0\n",
       "5            0     0     0   13  1415  830  1000\n",
       "999          0     0     0    3     0    0     0"
      ]
     },
     "execution_count": 139,
     "metadata": {},
     "output_type": "execute_result"
    }
   ],
   "source": [
    "pd.crosstab(ind.secondary,ind.educLevel)"
   ]
  },
  {
   "cell_type": "code",
   "execution_count": 147,
   "metadata": {
    "collapsed": false
   },
   "outputs": [
    {
     "data": {
      "text/plain": [
       "4    2\n",
       "2    1\n",
       "Name: schoolYear, dtype: int64"
      ]
     },
     "execution_count": 147,
     "metadata": {},
     "output_type": "execute_result"
    }
   ],
   "source": [
    "#SEGUIR DESPUES ACA\n",
    "ind.schoolYear[ind.secondary == 999].value_counts()"
   ]
  },
  {
   "cell_type": "code",
   "execution_count": 128,
   "metadata": {
    "collapsed": false
   },
   "outputs": [
    {
     "data": {
      "text/plain": [
       "['CODUSU',\n",
       " 'NRO_HOGAR',\n",
       " 'COMPONENTE',\n",
       " 'AGLOMERADO',\n",
       " 'PONDERA',\n",
       " 'familyRelation',\n",
       " 'female',\n",
       " 'age',\n",
       " 'schooled',\n",
       " 'schoolYear',\n",
       " 'finishedYear',\n",
       " 'lastYear',\n",
       " 'activity',\n",
       " 'educLevel',\n",
       " 'empCond',\n",
       " 'unempCond',\n",
       " 'ITF',\n",
       " 'IPCF',\n",
       " 'P47T',\n",
       " 'primary',\n",
       " 'secondary']"
      ]
     },
     "execution_count": 128,
     "metadata": {},
     "output_type": "execute_result"
    }
   ],
   "source": [
    "list(ind.columns)"
   ]
  },
  {
   "cell_type": "code",
   "execution_count": 129,
   "metadata": {
    "collapsed": false
   },
   "outputs": [
    {
     "name": "stdout",
     "output_type": "stream",
     "text": [
      "(8360, 21)\n",
      "(8347, 21)\n"
     ]
    }
   ],
   "source": [
    "print ind.shape\n",
    "print ind.drop_duplicates(subset = ['CODUSU',\n",
    " 'NRO_HOGAR',\n",
    " 'AGLOMERADO',\n",
    " 'PONDERA',\n",
    " 'familyRelation',\n",
    " 'female',\n",
    " 'age',\n",
    " 'schooled',\n",
    " 'schoolYear',\n",
    " 'finishedYear',\n",
    " 'lastYear',\n",
    " 'activity',\n",
    " 'educLevel',\n",
    " 'empCond',\n",
    " 'unempCond',\n",
    " 'ITF',\n",
    " 'IPCF',\n",
    " 'P47T',\n",
    " 'primary',\n",
    " 'secondary']\n",
    "                         ).shape\n"
   ]
  },
  {
   "cell_type": "code",
   "execution_count": null,
   "metadata": {
    "collapsed": true
   },
   "outputs": [],
   "source": [
    "# anos de escolaridad por nivel\n",
    "# funcion en R https://github.com/alephcero/incomeMapBuenosAires/blob/master/src/schoolYears.R\n",
    "\n",
    "\n",
    "# ver la curva de ingresos segun edad y la curva de ingresos segun anos de escolaridad, partirla en 3 o usar x y x2\n",
    "#construir igual anos de escolaridad\n",
    "\n",
    "\n",
    "# variables dummy para cada grupo de edad \n",
    "\n",
    "#r1. Esc_1 + r2. Esc_2 + r3. Esc_3 +  v_14a24 GBA + v_25a34GBA + m_14a24 GBA + m_25a34GBA  +  m_35ymás GBA +  \n",
    "\n",
    "\n",
    "\n",
    "#http://stackoverflow.com/questions/26777832/replicating-rows-in-a-pandas-data-frame-by-a-column-value/26778637#26778637\n",
    "ind = indNoW.loc[np.repeat(indNoW.index.values,indNoW.PONDERA)]\n",
    "ind.shape"
   ]
  }
 ],
 "metadata": {
  "kernelspec": {
   "display_name": "Python [Root]",
   "language": "python",
   "name": "Python [Root]"
  },
  "language_info": {
   "codemirror_mode": {
    "name": "ipython",
    "version": 2
   },
   "file_extension": ".py",
   "mimetype": "text/x-python",
   "name": "python",
   "nbconvert_exporter": "python",
   "pygments_lexer": "ipython2",
   "version": "2.7.12"
  }
 },
 "nbformat": 4,
 "nbformat_minor": 0
}
