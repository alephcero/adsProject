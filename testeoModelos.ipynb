{
 "cells": [
  {
   "cell_type": "code",
   "execution_count": 1,
   "metadata": {
    "collapsed": false
   },
   "outputs": [
    {
     "name": "stderr",
     "output_type": "stream",
     "text": [
      "/home/pipe/anaconda2/lib/python2.7/site-packages/sklearn/cross_validation.py:44: DeprecationWarning: This module was deprecated in version 0.18 in favor of the model_selection module into which all the refactored classes and functions are moved. Also note that the interface of the new CV iterators are different from that of this module. This module will be removed in 0.20.\n",
      "  \"This module will be removed in 0.20.\", DeprecationWarning)\n"
     ]
    }
   ],
   "source": [
    "from getEPH import *\n",
    "import pandas as pd\n",
    "#http://statsmodels.sourceforge.net/devel/examples/generated/example_wls.html\n",
    "import numpy as np\n",
    "from scipy import stats\n",
    "import statsmodels.api as sm\n",
    "import matplotlib.pyplot as plt\n",
    "import seaborn as sns\n",
    "from statsmodels.sandbox.regression.predstd import wls_prediction_std\n",
    "from statsmodels.iolib.table import (SimpleTable, default_txt_fmt)\n",
    "np.random.seed(1024)\n",
    "%matplotlib inline"
   ]
  },
  {
   "cell_type": "markdown",
   "metadata": {},
   "source": [
    "NOTAS\n",
    "\n",
    "* CALCULAR EN BASE AL MODELO DE CURVAS LAS DERIVADAS Y DONDE HACE EL PICO EN EDAD\n",
    "* \n"
   ]
  },
  {
   "cell_type": "markdown",
   "metadata": {},
   "source": [
    "# DOWNLOAD DATA"
   ]
  },
  {
   "cell_type": "code",
   "execution_count": 2,
   "metadata": {
    "collapsed": false
   },
   "outputs": [
    {
     "name": "stdout",
     "output_type": "stream",
     "text": [
      "('Downloading', 't310')\n",
      "file in place, creating CSV file\n",
      "csv file cleanData t310 .csv successfully created in folder data/\n"
     ]
    }
   ],
   "source": [
    "#get data\n",
    "getEPHdbf('t310')"
   ]
  },
  {
   "cell_type": "code",
   "execution_count": 3,
   "metadata": {
    "collapsed": false
   },
   "outputs": [],
   "source": [
    "data1 = pd.read_csv('data/cleanDatat310.csv')"
   ]
  },
  {
   "cell_type": "code",
   "execution_count": 4,
   "metadata": {
    "collapsed": true
   },
   "outputs": [],
   "source": [
    "data2 = categorize(data1)\n",
    "data3 = schoolYears(data2)\n",
    "data = make_dummy(data3)"
   ]
  },
  {
   "cell_type": "code",
   "execution_count": 5,
   "metadata": {
    "collapsed": false
   },
   "outputs": [],
   "source": [
    "dataModel = prepareDataForModel(data)"
   ]
  },
  {
   "cell_type": "markdown",
   "metadata": {},
   "source": [
    "# NEW VARIABLES FOR MODEL"
   ]
  },
  {
   "cell_type": "markdown",
   "metadata": {},
   "source": [
    "# Graficos exploratorios"
   ]
  },
  {
   "cell_type": "code",
   "execution_count": null,
   "metadata": {
    "collapsed": false
   },
   "outputs": [],
   "source": [
    "fig = plt.figure(figsize=(16,12))\n",
    "ax1 = fig.add_subplot(2,2,1)\n",
    "ax2 = fig.add_subplot(2,2,2)\n",
    "ax3 = fig.add_subplot(2,2,3)\n",
    "ax4 = fig.add_subplot(2,2,4)\n",
    "\n",
    "ax1.plot(dataModel.education,dataModel.P47T,'ro')\n",
    "ax1.set_ylabel('Ingreso total')\n",
    "ax1.set_xlabel('Educacion')\n",
    "ax2.plot(dataModel.age,dataModel.P47T,'ro')\n",
    "ax2.set_xlabel('Edad')\n",
    "ax3.plot(dataModel.education,dataModel.P21,'bo')\n",
    "ax3.set_ylabel('Ingreso Laboral')\n",
    "ax3.set_xlabel('Educacion')\n",
    "ax4.plot(dataModel.age,dataModel.P21,'bo')\n",
    "ax4.set_xlabel('Edad')"
   ]
  },
  {
   "cell_type": "code",
   "execution_count": null,
   "metadata": {
    "collapsed": false
   },
   "outputs": [],
   "source": [
    "fig = plt.figure(figsize=(16,12))\n",
    "ax1 = fig.add_subplot(2,2,1)\n",
    "ax2 = fig.add_subplot(2,2,2)\n",
    "ax3 = fig.add_subplot(2,2,3)\n",
    "ax4 = fig.add_subplot(2,2,4)\n",
    "\n",
    "\n",
    "sns.kdeplot(dataModel.P47T,ax=ax1,color = 'red')\n",
    "sns.kdeplot(dataModel.lnIncomeT,ax=ax2,color = 'red')\n",
    "sns.kdeplot(dataModel.P21,ax=ax3)\n",
    "sns.kdeplot(dataModel.lnIncome,ax=ax4)"
   ]
  },
  {
   "cell_type": "code",
   "execution_count": null,
   "metadata": {
    "collapsed": false
   },
   "outputs": [],
   "source": [
    "print 'mean:', dataModel.lnIncome.mean(), 'std:', dataModel.lnIncome.std()"
   ]
  },
  {
   "cell_type": "code",
   "execution_count": null,
   "metadata": {
    "collapsed": false,
    "scrolled": true
   },
   "outputs": [],
   "source": [
    "print 'mean:', dataModel.P21.mean(), 'std:', dataModel.P21.std()"
   ]
  },
  {
   "cell_type": "code",
   "execution_count": null,
   "metadata": {
    "collapsed": false
   },
   "outputs": [],
   "source": [
    "plt.boxplot(list(dataModel.P21), 0, 'gD')"
   ]
  },
  {
   "cell_type": "markdown",
   "metadata": {},
   "source": [
    "# PLOTS FOR LnINCOME ~ EDUC AND AGE"
   ]
  },
  {
   "cell_type": "code",
   "execution_count": null,
   "metadata": {
    "collapsed": false
   },
   "outputs": [],
   "source": [
    "g = sns.JointGrid(x=\"education\", y=\"lnIncome\", data=dataModel)  \n",
    "g.plot_joint(sns.regplot, order=2)  \n",
    "g.plot_marginals(sns.distplot)\n",
    "\n",
    "g2 = sns.JointGrid(x=\"age\", y=\"lnIncome\", data=dataModel)  \n",
    "g2.plot_joint(sns.regplot, order=2)  \n",
    "g2.plot_marginals(sns.distplot)"
   ]
  },
  {
   "cell_type": "markdown",
   "metadata": {},
   "source": [
    "# Modelos\n",
    "\n",
    "Tomo el de mejor performance para evaluar en el test set. Basicamente son dos posibiliades INDEC o ALTERNATIVO (que habiamos propuesto no cortar las edades y los años de escolaridad, sino usar las variables y directamente usar el cuadrado). Cada uno lo pruebo con ingresos laborales (con y sin constante) y con el log del ingreso laboral."
   ]
  },
  {
   "cell_type": "markdown",
   "metadata": {},
   "source": [
    "## 1 CEPAL con ingresos laborales"
   ]
  },
  {
   "cell_type": "code",
   "execution_count": 14,
   "metadata": {
    "collapsed": false
   },
   "outputs": [
    {
     "name": "stdout",
     "output_type": "stream",
     "text": [
      "                            WLS Regression Results                            \n",
      "==============================================================================\n",
      "Dep. Variable:                      y   R-squared:                       0.257\n",
      "Model:                            WLS   Adj. R-squared:                  0.256\n",
      "Method:                 Least Squares   F-statistic:                     154.1\n",
      "Date:                Fri, 18 Nov 2016   Prob (F-statistic):          2.16e-223\n",
      "Time:                        14:58:03   Log-Likelihood:                -31770.\n",
      "No. Observations:                3568   AIC:                         6.356e+04\n",
      "Df Residuals:                    3559   BIC:                         6.361e+04\n",
      "Df Model:                           8                                         \n",
      "Covariance Type:            nonrobust                                         \n",
      "==============================================================================\n",
      "                 coef    std err          t      P>|t|      [95.0% Conf. Int.]\n",
      "------------------------------------------------------------------------------\n",
      "const       1651.4434    222.230      7.431      0.000      1215.733  2087.153\n",
      "x1            91.1777     33.520      2.720      0.007        25.457   156.898\n",
      "x2           162.5962     16.393      9.918      0.000       130.455   194.737\n",
      "x3           340.9637     18.044     18.896      0.000       305.586   376.341\n",
      "x4         -1161.1065    118.953     -9.761      0.000     -1394.329  -927.884\n",
      "x5          -579.6448     91.277     -6.350      0.000      -758.605  -400.685\n",
      "x6         -1869.1208    138.199    -13.525      0.000     -2140.079 -1598.163\n",
      "x7         -1561.7263    102.296    -15.267      0.000     -1762.291 -1361.162\n",
      "x8         -1124.0447     76.523    -14.689      0.000     -1274.078  -974.011\n",
      "==============================================================================\n",
      "Omnibus:                     2916.321   Durbin-Watson:                   1.758\n",
      "Prob(Omnibus):                  0.000   Jarque-Bera (JB):           168978.870\n",
      "Skew:                           3.472   Prob(JB):                         0.00\n",
      "Kurtosis:                      35.991   Cond. No.                         61.1\n",
      "==============================================================================\n",
      "\n",
      "Warnings:\n",
      "[1] Standard Errors assume that the covariance matrix of the errors is correctly specified.\n",
      "x1: primary\n",
      "x2: secondary\n",
      "x3: university\n",
      "x4: male_14to24\n",
      "x5: male_25to34\n",
      "x6: female_14to24\n",
      "x7: female_25to34\n",
      "x8: female_35more\n",
      "IS R-squared for 1000 times is 0.265103679995\n",
      "OS R-squared for 1000 times is 0.260652864625\n"
     ]
    }
   ],
   "source": [
    "dataModel1 = runModel(dataModel, income = 'P21')"
   ]
  },
  {
   "cell_type": "markdown",
   "metadata": {},
   "source": [
    "## 2 - CEPAL con Log ingresos laborales "
   ]
  },
  {
   "cell_type": "code",
   "execution_count": 7,
   "metadata": {
    "collapsed": false
   },
   "outputs": [
    {
     "name": "stdout",
     "output_type": "stream",
     "text": [
      "                            WLS Regression Results                            \n",
      "==============================================================================\n",
      "Dep. Variable:                      y   R-squared:                       0.291\n",
      "Model:                            WLS   Adj. R-squared:                  0.289\n",
      "Method:                 Least Squares   F-statistic:                     146.1\n",
      "Date:                Fri, 18 Nov 2016   Prob (F-statistic):          5.39e-257\n",
      "Time:                        14:50:25   Log-Likelihood:                -4033.3\n",
      "No. Observations:                3568   AIC:                             8089.\n",
      "Df Residuals:                    3557   BIC:                             8156.\n",
      "Df Model:                          10                                         \n",
      "Covariance Type:            nonrobust                                         \n",
      "==============================================================================\n",
      "                 coef    std err          t      P>|t|      [95.0% Conf. Int.]\n",
      "------------------------------------------------------------------------------\n",
      "const          5.1321      0.268     19.160      0.000         4.607     5.657\n",
      "x1             0.0772      0.014      5.461      0.000         0.049     0.105\n",
      "x2             0.0813      0.007     11.751      0.000         0.068     0.095\n",
      "x3             0.1215      0.008     15.995      0.000         0.107     0.136\n",
      "x4             0.0646      0.099      0.651      0.515        -0.130     0.259\n",
      "x5             0.0406      0.059      0.686      0.493        -0.076     0.157\n",
      "x6            -0.4436      0.102     -4.333      0.000        -0.644    -0.243\n",
      "x7            -0.4374      0.063     -6.957      0.000        -0.561    -0.314\n",
      "x8            -0.5985      0.032    -18.568      0.000        -0.662    -0.535\n",
      "x9            -0.0008   9.93e-05     -8.034      0.000        -0.001    -0.001\n",
      "x10            0.0767      0.010      7.604      0.000         0.057     0.096\n",
      "==============================================================================\n",
      "Omnibus:                      627.199   Durbin-Watson:                   1.855\n",
      "Prob(Omnibus):                  0.000   Jarque-Bera (JB):             1426.724\n",
      "Skew:                          -1.002   Prob(JB):                    1.55e-310\n",
      "Kurtosis:                       5.363   Cond. No.                     5.27e+04\n",
      "==============================================================================\n",
      "\n",
      "Warnings:\n",
      "[1] Standard Errors assume that the covariance matrix of the errors is correctly specified.\n",
      "[2] The condition number is large, 5.27e+04. This might indicate that there are\n",
      "strong multicollinearity or other numerical problems.\n",
      "x1: primary\n",
      "x2: secondary\n",
      "x3: university\n",
      "x4: male_14to24\n",
      "x5: male_25to34\n",
      "x6: female_14to24\n",
      "x7: female_25to34\n",
      "x8: female_35more\n",
      "x9: age2\n",
      "x10: age\n",
      "IS R-squared for 1000 times is 0.302719433295\n",
      "OS R-squared for 1000 times is 0.294726029075\n"
     ]
    }
   ],
   "source": [
    "dataModel2 = runModel(dataModel, income = 'lnIncome', variables= [\n",
    "        'primary','secondary','university',\n",
    "        'male_14to24','male_25to34',\n",
    "        'female_14to24', 'female_25to34', 'female_35more','age2','age'])"
   ]
  },
  {
   "cell_type": "markdown",
   "metadata": {},
   "source": [
    "## 3 - CEPAL con ingresos totales"
   ]
  },
  {
   "cell_type": "code",
   "execution_count": null,
   "metadata": {
    "collapsed": false
   },
   "outputs": [],
   "source": [
    "dataModel3 = runModel(dataModel, income = 'P47T')"
   ]
  },
  {
   "cell_type": "markdown",
   "metadata": {},
   "source": [
    "## 4 - CEPAL con Log ingresos totales"
   ]
  },
  {
   "cell_type": "code",
   "execution_count": null,
   "metadata": {
    "collapsed": false
   },
   "outputs": [],
   "source": [
    "dataModel4 = runModel(dataModel, income = 'lnIncomeT')"
   ]
  },
  {
   "cell_type": "markdown",
   "metadata": {},
   "source": [
    "## 5 - ALTERNATIVO con Log ingresos totales"
   ]
  },
  {
   "cell_type": "code",
   "execution_count": null,
   "metadata": {
    "collapsed": false
   },
   "outputs": [],
   "source": [
    "dataModel5 = runModel(dataModel, income = 'lnIncomeT', variables=['education','education2',\n",
    "                                'age','age2','female'])"
   ]
  },
  {
   "cell_type": "markdown",
   "metadata": {},
   "source": [
    "## 6 - ALTERNATIVO con log Income laboral "
   ]
  },
  {
   "cell_type": "code",
   "execution_count": null,
   "metadata": {
    "collapsed": false
   },
   "outputs": [],
   "source": [
    "dataModel6 = runModel(dataModel, income = 'lnIncome', variables=['education','education2',\n",
    "                                'age','age2','female'])"
   ]
  },
  {
   "cell_type": "code",
   "execution_count": null,
   "metadata": {
    "collapsed": true
   },
   "outputs": [],
   "source": []
  }
 ],
 "metadata": {
  "kernelspec": {
   "display_name": "Python [Root]",
   "language": "python",
   "name": "Python [Root]"
  },
  "language_info": {
   "codemirror_mode": {
    "name": "ipython",
    "version": 2
   },
   "file_extension": ".py",
   "mimetype": "text/x-python",
   "name": "python",
   "nbconvert_exporter": "python",
   "pygments_lexer": "ipython2",
   "version": "2.7.12"
  }
 },
 "nbformat": 4,
 "nbformat_minor": 0
}
