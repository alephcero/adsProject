{
 "cells": [
  {
   "cell_type": "code",
   "execution_count": 1,
   "metadata": {
    "collapsed": false
   },
   "outputs": [],
   "source": [
    "from getEPH import *\n",
    "import pandas as pd\n",
    "#http://statsmodels.sourceforge.net/devel/examples/generated/example_wls.html\n",
    "import numpy as np\n",
    "from scipy import stats\n",
    "import statsmodels.api as sm\n",
    "import matplotlib.pyplot as plt\n",
    "import seaborn as sns\n",
    "from statsmodels.sandbox.regression.predstd import wls_prediction_std\n",
    "from statsmodels.iolib.table import (SimpleTable, default_txt_fmt)\n",
    "np.random.seed(1024)\n",
    "%matplotlib inline"
   ]
  },
  {
   "cell_type": "markdown",
   "metadata": {},
   "source": [
    "NOTAS\n",
    "\n",
    "* CALCULAR EN BASE AL MODELO DE CURVAS LAS DERIVADAS Y DONDE HACE EL PICO EN EDAD\n",
    "* \n"
   ]
  },
  {
   "cell_type": "markdown",
   "metadata": {},
   "source": [
    "# DOWNLOAD DATA"
   ]
  },
  {
   "cell_type": "code",
   "execution_count": null,
   "metadata": {
    "collapsed": false
   },
   "outputs": [],
   "source": [
    "#get data\n",
    "getEPHdbf('t310')"
   ]
  },
  {
   "cell_type": "code",
   "execution_count": 2,
   "metadata": {
    "collapsed": false
   },
   "outputs": [],
   "source": [
    "data1 = pd.read_csv('data/cleanDatat310.csv')"
   ]
  },
  {
   "cell_type": "code",
   "execution_count": 3,
   "metadata": {
    "collapsed": true
   },
   "outputs": [],
   "source": [
    "data2 = categorize(data1)\n",
    "data3 = schoolYears(data2)\n",
    "data = make_dummy(data3)"
   ]
  },
  {
   "cell_type": "code",
   "execution_count": 4,
   "metadata": {
    "collapsed": false
   },
   "outputs": [
    {
     "data": {
      "text/html": [
       "<div>\n",
       "<table border=\"1\" class=\"dataframe\">\n",
       "  <thead>\n",
       "    <tr style=\"text-align: right;\">\n",
       "      <th></th>\n",
       "      <th>CODUSU</th>\n",
       "      <th>NRO_HOGAR</th>\n",
       "      <th>COMPONENTE</th>\n",
       "      <th>AGLOMERADO</th>\n",
       "      <th>PONDERA</th>\n",
       "      <th>familyRelation</th>\n",
       "      <th>female</th>\n",
       "      <th>age</th>\n",
       "      <th>schoolLevel</th>\n",
       "      <th>finishedYear</th>\n",
       "      <th>...</th>\n",
       "      <th>P47T</th>\n",
       "      <th>P21</th>\n",
       "      <th>primary</th>\n",
       "      <th>secondary</th>\n",
       "      <th>university</th>\n",
       "      <th>male_14to24</th>\n",
       "      <th>male_25to34</th>\n",
       "      <th>female_14to24</th>\n",
       "      <th>female_25to34</th>\n",
       "      <th>female_35more</th>\n",
       "    </tr>\n",
       "  </thead>\n",
       "  <tbody>\n",
       "    <tr>\n",
       "      <th>0</th>\n",
       "      <td>302468</td>\n",
       "      <td>1</td>\n",
       "      <td>1</td>\n",
       "      <td>32</td>\n",
       "      <td>1287</td>\n",
       "      <td>1</td>\n",
       "      <td>1</td>\n",
       "      <td>20</td>\n",
       "      <td>7.0</td>\n",
       "      <td>2</td>\n",
       "      <td>...</td>\n",
       "      <td>2000</td>\n",
       "      <td>0</td>\n",
       "      <td>7.0</td>\n",
       "      <td>5.0</td>\n",
       "      <td>1.0</td>\n",
       "      <td>0</td>\n",
       "      <td>0</td>\n",
       "      <td>1</td>\n",
       "      <td>0</td>\n",
       "      <td>0</td>\n",
       "    </tr>\n",
       "    <tr>\n",
       "      <th>1</th>\n",
       "      <td>302468</td>\n",
       "      <td>1</td>\n",
       "      <td>2</td>\n",
       "      <td>32</td>\n",
       "      <td>1287</td>\n",
       "      <td>10</td>\n",
       "      <td>1</td>\n",
       "      <td>20</td>\n",
       "      <td>6.0</td>\n",
       "      <td>2</td>\n",
       "      <td>...</td>\n",
       "      <td>2000</td>\n",
       "      <td>0</td>\n",
       "      <td>7.0</td>\n",
       "      <td>5.0</td>\n",
       "      <td>1.0</td>\n",
       "      <td>0</td>\n",
       "      <td>0</td>\n",
       "      <td>1</td>\n",
       "      <td>0</td>\n",
       "      <td>0</td>\n",
       "    </tr>\n",
       "    <tr>\n",
       "      <th>2</th>\n",
       "      <td>307861</td>\n",
       "      <td>1</td>\n",
       "      <td>1</td>\n",
       "      <td>32</td>\n",
       "      <td>1674</td>\n",
       "      <td>1</td>\n",
       "      <td>0</td>\n",
       "      <td>42</td>\n",
       "      <td>2.0</td>\n",
       "      <td>1</td>\n",
       "      <td>...</td>\n",
       "      <td>3000</td>\n",
       "      <td>3000</td>\n",
       "      <td>7.0</td>\n",
       "      <td>0.0</td>\n",
       "      <td>0.0</td>\n",
       "      <td>0</td>\n",
       "      <td>0</td>\n",
       "      <td>0</td>\n",
       "      <td>0</td>\n",
       "      <td>0</td>\n",
       "    </tr>\n",
       "    <tr>\n",
       "      <th>3</th>\n",
       "      <td>307861</td>\n",
       "      <td>1</td>\n",
       "      <td>2</td>\n",
       "      <td>32</td>\n",
       "      <td>1674</td>\n",
       "      <td>2</td>\n",
       "      <td>1</td>\n",
       "      <td>44</td>\n",
       "      <td>7.0</td>\n",
       "      <td>1</td>\n",
       "      <td>...</td>\n",
       "      <td>2800</td>\n",
       "      <td>2800</td>\n",
       "      <td>7.0</td>\n",
       "      <td>5.0</td>\n",
       "      <td>5.0</td>\n",
       "      <td>0</td>\n",
       "      <td>0</td>\n",
       "      <td>0</td>\n",
       "      <td>0</td>\n",
       "      <td>1</td>\n",
       "    </tr>\n",
       "    <tr>\n",
       "      <th>4</th>\n",
       "      <td>307861</td>\n",
       "      <td>1</td>\n",
       "      <td>3</td>\n",
       "      <td>32</td>\n",
       "      <td>1674</td>\n",
       "      <td>3</td>\n",
       "      <td>0</td>\n",
       "      <td>13</td>\n",
       "      <td>4.0</td>\n",
       "      <td>2</td>\n",
       "      <td>...</td>\n",
       "      <td>0</td>\n",
       "      <td>0</td>\n",
       "      <td>7.0</td>\n",
       "      <td>0.0</td>\n",
       "      <td>0.0</td>\n",
       "      <td>0</td>\n",
       "      <td>0</td>\n",
       "      <td>0</td>\n",
       "      <td>0</td>\n",
       "      <td>0</td>\n",
       "    </tr>\n",
       "  </tbody>\n",
       "</table>\n",
       "<p>5 rows × 26 columns</p>\n",
       "</div>"
      ],
      "text/plain": [
       "   CODUSU  NRO_HOGAR  COMPONENTE  AGLOMERADO  PONDERA  familyRelation  female  \\\n",
       "0  302468          1           1          32     1287               1       1   \n",
       "1  302468          1           2          32     1287              10       1   \n",
       "2  307861          1           1          32     1674               1       0   \n",
       "3  307861          1           2          32     1674               2       1   \n",
       "4  307861          1           3          32     1674               3       0   \n",
       "\n",
       "   age  schoolLevel  finishedYear      ...        P47T   P21  primary  \\\n",
       "0   20          7.0             2      ...        2000     0      7.0   \n",
       "1   20          6.0             2      ...        2000     0      7.0   \n",
       "2   42          2.0             1      ...        3000  3000      7.0   \n",
       "3   44          7.0             1      ...        2800  2800      7.0   \n",
       "4   13          4.0             2      ...           0     0      7.0   \n",
       "\n",
       "   secondary  university  male_14to24  male_25to34  female_14to24  \\\n",
       "0        5.0         1.0            0            0              1   \n",
       "1        5.0         1.0            0            0              1   \n",
       "2        0.0         0.0            0            0              0   \n",
       "3        5.0         5.0            0            0              0   \n",
       "4        0.0         0.0            0            0              0   \n",
       "\n",
       "   female_25to34  female_35more  \n",
       "0              0              0  \n",
       "1              0              0  \n",
       "2              0              0  \n",
       "3              0              1  \n",
       "4              0              0  \n",
       "\n",
       "[5 rows x 26 columns]"
      ]
     },
     "execution_count": 4,
     "metadata": {},
     "output_type": "execute_result"
    }
   ],
   "source": [
    "data.head()"
   ]
  },
  {
   "cell_type": "markdown",
   "metadata": {},
   "source": [
    "# NEW VARIABLES FOR MODEL"
   ]
  },
  {
   "cell_type": "code",
   "execution_count": 5,
   "metadata": {
    "collapsed": false
   },
   "outputs": [],
   "source": [
    "#select variables \n",
    "dataModel = data.copy().loc[:,\n",
    "                              ['PONDERA','P47T','P21',\n",
    "                               'primary','secondary','university',\n",
    "                               'male_14to24','male_25to34',\n",
    "                               'female_14to24', 'female_25to34', 'female_35more',\n",
    "                               'female','age']]"
   ]
  },
  {
   "cell_type": "code",
   "execution_count": 6,
   "metadata": {
    "collapsed": false
   },
   "outputs": [
    {
     "data": {
      "text/html": [
       "<div>\n",
       "<table border=\"1\" class=\"dataframe\">\n",
       "  <thead>\n",
       "    <tr style=\"text-align: right;\">\n",
       "      <th></th>\n",
       "      <th>PONDERA</th>\n",
       "      <th>P47T</th>\n",
       "      <th>P21</th>\n",
       "      <th>primary</th>\n",
       "      <th>secondary</th>\n",
       "      <th>university</th>\n",
       "      <th>male_14to24</th>\n",
       "      <th>male_25to34</th>\n",
       "      <th>female_14to24</th>\n",
       "      <th>female_25to34</th>\n",
       "      <th>female_35more</th>\n",
       "      <th>female</th>\n",
       "      <th>age</th>\n",
       "      <th>education</th>\n",
       "      <th>education2</th>\n",
       "      <th>age2</th>\n",
       "      <th>lnIncome</th>\n",
       "      <th>lnIncomeT</th>\n",
       "    </tr>\n",
       "  </thead>\n",
       "  <tbody>\n",
       "    <tr>\n",
       "      <th>0</th>\n",
       "      <td>1287</td>\n",
       "      <td>2000</td>\n",
       "      <td>1</td>\n",
       "      <td>7.0</td>\n",
       "      <td>5.0</td>\n",
       "      <td>1.0</td>\n",
       "      <td>0</td>\n",
       "      <td>0</td>\n",
       "      <td>1</td>\n",
       "      <td>0</td>\n",
       "      <td>0</td>\n",
       "      <td>1</td>\n",
       "      <td>20</td>\n",
       "      <td>13.0</td>\n",
       "      <td>169.0</td>\n",
       "      <td>400</td>\n",
       "      <td>-inf</td>\n",
       "      <td>7.600902</td>\n",
       "    </tr>\n",
       "    <tr>\n",
       "      <th>1</th>\n",
       "      <td>1287</td>\n",
       "      <td>2000</td>\n",
       "      <td>1</td>\n",
       "      <td>7.0</td>\n",
       "      <td>5.0</td>\n",
       "      <td>1.0</td>\n",
       "      <td>0</td>\n",
       "      <td>0</td>\n",
       "      <td>1</td>\n",
       "      <td>0</td>\n",
       "      <td>0</td>\n",
       "      <td>1</td>\n",
       "      <td>20</td>\n",
       "      <td>13.0</td>\n",
       "      <td>169.0</td>\n",
       "      <td>400</td>\n",
       "      <td>-inf</td>\n",
       "      <td>7.600902</td>\n",
       "    </tr>\n",
       "    <tr>\n",
       "      <th>2</th>\n",
       "      <td>1674</td>\n",
       "      <td>3000</td>\n",
       "      <td>3000</td>\n",
       "      <td>7.0</td>\n",
       "      <td>0.0</td>\n",
       "      <td>0.0</td>\n",
       "      <td>0</td>\n",
       "      <td>0</td>\n",
       "      <td>0</td>\n",
       "      <td>0</td>\n",
       "      <td>0</td>\n",
       "      <td>0</td>\n",
       "      <td>42</td>\n",
       "      <td>7.0</td>\n",
       "      <td>49.0</td>\n",
       "      <td>1764</td>\n",
       "      <td>8.006368</td>\n",
       "      <td>8.006368</td>\n",
       "    </tr>\n",
       "    <tr>\n",
       "      <th>3</th>\n",
       "      <td>1674</td>\n",
       "      <td>2800</td>\n",
       "      <td>2800</td>\n",
       "      <td>7.0</td>\n",
       "      <td>5.0</td>\n",
       "      <td>5.0</td>\n",
       "      <td>0</td>\n",
       "      <td>0</td>\n",
       "      <td>0</td>\n",
       "      <td>0</td>\n",
       "      <td>1</td>\n",
       "      <td>1</td>\n",
       "      <td>44</td>\n",
       "      <td>17.0</td>\n",
       "      <td>289.0</td>\n",
       "      <td>1936</td>\n",
       "      <td>7.937375</td>\n",
       "      <td>7.937375</td>\n",
       "    </tr>\n",
       "    <tr>\n",
       "      <th>4</th>\n",
       "      <td>1674</td>\n",
       "      <td>1</td>\n",
       "      <td>1</td>\n",
       "      <td>7.0</td>\n",
       "      <td>0.0</td>\n",
       "      <td>0.0</td>\n",
       "      <td>0</td>\n",
       "      <td>0</td>\n",
       "      <td>0</td>\n",
       "      <td>0</td>\n",
       "      <td>0</td>\n",
       "      <td>0</td>\n",
       "      <td>13</td>\n",
       "      <td>7.0</td>\n",
       "      <td>49.0</td>\n",
       "      <td>169</td>\n",
       "      <td>-inf</td>\n",
       "      <td>-inf</td>\n",
       "    </tr>\n",
       "  </tbody>\n",
       "</table>\n",
       "</div>"
      ],
      "text/plain": [
       "   PONDERA  P47T   P21  primary  secondary  university  male_14to24  \\\n",
       "0     1287  2000     1      7.0        5.0         1.0            0   \n",
       "1     1287  2000     1      7.0        5.0         1.0            0   \n",
       "2     1674  3000  3000      7.0        0.0         0.0            0   \n",
       "3     1674  2800  2800      7.0        5.0         5.0            0   \n",
       "4     1674     1     1      7.0        0.0         0.0            0   \n",
       "\n",
       "   male_25to34  female_14to24  female_25to34  female_35more  female  age  \\\n",
       "0            0              1              0              0       1   20   \n",
       "1            0              1              0              0       1   20   \n",
       "2            0              0              0              0       0   42   \n",
       "3            0              0              0              1       1   44   \n",
       "4            0              0              0              0       0   13   \n",
       "\n",
       "   education  education2  age2  lnIncome  lnIncomeT  \n",
       "0       13.0       169.0   400      -inf   7.600902  \n",
       "1       13.0       169.0   400      -inf   7.600902  \n",
       "2        7.0        49.0  1764  8.006368   8.006368  \n",
       "3       17.0       289.0  1936  7.937375   7.937375  \n",
       "4        7.0        49.0   169      -inf       -inf  "
      ]
     },
     "execution_count": 6,
     "metadata": {},
     "output_type": "execute_result"
    }
   ],
   "source": [
    "#Make polynomial variables and education as a total\n",
    "dataModel['education'] = dataModel.primary + dataModel.secondary + dataModel.university\n",
    "dataModel['education2'] = dataModel['education'] ** 2\n",
    "dataModel['age2'] = dataModel['age'] ** 2\n",
    "\n",
    "dataModel.P47T.replace(to_replace=[0], value=[1] , inplace=True, axis=None)\n",
    "dataModel.P21.replace(to_replace=[0], value=[1] , inplace=True, axis=None)\n",
    "dataModel['lnIncome']= np.log(data.P21)\n",
    "dataModel['lnIncomeT']= np.log(data.P47T)\n",
    "dataModel.dropna(inplace=True)\n",
    "dataModel.head()\n"
   ]
  },
  {
   "cell_type": "code",
   "execution_count": 7,
   "metadata": {
    "collapsed": true
   },
   "outputs": [],
   "source": [
    "#Select only people with jobs and income for that job\n",
    "jobsAndIncome = ((data.activity==1) & (data.P21>1))\n",
    "dataModel = dataModel.copy().loc[jobsAndIncome,:]"
   ]
  },
  {
   "cell_type": "markdown",
   "metadata": {},
   "source": [
    "# Graficos exploratorios"
   ]
  },
  {
   "cell_type": "code",
   "execution_count": null,
   "metadata": {
    "collapsed": false
   },
   "outputs": [],
   "source": [
    "fig = plt.figure(figsize=(16,12))\n",
    "ax1 = fig.add_subplot(2,2,1)\n",
    "ax2 = fig.add_subplot(2,2,2)\n",
    "ax3 = fig.add_subplot(2,2,3)\n",
    "ax4 = fig.add_subplot(2,2,4)\n",
    "\n",
    "ax1.plot(dataModel.education,dataModel.P47T,'ro')\n",
    "ax1.set_ylabel('Ingreso total')\n",
    "ax1.set_xlabel('Educacion')\n",
    "ax2.plot(dataModel.age,dataModel.P47T,'ro')\n",
    "ax2.set_xlabel('Edad')\n",
    "ax3.plot(dataModel.education,dataModel.P21,'bo')\n",
    "ax3.set_ylabel('Ingreso Laboral')\n",
    "ax3.set_xlabel('Educacion')\n",
    "ax4.plot(dataModel.age,dataModel.P21,'bo')\n",
    "ax4.set_xlabel('Edad')"
   ]
  },
  {
   "cell_type": "code",
   "execution_count": null,
   "metadata": {
    "collapsed": false
   },
   "outputs": [],
   "source": [
    "fig = plt.figure(figsize=(16,12))\n",
    "ax1 = fig.add_subplot(2,2,1)\n",
    "ax2 = fig.add_subplot(2,2,2)\n",
    "ax3 = fig.add_subplot(2,2,3)\n",
    "ax4 = fig.add_subplot(2,2,4)\n",
    "\n",
    "\n",
    "sns.kdeplot(dataModel.P47T,ax=ax1,color = 'red')\n",
    "sns.kdeplot(dataModel.lnIncomeT,ax=ax2,color = 'red')\n",
    "sns.kdeplot(dataModel.P21,ax=ax3)\n",
    "sns.kdeplot(dataModel.lnIncome,ax=ax4)"
   ]
  },
  {
   "cell_type": "markdown",
   "metadata": {},
   "source": [
    "# PLOTS FOR LnINCOME ~ EDUC AND AGE"
   ]
  },
  {
   "cell_type": "code",
   "execution_count": null,
   "metadata": {
    "collapsed": false
   },
   "outputs": [],
   "source": [
    "g = sns.JointGrid(x=\"education\", y=\"lnIncome\", data=dataModel)  \n",
    "g.plot_joint(sns.regplot, order=2)  \n",
    "g.plot_marginals(sns.distplot)\n",
    "\n",
    "g2 = sns.JointGrid(x=\"age\", y=\"lnIncome\", data=dataModel)  \n",
    "g2.plot_joint(sns.regplot, order=2)  \n",
    "g2.plot_marginals(sns.distplot)"
   ]
  },
  {
   "cell_type": "markdown",
   "metadata": {},
   "source": [
    "# Modelos\n",
    "\n",
    "Tomo el de mejor performance para evaluar en el test set. Basicamente son dos posibiliades INDEC o ALTERNATIVO (que habiamos propuesto no cortar las edades y los años de escolaridad, sino usar las variables y directamente usar el cuadrado). Cada uno lo pruebo con ingresos laborales (con y sin constante) y con el log del ingreso laboral."
   ]
  },
  {
   "cell_type": "markdown",
   "metadata": {},
   "source": [
    "## 1 CEPAL con ingresos laborales"
   ]
  },
  {
   "cell_type": "code",
   "execution_count": 8,
   "metadata": {
    "collapsed": false
   },
   "outputs": [
    {
     "name": "stdout",
     "output_type": "stream",
     "text": [
      "                            WLS Regression Results                            \n",
      "==============================================================================\n",
      "Dep. Variable:                      y   R-squared:                       0.704\n",
      "Model:                            WLS   Adj. R-squared:                  0.703\n",
      "Method:                 Least Squares   F-statistic:                     939.2\n",
      "Date:                Wed, 16 Nov 2016   Prob (F-statistic):               0.00\n",
      "Time:                        19:26:27   Log-Likelihood:                -31770.\n",
      "No. Observations:                3568   AIC:                         6.356e+04\n",
      "Df Residuals:                    3559   BIC:                         6.361e+04\n",
      "Df Model:                           9                                         \n",
      "Covariance Type:            nonrobust                                         \n",
      "==============================================================================\n",
      "                 coef    std err          t      P>|t|      [95.0% Conf. Int.]\n",
      "------------------------------------------------------------------------------\n",
      "const       1651.4434    222.230      7.431      0.000      1215.733  2087.153\n",
      "x1            91.1777     33.520      2.720      0.007        25.457   156.898\n",
      "x2           162.5962     16.393      9.918      0.000       130.455   194.737\n",
      "x3           340.9637     18.044     18.896      0.000       305.586   376.341\n",
      "x4         -1161.1065    118.953     -9.761      0.000     -1394.329  -927.884\n",
      "x5          -579.6448     91.277     -6.350      0.000      -758.605  -400.685\n",
      "x6         -1869.1208    138.199    -13.525      0.000     -2140.079 -1598.163\n",
      "x7         -1561.7263    102.296    -15.267      0.000     -1762.291 -1361.162\n",
      "x8         -1124.0447     76.523    -14.689      0.000     -1274.078  -974.011\n",
      "==============================================================================\n",
      "Omnibus:                     2916.321   Durbin-Watson:                   1.758\n",
      "Prob(Omnibus):                  0.000   Jarque-Bera (JB):           168978.870\n",
      "Skew:                           3.472   Prob(JB):                         0.00\n",
      "Kurtosis:                      35.991   Cond. No.                         61.1\n",
      "==============================================================================\n",
      "\n",
      "Warnings:\n",
      "[1] Standard Errors assume that the covariance matrix of the errors is correctly specified.\n",
      "x1: primary\n",
      "x2: secondary\n",
      "x3: university\n",
      "x4: male_14to24\n",
      "x5: male_25to34\n",
      "x6: female_14to24\n",
      "x7: female_25to34\n",
      "x8: female_35more\n"
     ]
    }
   ],
   "source": [
    "dataModel1 = runModel(dataModel, income = 'P21')"
   ]
  },
  {
   "cell_type": "markdown",
   "metadata": {},
   "source": [
    "## 2 - CEPAL con Log ingresos laborales "
   ]
  },
  {
   "cell_type": "code",
   "execution_count": 9,
   "metadata": {
    "collapsed": false
   },
   "outputs": [
    {
     "name": "stdout",
     "output_type": "stream",
     "text": [
      "                            WLS Regression Results                            \n",
      "==============================================================================\n",
      "Dep. Variable:                      y   R-squared:                       0.990\n",
      "Model:                            WLS   Adj. R-squared:                  0.990\n",
      "Method:                 Least Squares   F-statistic:                 4.029e+04\n",
      "Date:                Wed, 16 Nov 2016   Prob (F-statistic):               0.00\n",
      "Time:                        19:26:33   Log-Likelihood:                -4067.6\n",
      "No. Observations:                3568   AIC:                             8153.\n",
      "Df Residuals:                    3559   BIC:                             8209.\n",
      "Df Model:                           9                                         \n",
      "Covariance Type:            nonrobust                                         \n",
      "==============================================================================\n",
      "                 coef    std err          t      P>|t|      [95.0% Conf. Int.]\n",
      "------------------------------------------------------------------------------\n",
      "const          6.8445      0.094     72.519      0.000         6.659     7.030\n",
      "x1             0.0822      0.014      5.776      0.000         0.054     0.110\n",
      "x2             0.0841      0.007     12.078      0.000         0.070     0.098\n",
      "x3             0.1227      0.008     16.006      0.000         0.108     0.138\n",
      "x4            -0.4299      0.051     -8.509      0.000        -0.529    -0.331\n",
      "x5            -0.1557      0.039     -4.018      0.000        -0.232    -0.080\n",
      "x6            -0.9302      0.059    -15.848      0.000        -1.045    -0.815\n",
      "x7            -0.6414      0.043    -14.764      0.000        -0.727    -0.556\n",
      "x8            -0.5862      0.032    -18.038      0.000        -0.650    -0.523\n",
      "==============================================================================\n",
      "Omnibus:                      650.854   Durbin-Watson:                   1.855\n",
      "Prob(Omnibus):                  0.000   Jarque-Bera (JB):             1463.897\n",
      "Skew:                          -1.041   Prob(JB):                         0.00\n",
      "Kurtosis:                       5.348   Cond. No.                         61.1\n",
      "==============================================================================\n",
      "\n",
      "Warnings:\n",
      "[1] Standard Errors assume that the covariance matrix of the errors is correctly specified.\n",
      "x1: primary\n",
      "x2: secondary\n",
      "x3: university\n",
      "x4: male_14to24\n",
      "x5: male_25to34\n",
      "x6: female_14to24\n",
      "x7: female_25to34\n",
      "x8: female_35more\n"
     ]
    }
   ],
   "source": [
    "dataModel2 = runModel(dataModel, income = 'lnIncome')"
   ]
  },
  {
   "cell_type": "markdown",
   "metadata": {},
   "source": [
    "## 3 - CEPAL con ingresos totales"
   ]
  },
  {
   "cell_type": "code",
   "execution_count": 10,
   "metadata": {
    "collapsed": false
   },
   "outputs": [
    {
     "name": "stdout",
     "output_type": "stream",
     "text": [
      "                            WLS Regression Results                            \n",
      "==============================================================================\n",
      "Dep. Variable:                      y   R-squared:                       0.693\n",
      "Model:                            WLS   Adj. R-squared:                  0.692\n",
      "Method:                 Least Squares   F-statistic:                     893.6\n",
      "Date:                Wed, 16 Nov 2016   Prob (F-statistic):               0.00\n",
      "Time:                        19:28:30   Log-Likelihood:                -32497.\n",
      "No. Observations:                3568   AIC:                         6.501e+04\n",
      "Df Residuals:                    3559   BIC:                         6.507e+04\n",
      "Df Model:                           9                                         \n",
      "Covariance Type:            nonrobust                                         \n",
      "==============================================================================\n",
      "                 coef    std err          t      P>|t|      [95.0% Conf. Int.]\n",
      "------------------------------------------------------------------------------\n",
      "const       1939.5764    272.446      7.119      0.000      1405.410  2473.743\n",
      "x1           100.9430     41.094      2.456      0.014        20.372   181.514\n",
      "x2           176.4646     20.098      8.780      0.000       137.061   215.869\n",
      "x3           455.7031     22.121     20.600      0.000       412.331   499.075\n",
      "x4         -1317.9710    145.832     -9.038      0.000     -1603.895 -1032.047\n",
      "x5          -722.3948    111.903     -6.456      0.000      -941.794  -502.995\n",
      "x6         -2189.4970    169.428    -12.923      0.000     -2521.683 -1857.311\n",
      "x7         -1853.3765    125.412    -14.778      0.000     -2099.262 -1607.491\n",
      "x8         -1052.3087     93.815    -11.217      0.000     -1236.245  -868.373\n",
      "==============================================================================\n",
      "Omnibus:                     2812.791   Durbin-Watson:                   1.799\n",
      "Prob(Omnibus):                  0.000   Jarque-Bera (JB):           118620.945\n",
      "Skew:                           3.393   Prob(JB):                         0.00\n",
      "Kurtosis:                      30.420   Cond. No.                         61.1\n",
      "==============================================================================\n",
      "\n",
      "Warnings:\n",
      "[1] Standard Errors assume that the covariance matrix of the errors is correctly specified.\n",
      "x1: primary\n",
      "x2: secondary\n",
      "x3: university\n",
      "x4: male_14to24\n",
      "x5: male_25to34\n",
      "x6: female_14to24\n",
      "x7: female_25to34\n",
      "x8: female_35more\n"
     ]
    }
   ],
   "source": [
    "dataModel3 = runModel(dataModel, income = 'P47T')"
   ]
  },
  {
   "cell_type": "markdown",
   "metadata": {},
   "source": [
    "## 4 - CEPAL con Log ingresos totales"
   ]
  },
  {
   "cell_type": "code",
   "execution_count": 12,
   "metadata": {
    "collapsed": false
   },
   "outputs": [
    {
     "name": "stdout",
     "output_type": "stream",
     "text": [
      "                            WLS Regression Results                            \n",
      "==============================================================================\n",
      "Dep. Variable:                      y   R-squared:                       0.992\n",
      "Model:                            WLS   Adj. R-squared:                  0.991\n",
      "Method:                 Least Squares   F-statistic:                 4.615e+04\n",
      "Date:                Wed, 16 Nov 2016   Prob (F-statistic):               0.00\n",
      "Time:                        19:29:21   Log-Likelihood:                -3913.3\n",
      "No. Observations:                3568   AIC:                             7845.\n",
      "Df Residuals:                    3559   BIC:                             7900.\n",
      "Df Model:                           9                                         \n",
      "Covariance Type:            nonrobust                                         \n",
      "==============================================================================\n",
      "                 coef    std err          t      P>|t|      [95.0% Conf. Int.]\n",
      "------------------------------------------------------------------------------\n",
      "const          7.1741      0.090     79.371      0.000         6.997     7.351\n",
      "x1             0.0588      0.014      4.312      0.000         0.032     0.086\n",
      "x2             0.0752      0.007     11.274      0.000         0.062     0.088\n",
      "x3             0.1308      0.007     17.825      0.000         0.116     0.145\n",
      "x4            -0.4699      0.048     -9.712      0.000        -0.565    -0.375\n",
      "x5            -0.1659      0.037     -4.470      0.000        -0.239    -0.093\n",
      "x6            -0.9295      0.056    -16.536      0.000        -1.040    -0.819\n",
      "x7            -0.6032      0.042    -14.497      0.000        -0.685    -0.522\n",
      "x8            -0.4395      0.031    -14.119      0.000        -0.500    -0.378\n",
      "==============================================================================\n",
      "Omnibus:                      690.616   Durbin-Watson:                   1.855\n",
      "Prob(Omnibus):                  0.000   Jarque-Bera (JB):             1953.102\n",
      "Skew:                          -1.015   Prob(JB):                         0.00\n",
      "Kurtosis:                       6.003   Cond. No.                         61.1\n",
      "==============================================================================\n",
      "\n",
      "Warnings:\n",
      "[1] Standard Errors assume that the covariance matrix of the errors is correctly specified.\n",
      "x1: primary\n",
      "x2: secondary\n",
      "x3: university\n",
      "x4: male_14to24\n",
      "x5: male_25to34\n",
      "x6: female_14to24\n",
      "x7: female_25to34\n",
      "x8: female_35more\n"
     ]
    }
   ],
   "source": [
    "dataModel4 = runModel(dataModel, income = 'lnIncomeT')"
   ]
  },
  {
   "cell_type": "markdown",
   "metadata": {},
   "source": [
    "## 5 - ALTERNATIVO con Log ingresos totales"
   ]
  },
  {
   "cell_type": "code",
   "execution_count": 13,
   "metadata": {
    "collapsed": false
   },
   "outputs": [
    {
     "name": "stdout",
     "output_type": "stream",
     "text": [
      "                            WLS Regression Results                            \n",
      "==============================================================================\n",
      "Dep. Variable:                      y   R-squared:                       0.992\n",
      "Model:                            WLS   Adj. R-squared:                  0.992\n",
      "Method:                 Least Squares   F-statistic:                 6.988e+04\n",
      "Date:                Wed, 16 Nov 2016   Prob (F-statistic):               0.00\n",
      "Time:                        19:30:48   Log-Likelihood:                -3897.9\n",
      "No. Observations:                3568   AIC:                             7808.\n",
      "Df Residuals:                    3562   BIC:                             7845.\n",
      "Df Model:                           6                                         \n",
      "Covariance Type:            nonrobust                                         \n",
      "==============================================================================\n",
      "                 coef    std err          t      P>|t|      [95.0% Conf. Int.]\n",
      "------------------------------------------------------------------------------\n",
      "const          6.0742      0.133     45.552      0.000         5.813     6.336\n",
      "x1             0.0006      0.015      0.038      0.969        -0.029     0.030\n",
      "x2             0.0044      0.001      6.485      0.000         0.003     0.006\n",
      "x3             0.0495      0.005      9.612      0.000         0.039     0.060\n",
      "x4            -0.0005   5.94e-05     -7.728      0.000        -0.001    -0.000\n",
      "x5            -0.4482      0.024    -18.492      0.000        -0.496    -0.401\n",
      "==============================================================================\n",
      "Omnibus:                      684.893   Durbin-Watson:                   1.862\n",
      "Prob(Omnibus):                  0.000   Jarque-Bera (JB):             1888.000\n",
      "Skew:                          -1.016   Prob(JB):                         0.00\n",
      "Kurtosis:                       5.928   Cond. No.                     2.46e+04\n",
      "==============================================================================\n",
      "\n",
      "Warnings:\n",
      "[1] Standard Errors assume that the covariance matrix of the errors is correctly specified.\n",
      "[2] The condition number is large, 2.46e+04. This might indicate that there are\n",
      "strong multicollinearity or other numerical problems.\n",
      "x1: education\n",
      "x2: education2\n",
      "x3: age\n",
      "x4: age2\n",
      "x5: female\n"
     ]
    }
   ],
   "source": [
    "dataModel5 = runModel(dataModel, income = 'lnIncomeT', variables=['education','education2',\n",
    "                                'age','age2','female'])"
   ]
  },
  {
   "cell_type": "markdown",
   "metadata": {},
   "source": [
    "## 6 - ALTERNATIVO con log Income laboral "
   ]
  },
  {
   "cell_type": "code",
   "execution_count": 14,
   "metadata": {
    "collapsed": false
   },
   "outputs": [
    {
     "name": "stdout",
     "output_type": "stream",
     "text": [
      "                            WLS Regression Results                            \n",
      "==============================================================================\n",
      "Dep. Variable:                      y   R-squared:                       0.990\n",
      "Model:                            WLS   Adj. R-squared:                  0.990\n",
      "Method:                 Least Squares   F-statistic:                 6.164e+04\n",
      "Date:                Wed, 16 Nov 2016   Prob (F-statistic):               0.00\n",
      "Time:                        19:32:27   Log-Likelihood:                -4034.5\n",
      "No. Observations:                3568   AIC:                             8081.\n",
      "Df Residuals:                    3562   BIC:                             8118.\n",
      "Df Model:                           6                                         \n",
      "Covariance Type:            nonrobust                                         \n",
      "==============================================================================\n",
      "                 coef    std err          t      P>|t|      [95.0% Conf. Int.]\n",
      "------------------------------------------------------------------------------\n",
      "const          5.5698      0.139     40.200      0.000         5.298     5.841\n",
      "x1             0.0301      0.016      1.922      0.055        -0.001     0.061\n",
      "x2             0.0031      0.001      4.397      0.000         0.002     0.005\n",
      "x3             0.0660      0.005     12.330      0.000         0.056     0.077\n",
      "x4            -0.0007   6.17e-05    -11.439      0.000        -0.001    -0.001\n",
      "x5            -0.5568      0.025    -22.111      0.000        -0.606    -0.507\n",
      "==============================================================================\n",
      "Omnibus:                      628.183   Durbin-Watson:                   1.859\n",
      "Prob(Omnibus):                  0.000   Jarque-Bera (JB):             1415.594\n",
      "Skew:                          -1.007   Prob(JB):                    4.05e-308\n",
      "Kurtosis:                       5.338   Cond. No.                     2.46e+04\n",
      "==============================================================================\n",
      "\n",
      "Warnings:\n",
      "[1] Standard Errors assume that the covariance matrix of the errors is correctly specified.\n",
      "[2] The condition number is large, 2.46e+04. This might indicate that there are\n",
      "strong multicollinearity or other numerical problems.\n",
      "x1: education\n",
      "x2: education2\n",
      "x3: age\n",
      "x4: age2\n",
      "x5: female\n"
     ]
    }
   ],
   "source": [
    "dataModel6 = runModel(dataModel, income = 'lnIncome', variables=['education','education2',\n",
    "                                'age','age2','female'])"
   ]
  },
  {
   "cell_type": "code",
   "execution_count": null,
   "metadata": {
    "collapsed": true
   },
   "outputs": [],
   "source": []
  }
 ],
 "metadata": {
  "kernelspec": {
   "display_name": "Python [Root]",
   "language": "python",
   "name": "Python [Root]"
  },
  "language_info": {
   "codemirror_mode": {
    "name": "ipython",
    "version": 2
   },
   "file_extension": ".py",
   "mimetype": "text/x-python",
   "name": "python",
   "nbconvert_exporter": "python",
   "pygments_lexer": "ipython2",
   "version": "2.7.12"
  }
 },
 "nbformat": 4,
 "nbformat_minor": 0
}
