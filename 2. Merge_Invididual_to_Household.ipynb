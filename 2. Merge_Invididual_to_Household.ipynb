{
 "cells": [
  {
   "cell_type": "markdown",
   "metadata": {},
   "source": [
    "# New York University\n",
    "## Applied Data Science 2016 Final Project\n",
    "----\n",
    "## Measuring household income under Redatam in CensusData\n",
    "### *2. Merge Individual to Household Data*\n",
    "----\n",
    "**Project Description:** Lorem ipsum\n",
    "\n",
    "**Members:**\n",
    "- Felipe Gonzales\n",
    "- Ilan Reinstein\n",
    "- Fernando Melchor\n",
    "- Nicolas Metallo"
   ]
  },
  {
   "cell_type": "markdown",
   "metadata": {},
   "source": [
    "**Sources:**\n",
    "- http://dlab-geo.github.io/geocoding-geopy/slides/index.html#2\n",
    "- https://gist.github.com/rgdonohue/c4beedd3ca47d29aef01\n",
    "- http://darribas.org/gds_scipy16/ipynb_md/07_spatial_clustering.html\n",
    "- https://glenbambrick.com/2016/01/09/csv-to-shapefile-with-pyshp/\n",
    "- http://statsmodels.sourceforge.net/devel/examples/generated/example_wls.html"
   ]
  },
  {
   "cell_type": "markdown",
   "metadata": {},
   "source": [
    "# LIBRARIES"
   ]
  },
  {
   "cell_type": "code",
   "execution_count": 46,
   "metadata": {
    "collapsed": false
   },
   "outputs": [],
   "source": [
    "# helper functions\n",
    "import getEPH\n",
    "import categorize\n",
    "import createVariables\n",
    "import schoolYears\n",
    "import make_dummy\n",
    "import functionsForModels\n",
    "# libraries\n",
    "import pandas as pd\n",
    "import numpy as np\n",
    "from scipy import stats\n",
    "import statsmodels.api as sm\n",
    "import matplotlib.pyplot as plt\n",
    "import seaborn as sns\n",
    "from statsmodels.sandbox.regression.predstd import wls_prediction_std\n",
    "from statsmodels.iolib.table import (SimpleTable, default_txt_fmt)\n",
    "np.random.seed(1024)\n",
    "%matplotlib inline"
   ]
  },
  {
   "cell_type": "code",
   "execution_count": 47,
   "metadata": {
    "collapsed": false
   },
   "outputs": [
    {
     "name": "stdout",
     "output_type": "stream",
     "text": [
      "('Downloading', 't310')\n",
      "file in place, creating CSV file\n",
      "csv file cleanDataHousehold t310 .csv successfully created in folder data/\n",
      "csv file cleanData t310 .csv successfully created in folder data/\n"
     ]
    }
   ],
   "source": [
    "getEPH.getEPHdbf('t310')"
   ]
  },
  {
   "cell_type": "markdown",
   "metadata": {},
   "source": [
    "# DATA HANDLING"
   ]
  },
  {
   "cell_type": "code",
   "execution_count": 48,
   "metadata": {
    "collapsed": false
   },
   "outputs": [],
   "source": [
    "data1 = pd.read_csv('data/cleanDatat310.csv')"
   ]
  },
  {
   "cell_type": "code",
   "execution_count": 49,
   "metadata": {
    "collapsed": false
   },
   "outputs": [],
   "source": [
    "data2 = categorize.categorize(data1)\n",
    "data3 = schoolYears.schoolYears(data2)\n",
    "data4 = createVariables.createVariables(data3)"
   ]
  },
  {
   "cell_type": "markdown",
   "metadata": {},
   "source": [
    "# REGRESSION MODEL\n",
    "\n",
    "### Predicted Income:\n",
    "\n",
    "Using the model generated in the previous notebook (Model # 2 - Alternative) we create a new variable called **predicted income** with its output. The ultimate goal is to merge this data with household data."
   ]
  },
  {
   "cell_type": "code",
   "execution_count": 50,
   "metadata": {
    "collapsed": false
   },
   "outputs": [],
   "source": [
    "jobsAndIncome = (data4.activity == 1) & (data4.P21 > 1) # we only consider people who are working and have income\n",
    "headAndSpouse = (data4.familyRelation == 1)|(data4.familyRelation == 2) #\n",
    "dataParaModelo = data4.copy().loc[jobsAndIncome,:]"
   ]
  },
  {
   "cell_type": "code",
   "execution_count": 51,
   "metadata": {
    "collapsed": true
   },
   "outputs": [],
   "source": [
    "variablesOfInterest = ['age',\n",
    "                              'age2',\n",
    "                              'female',\n",
    "                              'education',\n",
    "                              'education2']"
   ]
  },
  {
   "cell_type": "code",
   "execution_count": 52,
   "metadata": {
    "collapsed": false,
    "scrolled": false
   },
   "outputs": [
    {
     "name": "stdout",
     "output_type": "stream",
     "text": [
      "                            WLS Regression Results                            \n",
      "==============================================================================\n",
      "Dep. Variable:                      y   R-squared:                       0.287\n",
      "Model:                            WLS   Adj. R-squared:                  0.286\n",
      "Method:                 Least Squares   F-statistic:                     289.9\n",
      "Date:                Sun, 11 Dec 2016   Prob (F-statistic):          2.70e-261\n",
      "Time:                        22:15:31   Log-Likelihood:                -4091.5\n",
      "No. Observations:                3608   AIC:                             8195.\n",
      "Df Residuals:                    3602   BIC:                             8232.\n",
      "Df Model:                           5                                         \n",
      "Covariance Type:            nonrobust                                         \n",
      "==============================================================================\n",
      "                 coef    std err          t      P>|t|      [95.0% Conf. Int.]\n",
      "------------------------------------------------------------------------------\n",
      "const          5.5938      0.138     40.537      0.000         5.323     5.864\n",
      "x1             0.0659      0.005     12.328      0.000         0.055     0.076\n",
      "x2            -0.0007   6.16e-05    -11.488      0.000        -0.001    -0.001\n",
      "x3            -0.5528      0.025    -22.012      0.000        -0.602    -0.504\n",
      "x4             0.0277      0.016      1.779      0.075        -0.003     0.058\n",
      "x5             0.0032      0.001      4.525      0.000         0.002     0.005\n",
      "==============================================================================\n",
      "Omnibus:                      641.219   Durbin-Watson:                   1.858\n",
      "Prob(Omnibus):                  0.000   Jarque-Bera (JB):             1458.019\n",
      "Skew:                          -1.012   Prob(JB):                         0.00\n",
      "Kurtosis:                       5.367   Cond. No.                     2.45e+04\n",
      "==============================================================================\n",
      "\n",
      "Warnings:\n",
      "[1] Standard Errors assume that the covariance matrix of the errors is correctly specified.\n",
      "[2] The condition number is large, 2.45e+04. This might indicate that there are\n",
      "strong multicollinearity or other numerical problems.\n",
      "x1: age\n",
      "x2: age2\n",
      "x3: female\n",
      "x4: education\n",
      "x5: education2\n",
      "IS R-squared for 1000 times is 0.298124864616\n",
      "OS R-squared for 1000 times is 0.293081804822\n"
     ]
    }
   ],
   "source": [
    "model = functionsForModels.runModel(dataset = dataParaModelo, income = 'lnIncome', variables = variablesOfInterest)"
   ]
  },
  {
   "cell_type": "code",
   "execution_count": 53,
   "metadata": {
    "collapsed": false
   },
   "outputs": [],
   "source": [
    "X = sm.add_constant(dataParaModelo.copy().loc[:,variablesOfInterest].values)"
   ]
  },
  {
   "cell_type": "code",
   "execution_count": 54,
   "metadata": {
    "collapsed": false
   },
   "outputs": [],
   "source": [
    "dataParaModelo['predictedLnIncome'] = model.predict(X)"
   ]
  },
  {
   "cell_type": "markdown",
   "metadata": {},
   "source": [
    "### Merge subset of individuals (with job and income) with total individuals\n",
    "\n",
    "We create a merged dataset combining a subset of individuals (with job and income) with the total individuals. We then account for people with no income (kids or unemployed) and assign them a \"0\" income. The resulting dataset will succesfully match every individual with their household."
   ]
  },
  {
   "cell_type": "code",
   "execution_count": 55,
   "metadata": {
    "collapsed": false
   },
   "outputs": [
    {
     "data": {
      "text/html": [
       "<div>\n",
       "<table border=\"1\" class=\"dataframe\">\n",
       "  <thead>\n",
       "    <tr style=\"text-align: right;\">\n",
       "      <th></th>\n",
       "      <th>CODUSU</th>\n",
       "      <th>NRO_HOGAR</th>\n",
       "      <th>COMPONENTE</th>\n",
       "      <th>predictedLnIncome</th>\n",
       "    </tr>\n",
       "  </thead>\n",
       "  <tbody>\n",
       "    <tr>\n",
       "      <th>2</th>\n",
       "      <td>307861</td>\n",
       "      <td>1</td>\n",
       "      <td>1</td>\n",
       "      <td>7.478150</td>\n",
       "    </tr>\n",
       "    <tr>\n",
       "      <th>3</th>\n",
       "      <td>307861</td>\n",
       "      <td>1</td>\n",
       "      <td>2</td>\n",
       "      <td>7.991038</td>\n",
       "    </tr>\n",
       "    <tr>\n",
       "      <th>7</th>\n",
       "      <td>308278</td>\n",
       "      <td>1</td>\n",
       "      <td>1</td>\n",
       "      <td>8.485189</td>\n",
       "    </tr>\n",
       "    <tr>\n",
       "      <th>8</th>\n",
       "      <td>308278</td>\n",
       "      <td>1</td>\n",
       "      <td>2</td>\n",
       "      <td>7.750667</td>\n",
       "    </tr>\n",
       "    <tr>\n",
       "      <th>9</th>\n",
       "      <td>311937</td>\n",
       "      <td>1</td>\n",
       "      <td>1</td>\n",
       "      <td>8.336136</td>\n",
       "    </tr>\n",
       "  </tbody>\n",
       "</table>\n",
       "</div>"
      ],
      "text/plain": [
       "   CODUSU  NRO_HOGAR  COMPONENTE  predictedLnIncome\n",
       "2  307861          1           1           7.478150\n",
       "3  307861          1           2           7.991038\n",
       "7  308278          1           1           8.485189\n",
       "8  308278          1           2           7.750667\n",
       "9  311937          1           1           8.336136"
      ]
     },
     "execution_count": 55,
     "metadata": {},
     "output_type": "execute_result"
    }
   ],
   "source": [
    "paraMerge = dataParaModelo.loc[:,['CODUSU', 'NRO_HOGAR', 'COMPONENTE','predictedLnIncome']]\n",
    "paraMerge.head()"
   ]
  },
  {
   "cell_type": "code",
   "execution_count": 56,
   "metadata": {
    "collapsed": false
   },
   "outputs": [],
   "source": [
    "data = pd.merge(left = data4 , right = paraMerge, on = ['CODUSU', 'NRO_HOGAR', 'COMPONENTE'], how = 'left')"
   ]
  },
  {
   "cell_type": "code",
   "execution_count": 57,
   "metadata": {
    "collapsed": false
   },
   "outputs": [
    {
     "name": "stderr",
     "output_type": "stream",
     "text": [
      "/Users/IlanReinstein/anaconda/lib/python2.7/site-packages/ipykernel/__main__.py:1: SettingWithCopyWarning: \n",
      "A value is trying to be set on a copy of a slice from a DataFrame\n",
      "\n",
      "See the caveats in the documentation: http://pandas.pydata.org/pandas-docs/stable/indexing.html#indexing-view-versus-copy\n",
      "  if __name__ == '__main__':\n"
     ]
    }
   ],
   "source": [
    "data.predictedLnIncome[data.predictedLnIncome.isnull()] = 0 "
   ]
  },
  {
   "cell_type": "markdown",
   "metadata": {},
   "source": [
    "### New variables for individuals\n",
    "\n",
    "We create a set of new variables (re-arrangement of previous ones) set in a way we create will add value to our prediction"
   ]
  },
  {
   "cell_type": "code",
   "execution_count": 58,
   "metadata": {
    "collapsed": false
   },
   "outputs": [],
   "source": [
    "# Variables related to Occupation\n",
    "data['job'] = (data.activity==1).astype(int)\n",
    "data['noJob'] = (data.activity!=1).astype(int)\n",
    "data['schoolAndJob'] = data.job * data.education"
   ]
  },
  {
   "cell_type": "code",
   "execution_count": 59,
   "metadata": {
    "collapsed": false
   },
   "outputs": [],
   "source": [
    "cantidadActivos = data.job.groupby(by=data['id']).sum() # Number of people working in the household\n",
    "cantidadInactivos = data.noJob.groupby(by=data['id']).sum() # Number of people not working in the household\n",
    "schoolAndJob = data.schoolAndJob.groupby(by=data['id']).sum() # Sum of total schooling years in the household"
   ]
  },
  {
   "cell_type": "code",
   "execution_count": 60,
   "metadata": {
    "collapsed": false
   },
   "outputs": [],
   "source": [
    "dfJobsAndEduc = pd.merge(left = schoolAndJob.to_frame() ,\n",
    "                         right = cantidadInactivos.to_frame(),\n",
    "                         left_index = True,\n",
    "                         right_index = True)\n",
    "dfJobsAndEduc = pd.merge(left = dfJobsAndEduc ,\n",
    "                         right = cantidadActivos.to_frame(),\n",
    "                         left_index = True,\n",
    "                         right_index = True)"
   ]
  },
  {
   "cell_type": "markdown",
   "metadata": {},
   "source": [
    "### Create Pivot Dataset\n",
    "\n",
    "We create a pivot dataset in order to merge it later with the household dataset. With this we will have all individual information relative to a particular household."
   ]
  },
  {
   "cell_type": "code",
   "execution_count": 61,
   "metadata": {
    "collapsed": true
   },
   "outputs": [],
   "source": [
    "cleanData = data.copy().loc[(headAndSpouse),\n",
    "                              ['id',\n",
    "                               'AGLOMERADO',\n",
    "                            'familyRelation',\n",
    "                              'age',\n",
    "                              'age2',\n",
    "                              'female',\n",
    "                              'education',\n",
    "                              'education2',\n",
    "                              'primary',\n",
    "                              'secondary',\n",
    "                              'university',\n",
    "                              'P21',\n",
    "                              'P47T',\n",
    "                              'lnIncome',\n",
    "                               u'lnIncomeT',\n",
    "                              'predictedLnIncome',\n",
    "                              'job',\n",
    "                              'DECCFR',\n",
    "                               'DECIFR',\n",
    "                               'maritalStatus',\n",
    "                               'reading',\n",
    "                               'placeOfBirth',\n",
    "                              ]]"
   ]
  },
  {
   "cell_type": "code",
   "execution_count": 62,
   "metadata": {
    "collapsed": false
   },
   "outputs": [
    {
     "data": {
      "text/html": [
       "<div>\n",
       "<table border=\"1\" class=\"dataframe\">\n",
       "  <thead>\n",
       "    <tr style=\"text-align: right;\">\n",
       "      <th></th>\n",
       "      <th>id</th>\n",
       "      <th>AGLOMERADO</th>\n",
       "      <th>familyRelation</th>\n",
       "      <th>age</th>\n",
       "      <th>age2</th>\n",
       "      <th>female</th>\n",
       "      <th>education</th>\n",
       "      <th>education2</th>\n",
       "      <th>primary</th>\n",
       "      <th>secondary</th>\n",
       "      <th>...</th>\n",
       "      <th>P47T</th>\n",
       "      <th>lnIncome</th>\n",
       "      <th>lnIncomeT</th>\n",
       "      <th>predictedLnIncome</th>\n",
       "      <th>job</th>\n",
       "      <th>DECCFR</th>\n",
       "      <th>DECIFR</th>\n",
       "      <th>maritalStatus</th>\n",
       "      <th>reading</th>\n",
       "      <th>placeOfBirth</th>\n",
       "    </tr>\n",
       "  </thead>\n",
       "  <tbody>\n",
       "    <tr>\n",
       "      <th>0</th>\n",
       "      <td>3024681</td>\n",
       "      <td>32</td>\n",
       "      <td>1</td>\n",
       "      <td>20</td>\n",
       "      <td>400</td>\n",
       "      <td>1</td>\n",
       "      <td>13.0</td>\n",
       "      <td>169.0</td>\n",
       "      <td>7.0</td>\n",
       "      <td>5.0</td>\n",
       "      <td>...</td>\n",
       "      <td>2000</td>\n",
       "      <td>0.000000</td>\n",
       "      <td>7.600902</td>\n",
       "      <td>0.000000</td>\n",
       "      <td>0</td>\n",
       "      <td>8</td>\n",
       "      <td>6</td>\n",
       "      <td>5</td>\n",
       "      <td>1</td>\n",
       "      <td>1</td>\n",
       "    </tr>\n",
       "    <tr>\n",
       "      <th>2</th>\n",
       "      <td>3078611</td>\n",
       "      <td>32</td>\n",
       "      <td>1</td>\n",
       "      <td>42</td>\n",
       "      <td>1764</td>\n",
       "      <td>0</td>\n",
       "      <td>7.0</td>\n",
       "      <td>49.0</td>\n",
       "      <td>7.0</td>\n",
       "      <td>0.0</td>\n",
       "      <td>...</td>\n",
       "      <td>3000</td>\n",
       "      <td>8.006368</td>\n",
       "      <td>8.006368</td>\n",
       "      <td>7.478150</td>\n",
       "      <td>1</td>\n",
       "      <td>6</td>\n",
       "      <td>8</td>\n",
       "      <td>2</td>\n",
       "      <td>1</td>\n",
       "      <td>2</td>\n",
       "    </tr>\n",
       "    <tr>\n",
       "      <th>3</th>\n",
       "      <td>3078611</td>\n",
       "      <td>32</td>\n",
       "      <td>2</td>\n",
       "      <td>44</td>\n",
       "      <td>1936</td>\n",
       "      <td>1</td>\n",
       "      <td>17.0</td>\n",
       "      <td>289.0</td>\n",
       "      <td>7.0</td>\n",
       "      <td>5.0</td>\n",
       "      <td>...</td>\n",
       "      <td>2800</td>\n",
       "      <td>7.937375</td>\n",
       "      <td>7.937375</td>\n",
       "      <td>7.991038</td>\n",
       "      <td>1</td>\n",
       "      <td>6</td>\n",
       "      <td>8</td>\n",
       "      <td>2</td>\n",
       "      <td>1</td>\n",
       "      <td>2</td>\n",
       "    </tr>\n",
       "    <tr>\n",
       "      <th>6</th>\n",
       "      <td>3087621</td>\n",
       "      <td>32</td>\n",
       "      <td>1</td>\n",
       "      <td>68</td>\n",
       "      <td>4624</td>\n",
       "      <td>1</td>\n",
       "      <td>17.0</td>\n",
       "      <td>289.0</td>\n",
       "      <td>7.0</td>\n",
       "      <td>5.0</td>\n",
       "      <td>...</td>\n",
       "      <td>3200</td>\n",
       "      <td>0.000000</td>\n",
       "      <td>8.070906</td>\n",
       "      <td>0.000000</td>\n",
       "      <td>0</td>\n",
       "      <td>9</td>\n",
       "      <td>5</td>\n",
       "      <td>4</td>\n",
       "      <td>1</td>\n",
       "      <td>3</td>\n",
       "    </tr>\n",
       "    <tr>\n",
       "      <th>7</th>\n",
       "      <td>3082781</td>\n",
       "      <td>32</td>\n",
       "      <td>1</td>\n",
       "      <td>38</td>\n",
       "      <td>1444</td>\n",
       "      <td>0</td>\n",
       "      <td>17.0</td>\n",
       "      <td>289.0</td>\n",
       "      <td>7.0</td>\n",
       "      <td>5.0</td>\n",
       "      <td>...</td>\n",
       "      <td>6000</td>\n",
       "      <td>8.517193</td>\n",
       "      <td>8.699515</td>\n",
       "      <td>8.485189</td>\n",
       "      <td>1</td>\n",
       "      <td>10</td>\n",
       "      <td>10</td>\n",
       "      <td>2</td>\n",
       "      <td>1</td>\n",
       "      <td>1</td>\n",
       "    </tr>\n",
       "  </tbody>\n",
       "</table>\n",
       "<p>5 rows × 22 columns</p>\n",
       "</div>"
      ],
      "text/plain": [
       "        id  AGLOMERADO  familyRelation  age  age2  female  education  \\\n",
       "0  3024681          32               1   20   400       1       13.0   \n",
       "2  3078611          32               1   42  1764       0        7.0   \n",
       "3  3078611          32               2   44  1936       1       17.0   \n",
       "6  3087621          32               1   68  4624       1       17.0   \n",
       "7  3082781          32               1   38  1444       0       17.0   \n",
       "\n",
       "   education2  primary  secondary      ...       P47T  lnIncome  lnIncomeT  \\\n",
       "0       169.0      7.0        5.0      ...       2000  0.000000   7.600902   \n",
       "2        49.0      7.0        0.0      ...       3000  8.006368   8.006368   \n",
       "3       289.0      7.0        5.0      ...       2800  7.937375   7.937375   \n",
       "6       289.0      7.0        5.0      ...       3200  0.000000   8.070906   \n",
       "7       289.0      7.0        5.0      ...       6000  8.517193   8.699515   \n",
       "\n",
       "   predictedLnIncome  job  DECCFR  DECIFR  maritalStatus  reading  \\\n",
       "0           0.000000    0       8       6              5        1   \n",
       "2           7.478150    1       6       8              2        1   \n",
       "3           7.991038    1       6       8              2        1   \n",
       "6           0.000000    0       9       5              4        1   \n",
       "7           8.485189    1      10      10              2        1   \n",
       "\n",
       "   placeOfBirth  \n",
       "0             1  \n",
       "2             2  \n",
       "3             2  \n",
       "6             3  \n",
       "7             1  \n",
       "\n",
       "[5 rows x 22 columns]"
      ]
     },
     "execution_count": 62,
     "metadata": {},
     "output_type": "execute_result"
    }
   ],
   "source": [
    "cleanData.head()"
   ]
  },
  {
   "cell_type": "code",
   "execution_count": 63,
   "metadata": {
    "collapsed": false
   },
   "outputs": [
    {
     "data": {
      "text/html": [
       "<div>\n",
       "<table border=\"1\" class=\"dataframe\">\n",
       "  <thead>\n",
       "    <tr>\n",
       "      <th></th>\n",
       "      <th colspan=\"2\" halign=\"left\">AGLOMERADO</th>\n",
       "      <th colspan=\"2\" halign=\"left\">age</th>\n",
       "      <th colspan=\"2\" halign=\"left\">age2</th>\n",
       "      <th colspan=\"2\" halign=\"left\">female</th>\n",
       "      <th colspan=\"2\" halign=\"left\">education</th>\n",
       "      <th>...</th>\n",
       "      <th colspan=\"2\" halign=\"left\">DECCFR</th>\n",
       "      <th colspan=\"2\" halign=\"left\">DECIFR</th>\n",
       "      <th colspan=\"2\" halign=\"left\">maritalStatus</th>\n",
       "      <th colspan=\"2\" halign=\"left\">reading</th>\n",
       "      <th colspan=\"2\" halign=\"left\">placeOfBirth</th>\n",
       "    </tr>\n",
       "    <tr>\n",
       "      <th>familyRelation</th>\n",
       "      <th>1</th>\n",
       "      <th>2</th>\n",
       "      <th>1</th>\n",
       "      <th>2</th>\n",
       "      <th>1</th>\n",
       "      <th>2</th>\n",
       "      <th>1</th>\n",
       "      <th>2</th>\n",
       "      <th>1</th>\n",
       "      <th>2</th>\n",
       "      <th>...</th>\n",
       "      <th>1</th>\n",
       "      <th>2</th>\n",
       "      <th>1</th>\n",
       "      <th>2</th>\n",
       "      <th>1</th>\n",
       "      <th>2</th>\n",
       "      <th>1</th>\n",
       "      <th>2</th>\n",
       "      <th>1</th>\n",
       "      <th>2</th>\n",
       "    </tr>\n",
       "    <tr>\n",
       "      <th>id</th>\n",
       "      <th></th>\n",
       "      <th></th>\n",
       "      <th></th>\n",
       "      <th></th>\n",
       "      <th></th>\n",
       "      <th></th>\n",
       "      <th></th>\n",
       "      <th></th>\n",
       "      <th></th>\n",
       "      <th></th>\n",
       "      <th></th>\n",
       "      <th></th>\n",
       "      <th></th>\n",
       "      <th></th>\n",
       "      <th></th>\n",
       "      <th></th>\n",
       "      <th></th>\n",
       "      <th></th>\n",
       "      <th></th>\n",
       "      <th></th>\n",
       "      <th></th>\n",
       "    </tr>\n",
       "  </thead>\n",
       "  <tbody>\n",
       "    <tr>\n",
       "      <th>1250971</th>\n",
       "      <td>33.0</td>\n",
       "      <td>NaN</td>\n",
       "      <td>57.0</td>\n",
       "      <td>NaN</td>\n",
       "      <td>3249.0</td>\n",
       "      <td>NaN</td>\n",
       "      <td>1.0</td>\n",
       "      <td>NaN</td>\n",
       "      <td>14.0</td>\n",
       "      <td>NaN</td>\n",
       "      <td>...</td>\n",
       "      <td>8.0</td>\n",
       "      <td>NaN</td>\n",
       "      <td>9.0</td>\n",
       "      <td>NaN</td>\n",
       "      <td>4.0</td>\n",
       "      <td>NaN</td>\n",
       "      <td>1.0</td>\n",
       "      <td>NaN</td>\n",
       "      <td>1.0</td>\n",
       "      <td>NaN</td>\n",
       "    </tr>\n",
       "    <tr>\n",
       "      <th>1253451</th>\n",
       "      <td>32.0</td>\n",
       "      <td>NaN</td>\n",
       "      <td>66.0</td>\n",
       "      <td>NaN</td>\n",
       "      <td>4356.0</td>\n",
       "      <td>NaN</td>\n",
       "      <td>1.0</td>\n",
       "      <td>NaN</td>\n",
       "      <td>7.0</td>\n",
       "      <td>NaN</td>\n",
       "      <td>...</td>\n",
       "      <td>8.0</td>\n",
       "      <td>NaN</td>\n",
       "      <td>6.0</td>\n",
       "      <td>NaN</td>\n",
       "      <td>3.0</td>\n",
       "      <td>NaN</td>\n",
       "      <td>1.0</td>\n",
       "      <td>NaN</td>\n",
       "      <td>1.0</td>\n",
       "      <td>NaN</td>\n",
       "    </tr>\n",
       "    <tr>\n",
       "      <th>1254461</th>\n",
       "      <td>32.0</td>\n",
       "      <td>NaN</td>\n",
       "      <td>79.0</td>\n",
       "      <td>NaN</td>\n",
       "      <td>6241.0</td>\n",
       "      <td>NaN</td>\n",
       "      <td>1.0</td>\n",
       "      <td>NaN</td>\n",
       "      <td>12.0</td>\n",
       "      <td>NaN</td>\n",
       "      <td>...</td>\n",
       "      <td>7.0</td>\n",
       "      <td>NaN</td>\n",
       "      <td>2.0</td>\n",
       "      <td>NaN</td>\n",
       "      <td>4.0</td>\n",
       "      <td>NaN</td>\n",
       "      <td>1.0</td>\n",
       "      <td>NaN</td>\n",
       "      <td>1.0</td>\n",
       "      <td>NaN</td>\n",
       "    </tr>\n",
       "    <tr>\n",
       "      <th>1256691</th>\n",
       "      <td>33.0</td>\n",
       "      <td>NaN</td>\n",
       "      <td>61.0</td>\n",
       "      <td>NaN</td>\n",
       "      <td>3721.0</td>\n",
       "      <td>NaN</td>\n",
       "      <td>0.0</td>\n",
       "      <td>NaN</td>\n",
       "      <td>7.0</td>\n",
       "      <td>NaN</td>\n",
       "      <td>...</td>\n",
       "      <td>8.0</td>\n",
       "      <td>NaN</td>\n",
       "      <td>9.0</td>\n",
       "      <td>NaN</td>\n",
       "      <td>4.0</td>\n",
       "      <td>NaN</td>\n",
       "      <td>1.0</td>\n",
       "      <td>NaN</td>\n",
       "      <td>1.0</td>\n",
       "      <td>NaN</td>\n",
       "    </tr>\n",
       "    <tr>\n",
       "      <th>1256892</th>\n",
       "      <td>32.0</td>\n",
       "      <td>32.0</td>\n",
       "      <td>31.0</td>\n",
       "      <td>23.0</td>\n",
       "      <td>961.0</td>\n",
       "      <td>529.0</td>\n",
       "      <td>0.0</td>\n",
       "      <td>1.0</td>\n",
       "      <td>12.0</td>\n",
       "      <td>12.0</td>\n",
       "      <td>...</td>\n",
       "      <td>5.0</td>\n",
       "      <td>5.0</td>\n",
       "      <td>5.0</td>\n",
       "      <td>5.0</td>\n",
       "      <td>1.0</td>\n",
       "      <td>1.0</td>\n",
       "      <td>1.0</td>\n",
       "      <td>1.0</td>\n",
       "      <td>4.0</td>\n",
       "      <td>4.0</td>\n",
       "    </tr>\n",
       "  </tbody>\n",
       "</table>\n",
       "<p>5 rows × 40 columns</p>\n",
       "</div>"
      ],
      "text/plain": [
       "               AGLOMERADO         age          age2        female       \\\n",
       "familyRelation          1     2     1     2       1      2      1    2   \n",
       "id                                                                       \n",
       "1250971              33.0   NaN  57.0   NaN  3249.0    NaN    1.0  NaN   \n",
       "1253451              32.0   NaN  66.0   NaN  4356.0    NaN    1.0  NaN   \n",
       "1254461              32.0   NaN  79.0   NaN  6241.0    NaN    1.0  NaN   \n",
       "1256691              33.0   NaN  61.0   NaN  3721.0    NaN    0.0  NaN   \n",
       "1256892              32.0  32.0  31.0  23.0   961.0  529.0    0.0  1.0   \n",
       "\n",
       "               education       ...  DECCFR      DECIFR      maritalStatus  \\\n",
       "familyRelation         1     2 ...       1    2      1    2             1   \n",
       "id                             ...                                          \n",
       "1250971             14.0   NaN ...     8.0  NaN    9.0  NaN           4.0   \n",
       "1253451              7.0   NaN ...     8.0  NaN    6.0  NaN           3.0   \n",
       "1254461             12.0   NaN ...     7.0  NaN    2.0  NaN           4.0   \n",
       "1256691              7.0   NaN ...     8.0  NaN    9.0  NaN           4.0   \n",
       "1256892             12.0  12.0 ...     5.0  5.0    5.0  5.0           1.0   \n",
       "\n",
       "                    reading      placeOfBirth       \n",
       "familyRelation    2       1    2            1    2  \n",
       "id                                                  \n",
       "1250971         NaN     1.0  NaN          1.0  NaN  \n",
       "1253451         NaN     1.0  NaN          1.0  NaN  \n",
       "1254461         NaN     1.0  NaN          1.0  NaN  \n",
       "1256691         NaN     1.0  NaN          1.0  NaN  \n",
       "1256892         1.0     1.0  1.0          4.0  4.0  \n",
       "\n",
       "[5 rows x 40 columns]"
      ]
     },
     "execution_count": 63,
     "metadata": {},
     "output_type": "execute_result"
    }
   ],
   "source": [
    "pivot = cleanData.pivot(index='id', columns='familyRelation')\n",
    "pivot.head()"
   ]
  },
  {
   "cell_type": "markdown",
   "metadata": {},
   "source": [
    "### Create Intermediate Dataset\n",
    "\n",
    "We save our dataset into a csv file in order to eliminate the double index, and then after some data handling we export our final dataset."
   ]
  },
  {
   "cell_type": "code",
   "execution_count": 64,
   "metadata": {
    "collapsed": true
   },
   "outputs": [],
   "source": [
    "pivot.to_csv('data/pivotInd.csv')"
   ]
  },
  {
   "cell_type": "code",
   "execution_count": 65,
   "metadata": {
    "collapsed": false
   },
   "outputs": [],
   "source": [
    "dataN = pd.read_csv('data/pivotInd.csv', names = ['id','AGLO1','AGLO2','headAge','spouseAge','headAge2','spouseAge2',\n",
    "                                                  'headFemale','spouseFemale','headEduc','spouseEduc',\n",
    "                                                  'headEduc2','spouseEduc2','headPrimary','spousePrimary',\n",
    "                                                  'headSecondary','spouseSecondary','headUniversity','spouseUniversity',\n",
    "                                                  'headP21','spouseP21','headP47T','spouseP47T',\n",
    "                                                  'headLnIncome','spouseLnIncome','headLnIncomeT','spouseLnIncomeT',\n",
    "                                                  'headPredictedLnIncome','spousePredictedLnIncome','headJob','spouseJob',\n",
    "                                                  'headDECCFR','spouseDECCFR','headDECIFR','spouseDECIFR',\n",
    "                                                  'headMaritalStatus','spouseMaritalStatus',\n",
    "                                                  'headReading','spouseReading','headPlaceOfBirth','spouseplaceOfBirth',\n",
    "                                                 ],skiprows = 3)"
   ]
  },
  {
   "cell_type": "code",
   "execution_count": 66,
   "metadata": {
    "collapsed": false
   },
   "outputs": [],
   "source": [
    "dfJobsAndEduc['id'] = dfJobsAndEduc.index\n",
    "dfJobsAndEduc['id'] = dfJobsAndEduc['id'].astype(int)\n",
    "dataFinalCSV = pd.merge(left = dfJobsAndEduc ,\n",
    "                         right = dataN,\n",
    "                         left_on = 'id',\n",
    "                         right_on = 'id')"
   ]
  },
  {
   "cell_type": "code",
   "execution_count": 67,
   "metadata": {
    "collapsed": false
   },
   "outputs": [
    {
     "data": {
      "text/html": [
       "<div>\n",
       "<table border=\"1\" class=\"dataframe\">\n",
       "  <thead>\n",
       "    <tr style=\"text-align: right;\">\n",
       "      <th></th>\n",
       "      <th>schoolAndJob</th>\n",
       "      <th>noJob</th>\n",
       "      <th>job</th>\n",
       "      <th>id</th>\n",
       "      <th>AGLO1</th>\n",
       "      <th>AGLO2</th>\n",
       "      <th>headAge</th>\n",
       "      <th>spouseAge</th>\n",
       "      <th>headAge2</th>\n",
       "      <th>spouseAge2</th>\n",
       "      <th>...</th>\n",
       "      <th>headDECCFR</th>\n",
       "      <th>spouseDECCFR</th>\n",
       "      <th>headDECIFR</th>\n",
       "      <th>spouseDECIFR</th>\n",
       "      <th>headMaritalStatus</th>\n",
       "      <th>spouseMaritalStatus</th>\n",
       "      <th>headReading</th>\n",
       "      <th>spouseReading</th>\n",
       "      <th>headPlaceOfBirth</th>\n",
       "      <th>spouseplaceOfBirth</th>\n",
       "    </tr>\n",
       "  </thead>\n",
       "  <tbody>\n",
       "    <tr>\n",
       "      <th>0</th>\n",
       "      <td>40.0</td>\n",
       "      <td>1</td>\n",
       "      <td>3</td>\n",
       "      <td>1250971</td>\n",
       "      <td>33.0</td>\n",
       "      <td>NaN</td>\n",
       "      <td>57.0</td>\n",
       "      <td>NaN</td>\n",
       "      <td>3249.0</td>\n",
       "      <td>NaN</td>\n",
       "      <td>...</td>\n",
       "      <td>8.0</td>\n",
       "      <td>NaN</td>\n",
       "      <td>9.0</td>\n",
       "      <td>NaN</td>\n",
       "      <td>4.0</td>\n",
       "      <td>NaN</td>\n",
       "      <td>1.0</td>\n",
       "      <td>NaN</td>\n",
       "      <td>1.0</td>\n",
       "      <td>NaN</td>\n",
       "    </tr>\n",
       "    <tr>\n",
       "      <th>1</th>\n",
       "      <td>12.0</td>\n",
       "      <td>1</td>\n",
       "      <td>1</td>\n",
       "      <td>1253451</td>\n",
       "      <td>32.0</td>\n",
       "      <td>NaN</td>\n",
       "      <td>66.0</td>\n",
       "      <td>NaN</td>\n",
       "      <td>4356.0</td>\n",
       "      <td>NaN</td>\n",
       "      <td>...</td>\n",
       "      <td>8.0</td>\n",
       "      <td>NaN</td>\n",
       "      <td>6.0</td>\n",
       "      <td>NaN</td>\n",
       "      <td>3.0</td>\n",
       "      <td>NaN</td>\n",
       "      <td>1.0</td>\n",
       "      <td>NaN</td>\n",
       "      <td>1.0</td>\n",
       "      <td>NaN</td>\n",
       "    </tr>\n",
       "    <tr>\n",
       "      <th>2</th>\n",
       "      <td>0.0</td>\n",
       "      <td>1</td>\n",
       "      <td>0</td>\n",
       "      <td>1254461</td>\n",
       "      <td>32.0</td>\n",
       "      <td>NaN</td>\n",
       "      <td>79.0</td>\n",
       "      <td>NaN</td>\n",
       "      <td>6241.0</td>\n",
       "      <td>NaN</td>\n",
       "      <td>...</td>\n",
       "      <td>7.0</td>\n",
       "      <td>NaN</td>\n",
       "      <td>2.0</td>\n",
       "      <td>NaN</td>\n",
       "      <td>4.0</td>\n",
       "      <td>NaN</td>\n",
       "      <td>1.0</td>\n",
       "      <td>NaN</td>\n",
       "      <td>1.0</td>\n",
       "      <td>NaN</td>\n",
       "    </tr>\n",
       "    <tr>\n",
       "      <th>3</th>\n",
       "      <td>14.0</td>\n",
       "      <td>2</td>\n",
       "      <td>2</td>\n",
       "      <td>1256691</td>\n",
       "      <td>33.0</td>\n",
       "      <td>NaN</td>\n",
       "      <td>61.0</td>\n",
       "      <td>NaN</td>\n",
       "      <td>3721.0</td>\n",
       "      <td>NaN</td>\n",
       "      <td>...</td>\n",
       "      <td>8.0</td>\n",
       "      <td>NaN</td>\n",
       "      <td>9.0</td>\n",
       "      <td>NaN</td>\n",
       "      <td>4.0</td>\n",
       "      <td>NaN</td>\n",
       "      <td>1.0</td>\n",
       "      <td>NaN</td>\n",
       "      <td>1.0</td>\n",
       "      <td>NaN</td>\n",
       "    </tr>\n",
       "    <tr>\n",
       "      <th>4</th>\n",
       "      <td>24.0</td>\n",
       "      <td>1</td>\n",
       "      <td>2</td>\n",
       "      <td>1256892</td>\n",
       "      <td>32.0</td>\n",
       "      <td>32.0</td>\n",
       "      <td>31.0</td>\n",
       "      <td>23.0</td>\n",
       "      <td>961.0</td>\n",
       "      <td>529.0</td>\n",
       "      <td>...</td>\n",
       "      <td>5.0</td>\n",
       "      <td>5.0</td>\n",
       "      <td>5.0</td>\n",
       "      <td>5.0</td>\n",
       "      <td>1.0</td>\n",
       "      <td>1.0</td>\n",
       "      <td>1.0</td>\n",
       "      <td>1.0</td>\n",
       "      <td>4.0</td>\n",
       "      <td>4.0</td>\n",
       "    </tr>\n",
       "  </tbody>\n",
       "</table>\n",
       "<p>5 rows × 44 columns</p>\n",
       "</div>"
      ],
      "text/plain": [
       "   schoolAndJob  noJob  job       id  AGLO1  AGLO2  headAge  spouseAge  \\\n",
       "0          40.0      1    3  1250971   33.0    NaN     57.0        NaN   \n",
       "1          12.0      1    1  1253451   32.0    NaN     66.0        NaN   \n",
       "2           0.0      1    0  1254461   32.0    NaN     79.0        NaN   \n",
       "3          14.0      2    2  1256691   33.0    NaN     61.0        NaN   \n",
       "4          24.0      1    2  1256892   32.0   32.0     31.0       23.0   \n",
       "\n",
       "   headAge2  spouseAge2         ...          headDECCFR  spouseDECCFR  \\\n",
       "0    3249.0         NaN         ...                 8.0           NaN   \n",
       "1    4356.0         NaN         ...                 8.0           NaN   \n",
       "2    6241.0         NaN         ...                 7.0           NaN   \n",
       "3    3721.0         NaN         ...                 8.0           NaN   \n",
       "4     961.0       529.0         ...                 5.0           5.0   \n",
       "\n",
       "   headDECIFR  spouseDECIFR  headMaritalStatus  spouseMaritalStatus  \\\n",
       "0         9.0           NaN                4.0                  NaN   \n",
       "1         6.0           NaN                3.0                  NaN   \n",
       "2         2.0           NaN                4.0                  NaN   \n",
       "3         9.0           NaN                4.0                  NaN   \n",
       "4         5.0           5.0                1.0                  1.0   \n",
       "\n",
       "   headReading  spouseReading  headPlaceOfBirth  spouseplaceOfBirth  \n",
       "0          1.0            NaN               1.0                 NaN  \n",
       "1          1.0            NaN               1.0                 NaN  \n",
       "2          1.0            NaN               1.0                 NaN  \n",
       "3          1.0            NaN               1.0                 NaN  \n",
       "4          1.0            1.0               4.0                 4.0  \n",
       "\n",
       "[5 rows x 44 columns]"
      ]
     },
     "execution_count": 67,
     "metadata": {},
     "output_type": "execute_result"
    }
   ],
   "source": [
    "dataFinalCSV.to_csv('data/pivotInd.csv',index=False)\n",
    "dataFinalCSV.head()"
   ]
  },
  {
   "cell_type": "markdown",
   "metadata": {},
   "source": [
    "# GET HOUSEHOLD DATA\n",
    "\n",
    "** Variables description: **\n",
    "- HomeType\n",
    "- FloorMaterial\n",
    "- RoofMaterial\n",
    "- RoofCoat\n",
    "- Water\n",
    "- WaterType\n",
    "- Toilet\n",
    "- ToletLocation\n",
    "- ToiletType"
   ]
  },
  {
   "cell_type": "code",
   "execution_count": 68,
   "metadata": {
    "collapsed": false
   },
   "outputs": [
    {
     "name": "stdout",
     "output_type": "stream",
     "text": [
      "('Downloading', 't310')\n",
      "file in place, creating CSV file\n",
      "csv file cleanDataHousehold t310 .csv successfully created in folder data/\n",
      "csv file cleanData t310 .csv successfully created in folder data/\n",
      "(2703, 50)\n"
     ]
    },
    {
     "data": {
      "text/html": [
       "<div>\n",
       "<table border=\"1\" class=\"dataframe\">\n",
       "  <thead>\n",
       "    <tr style=\"text-align: right;\">\n",
       "      <th></th>\n",
       "      <th>CODUSU</th>\n",
       "      <th>NRO_HOGAR</th>\n",
       "      <th>REGION</th>\n",
       "      <th>PONDERA</th>\n",
       "      <th>HomeType</th>\n",
       "      <th>HomeTypeesp</th>\n",
       "      <th>RoomsNumber</th>\n",
       "      <th>FloorMaterial</th>\n",
       "      <th>FloorMaterialesp</th>\n",
       "      <th>RoofMaterial</th>\n",
       "      <th>...</th>\n",
       "      <th>DomesticService3</th>\n",
       "      <th>DomesticService4</th>\n",
       "      <th>DomesticService5</th>\n",
       "      <th>DomesticService6</th>\n",
       "      <th>TotalFamilyIncome</th>\n",
       "      <th>TotalFamilyIncomeDec</th>\n",
       "      <th>TotalFamilyIncomeDecReg</th>\n",
       "      <th>PerCapInc</th>\n",
       "      <th>PerCapIncDec</th>\n",
       "      <th>PerCapIncDecReg</th>\n",
       "    </tr>\n",
       "  </thead>\n",
       "  <tbody>\n",
       "    <tr>\n",
       "      <th>0</th>\n",
       "      <td>302468</td>\n",
       "      <td>1</td>\n",
       "      <td>1</td>\n",
       "      <td>1287</td>\n",
       "      <td>2</td>\n",
       "      <td>NaN</td>\n",
       "      <td>2</td>\n",
       "      <td>1</td>\n",
       "      <td>NaN</td>\n",
       "      <td>9</td>\n",
       "      <td>...</td>\n",
       "      <td>2</td>\n",
       "      <td>0</td>\n",
       "      <td>0</td>\n",
       "      <td>0</td>\n",
       "      <td>4000.0</td>\n",
       "      <td>6</td>\n",
       "      <td>6</td>\n",
       "      <td>2000.0</td>\n",
       "      <td>8</td>\n",
       "      <td>8</td>\n",
       "    </tr>\n",
       "    <tr>\n",
       "      <th>1</th>\n",
       "      <td>307861</td>\n",
       "      <td>1</td>\n",
       "      <td>1</td>\n",
       "      <td>1674</td>\n",
       "      <td>2</td>\n",
       "      <td>NaN</td>\n",
       "      <td>2</td>\n",
       "      <td>1</td>\n",
       "      <td>NaN</td>\n",
       "      <td>1</td>\n",
       "      <td>...</td>\n",
       "      <td>98</td>\n",
       "      <td>0</td>\n",
       "      <td>0</td>\n",
       "      <td>0</td>\n",
       "      <td>5800.0</td>\n",
       "      <td>8</td>\n",
       "      <td>8</td>\n",
       "      <td>1450.0</td>\n",
       "      <td>6</td>\n",
       "      <td>6</td>\n",
       "    </tr>\n",
       "    <tr>\n",
       "      <th>2</th>\n",
       "      <td>308762</td>\n",
       "      <td>1</td>\n",
       "      <td>1</td>\n",
       "      <td>1522</td>\n",
       "      <td>2</td>\n",
       "      <td>NaN</td>\n",
       "      <td>4</td>\n",
       "      <td>1</td>\n",
       "      <td>NaN</td>\n",
       "      <td>9</td>\n",
       "      <td>...</td>\n",
       "      <td>98</td>\n",
       "      <td>0</td>\n",
       "      <td>0</td>\n",
       "      <td>0</td>\n",
       "      <td>3200.0</td>\n",
       "      <td>5</td>\n",
       "      <td>5</td>\n",
       "      <td>3200.0</td>\n",
       "      <td>9</td>\n",
       "      <td>9</td>\n",
       "    </tr>\n",
       "    <tr>\n",
       "      <th>3</th>\n",
       "      <td>308278</td>\n",
       "      <td>1</td>\n",
       "      <td>1</td>\n",
       "      <td>1320</td>\n",
       "      <td>2</td>\n",
       "      <td>NaN</td>\n",
       "      <td>3</td>\n",
       "      <td>1</td>\n",
       "      <td>NaN</td>\n",
       "      <td>9</td>\n",
       "      <td>...</td>\n",
       "      <td>96</td>\n",
       "      <td>0</td>\n",
       "      <td>0</td>\n",
       "      <td>0</td>\n",
       "      <td>10000.0</td>\n",
       "      <td>10</td>\n",
       "      <td>10</td>\n",
       "      <td>5000.0</td>\n",
       "      <td>10</td>\n",
       "      <td>10</td>\n",
       "    </tr>\n",
       "    <tr>\n",
       "      <th>4</th>\n",
       "      <td>311937</td>\n",
       "      <td>1</td>\n",
       "      <td>1</td>\n",
       "      <td>1281</td>\n",
       "      <td>2</td>\n",
       "      <td>NaN</td>\n",
       "      <td>4</td>\n",
       "      <td>1</td>\n",
       "      <td>NaN</td>\n",
       "      <td>1</td>\n",
       "      <td>...</td>\n",
       "      <td>96</td>\n",
       "      <td>0</td>\n",
       "      <td>0</td>\n",
       "      <td>0</td>\n",
       "      <td>11000.0</td>\n",
       "      <td>10</td>\n",
       "      <td>10</td>\n",
       "      <td>2750.0</td>\n",
       "      <td>9</td>\n",
       "      <td>9</td>\n",
       "    </tr>\n",
       "  </tbody>\n",
       "</table>\n",
       "<p>5 rows × 50 columns</p>\n",
       "</div>"
      ],
      "text/plain": [
       "   CODUSU  NRO_HOGAR  REGION  PONDERA  HomeType HomeTypeesp  RoomsNumber  \\\n",
       "0  302468          1       1     1287         2         NaN            2   \n",
       "1  307861          1       1     1674         2         NaN            2   \n",
       "2  308762          1       1     1522         2         NaN            4   \n",
       "3  308278          1       1     1320         2         NaN            3   \n",
       "4  311937          1       1     1281         2         NaN            4   \n",
       "\n",
       "   FloorMaterial FloorMaterialesp  RoofMaterial       ...         \\\n",
       "0              1              NaN             9       ...          \n",
       "1              1              NaN             1       ...          \n",
       "2              1              NaN             9       ...          \n",
       "3              1              NaN             9       ...          \n",
       "4              1              NaN             1       ...          \n",
       "\n",
       "   DomesticService3  DomesticService4  DomesticService5 DomesticService6  \\\n",
       "0                 2                 0                 0                0   \n",
       "1                98                 0                 0                0   \n",
       "2                98                 0                 0                0   \n",
       "3                96                 0                 0                0   \n",
       "4                96                 0                 0                0   \n",
       "\n",
       "   TotalFamilyIncome  TotalFamilyIncomeDec  TotalFamilyIncomeDecReg  \\\n",
       "0             4000.0                     6                        6   \n",
       "1             5800.0                     8                        8   \n",
       "2             3200.0                     5                        5   \n",
       "3            10000.0                    10                       10   \n",
       "4            11000.0                    10                       10   \n",
       "\n",
       "   PerCapInc  PerCapIncDec  PerCapIncDecReg  \n",
       "0     2000.0             8                8  \n",
       "1     1450.0             6                6  \n",
       "2     3200.0             9                9  \n",
       "3     5000.0            10               10  \n",
       "4     2750.0             9                9  \n",
       "\n",
       "[5 rows x 50 columns]"
      ]
     },
     "execution_count": 68,
     "metadata": {},
     "output_type": "execute_result"
    }
   ],
   "source": [
    "getEPH.getEPHdbf('t310')\n",
    "hog = pd.read_csv('data/cleanDataHouseholdt310.csv')\n",
    "print hog.shape\n",
    "hog.head()"
   ]
  },
  {
   "cell_type": "markdown",
   "metadata": {},
   "source": [
    "# DATA CLEANING"
   ]
  },
  {
   "cell_type": "code",
   "execution_count": 69,
   "metadata": {
    "collapsed": true
   },
   "outputs": [],
   "source": [
    "def remove9(df,variables):\n",
    "    for var in variables:\n",
    "        df[var].replace(to_replace=[9], value=[np.nan] , inplace=True, axis=None)\n",
    "\n",
    "def remove0(df,variables):\n",
    "    for var in variables:\n",
    "        df[var].replace(to_replace=[0], value=[np.nan] , inplace=True, axis=None)\n",
    "\n",
    "def remove99(df,variables):\n",
    "    for var in variables:\n",
    "        df[var].replace(to_replace=[99], value=[np.nan] , inplace=True, axis=None)"
   ]
  },
  {
   "cell_type": "code",
   "execution_count": 70,
   "metadata": {
    "collapsed": true
   },
   "outputs": [],
   "source": [
    "hog2 = hog.copy()\n",
    "\n",
    "remove9(df = hog2, variables = ['FloorMaterial','RoofMaterial','RoofCoat','Water','WaterType','Toilet','ToiletLocation',\n",
    "                               'ToiletType','Sewer','DumpSites','Flooding','EmergencyLoc','CookingCombustible',\n",
    "                               'BathroomUse'])\n",
    "remove0(df = hog2, variables = ['FloorMaterial','RoofMaterial','RoofCoat','Water','WaterType','Toilet','ToiletLocation',\n",
    "                               'ToiletType','Sewer','DumpSites','Flooding','EmergencyLoc','Ownership','CookingCombustible',\n",
    "                               'BathroomUse'])\n",
    "remove99(df = hog2, variables = ['Ownership'])"
   ]
  },
  {
   "cell_type": "markdown",
   "metadata": {},
   "source": [
    "### Ordinal Order Transformation\n",
    "\n",
    "In order to have positive coefficients we changed the order in which ordinal variables were displayed. We only do this for 'CookingCombustible' (which shows what combustible is used in the household) and for the others we use dummy variables."
   ]
  },
  {
   "cell_type": "code",
   "execution_count": 71,
   "metadata": {
    "collapsed": false
   },
   "outputs": [
    {
     "name": "stdout",
     "output_type": "stream",
     "text": [
      "1.0    2109\n",
      "2.0     552\n",
      "4.0      11\n",
      "3.0       3\n",
      "Name: CookingCombustible, dtype: int64\n"
     ]
    },
    {
     "data": {
      "image/png": "[encoded data removed]",
      "text/plain": [
       "<matplotlib.figure.Figure at 0x11e86d3d0>"
      ]
     },
     "metadata": {},
     "output_type": "display_data"
    }
   ],
   "source": [
    "variables = ['CookingCombustible']\n",
    "for var in variables:\n",
    "    print hog2[var].value_counts()\n",
    "    plt.scatter(hog2[var], hog2.TotalHouseHoldIncome)\n",
    "    plt.show()"
   ]
  },
  {
   "cell_type": "code",
   "execution_count": 72,
   "metadata": {
    "collapsed": false
   },
   "outputs": [
    {
     "name": "stderr",
     "output_type": "stream",
     "text": [
      "/Users/IlanReinstein/anaconda/lib/python2.7/site-packages/ipykernel/__main__.py:2: SettingWithCopyWarning: \n",
      "A value is trying to be set on a copy of a slice from a DataFrame\n",
      "\n",
      "See the caveats in the documentation: http://pandas.pydata.org/pandas-docs/stable/indexing.html#indexing-view-versus-copy\n",
      "  from ipykernel import kernelapp as app\n",
      "/Users/IlanReinstein/anaconda/lib/python2.7/site-packages/ipykernel/__main__.py:3: SettingWithCopyWarning: \n",
      "A value is trying to be set on a copy of a slice from a DataFrame\n",
      "\n",
      "See the caveats in the documentation: http://pandas.pydata.org/pandas-docs/stable/indexing.html#indexing-view-versus-copy\n",
      "  app.launch_new_instance()\n",
      "/Users/IlanReinstein/anaconda/lib/python2.7/site-packages/ipykernel/__main__.py:4: SettingWithCopyWarning: \n",
      "A value is trying to be set on a copy of a slice from a DataFrame\n",
      "\n",
      "See the caveats in the documentation: http://pandas.pydata.org/pandas-docs/stable/indexing.html#indexing-view-versus-copy\n",
      "/Users/IlanReinstein/anaconda/lib/python2.7/site-packages/ipykernel/__main__.py:5: SettingWithCopyWarning: \n",
      "A value is trying to be set on a copy of a slice from a DataFrame\n",
      "\n",
      "See the caveats in the documentation: http://pandas.pydata.org/pandas-docs/stable/indexing.html#indexing-view-versus-copy\n"
     ]
    }
   ],
   "source": [
    "hog2['CookingRec'] = np.nan\n",
    "hog2['CookingRec'][hog2.CookingCombustible == 4] = 1\n",
    "hog2['CookingRec'][hog2.CookingCombustible == 3] = 1\n",
    "hog2['CookingRec'][hog2.CookingCombustible == 2] = 2\n",
    "hog2['CookingRec'][hog2.CookingCombustible == 1] = 3"
   ]
  },
  {
   "cell_type": "code",
   "execution_count": 73,
   "metadata": {
    "collapsed": false
   },
   "outputs": [
    {
     "name": "stdout",
     "output_type": "stream",
     "text": [
      "3.0    2109\n",
      "2.0     552\n",
      "1.0      14\n",
      "Name: CookingRec, dtype: int64\n"
     ]
    },
    {
     "data": {
      "image/png": "[encoded data removed]",
      "text/plain": [
       "<matplotlib.figure.Figure at 0x129ed2750>"
      ]
     },
     "metadata": {},
     "output_type": "display_data"
    }
   ],
   "source": [
    "variables = ['CookingRec']\n",
    "for var in variables:\n",
    "    print hog2[var].value_counts()\n",
    "    plt.scatter(hog2[var], hog2.TotalHouseHoldIncome)\n",
    "    plt.show()"
   ]
  },
  {
   "cell_type": "code",
   "execution_count": 74,
   "metadata": {
    "collapsed": true
   },
   "outputs": [],
   "source": [
    "hog2['WaterRec'] = (hog2.Water == 1).astype(int)\n",
    "\n",
    "hog2['OwnershipRec'] = ((hog2.Ownership == 1) | (hog2.Ownership == 3)).astype(int)\n",
    "hog2['Hacinamiento'] = hog2.HouseMembers * 1.0 / hog2.SleepingRooms\n",
    "hog2['id'] =  (hog2.CODUSU.astype(str) + hog2.NRO_HOGAR.astype(str))\n",
    "\n",
    "hog2['TotalHouseHoldIncome'].replace(to_replace=[0], value=[1] , inplace=True, axis=None)\n",
    "hog2['lnHouseIncome'] = np.log(hog2['TotalHouseHoldIncome'])\n",
    "sinCuartosParaDormir = (hog2.SleepingRooms == 0)"
   ]
  },
  {
   "cell_type": "code",
   "execution_count": 75,
   "metadata": {
    "collapsed": true
   },
   "outputs": [],
   "source": [
    "hogReducida = hog2.copy().drop(['CODUSU','NRO_HOGAR','REGION','HomeTypeesp','FloorMaterialesp',\n",
    "                              'WaterTypeesp','Ownershipesp','CookingCombustibleesp','DomesticService1', \n",
    "                               'DomesticService2', 'DomesticService3','DomesticService4', 'DomesticService5',\n",
    "                               'DomesticService6'],axis = 1)"
   ]
  },
  {
   "cell_type": "markdown",
   "metadata": {},
   "source": [
    "# LOAD INDIVIDUAL DATA"
   ]
  },
  {
   "cell_type": "code",
   "execution_count": 76,
   "metadata": {
    "collapsed": true
   },
   "outputs": [],
   "source": [
    "# Load data previously exported\n",
    "\n",
    "ind = pd.read_csv('data/pivotInd.csv')\n",
    "ind['id'] = ind['id'].astype(str)\n",
    "\n",
    "ind.drop(['AGLO2'],axis =1,inplace=True)\n",
    "ind['sumPredicted'] = ind.headPredictedLnIncome + ind.spousePredictedLnIncome"
   ]
  },
  {
   "cell_type": "markdown",
   "metadata": {},
   "source": [
    "# MERGE INDIVIDUAL WITH HOUSEHOLD"
   ]
  },
  {
   "cell_type": "code",
   "execution_count": 77,
   "metadata": {
    "collapsed": true
   },
   "outputs": [],
   "source": [
    "hogReducida = hogReducida.copy().loc[~sinCuartosParaDormir,:]"
   ]
  },
  {
   "cell_type": "code",
   "execution_count": 78,
   "metadata": {
    "collapsed": false
   },
   "outputs": [
    {
     "name": "stdout",
     "output_type": "stream",
     "text": [
      "filas hog: 2675\n",
      "filas ind: 2703\n",
      "cantidad de ind en hog: 2675\n"
     ]
    }
   ],
   "source": [
    "# check before merge\n",
    "\n",
    "print 'filas hog:',hogReducida.shape[0]\n",
    "print 'filas ind:',ind.shape[0]\n",
    "print 'cantidad de ind en hog:', sum(ind['id'].sort_values().isin(hogReducida['id'].sort_values()))"
   ]
  },
  {
   "cell_type": "code",
   "execution_count": 79,
   "metadata": {
    "collapsed": true
   },
   "outputs": [],
   "source": [
    "dataUnida = pd.merge(left=hogReducida, right=ind, on='id',how='left')"
   ]
  },
  {
   "cell_type": "code",
   "execution_count": 80,
   "metadata": {
    "collapsed": true
   },
   "outputs": [],
   "source": [
    "dataUnida.to_csv('data/dataFinalParaModelo.csv',index=False)"
   ]
  },
  {
   "cell_type": "code",
   "execution_count": null,
   "metadata": {
    "collapsed": true
   },
   "outputs": [],
   "source": []
  }
 ],
 "metadata": {
  "anaconda-cloud": {},
  "kernelspec": {
   "display_name": "Python [Root]",
   "language": "python",
   "name": "Python [Root]"
  },
  "language_info": {
   "codemirror_mode": {
    "name": "ipython",
    "version": 2
   },
   "file_extension": ".py",
   "mimetype": "text/x-python",
   "name": "python",
   "nbconvert_exporter": "python",
   "pygments_lexer": "ipython2",
   "version": "2.7.12"
  },
  "widgets": {
   "state": {},
   "version": "1.1.2"
  }
 },
 "nbformat": 4,
 "nbformat_minor": 0
}
