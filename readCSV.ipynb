{
 "cells": [
  {
   "cell_type": "code",
   "execution_count": 2,
   "metadata": {
    "collapsed": true
   },
   "outputs": [],
   "source": [
    "import pandas as pd\n",
    "import numpy as np\n",
    "import matplotlib.pyplot as plt\n",
    "import seaborn as sns\n",
    "%matplotlib inline"
   ]
  },
  {
   "cell_type": "markdown",
   "metadata": {},
   "source": [
    "This script takes a CSV file from REDATAM (first we need to open that file, which is a SYLK file, and then save it as a CSV file). The we go through the folder with the diferent files for each Comune and append al of them into one data frame to save it and them map it. "
   ]
  },
  {
   "cell_type": "code",
   "execution_count": 3,
   "metadata": {
    "collapsed": false
   },
   "outputs": [],
   "source": [
    "def readRedatamCSV(asciiFile):\n",
    "    f = open(asciiFile, 'r')\n",
    "    areas = []\n",
    "    measures = []\n",
    "    for line in f:\n",
    "        columns = line.strip().split()\n",
    "        #print columns\n",
    "        if len(columns) > 0:\n",
    "            if 'RESUMEN' in columns[0] :\n",
    "                break\n",
    "            elif columns[0] == 'AREA':\n",
    "                area = str.split(columns[2],',')[0]\n",
    "                areas.append(area)\n",
    "            elif columns[0] == 'Total':\n",
    "                measure = str.split(columns[2],',')[2]\n",
    "                if measure == '-':\n",
    "                    measure = np.nan\n",
    "                measures.append(measure)\n",
    "    try:        \n",
    "        data = pd.DataFrame({'area':areas,'measure':measures})\n",
    "        return data\n",
    "    except:\n",
    "        print asciiFile"
   ]
  },
  {
   "cell_type": "code",
   "execution_count": 4,
   "metadata": {
    "collapsed": false
   },
   "outputs": [],
   "source": [
    "comunasFile = '/home/pipe/Dropbox/NYU/classes/Applied Data Science/adsProject/data/indecOnline/headEducYjobs/comuna.csv'\n",
    "comunas = readRedatamCSV(comunasFile)"
   ]
  },
  {
   "cell_type": "code",
   "execution_count": 5,
   "metadata": {
    "collapsed": false
   },
   "outputs": [
    {
     "data": {
      "text/plain": [
       "0     02001\n",
       "1     02002\n",
       "2     02003\n",
       "3     02004\n",
       "4     02005\n",
       "5     02006\n",
       "6     02007\n",
       "7     02008\n",
       "8     02009\n",
       "9     02010\n",
       "10    02011\n",
       "11    02012\n",
       "12    02013\n",
       "13    02014\n",
       "14    02015\n",
       "Name: area, dtype: object"
      ]
     },
     "execution_count": 5,
     "metadata": {},
     "output_type": "execute_result"
    }
   ],
   "source": [
    "comunas.area"
   ]
  },
  {
   "cell_type": "code",
   "execution_count": 6,
   "metadata": {
    "collapsed": false
   },
   "outputs": [],
   "source": [
    "baseMadre = comunas.loc[comunas.measure==0,:]\n",
    "ruta = '/home/pipe/Dropbox/NYU/classes/Applied Data Science/adsProject/data/indecOnline/MODELO1E/'\n",
    "for i in comunas.area:\n",
    "    archivoCSV = ruta + i + '.csv'\n",
    "    data = readRedatamCSV(archivoCSV)\n",
    "    baseMadre = baseMadre.append(data)"
   ]
  },
  {
   "cell_type": "code",
   "execution_count": 8,
   "metadata": {
    "collapsed": false
   },
   "outputs": [],
   "source": [
    "baseMadre.measure = baseMadre.measure.apply(float)"
   ]
  },
  {
   "cell_type": "code",
   "execution_count": 35,
   "metadata": {
    "collapsed": true
   },
   "outputs": [],
   "source": [
    "baseMadre[baseMadre.area=='020041801'] = np.nan"
   ]
  },
  {
   "cell_type": "code",
   "execution_count": 36,
   "metadata": {
    "collapsed": false
   },
   "outputs": [],
   "source": [
    "baseMadre.to_csv(ruta + 'modelo1e.csv',index=False)"
   ]
  },
  {
   "cell_type": "code",
   "execution_count": 37,
   "metadata": {
    "collapsed": false
   },
   "outputs": [
    {
     "data": {
      "text/plain": [
       "count    3551.000000\n",
       "mean     5472.165472\n",
       "std       486.080279\n",
       "min      2733.180000\n",
       "25%      5233.565000\n",
       "50%      5513.410000\n",
       "75%      5767.475000\n",
       "max      7291.030000\n",
       "Name: measure, dtype: float64"
      ]
     },
     "execution_count": 37,
     "metadata": {},
     "output_type": "execute_result"
    }
   ],
   "source": [
    "baseMadre.dropna().measure.describe()"
   ]
  },
  {
   "cell_type": "code",
   "execution_count": null,
   "metadata": {
    "collapsed": true
   },
   "outputs": [],
   "source": []
  }
 ],
 "metadata": {
  "kernelspec": {
   "display_name": "Python [Root]",
   "language": "python",
   "name": "Python [Root]"
  },
  "language_info": {
   "codemirror_mode": {
    "name": "ipython",
    "version": 2
   },
   "file_extension": ".py",
   "mimetype": "text/x-python",
   "name": "python",
   "nbconvert_exporter": "python",
   "pygments_lexer": "ipython2",
   "version": "2.7.12"
  }
 },
 "nbformat": 4,
 "nbformat_minor": 0
}
